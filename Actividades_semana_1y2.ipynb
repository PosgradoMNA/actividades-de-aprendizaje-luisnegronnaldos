{
  "nbformat": 4,
  "nbformat_minor": 0,
  "metadata": {
    "colab": {
      "provenance": [],
      "authorship_tag": "ABX9TyPizD4bC0a7hLQ8miAcm8sr",
      "include_colab_link": true
    },
    "kernelspec": {
      "name": "python3",
      "display_name": "Python 3"
    },
    "language_info": {
      "name": "python"
    }
  },
  "cells": [
    {
      "cell_type": "markdown",
      "metadata": {
        "id": "view-in-github",
        "colab_type": "text"
      },
      "source": [
        "<a href=\"https://colab.research.google.com/github/PosgradoMNA/actividades-de-aprendizaje-luisnegronnaldos/blob/main/Actividades_semana_1y2.ipynb\" target=\"_parent\"><img src=\"https://colab.research.google.com/assets/colab-badge.svg\" alt=\"Open In Colab\"/></a>"
      ]
    },
    {
      "cell_type": "code",
      "execution_count": null,
      "metadata": {
        "id": "qJlj_TLfiAUi",
        "outputId": "7a940452-00ce-4226-958a-859cfed16bce",
        "colab": {
          "base_uri": "https://localhost:8080/"
        }
      },
      "outputs": [
        {
          "output_type": "stream",
          "name": "stdout",
          "text": [
            "Hello World\n"
          ]
        }
      ],
      "source": [
        "print(\"Hello World\")"
      ]
    },
    {
      "cell_type": "code",
      "execution_count": null,
      "metadata": {
        "colab": {
          "base_uri": "https://localhost:8080/"
        },
        "outputId": "7a940452-00ce-4226-958a-859cfed16bce",
        "id": "e7dCsTgN4JbE"
      },
      "outputs": [
        {
          "output_type": "stream",
          "name": "stdout",
          "text": [
            "Hello World\n"
          ]
        }
      ],
      "source": [
        "print(\"Hello World\")"
      ]
    },
    {
      "cell_type": "code",
      "source": [
        "print(\"Hello\\nWorld\")"
      ],
      "metadata": {
        "id": "amXIW6Fq3OHi",
        "outputId": "b94dd3c5-68c8-4fa1-ee76-65e43c6c146c",
        "colab": {
          "base_uri": "https://localhost:8080/"
        }
      },
      "execution_count": null,
      "outputs": [
        {
          "output_type": "stream",
          "name": "stdout",
          "text": [
            "Hello\n",
            "World\n"
          ]
        }
      ]
    },
    {
      "cell_type": "code",
      "source": [
        "# this is a comment"
      ],
      "metadata": {
        "id": "qfrhUxXv3R2o"
      },
      "execution_count": null,
      "outputs": []
    },
    {
      "cell_type": "code",
      "source": [
        "type(\"Hello World\")"
      ],
      "metadata": {
        "id": "xljYOtzs3Z8i",
        "outputId": "760dad0f-4472-4334-814e-0327fb408e56",
        "colab": {
          "base_uri": "https://localhost:8080/"
        }
      },
      "execution_count": null,
      "outputs": [
        {
          "output_type": "execute_result",
          "data": {
            "text/plain": [
              "str"
            ]
          },
          "metadata": {},
          "execution_count": 4
        }
      ]
    },
    {
      "cell_type": "code",
      "source": [
        "type(\"1.1\")"
      ],
      "metadata": {
        "id": "EYKIDwah3a-C",
        "outputId": "512605e7-80bb-47c3-9220-d8ecf0f24309",
        "colab": {
          "base_uri": "https://localhost:8080/"
        }
      },
      "execution_count": null,
      "outputs": [
        {
          "output_type": "execute_result",
          "data": {
            "text/plain": [
              "str"
            ]
          },
          "metadata": {},
          "execution_count": 5
        }
      ]
    },
    {
      "cell_type": "code",
      "source": [
        "print(int(\"1\"))\n",
        "print(bool(\"1\"))"
      ],
      "metadata": {
        "id": "GnFU_DAP3eWS",
        "outputId": "27a4acee-744b-4a48-ccc3-bc4ff3870ecf",
        "colab": {
          "base_uri": "https://localhost:8080/"
        }
      },
      "execution_count": null,
      "outputs": [
        {
          "output_type": "stream",
          "name": "stdout",
          "text": [
            "1\n",
            "True\n"
          ]
        }
      ]
    }
  ]
}
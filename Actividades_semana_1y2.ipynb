{
  "nbformat": 4,
  "nbformat_minor": 0,
  "metadata": {
    "colab": {
      "provenance": [],
      "authorship_tag": "ABX9TyMnE/KSlkU/UMF46XoNDxBp",
      "include_colab_link": true
    },
    "kernelspec": {
      "name": "python3",
      "display_name": "Python 3"
    },
    "language_info": {
      "name": "python"
    }
  },
  "cells": [
    {
      "cell_type": "markdown",
      "metadata": {
        "id": "view-in-github",
        "colab_type": "text"
      },
      "source": [
        "<a href=\"https://colab.research.google.com/github/PosgradoMNA/actividades-de-aprendizaje-luisnegronnaldos/blob/main/Actividades_semana_1y2.ipynb\" target=\"_parent\"><img src=\"https://colab.research.google.com/assets/colab-badge.svg\" alt=\"Open In Colab\"/></a>"
      ]
    },
    {
      "cell_type": "markdown",
      "source": [
        "## A01793865 - LUIS NEGRON NALDOS "
      ],
      "metadata": {
        "id": "5Y3I1ifVnFsX"
      }
    },
    {
      "cell_type": "markdown",
      "source": [
        "## **MODULO 1**"
      ],
      "metadata": {
        "id": "6q_j58YEvFx4"
      }
    },
    {
      "cell_type": "code",
      "execution_count": null,
      "metadata": {
        "id": "qJlj_TLfiAUi",
        "outputId": "03f3dd7b-ead9-494b-b61a-f4fc227a6dbf",
        "colab": {
          "base_uri": "https://localhost:8080/"
        }
      },
      "outputs": [
        {
          "output_type": "stream",
          "name": "stdout",
          "text": [
            "Hello World\n"
          ]
        }
      ],
      "source": [
        "print(\"Hello World\")"
      ]
    },
    {
      "cell_type": "code",
      "source": [
        "print(int(\"1\"))\n",
        "print(bool(\"1\"))"
      ],
      "metadata": {
        "outputId": "27a4acee-744b-4a48-ccc3-bc4ff3870ecf",
        "colab": {
          "base_uri": "https://localhost:8080/"
        },
        "id": "aX4lgNZ9-eMx"
      },
      "execution_count": null,
      "outputs": [
        {
          "output_type": "stream",
          "name": "stdout",
          "text": [
            "1\n",
            "True\n"
          ]
        }
      ]
    },
    {
      "cell_type": "code",
      "source": [
        "Letters=\"ABCDEFGHIJK\"\n",
        "Letters[0:4]"
      ],
      "metadata": {
        "colab": {
          "base_uri": "https://localhost:8080/",
          "height": 35
        },
        "id": "S031I6Q_4RbP",
        "outputId": "07b921b1-95a1-4415-a3d5-8c932f52d08a"
      },
      "execution_count": null,
      "outputs": [
        {
          "output_type": "execute_result",
          "data": {
            "text/plain": [
              "'ABCD'"
            ],
            "application/vnd.google.colaboratory.intrinsic+json": {
              "type": "string"
            }
          },
          "metadata": {},
          "execution_count": 11
        }
      ]
    },
    {
      "cell_type": "code",
      "source": [
        "Good=\"GsoAo+d\"\n",
        "Good[::2]"
      ],
      "metadata": {
        "colab": {
          "base_uri": "https://localhost:8080/",
          "height": 35
        },
        "id": "ZlQftL_I4Xl7",
        "outputId": "f82e82df-6bec-4983-93ea-19d9dbabbc7e"
      },
      "execution_count": null,
      "outputs": [
        {
          "output_type": "execute_result",
          "data": {
            "text/plain": [
              "'Good'"
            ],
            "application/vnd.google.colaboratory.intrinsic+json": {
              "type": "string"
            }
          },
          "metadata": {},
          "execution_count": 12
        }
      ]
    },
    {
      "cell_type": "code",
      "source": [
        "\"uppercase\"\n",
        "\"uppercase\".upper()"
      ],
      "metadata": {
        "colab": {
          "base_uri": "https://localhost:8080/",
          "height": 35
        },
        "id": "vWoMQxTz4dc-",
        "outputId": "0982e707-3843-4531-9e75-767d7aebdf12"
      },
      "execution_count": null,
      "outputs": [
        {
          "output_type": "execute_result",
          "data": {
            "text/plain": [
              "'UPPERCASE'"
            ],
            "application/vnd.google.colaboratory.intrinsic+json": {
              "type": "string"
            }
          },
          "metadata": {},
          "execution_count": 13
        }
      ]
    },
    {
      "cell_type": "code",
      "source": [
        "Name = \"Michael Jackson\"\n",
        "Name = Name + \"is the best\""
      ],
      "metadata": {
        "id": "01OosVQd5Owb"
      },
      "execution_count": null,
      "outputs": []
    },
    {
      "cell_type": "code",
      "source": [
        "Name"
      ],
      "metadata": {
        "colab": {
          "base_uri": "https://localhost:8080/",
          "height": 35
        },
        "id": "IwRTHZgx5Zud",
        "outputId": "01390abd-bb55-40f1-8030-94349acd4040"
      },
      "execution_count": null,
      "outputs": [
        {
          "output_type": "execute_result",
          "data": {
            "text/plain": [
              "'Michael Jacksonis the best'"
            ],
            "application/vnd.google.colaboratory.intrinsic+json": {
              "type": "string"
            }
          },
          "metadata": {},
          "execution_count": 15
        }
      ]
    },
    {
      "cell_type": "code",
      "source": [
        "print (\"Michael Jackson \\n is the best\")"
      ],
      "metadata": {
        "colab": {
          "base_uri": "https://localhost:8080/"
        },
        "id": "OZi9UANb5jxb",
        "outputId": "01833b6f-1e98-45cd-9ed3-d1ff3d4dc2ea"
      },
      "execution_count": null,
      "outputs": [
        {
          "output_type": "stream",
          "name": "stdout",
          "text": [
            "Michael Jackson \n",
            " is the best\n"
          ]
        }
      ]
    },
    {
      "cell_type": "code",
      "source": [
        "print (\"Michael Jackson \\t is the best\")"
      ],
      "metadata": {
        "colab": {
          "base_uri": "https://localhost:8080/"
        },
        "id": "LZMe8h8Z6STE",
        "outputId": "f6549753-2881-4393-acc4-25101f0e03ff"
      },
      "execution_count": null,
      "outputs": [
        {
          "output_type": "stream",
          "name": "stdout",
          "text": [
            "Michael Jackson \t is the best\n"
          ]
        }
      ]
    },
    {
      "cell_type": "code",
      "source": [
        "A = \"Thriller is the best\"\n",
        "B = A.replace (\"Thriller\", \"Michael\")\n",
        "B"
      ],
      "metadata": {
        "colab": {
          "base_uri": "https://localhost:8080/",
          "height": 35
        },
        "id": "OrP5CGdU6ZcL",
        "outputId": "72969485-5cc2-4d0d-ee06-c30ab4d3dea6"
      },
      "execution_count": null,
      "outputs": [
        {
          "output_type": "execute_result",
          "data": {
            "text/plain": [
              "'Michael is the best'"
            ],
            "application/vnd.google.colaboratory.intrinsic+json": {
              "type": "string"
            }
          },
          "metadata": {},
          "execution_count": 9
        }
      ]
    },
    {
      "cell_type": "code",
      "source": [
        "'1' + '2'"
      ],
      "metadata": {
        "id": "8onSFqJs7Aqc",
        "outputId": "e383fea3-4c29-4982-957b-2683f8dadac8",
        "colab": {
          "base_uri": "https://localhost:8080/",
          "height": 35
        }
      },
      "execution_count": null,
      "outputs": [
        {
          "output_type": "execute_result",
          "data": {
            "text/plain": [
              "'12'"
            ],
            "application/vnd.google.colaboratory.intrinsic+json": {
              "type": "string"
            }
          },
          "metadata": {},
          "execution_count": 8
        }
      ]
    },
    {
      "cell_type": "code",
      "execution_count": null,
      "metadata": {
        "colab": {
          "base_uri": "https://localhost:8080/"
        },
        "outputId": "7a940452-00ce-4226-958a-859cfed16bce",
        "id": "e7dCsTgN4JbE"
      },
      "outputs": [
        {
          "output_type": "stream",
          "name": "stdout",
          "text": [
            "Hello World\n"
          ]
        }
      ],
      "source": [
        "print(\"Hello World\")"
      ]
    },
    {
      "cell_type": "code",
      "source": [
        "print(\"Hello\\nWorld\")"
      ],
      "metadata": {
        "id": "amXIW6Fq3OHi",
        "outputId": "b94dd3c5-68c8-4fa1-ee76-65e43c6c146c",
        "colab": {
          "base_uri": "https://localhost:8080/"
        }
      },
      "execution_count": null,
      "outputs": [
        {
          "output_type": "stream",
          "name": "stdout",
          "text": [
            "Hello\n",
            "World\n"
          ]
        }
      ]
    },
    {
      "cell_type": "code",
      "source": [
        "# this is a comment"
      ],
      "metadata": {
        "id": "qfrhUxXv3R2o"
      },
      "execution_count": null,
      "outputs": []
    },
    {
      "cell_type": "code",
      "source": [
        "type(\"Hello World\")"
      ],
      "metadata": {
        "id": "xljYOtzs3Z8i",
        "outputId": "760dad0f-4472-4334-814e-0327fb408e56",
        "colab": {
          "base_uri": "https://localhost:8080/"
        }
      },
      "execution_count": null,
      "outputs": [
        {
          "output_type": "execute_result",
          "data": {
            "text/plain": [
              "str"
            ]
          },
          "metadata": {},
          "execution_count": 4
        }
      ]
    },
    {
      "cell_type": "code",
      "source": [
        "type(\"1.1\")"
      ],
      "metadata": {
        "id": "EYKIDwah3a-C",
        "outputId": "512605e7-80bb-47c3-9220-d8ecf0f24309",
        "colab": {
          "base_uri": "https://localhost:8080/"
        }
      },
      "execution_count": null,
      "outputs": [
        {
          "output_type": "execute_result",
          "data": {
            "text/plain": [
              "str"
            ]
          },
          "metadata": {},
          "execution_count": 5
        }
      ]
    },
    {
      "cell_type": "code",
      "source": [
        "print(int(\"1\"))\n",
        "print(bool(\"1\"))"
      ],
      "metadata": {
        "id": "GnFU_DAP3eWS",
        "outputId": "27a4acee-744b-4a48-ccc3-bc4ff3870ecf",
        "colab": {
          "base_uri": "https://localhost:8080/"
        }
      },
      "execution_count": null,
      "outputs": [
        {
          "output_type": "stream",
          "name": "stdout",
          "text": [
            "1\n",
            "True\n"
          ]
        }
      ]
    },
    {
      "cell_type": "markdown",
      "source": [
        "## **MODULO 2**"
      ],
      "metadata": {
        "id": "5bkBHnRNvBK-"
      }
    },
    {
      "cell_type": "code",
      "source": [
        "Ratings = (10, 9, 8 , 7, 5, 7, 6, 8 ,9)"
      ],
      "metadata": {
        "id": "sxdUzUGSvIO5"
      },
      "execution_count": null,
      "outputs": []
    },
    {
      "cell_type": "code",
      "source": [
        "tuple1 = ( \"disco\", 10, 1.2)\n",
        "tuple1[1]"
      ],
      "metadata": {
        "colab": {
          "base_uri": "https://localhost:8080/"
        },
        "id": "IEwj_anQvmt2",
        "outputId": "5173b2a0-d204-49a6-f798-d507472d1cd4"
      },
      "execution_count": null,
      "outputs": [
        {
          "output_type": "execute_result",
          "data": {
            "text/plain": [
              "10"
            ]
          },
          "metadata": {},
          "execution_count": 5
        }
      ]
    },
    {
      "cell_type": "code",
      "source": [
        "tuple1 = ( \"disco\", 10, 1.2)\n",
        "tuple1[-2]"
      ],
      "metadata": {
        "colab": {
          "base_uri": "https://localhost:8080/"
        },
        "id": "9hTwuliov8S1",
        "outputId": "9740add0-9f00-4c05-cca2-8651f6e40166"
      },
      "execution_count": null,
      "outputs": [
        {
          "output_type": "execute_result",
          "data": {
            "text/plain": [
              "10"
            ]
          },
          "metadata": {},
          "execution_count": 7
        }
      ]
    },
    {
      "cell_type": "code",
      "source": [
        "tuple2= (\"disco\", 10, 1.2, \"hard rock\", 10)\n",
        "tuple2[0:3]"
      ],
      "metadata": {
        "colab": {
          "base_uri": "https://localhost:8080/"
        },
        "id": "UiT_JISzwFpn",
        "outputId": "d30660f5-5106-45bd-cf85-c731acb0a47c"
      },
      "execution_count": null,
      "outputs": [
        {
          "output_type": "execute_result",
          "data": {
            "text/plain": [
              "('disco', 10, 1.2)"
            ]
          },
          "metadata": {},
          "execution_count": 2
        }
      ]
    },
    {
      "cell_type": "code",
      "source": [
        "ratings1 = Ratings"
      ],
      "metadata": {
        "id": "W1Lzos00wg1t"
      },
      "execution_count": null,
      "outputs": []
    },
    {
      "cell_type": "code",
      "source": [
        "ratingsorted = sorted(Ratings)\n",
        "ratingsorted"
      ],
      "metadata": {
        "colab": {
          "base_uri": "https://localhost:8080/"
        },
        "id": "ZlzANhd-wyF4",
        "outputId": "b4e2d80c-6f02-43c8-b6e6-1c16dbeba4b5"
      },
      "execution_count": null,
      "outputs": [
        {
          "output_type": "execute_result",
          "data": {
            "text/plain": [
              "[5, 6, 7, 7, 8, 8, 9, 9, 10]"
            ]
          },
          "metadata": {},
          "execution_count": 8
        }
      ]
    },
    {
      "cell_type": "code",
      "source": [
        "NT = (1,2,(\"pop\", \"rock\"), (3,4), (\"disco\", 2, 3))\n",
        "NT[2][1]"
      ],
      "metadata": {
        "colab": {
          "base_uri": "https://localhost:8080/",
          "height": 35
        },
        "id": "GSee870IxzCq",
        "outputId": "818555b5-076d-4780-9652-5a65dd40a5f8"
      },
      "execution_count": null,
      "outputs": [
        {
          "output_type": "execute_result",
          "data": {
            "text/plain": [
              "'rock'"
            ],
            "application/vnd.google.colaboratory.intrinsic+json": {
              "type": "string"
            }
          },
          "metadata": {},
          "execution_count": 9
        }
      ]
    },
    {
      "cell_type": "code",
      "source": [
        "list = [\"michael jackson\", 10.2, 1982,2,3,4]\n",
        "list[0]\n",
        "list[3:5]"
      ],
      "metadata": {
        "colab": {
          "base_uri": "https://localhost:8080/"
        },
        "id": "KE2SaKTTyiDx",
        "outputId": "5bba6e03-1a55-414a-8d8d-7d2c7f03711d"
      },
      "execution_count": null,
      "outputs": [
        {
          "output_type": "execute_result",
          "data": {
            "text/plain": [
              "[2, 3]"
            ]
          },
          "metadata": {},
          "execution_count": 10
        }
      ]
    },
    {
      "cell_type": "code",
      "source": [
        "L= list + [3, 4]\n",
        "L"
      ],
      "metadata": {
        "colab": {
          "base_uri": "https://localhost:8080/"
        },
        "id": "VP8H1k9CzESE",
        "outputId": "625233e9-d444-42b8-b419-02d08d66ad40"
      },
      "execution_count": null,
      "outputs": [
        {
          "output_type": "execute_result",
          "data": {
            "text/plain": [
              "['michael jackson', 10.2, 1982, 2, 3, 4, 3, 4]"
            ]
          },
          "metadata": {},
          "execution_count": 11
        }
      ]
    },
    {
      "cell_type": "code",
      "source": [
        "L.extend([10,20])\n",
        "L"
      ],
      "metadata": {
        "colab": {
          "base_uri": "https://localhost:8080/"
        },
        "id": "MMq8GVttzOg7",
        "outputId": "b9911e17-a7c7-4667-bd51-d902f6ed8e34"
      },
      "execution_count": null,
      "outputs": [
        {
          "output_type": "execute_result",
          "data": {
            "text/plain": [
              "['michael jackson', 10.2, 1982, 2, 3, 4, 3, 4, 10, 20]"
            ]
          },
          "metadata": {},
          "execution_count": 12
        }
      ]
    },
    {
      "cell_type": "code",
      "source": [
        "A=[\"disco\", 10, 1.2]\n",
        "A[0] = \"hard rock\"\n",
        "A"
      ],
      "metadata": {
        "colab": {
          "base_uri": "https://localhost:8080/"
        },
        "id": "3unLYzh5zhSg",
        "outputId": "cbeb64bd-03e7-445d-8e5e-699eb60fa39e"
      },
      "execution_count": null,
      "outputs": [
        {
          "output_type": "execute_result",
          "data": {
            "text/plain": [
              "['hard rock', 10, 1.2]"
            ]
          },
          "metadata": {},
          "execution_count": 15
        }
      ]
    },
    {
      "cell_type": "code",
      "source": [
        "del(A[0])\n",
        "A"
      ],
      "metadata": {
        "colab": {
          "base_uri": "https://localhost:8080/"
        },
        "id": "0keqUztyz4n7",
        "outputId": "a1946402-3046-4fb0-96a7-e54927992be0"
      },
      "execution_count": null,
      "outputs": [
        {
          "output_type": "execute_result",
          "data": {
            "text/plain": [
              "[10, 1.2]"
            ]
          },
          "metadata": {},
          "execution_count": 16
        }
      ]
    },
    {
      "cell_type": "code",
      "source": [
        "B= A\n",
        "B\n"
      ],
      "metadata": {
        "colab": {
          "base_uri": "https://localhost:8080/"
        },
        "id": "7gAAVLGt0L8B",
        "outputId": "959bb5e6-d34e-48b8-9e2a-9ed982b6f570"
      },
      "execution_count": null,
      "outputs": [
        {
          "output_type": "execute_result",
          "data": {
            "text/plain": [
              "[10, 1.2]"
            ]
          },
          "metadata": {},
          "execution_count": 17
        }
      ]
    },
    {
      "cell_type": "code",
      "source": [
        "B[0]= \"banana\"\n",
        "A"
      ],
      "metadata": {
        "colab": {
          "base_uri": "https://localhost:8080/"
        },
        "id": "DbA1dVcv0thA",
        "outputId": "50d63d6a-b89e-4238-f643-d8158f6a98eb"
      },
      "execution_count": null,
      "outputs": [
        {
          "output_type": "execute_result",
          "data": {
            "text/plain": [
              "['banana', 1.2]"
            ]
          },
          "metadata": {},
          "execution_count": 18
        }
      ]
    },
    {
      "cell_type": "code",
      "source": [
        "set= {\"pop\", \"rock\", \"salsa\", \"pop\", \"metal\", \"pop\", \"salsa\"}\n",
        "set"
      ],
      "metadata": {
        "id": "fg9CthOR9Ssy",
        "outputId": "39550c6a-a5e5-4280-a6d3-11c712378e31",
        "colab": {
          "base_uri": "https://localhost:8080/"
        }
      },
      "execution_count": null,
      "outputs": [
        {
          "output_type": "execute_result",
          "data": {
            "text/plain": [
              "{'metal', 'pop', 'rock', 'salsa'}"
            ]
          },
          "metadata": {},
          "execution_count": 19
        }
      ]
    },
    {
      "cell_type": "code",
      "source": [
        "A={\"thriller\", \"Black in back\", \"AC/DC\"}\n",
        "A.add(\"NYNC\")\n",
        "A"
      ],
      "metadata": {
        "id": "iYDjB-yb9uf4",
        "outputId": "632eae73-ac19-462b-9789-e8a1343c4935",
        "colab": {
          "base_uri": "https://localhost:8080/"
        }
      },
      "execution_count": null,
      "outputs": [
        {
          "output_type": "execute_result",
          "data": {
            "text/plain": [
              "{'AC/DC', 'Black in back', 'NYNC', 'thriller'}"
            ]
          },
          "metadata": {},
          "execution_count": 20
        }
      ]
    },
    {
      "cell_type": "code",
      "source": [
        "A.remove(\"AC/DC\")\n",
        "A"
      ],
      "metadata": {
        "id": "c_qAaXar-yQq",
        "outputId": "e41f20e2-14b3-478c-f52b-5d132dae56e7",
        "colab": {
          "base_uri": "https://localhost:8080/"
        }
      },
      "execution_count": null,
      "outputs": [
        {
          "output_type": "execute_result",
          "data": {
            "text/plain": [
              "{'Black in back', 'NYNC', 'thriller'}"
            ]
          },
          "metadata": {},
          "execution_count": 21
        }
      ]
    },
    {
      "cell_type": "code",
      "source": [
        "\"Who\" in A"
      ],
      "metadata": {
        "id": "DEe-tKZi_DQs",
        "outputId": "e7f81101-ebca-4d7e-94e2-da3cb5d0e155",
        "colab": {
          "base_uri": "https://localhost:8080/"
        }
      },
      "execution_count": null,
      "outputs": [
        {
          "output_type": "execute_result",
          "data": {
            "text/plain": [
              "False"
            ]
          },
          "metadata": {},
          "execution_count": 23
        }
      ]
    },
    {
      "cell_type": "code",
      "source": [
        "B ={\"NYNC\", 5, \"thriller\"}\n",
        "set3 = A&B\n",
        "set3"
      ],
      "metadata": {
        "id": "iTPkWsFM_VoF",
        "outputId": "50897631-f8ca-4651-dbf0-fe7923c21eed",
        "colab": {
          "base_uri": "https://localhost:8080/"
        }
      },
      "execution_count": null,
      "outputs": [
        {
          "output_type": "execute_result",
          "data": {
            "text/plain": [
              "{'NYNC', 'thriller'}"
            ]
          },
          "metadata": {},
          "execution_count": 22
        }
      ]
    },
    {
      "cell_type": "code",
      "source": [
        "dict = {\"thriller\":1982, \"Back in Black\":1980, \"Thew dark side of the moon\": 1973, \"the bodyguard\": 1992}\n",
        "dict\n",
        "           "
      ],
      "metadata": {
        "colab": {
          "base_uri": "https://localhost:8080/"
        },
        "id": "L4hUpdPg-bdI",
        "outputId": "4ba88beb-19bd-4110-e5bf-58f58dc7cf28"
      },
      "execution_count": null,
      "outputs": [
        {
          "output_type": "execute_result",
          "data": {
            "text/plain": [
              "{'thriller': 1982,\n",
              " 'Back in Black': 1980,\n",
              " 'Thew dark side of the moon': 1973,\n",
              " 'the bodyguard': 1992}"
            ]
          },
          "metadata": {},
          "execution_count": 24
        }
      ]
    },
    {
      "cell_type": "code",
      "source": [
        "dict[\"thriller\"]"
      ],
      "metadata": {
        "colab": {
          "base_uri": "https://localhost:8080/"
        },
        "id": "M9wPDY7i_QSu",
        "outputId": "7a116fd1-6a59-4ea7-bf3c-10016364a0ea"
      },
      "execution_count": null,
      "outputs": [
        {
          "output_type": "execute_result",
          "data": {
            "text/plain": [
              "1982"
            ]
          },
          "metadata": {},
          "execution_count": 25
        }
      ]
    },
    {
      "cell_type": "code",
      "source": [
        "dict['peru']='2020'\n",
        "dict"
      ],
      "metadata": {
        "colab": {
          "base_uri": "https://localhost:8080/"
        },
        "id": "lAeO7vNf_ceZ",
        "outputId": "d0698679-72bc-47b9-f3ed-188441bce979"
      },
      "execution_count": null,
      "outputs": [
        {
          "output_type": "execute_result",
          "data": {
            "text/plain": [
              "{'Back in Black': 1980,\n",
              " 'Thew dark side of the moon': 1973,\n",
              " 'the bodyguard': 1992,\n",
              " 'peru': '2020'}"
            ]
          },
          "metadata": {},
          "execution_count": 27
        }
      ]
    },
    {
      "cell_type": "code",
      "source": [
        "del(dict['thriller'])\n",
        "dict"
      ],
      "metadata": {
        "colab": {
          "base_uri": "https://localhost:8080/"
        },
        "id": "OFezJuR-AHln",
        "outputId": "59c3d1a1-c343-4507-e303-9b49636b8d55"
      },
      "execution_count": null,
      "outputs": [
        {
          "output_type": "execute_result",
          "data": {
            "text/plain": [
              "{'Back in Black': 1980,\n",
              " 'Thew dark side of the moon': 1973,\n",
              " 'the bodyguard': 1992}"
            ]
          },
          "metadata": {},
          "execution_count": 26
        }
      ]
    },
    {
      "cell_type": "markdown",
      "source": [
        "## MODULO 3"
      ],
      "metadata": {
        "id": "HO6vcmeSAY5C"
      }
    },
    {
      "cell_type": "code",
      "source": [
        "a= 6\n",
        "a==7 \n"
      ],
      "metadata": {
        "colab": {
          "base_uri": "https://localhost:8080/"
        },
        "id": "QD3QGsIqAeSO",
        "outputId": "90ec11c6-98da-4d61-e87d-be44bc4094af"
      },
      "execution_count": null,
      "outputs": [
        {
          "output_type": "execute_result",
          "data": {
            "text/plain": [
              "False"
            ]
          },
          "metadata": {},
          "execution_count": 28
        }
      ]
    },
    {
      "cell_type": "code",
      "source": [
        "a>5"
      ],
      "metadata": {
        "colab": {
          "base_uri": "https://localhost:8080/"
        },
        "id": "ZtCcLGQWBfKw",
        "outputId": "58cbb992-bb52-46da-a09f-c94241c0ee3f"
      },
      "execution_count": null,
      "outputs": [
        {
          "output_type": "execute_result",
          "data": {
            "text/plain": [
              "True"
            ]
          },
          "metadata": {},
          "execution_count": 2
        }
      ]
    },
    {
      "cell_type": "code",
      "source": [
        "a<6"
      ],
      "metadata": {
        "colab": {
          "base_uri": "https://localhost:8080/"
        },
        "id": "vEml3PEgEH9f",
        "outputId": "0e54c346-e8d7-475b-b7de-9fa02ecbcfbe"
      },
      "execution_count": null,
      "outputs": [
        {
          "output_type": "execute_result",
          "data": {
            "text/plain": [
              "False"
            ]
          },
          "metadata": {},
          "execution_count": 3
        }
      ]
    },
    {
      "cell_type": "code",
      "source": [
        "a!=6"
      ],
      "metadata": {
        "colab": {
          "base_uri": "https://localhost:8080/"
        },
        "id": "oM0igzJmELgk",
        "outputId": "2ad5e6b6-6dc3-459b-8062-e36c845eadc0"
      },
      "execution_count": null,
      "outputs": [
        {
          "output_type": "execute_result",
          "data": {
            "text/plain": [
              "False"
            ]
          },
          "metadata": {},
          "execution_count": 4
        }
      ]
    },
    {
      "cell_type": "code",
      "source": [
        "age = 17\n",
        "if (age>18):\n",
        "  print(\"Entra al concierto\")\n",
        "print (\"No entra al concierto\")  "
      ],
      "metadata": {
        "colab": {
          "base_uri": "https://localhost:8080/"
        },
        "id": "dt1bHSaIEcAI",
        "outputId": "528d6e38-e15e-4bab-82c7-95f07ebd2c5b"
      },
      "execution_count": null,
      "outputs": [
        {
          "output_type": "stream",
          "name": "stdout",
          "text": [
            "No entra al concierto\n"
          ]
        }
      ]
    },
    {
      "cell_type": "code",
      "source": [
        "age = 17\n",
        "if (age>18):\n",
        "  print(\"Entra al concierto\")\n",
        "else:\n",
        "  print(\"se va a cenar\")\n",
        "\n",
        "print (\"Sigue caminando\")  "
      ],
      "metadata": {
        "colab": {
          "base_uri": "https://localhost:8080/"
        },
        "id": "rQNJUlDyFUZ8",
        "outputId": "f5640cc9-e07f-4c7f-bbb5-522a49a1b69f"
      },
      "execution_count": null,
      "outputs": [
        {
          "output_type": "stream",
          "name": "stdout",
          "text": [
            "se va a cenar\n",
            "Sigue caminando\n"
          ]
        }
      ]
    },
    {
      "cell_type": "code",
      "source": [
        "age = 18 \n",
        "if (age>18):\n",
        "  print(\"Entra al concierto\")\n",
        "elif(age==18):\n",
        "  print(\"Va al otro concierto\")\n",
        "else:\n",
        "  print(\"se va a cenar\")\n",
        "\n",
        "print (\"Sigue caminando\") "
      ],
      "metadata": {
        "colab": {
          "base_uri": "https://localhost:8080/"
        },
        "id": "rIqcNB9gF-Af",
        "outputId": "1b7f69b9-43e0-4040-d06e-c7fb5f3cef14"
      },
      "execution_count": null,
      "outputs": [
        {
          "output_type": "stream",
          "name": "stdout",
          "text": [
            "Va al otro concierto\n",
            "Sigue caminando\n"
          ]
        }
      ]
    },
    {
      "cell_type": "code",
      "source": [
        "squares = [\"red\", \"yellow\",\"green\",\"blue\",\"purple\"]\n",
        "for i in range(0,5):\n",
        "  squares[i]=\"black\"\n",
        "\n",
        "squares\n"
      ],
      "metadata": {
        "colab": {
          "base_uri": "https://localhost:8080/"
        },
        "id": "PEMiEfIQRuZl",
        "outputId": "cd6d0513-0e8e-4510-83da-01e16b286164"
      },
      "execution_count": null,
      "outputs": [
        {
          "output_type": "execute_result",
          "data": {
            "text/plain": [
              "['black', 'black', 'black', 'black', 'black']"
            ]
          },
          "metadata": {},
          "execution_count": 31
        }
      ]
    },
    {
      "cell_type": "code",
      "source": [
        "squares = ['red', 'yellow', 'green', 'purple', 'blue']\n",
        "\n",
        "for i in range(0, 5):\n",
        "    print(\"Antes \", i, 'es',  squares[i])\n",
        "    squares[i] = 'white'\n",
        "    print(\"Despues \", i, 'es',  squares[i])"
      ],
      "metadata": {
        "colab": {
          "base_uri": "https://localhost:8080/"
        },
        "id": "O_MJztNzWzEf",
        "outputId": "d0639eb3-2b66-4b03-ca28-1746b4c7f871"
      },
      "execution_count": null,
      "outputs": [
        {
          "output_type": "stream",
          "name": "stdout",
          "text": [
            "Antes  0 es red\n",
            "Despues  0 es white\n",
            "Antes  1 es yellow\n",
            "Despues  1 es white\n",
            "Antes  2 es green\n",
            "Despues  2 es white\n",
            "Antes  3 es purple\n",
            "Despues  3 es white\n",
            "Antes  4 es blue\n",
            "Despues  4 es white\n"
          ]
        }
      ]
    },
    {
      "cell_type": "code",
      "source": [
        "album_rating = [10.0, 8.5, 5.8, 7.2, 9.0, 9.5]\n",
        "L= len(album_rating)\n",
        "L"
      ],
      "metadata": {
        "colab": {
          "base_uri": "https://localhost:8080/"
        },
        "id": "NlDiHWbJS9aq",
        "outputId": "cc576ca6-a44e-4b5c-8aa7-9a6801ad66ea"
      },
      "execution_count": null,
      "outputs": [
        {
          "output_type": "execute_result",
          "data": {
            "text/plain": [
              "6"
            ]
          },
          "metadata": {},
          "execution_count": 34
        }
      ]
    },
    {
      "cell_type": "code",
      "source": [
        "dates = [1982,1980,1973]\n",
        "N = len(dates)\n",
        "\n",
        "for i in range(N):\n",
        "    print(dates[i])  "
      ],
      "metadata": {
        "colab": {
          "base_uri": "https://localhost:8080/"
        },
        "id": "cOMiHm6aT2sd",
        "outputId": "ab9857bb-e7c6-48ac-f50e-e0b078ebb0c6"
      },
      "execution_count": null,
      "outputs": [
        {
          "output_type": "stream",
          "name": "stdout",
          "text": [
            "1982\n",
            "1980\n",
            "1973\n"
          ]
        }
      ]
    },
    {
      "cell_type": "code",
      "source": [
        "s = sum(album_rating)\n",
        "s"
      ],
      "metadata": {
        "colab": {
          "base_uri": "https://localhost:8080/"
        },
        "id": "UqTf5VbiTpML",
        "outputId": "fbd24fca-5db2-49b3-d4c6-3edaed35c234"
      },
      "execution_count": null,
      "outputs": [
        {
          "output_type": "execute_result",
          "data": {
            "text/plain": [
              "50.0"
            ]
          },
          "metadata": {},
          "execution_count": 35
        }
      ]
    },
    {
      "cell_type": "code",
      "source": [
        "sorted_album = sorted(album_rating)\n",
        "album_rating"
      ],
      "metadata": {
        "id": "CmLbRSS-Ucmv",
        "outputId": "c52eb16d-6627-42a5-f5ae-daeda786086e",
        "colab": {
          "base_uri": "https://localhost:8080/"
        }
      },
      "execution_count": null,
      "outputs": [
        {
          "output_type": "execute_result",
          "data": {
            "text/plain": [
              "[10.0, 8.5, 5.8, 7.2, 9.0, 9.5]"
            ]
          },
          "metadata": {},
          "execution_count": 41
        }
      ]
    },
    {
      "cell_type": "code",
      "source": [
        "sorted_album"
      ],
      "metadata": {
        "id": "Z9LxMTCeVOPa",
        "outputId": "5a87cc8e-062a-4783-f8da-3925e41b8dd3",
        "colab": {
          "base_uri": "https://localhost:8080/"
        }
      },
      "execution_count": null,
      "outputs": [
        {
          "output_type": "execute_result",
          "data": {
            "text/plain": [
              "[5.8, 7.2, 8.5, 9.0, 9.5, 10.0]"
            ]
          },
          "metadata": {},
          "execution_count": 42
        }
      ]
    },
    {
      "cell_type": "code",
      "source": [
        "album_rating.sort()\n",
        "album_rating"
      ],
      "metadata": {
        "colab": {
          "base_uri": "https://localhost:8080/"
        },
        "id": "vv98M3wNVkqx",
        "outputId": "bb12ba7f-2d6c-4cca-b901-169724b0b829"
      },
      "execution_count": null,
      "outputs": [
        {
          "output_type": "execute_result",
          "data": {
            "text/plain": [
              "[5.8, 7.2, 8.5, 9.0, 9.5, 10.0]"
            ]
          },
          "metadata": {},
          "execution_count": 43
        }
      ]
    },
    {
      "cell_type": "code",
      "source": [
        "def add(a):\n",
        "    \"\"\"\n",
        "    add 1 to a\n",
        "    \"\"\"\n",
        "    b = a + 1\n",
        "    print(a, \"Si tu agregas uno, es:\", b)\n",
        "    return(b)"
      ],
      "metadata": {
        "id": "QAqTLp7SXQ5s"
      },
      "execution_count": null,
      "outputs": []
    },
    {
      "cell_type": "code",
      "source": [
        "add(1)"
      ],
      "metadata": {
        "colab": {
          "base_uri": "https://localhost:8080/"
        },
        "id": "paUZuZn3XUZr",
        "outputId": "82721bdc-08d9-4907-a919-2f6d368d3cf5"
      },
      "execution_count": null,
      "outputs": [
        {
          "output_type": "stream",
          "name": "stdout",
          "text": [
            "1 Si tu agregas uno, es: 2\n"
          ]
        },
        {
          "output_type": "execute_result",
          "data": {
            "text/plain": [
              "2"
            ]
          },
          "metadata": {},
          "execution_count": 52
        }
      ]
    },
    {
      "cell_type": "code",
      "source": [
        "add(3)"
      ],
      "metadata": {
        "colab": {
          "base_uri": "https://localhost:8080/"
        },
        "id": "RLgw--yzXamY",
        "outputId": "d70e85bb-2609-466a-8893-6107dc49d491"
      },
      "execution_count": null,
      "outputs": [
        {
          "output_type": "stream",
          "name": "stdout",
          "text": [
            "3 Si tu agregas uno, es: 4\n"
          ]
        },
        {
          "output_type": "execute_result",
          "data": {
            "text/plain": [
              "4"
            ]
          },
          "metadata": {},
          "execution_count": 53
        }
      ]
    },
    {
      "cell_type": "code",
      "source": [
        "def Mult(a, b):\n",
        "    c = a * b\n",
        "    return(c)\n",
        "    \n",
        "result = Mult(12,2)\n",
        "print(result)"
      ],
      "metadata": {
        "colab": {
          "base_uri": "https://localhost:8080/"
        },
        "id": "yZ2YJyThXuyo",
        "outputId": "16f90892-a302-4614-b801-ae4e524d089c"
      },
      "execution_count": null,
      "outputs": [
        {
          "output_type": "stream",
          "name": "stdout",
          "text": [
            "24\n"
          ]
        }
      ]
    },
    {
      "cell_type": "code",
      "source": [
        "Mult(10.0, 3.14)"
      ],
      "metadata": {
        "colab": {
          "base_uri": "https://localhost:8080/"
        },
        "id": "tzheDwTKXq_i",
        "outputId": "e32ab1bb-2409-4135-8568-5edab6d8f035"
      },
      "execution_count": null,
      "outputs": [
        {
          "output_type": "execute_result",
          "data": {
            "text/plain": [
              "31.400000000000002"
            ]
          },
          "metadata": {},
          "execution_count": 58
        }
      ]
    },
    {
      "cell_type": "code",
      "source": [
        "a1 = 4\n",
        "b1 = 5\n",
        "c1 = a1 + b1 + 2 * a1 * b1 - 1\n",
        "if(c1 < 0):\n",
        "    c1 = 0 \n",
        "else:\n",
        "    c1 = 5\n",
        "c1 "
      ],
      "metadata": {
        "colab": {
          "base_uri": "https://localhost:8080/"
        },
        "id": "ReL9d58LYMoV",
        "outputId": "d61445d8-bacd-4e04-d8ea-926756f513e1"
      },
      "execution_count": null,
      "outputs": [
        {
          "output_type": "execute_result",
          "data": {
            "text/plain": [
              "5"
            ]
          },
          "metadata": {},
          "execution_count": 61
        }
      ]
    },
    {
      "cell_type": "code",
      "source": [
        "type([1,2,3])"
      ],
      "metadata": {
        "id": "OB_AZSaSXYAq",
        "outputId": "e54ac24c-1d92-477a-a4ce-776535701b00",
        "colab": {
          "base_uri": "https://localhost:8080/"
        }
      },
      "execution_count": null,
      "outputs": [
        {
          "output_type": "execute_result",
          "data": {
            "text/plain": [
              "list"
            ]
          },
          "metadata": {},
          "execution_count": 1
        }
      ]
    },
    {
      "cell_type": "code",
      "source": [
        "type(\"the cat is yellow\")"
      ],
      "metadata": {
        "id": "6y39xCobXebt",
        "outputId": "cdce9172-84d5-456b-c993-f7ad829d8867",
        "colab": {
          "base_uri": "https://localhost:8080/"
        }
      },
      "execution_count": null,
      "outputs": [
        {
          "output_type": "execute_result",
          "data": {
            "text/plain": [
              "str"
            ]
          },
          "metadata": {},
          "execution_count": 2
        }
      ]
    },
    {
      "cell_type": "code",
      "source": [
        "type(1)"
      ],
      "metadata": {
        "id": "fnIkdxfaXidd",
        "outputId": "2a1543e3-afdf-4bd6-e26f-b63c0b3f5fdd",
        "colab": {
          "base_uri": "https://localhost:8080/"
        }
      },
      "execution_count": null,
      "outputs": [
        {
          "output_type": "execute_result",
          "data": {
            "text/plain": [
              "int"
            ]
          },
          "metadata": {},
          "execution_count": 3
        }
      ]
    },
    {
      "cell_type": "code",
      "source": [
        "rating =[7,5,4,8,9,5,10,9,5,9]"
      ],
      "metadata": {
        "id": "Lef0B6KqXs9Y"
      },
      "execution_count": null,
      "outputs": []
    },
    {
      "cell_type": "code",
      "source": [
        "rating.sort()\n",
        "rating"
      ],
      "metadata": {
        "id": "1H5pKsb7Xxay",
        "outputId": "0d3350f2-0778-4508-d7be-f4f9ef98fdee",
        "colab": {
          "base_uri": "https://localhost:8080/"
        }
      },
      "execution_count": null,
      "outputs": [
        {
          "output_type": "execute_result",
          "data": {
            "text/plain": [
              "[4, 5, 5, 5, 7, 8, 9, 9, 9, 10]"
            ]
          },
          "metadata": {},
          "execution_count": 5
        }
      ]
    },
    {
      "cell_type": "code",
      "source": [
        "rating.reverse()\n",
        "rating"
      ],
      "metadata": {
        "id": "yG_LTnZtX6Yl",
        "outputId": "106045d2-b1ce-4859-cef9-e3ec3acebe97",
        "colab": {
          "base_uri": "https://localhost:8080/"
        }
      },
      "execution_count": null,
      "outputs": [
        {
          "output_type": "execute_result",
          "data": {
            "text/plain": [
              "[10, 9, 9, 9, 8, 7, 5, 5, 5, 4]"
            ]
          },
          "metadata": {},
          "execution_count": 6
        }
      ]
    },
    {
      "cell_type": "code",
      "source": [
        "class circle(object):\n",
        "  def _init_(self,radius,color):\n",
        "    self.radius = radius;\n",
        "    self.color = color;\n"
      ],
      "metadata": {
        "id": "tpiJh_MZYdOa"
      },
      "execution_count": null,
      "outputs": []
    },
    {
      "cell_type": "code",
      "source": [
        "class Circle(object):\n",
        "    \n",
        "    # Constructor\n",
        "    def __init__(self, radius=3, color='blue'):\n",
        "        self.radius = radius\n",
        "        self.color = color \n",
        "    \n",
        "    # Method\n",
        "    def add_radius(self, r):\n",
        "        self.radius = self.radius + r\n",
        "        return(self.radius)\n",
        "    \n",
        "    # Method\n",
        "    def drawCircle(self):\n",
        "        plt.gca().add_patch(plt.Circle((0, 0), radius=self.radius, fc=self.color))\n",
        "        plt.axis('scaled')\n",
        "        plt.show()  "
      ],
      "metadata": {
        "id": "jFZO8LkQZBFE"
      },
      "execution_count": null,
      "outputs": []
    }
  ]
}
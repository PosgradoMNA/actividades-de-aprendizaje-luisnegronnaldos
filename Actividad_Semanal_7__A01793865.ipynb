{
  "nbformat": 4,
  "nbformat_minor": 0,
  "metadata": {
    "kernelspec": {
      "display_name": "Python 3",
      "language": "python",
      "name": "python3"
    },
    "language_info": {
      "codemirror_mode": {
        "name": "ipython",
        "version": 3
      },
      "file_extension": ".py",
      "mimetype": "text/x-python",
      "name": "python",
      "nbconvert_exporter": "python",
      "pygments_lexer": "ipython3",
      "version": "3.7.7"
    },
    "colab": {
      "provenance": [],
      "include_colab_link": true
    },
    "accelerator": "GPU"
  },
  "cells": [
    {
      "cell_type": "markdown",
      "metadata": {
        "id": "view-in-github",
        "colab_type": "text"
      },
      "source": [
        "<a href=\"https://colab.research.google.com/github/PosgradoMNA/actividades-de-aprendizaje-luisnegronnaldos/blob/main/Actividad_Semanal_7__A01793865.ipynb\" target=\"_parent\"><img src=\"https://colab.research.google.com/assets/colab-badge.svg\" alt=\"Open In Colab\"/></a>"
      ]
    },
    {
      "cell_type": "markdown",
      "source": [
        "=====================================\n",
        "\n",
        "Nombre: Luis Negrón Naldos\n",
        "\n",
        "Matrícula: A01793865\n",
        "\n",
        "====================================="
      ],
      "metadata": {
        "id": "9el3OlObxVUN"
      }
    },
    {
      "cell_type": "markdown",
      "metadata": {
        "id": "WUO-kdryVQwK"
      },
      "source": [
        "# Linear Models\n"
      ]
    },
    {
      "cell_type": "code",
      "source": [],
      "metadata": {
        "id": "Msm89naSzi21"
      },
      "execution_count": 218,
      "outputs": []
    },
    {
      "cell_type": "markdown",
      "metadata": {
        "id": "u3ytB4LpVQwM"
      },
      "source": [
        "- In supervised learning, the training data fed to the algorithm includes the desired solutions, called labels. \n",
        "- In **regression**, the labels are continuous quantities.\n",
        "- Linear models predict by computing a weighted sum of input features plus a bias term."
      ]
    },
    {
      "cell_type": "code",
      "metadata": {
        "id": "HMp_I4Y6VQwN"
      },
      "source": [
        "import numpy as np\n",
        "%matplotlib inline\n",
        "import matplotlib\n",
        "import matplotlib.pyplot as plt\n",
        "import pandas as pd\n",
        "import seaborn as sns\n",
        "# to make this notebook's output stable across runs\n",
        "np.random.seed(42)"
      ],
      "execution_count": 219,
      "outputs": []
    },
    {
      "cell_type": "code",
      "source": [],
      "metadata": {
        "id": "vyq0o8f2pcqa"
      },
      "execution_count": 240,
      "outputs": []
    },
    {
      "cell_type": "code",
      "source": [
        "5-2"
      ],
      "metadata": {
        "colab": {
          "base_uri": "https://localhost:8080/",
          "height": 0
        },
        "id": "exg6xSYf3F5D",
        "outputId": "cb5121b6-794d-4640-bc31-c50aa69a67bc"
      },
      "execution_count": 220,
      "outputs": [
        {
          "output_type": "execute_result",
          "data": {
            "text/plain": [
              "3"
            ]
          },
          "metadata": {},
          "execution_count": 220
        }
      ]
    },
    {
      "cell_type": "markdown",
      "metadata": {
        "id": "szpzFXgiVQwN"
      },
      "source": [
        "## Simple Linear Regression\n",
        "\n",
        "Simple linear regression equation:\n",
        "\n",
        "$y = ax + b$\n",
        "<br>\n",
        "$a$: slope\n",
        "<br>\n",
        "$b$: intercept\n",
        "\n",
        "Generate linear-looking data with the equation:\n",
        "\n",
        "$y = 3X + 4 + noise$"
      ]
    },
    {
      "cell_type": "code",
      "metadata": {
        "colab": {
          "base_uri": "https://localhost:8080/",
          "height": 0
        },
        "id": "mitJFYeiMQqD",
        "outputId": "399bb53f-4c3e-441b-e560-ece7d5f7bf57"
      },
      "source": [
        "np.random.rand(100, 1)"
      ],
      "execution_count": 221,
      "outputs": [
        {
          "output_type": "execute_result",
          "data": {
            "text/plain": [
              "array([[0.37454012],\n",
              "       [0.95071431],\n",
              "       [0.73199394],\n",
              "       [0.59865848],\n",
              "       [0.15601864],\n",
              "       [0.15599452],\n",
              "       [0.05808361],\n",
              "       [0.86617615],\n",
              "       [0.60111501],\n",
              "       [0.70807258],\n",
              "       [0.02058449],\n",
              "       [0.96990985],\n",
              "       [0.83244264],\n",
              "       [0.21233911],\n",
              "       [0.18182497],\n",
              "       [0.18340451],\n",
              "       [0.30424224],\n",
              "       [0.52475643],\n",
              "       [0.43194502],\n",
              "       [0.29122914],\n",
              "       [0.61185289],\n",
              "       [0.13949386],\n",
              "       [0.29214465],\n",
              "       [0.36636184],\n",
              "       [0.45606998],\n",
              "       [0.78517596],\n",
              "       [0.19967378],\n",
              "       [0.51423444],\n",
              "       [0.59241457],\n",
              "       [0.04645041],\n",
              "       [0.60754485],\n",
              "       [0.17052412],\n",
              "       [0.06505159],\n",
              "       [0.94888554],\n",
              "       [0.96563203],\n",
              "       [0.80839735],\n",
              "       [0.30461377],\n",
              "       [0.09767211],\n",
              "       [0.68423303],\n",
              "       [0.44015249],\n",
              "       [0.12203823],\n",
              "       [0.49517691],\n",
              "       [0.03438852],\n",
              "       [0.9093204 ],\n",
              "       [0.25877998],\n",
              "       [0.66252228],\n",
              "       [0.31171108],\n",
              "       [0.52006802],\n",
              "       [0.54671028],\n",
              "       [0.18485446],\n",
              "       [0.96958463],\n",
              "       [0.77513282],\n",
              "       [0.93949894],\n",
              "       [0.89482735],\n",
              "       [0.59789998],\n",
              "       [0.92187424],\n",
              "       [0.0884925 ],\n",
              "       [0.19598286],\n",
              "       [0.04522729],\n",
              "       [0.32533033],\n",
              "       [0.38867729],\n",
              "       [0.27134903],\n",
              "       [0.82873751],\n",
              "       [0.35675333],\n",
              "       [0.28093451],\n",
              "       [0.54269608],\n",
              "       [0.14092422],\n",
              "       [0.80219698],\n",
              "       [0.07455064],\n",
              "       [0.98688694],\n",
              "       [0.77224477],\n",
              "       [0.19871568],\n",
              "       [0.00552212],\n",
              "       [0.81546143],\n",
              "       [0.70685734],\n",
              "       [0.72900717],\n",
              "       [0.77127035],\n",
              "       [0.07404465],\n",
              "       [0.35846573],\n",
              "       [0.11586906],\n",
              "       [0.86310343],\n",
              "       [0.62329813],\n",
              "       [0.33089802],\n",
              "       [0.06355835],\n",
              "       [0.31098232],\n",
              "       [0.32518332],\n",
              "       [0.72960618],\n",
              "       [0.63755747],\n",
              "       [0.88721274],\n",
              "       [0.47221493],\n",
              "       [0.11959425],\n",
              "       [0.71324479],\n",
              "       [0.76078505],\n",
              "       [0.5612772 ],\n",
              "       [0.77096718],\n",
              "       [0.4937956 ],\n",
              "       [0.52273283],\n",
              "       [0.42754102],\n",
              "       [0.02541913],\n",
              "       [0.10789143]])"
            ]
          },
          "metadata": {},
          "execution_count": 221
        }
      ]
    },
    {
      "cell_type": "code",
      "metadata": {
        "colab": {
          "base_uri": "https://localhost:8080/",
          "height": 265
        },
        "id": "QyubE1VEVQwN",
        "outputId": "97c8e17e-f877-4bcb-a0bc-35d8e6bfdf04"
      },
      "source": [
        "X = 2*np.random.rand(100, 1)\n",
        "y = 4 + 3 * X + np.random.randn(100, 1)\n",
        "plt.scatter(X, y);"
      ],
      "execution_count": 222,
      "outputs": [
        {
          "output_type": "display_data",
          "data": {
            "text/plain": [
              "<Figure size 432x288 with 1 Axes>"
            ],
            "image/png": "[encoded data removed]"
          },
          "metadata": {
            "needs_background": "light"
          }
        }
      ]
    },
    {
      "cell_type": "code",
      "source": [
        "import pandas as pd\n",
        "pd.DataFrame(y)"
      ],
      "metadata": {
        "colab": {
          "base_uri": "https://localhost:8080/",
          "height": 423
        },
        "id": "M5kaENJ4bZY5",
        "outputId": "3f31f75b-5ad9-4b9c-f808-8bfc88e24b28"
      },
      "execution_count": 223,
      "outputs": [
        {
          "output_type": "execute_result",
          "data": {
            "text/plain": [
              "            0\n",
              "0    3.508550\n",
              "1    8.050716\n",
              "2    6.179208\n",
              "3    6.337073\n",
              "4   11.311173\n",
              "..        ...\n",
              "95   5.441928\n",
              "96  10.121188\n",
              "97   9.787643\n",
              "98   8.061635\n",
              "99   9.597115\n",
              "\n",
              "[100 rows x 1 columns]"
            ],
            "text/html": [
              "\n",
              "  <div id=\"df-eb1a7267-4e06-409d-ac0d-b976d33a72af\">\n",
              "    <div class=\"colab-df-container\">\n",
              "      <div>\n",
              "<style scoped>\n",
              "    .dataframe tbody tr th:only-of-type {\n",
              "        vertical-align: middle;\n",
              "    }\n",
              "\n",
              "    .dataframe tbody tr th {\n",
              "        vertical-align: top;\n",
              "    }\n",
              "\n",
              "    .dataframe thead th {\n",
              "        text-align: right;\n",
              "    }\n",
              "</style>\n",
              "<table border=\"1\" class=\"dataframe\">\n",
              "  <thead>\n",
              "    <tr style=\"text-align: right;\">\n",
              "      <th></th>\n",
              "      <th>0</th>\n",
              "    </tr>\n",
              "  </thead>\n",
              "  <tbody>\n",
              "    <tr>\n",
              "      <th>0</th>\n",
              "      <td>3.508550</td>\n",
              "    </tr>\n",
              "    <tr>\n",
              "      <th>1</th>\n",
              "      <td>8.050716</td>\n",
              "    </tr>\n",
              "    <tr>\n",
              "      <th>2</th>\n",
              "      <td>6.179208</td>\n",
              "    </tr>\n",
              "    <tr>\n",
              "      <th>3</th>\n",
              "      <td>6.337073</td>\n",
              "    </tr>\n",
              "    <tr>\n",
              "      <th>4</th>\n",
              "      <td>11.311173</td>\n",
              "    </tr>\n",
              "    <tr>\n",
              "      <th>...</th>\n",
              "      <td>...</td>\n",
              "    </tr>\n",
              "    <tr>\n",
              "      <th>95</th>\n",
              "      <td>5.441928</td>\n",
              "    </tr>\n",
              "    <tr>\n",
              "      <th>96</th>\n",
              "      <td>10.121188</td>\n",
              "    </tr>\n",
              "    <tr>\n",
              "      <th>97</th>\n",
              "      <td>9.787643</td>\n",
              "    </tr>\n",
              "    <tr>\n",
              "      <th>98</th>\n",
              "      <td>8.061635</td>\n",
              "    </tr>\n",
              "    <tr>\n",
              "      <th>99</th>\n",
              "      <td>9.597115</td>\n",
              "    </tr>\n",
              "  </tbody>\n",
              "</table>\n",
              "<p>100 rows × 1 columns</p>\n",
              "</div>\n",
              "      <button class=\"colab-df-convert\" onclick=\"convertToInteractive('df-eb1a7267-4e06-409d-ac0d-b976d33a72af')\"\n",
              "              title=\"Convert this dataframe to an interactive table.\"\n",
              "              style=\"display:none;\">\n",
              "        \n",
              "  <svg xmlns=\"http://www.w3.org/2000/svg\" height=\"24px\"viewBox=\"0 0 24 24\"\n",
              "       width=\"24px\">\n",
              "    <path d=\"M0 0h24v24H0V0z\" fill=\"none\"/>\n",
              "    <path d=\"M18.56 5.44l.94 2.06.94-2.06 2.06-.94-2.06-.94-.94-2.06-.94 2.06-2.06.94zm-11 1L8.5 8.5l.94-2.06 2.06-.94-2.06-.94L8.5 2.5l-.94 2.06-2.06.94zm10 10l.94 2.06.94-2.06 2.06-.94-2.06-.94-.94-2.06-.94 2.06-2.06.94z\"/><path d=\"M17.41 7.96l-1.37-1.37c-.4-.4-.92-.59-1.43-.59-.52 0-1.04.2-1.43.59L10.3 9.45l-7.72 7.72c-.78.78-.78 2.05 0 2.83L4 21.41c.39.39.9.59 1.41.59.51 0 1.02-.2 1.41-.59l7.78-7.78 2.81-2.81c.8-.78.8-2.07 0-2.86zM5.41 20L4 18.59l7.72-7.72 1.47 1.35L5.41 20z\"/>\n",
              "  </svg>\n",
              "      </button>\n",
              "      \n",
              "  <style>\n",
              "    .colab-df-container {\n",
              "      display:flex;\n",
              "      flex-wrap:wrap;\n",
              "      gap: 12px;\n",
              "    }\n",
              "\n",
              "    .colab-df-convert {\n",
              "      background-color: #E8F0FE;\n",
              "      border: none;\n",
              "      border-radius: 50%;\n",
              "      cursor: pointer;\n",
              "      display: none;\n",
              "      fill: #1967D2;\n",
              "      height: 32px;\n",
              "      padding: 0 0 0 0;\n",
              "      width: 32px;\n",
              "    }\n",
              "\n",
              "    .colab-df-convert:hover {\n",
              "      background-color: #E2EBFA;\n",
              "      box-shadow: 0px 1px 2px rgba(60, 64, 67, 0.3), 0px 1px 3px 1px rgba(60, 64, 67, 0.15);\n",
              "      fill: #174EA6;\n",
              "    }\n",
              "\n",
              "    [theme=dark] .colab-df-convert {\n",
              "      background-color: #3B4455;\n",
              "      fill: #D2E3FC;\n",
              "    }\n",
              "\n",
              "    [theme=dark] .colab-df-convert:hover {\n",
              "      background-color: #434B5C;\n",
              "      box-shadow: 0px 1px 3px 1px rgba(0, 0, 0, 0.15);\n",
              "      filter: drop-shadow(0px 1px 2px rgba(0, 0, 0, 0.3));\n",
              "      fill: #FFFFFF;\n",
              "    }\n",
              "  </style>\n",
              "\n",
              "      <script>\n",
              "        const buttonEl =\n",
              "          document.querySelector('#df-eb1a7267-4e06-409d-ac0d-b976d33a72af button.colab-df-convert');\n",
              "        buttonEl.style.display =\n",
              "          google.colab.kernel.accessAllowed ? 'block' : 'none';\n",
              "\n",
              "        async function convertToInteractive(key) {\n",
              "          const element = document.querySelector('#df-eb1a7267-4e06-409d-ac0d-b976d33a72af');\n",
              "          const dataTable =\n",
              "            await google.colab.kernel.invokeFunction('convertToInteractive',\n",
              "                                                     [key], {});\n",
              "          if (!dataTable) return;\n",
              "\n",
              "          const docLinkHtml = 'Like what you see? Visit the ' +\n",
              "            '<a target=\"_blank\" href=https://colab.research.google.com/notebooks/data_table.ipynb>data table notebook</a>'\n",
              "            + ' to learn more about interactive tables.';\n",
              "          element.innerHTML = '';\n",
              "          dataTable['output_type'] = 'display_data';\n",
              "          await google.colab.output.renderOutput(dataTable, element);\n",
              "          const docLink = document.createElement('div');\n",
              "          docLink.innerHTML = docLinkHtml;\n",
              "          element.appendChild(docLink);\n",
              "        }\n",
              "      </script>\n",
              "    </div>\n",
              "  </div>\n",
              "  "
            ]
          },
          "metadata": {},
          "execution_count": 223
        }
      ]
    },
    {
      "cell_type": "code",
      "metadata": {
        "colab": {
          "base_uri": "https://localhost:8080/",
          "height": 0
        },
        "id": "x6XGt_iAVQwO",
        "outputId": "2f564696-05e5-44db-d1fe-b82631c7e413"
      },
      "source": [
        "from sklearn.linear_model import LinearRegression\n",
        "\n",
        "linear_reg = LinearRegression(fit_intercept=True)\n",
        "linear_reg.fit(X, y)"
      ],
      "execution_count": 224,
      "outputs": [
        {
          "output_type": "execute_result",
          "data": {
            "text/plain": [
              "LinearRegression()"
            ]
          },
          "metadata": {},
          "execution_count": 224
        }
      ]
    },
    {
      "cell_type": "markdown",
      "metadata": {
        "id": "Hnm9YgjbVQwO"
      },
      "source": [
        "Plot the model's predictions:"
      ]
    },
    {
      "cell_type": "code",
      "metadata": {
        "id": "9NtrLfGGVQwP"
      },
      "source": [
        "#X_fit[]"
      ],
      "execution_count": 225,
      "outputs": []
    },
    {
      "cell_type": "code",
      "metadata": {
        "colab": {
          "base_uri": "https://localhost:8080/",
          "height": 287
        },
        "id": "1ZTT31igVQwP",
        "outputId": "1d2a11e0-a064-4643-8729-5a5f1dbb3b26"
      },
      "source": [
        "# construct best fit line\n",
        "X_fit = np.linspace(0, 2, 100)\n",
        "y_fit = linear_reg.predict(X_fit[:, np.newaxis])\n",
        "\n",
        "plt.scatter(X, y)\n",
        "plt.plot(X_fit, y_fit, \"r-\", linewidth=2, label=\"Predictions\")\n",
        "plt.xlabel(\"$X$\", fontsize=18)\n",
        "plt.ylabel(\"$y$\", rotation=0, fontsize=18)\n",
        "plt.legend(loc=\"upper left\", fontsize=14);"
      ],
      "execution_count": 226,
      "outputs": [
        {
          "output_type": "display_data",
          "data": {
            "text/plain": [
              "<Figure size 432x288 with 1 Axes>"
            ],
            "image/png": "[encoded data removed]"
          },
          "metadata": {
            "needs_background": "light"
          }
        }
      ]
    },
    {
      "cell_type": "markdown",
      "metadata": {
        "id": "kIfOsEcWVQwP"
      },
      "source": [
        "Predictions are a good fit."
      ]
    },
    {
      "cell_type": "markdown",
      "metadata": {
        "id": "z2VYUeGrVQwQ"
      },
      "source": [
        "Generate new data to make predictions with the model:"
      ]
    },
    {
      "cell_type": "code",
      "metadata": {
        "colab": {
          "base_uri": "https://localhost:8080/",
          "height": 0
        },
        "id": "FuEd0Wp0VQwQ",
        "outputId": "7b22cb95-cf7c-44d1-b855-df07d31dc033"
      },
      "source": [
        "X_new = np.array([[0], [2]])\n",
        "X_new"
      ],
      "execution_count": 227,
      "outputs": [
        {
          "output_type": "execute_result",
          "data": {
            "text/plain": [
              "array([[0],\n",
              "       [2]])"
            ]
          },
          "metadata": {},
          "execution_count": 227
        }
      ]
    },
    {
      "cell_type": "code",
      "metadata": {
        "colab": {
          "base_uri": "https://localhost:8080/",
          "height": 0
        },
        "id": "lLCnLm7_VQwQ",
        "outputId": "60d1e875-9175-4cbd-bf18-2480e838abaa"
      },
      "source": [
        "X_new.shape"
      ],
      "execution_count": 228,
      "outputs": [
        {
          "output_type": "execute_result",
          "data": {
            "text/plain": [
              "(2, 1)"
            ]
          },
          "metadata": {},
          "execution_count": 228
        }
      ]
    },
    {
      "cell_type": "code",
      "metadata": {
        "colab": {
          "base_uri": "https://localhost:8080/",
          "height": 0
        },
        "id": "zJIzUfZsVQwQ",
        "outputId": "d6ec95eb-f7e2-4ec6-81a7-28a6fbc5d7f2"
      },
      "source": [
        "y_new = linear_reg.predict(X_new)\n",
        "y_new"
      ],
      "execution_count": 229,
      "outputs": [
        {
          "output_type": "execute_result",
          "data": {
            "text/plain": [
              "array([[ 3.74406122],\n",
              "       [10.47517611]])"
            ]
          },
          "metadata": {},
          "execution_count": 229
        }
      ]
    },
    {
      "cell_type": "code",
      "metadata": {
        "colab": {
          "base_uri": "https://localhost:8080/",
          "height": 0
        },
        "id": "ICiEnkbdVQwQ",
        "outputId": "d93ab08b-5074-465a-e031-93eab0b22109"
      },
      "source": [
        " linear_reg.coef_, linear_reg.intercept_"
      ],
      "execution_count": 230,
      "outputs": [
        {
          "output_type": "execute_result",
          "data": {
            "text/plain": [
              "(array([[3.36555744]]), array([3.74406122]))"
            ]
          },
          "metadata": {},
          "execution_count": 230
        }
      ]
    },
    {
      "cell_type": "markdown",
      "metadata": {
        "id": "iBXzOecgVQwR"
      },
      "source": [
        "The model estimates:\n",
        "\n",
        "$\\hat{y} = 3.36X + 3.74$"
      ]
    },
    {
      "cell_type": "code",
      "metadata": {
        "id": "ZNvipq0wQYfj"
      },
      "source": [
        "#|VENTAS|GANANCIAS|\n",
        "#COEF*VENTAS+B\n",
        "#|VENTAS|COMPRAS|GANANCIAS|\n",
        "#COEF1*X1+COEF2*X2+B=Y"
      ],
      "execution_count": 231,
      "outputs": []
    },
    {
      "cell_type": "markdown",
      "metadata": {
        "id": "_Rv-RJSnVQwR"
      },
      "source": [
        "## Polynomial Regression\n",
        "\n",
        "If data is more complex than a straight line, you can use a linear model ti fit non-linear data adding powers of each feature as new features and then train a linear model on the extended set of features. "
      ]
    },
    {
      "cell_type": "markdown",
      "metadata": {
        "id": "dPrpAVsZVQwR"
      },
      "source": [
        "$$y = a_0 + a_1x_1 + a_2x_2 + a_3x_3 + ...$$ to $$y = a_0 + a_1x + a_2x^2 + a_3x^3+ ...$$ "
      ]
    },
    {
      "cell_type": "markdown",
      "metadata": {
        "id": "9kjMWzEfVQwR"
      },
      "source": [
        "This is still a linear model, the linearity refers to the fact that the coefficients never multiply or divide each other."
      ]
    },
    {
      "cell_type": "markdown",
      "metadata": {
        "id": "2M3fp_CSVQwR"
      },
      "source": [
        "To generate polynomial data we use the function:\n",
        "\n",
        "$y = 0.50X^2 + X + 2 + noise$"
      ]
    },
    {
      "cell_type": "code",
      "metadata": {
        "id": "sSrueMnPVQwR"
      },
      "source": [
        "# generate non-linear data e.g. quadratic equation\n",
        "m = 100\n",
        "X = 6 * np.random.rand(m, 1) - 3\n",
        "y = 0.5 * X**2 + X + 2 + np.random.randn(m, 1)"
      ],
      "execution_count": 232,
      "outputs": []
    },
    {
      "cell_type": "code",
      "metadata": {
        "colab": {
          "base_uri": "https://localhost:8080/",
          "height": 291
        },
        "id": "GNQQoXkMVQwS",
        "outputId": "23cc9cf2-b667-4527-c9db-1bf176c8d312"
      },
      "source": [
        "plt.plot(X, y, \"b.\")\n",
        "plt.xlabel(\"$x_1$\", fontsize=18)\n",
        "plt.ylabel(\"$y$\", rotation=0, fontsize=18)\n",
        "plt.axis([-3, 3, 0, 10]);"
      ],
      "execution_count": 233,
      "outputs": [
        {
          "output_type": "display_data",
          "data": {
            "text/plain": [
              "<Figure size 432x288 with 1 Axes>"
            ],
            "image/png": "[encoded data removed]"
          },
          "metadata": {
            "needs_background": "light"
          }
        }
      ]
    },
    {
      "cell_type": "code",
      "source": [
        "import pandas as pd\n",
        "pd.DataFrame(y)"
      ],
      "metadata": {
        "id": "YtaK_dsidNcP",
        "outputId": "b7cbeb39-9855-4ac1-d2a1-03d3d73a6f11",
        "colab": {
          "base_uri": "https://localhost:8080/",
          "height": 423
        }
      },
      "execution_count": 234,
      "outputs": [
        {
          "output_type": "execute_result",
          "data": {
            "text/plain": [
              "           0\n",
              "0   8.529240\n",
              "1   3.768929\n",
              "2   3.354423\n",
              "3   2.747935\n",
              "4   0.808458\n",
              "..       ...\n",
              "95  5.346771\n",
              "96  6.338229\n",
              "97  3.488785\n",
              "98  1.372002\n",
              "99 -0.072150\n",
              "\n",
              "[100 rows x 1 columns]"
            ],
            "text/html": [
              "\n",
              "  <div id=\"df-fc74df98-fce3-4784-bba9-bb3b23792426\">\n",
              "    <div class=\"colab-df-container\">\n",
              "      <div>\n",
              "<style scoped>\n",
              "    .dataframe tbody tr th:only-of-type {\n",
              "        vertical-align: middle;\n",
              "    }\n",
              "\n",
              "    .dataframe tbody tr th {\n",
              "        vertical-align: top;\n",
              "    }\n",
              "\n",
              "    .dataframe thead th {\n",
              "        text-align: right;\n",
              "    }\n",
              "</style>\n",
              "<table border=\"1\" class=\"dataframe\">\n",
              "  <thead>\n",
              "    <tr style=\"text-align: right;\">\n",
              "      <th></th>\n",
              "      <th>0</th>\n",
              "    </tr>\n",
              "  </thead>\n",
              "  <tbody>\n",
              "    <tr>\n",
              "      <th>0</th>\n",
              "      <td>8.529240</td>\n",
              "    </tr>\n",
              "    <tr>\n",
              "      <th>1</th>\n",
              "      <td>3.768929</td>\n",
              "    </tr>\n",
              "    <tr>\n",
              "      <th>2</th>\n",
              "      <td>3.354423</td>\n",
              "    </tr>\n",
              "    <tr>\n",
              "      <th>3</th>\n",
              "      <td>2.747935</td>\n",
              "    </tr>\n",
              "    <tr>\n",
              "      <th>4</th>\n",
              "      <td>0.808458</td>\n",
              "    </tr>\n",
              "    <tr>\n",
              "      <th>...</th>\n",
              "      <td>...</td>\n",
              "    </tr>\n",
              "    <tr>\n",
              "      <th>95</th>\n",
              "      <td>5.346771</td>\n",
              "    </tr>\n",
              "    <tr>\n",
              "      <th>96</th>\n",
              "      <td>6.338229</td>\n",
              "    </tr>\n",
              "    <tr>\n",
              "      <th>97</th>\n",
              "      <td>3.488785</td>\n",
              "    </tr>\n",
              "    <tr>\n",
              "      <th>98</th>\n",
              "      <td>1.372002</td>\n",
              "    </tr>\n",
              "    <tr>\n",
              "      <th>99</th>\n",
              "      <td>-0.072150</td>\n",
              "    </tr>\n",
              "  </tbody>\n",
              "</table>\n",
              "<p>100 rows × 1 columns</p>\n",
              "</div>\n",
              "      <button class=\"colab-df-convert\" onclick=\"convertToInteractive('df-fc74df98-fce3-4784-bba9-bb3b23792426')\"\n",
              "              title=\"Convert this dataframe to an interactive table.\"\n",
              "              style=\"display:none;\">\n",
              "        \n",
              "  <svg xmlns=\"http://www.w3.org/2000/svg\" height=\"24px\"viewBox=\"0 0 24 24\"\n",
              "       width=\"24px\">\n",
              "    <path d=\"M0 0h24v24H0V0z\" fill=\"none\"/>\n",
              "    <path d=\"M18.56 5.44l.94 2.06.94-2.06 2.06-.94-2.06-.94-.94-2.06-.94 2.06-2.06.94zm-11 1L8.5 8.5l.94-2.06 2.06-.94-2.06-.94L8.5 2.5l-.94 2.06-2.06.94zm10 10l.94 2.06.94-2.06 2.06-.94-2.06-.94-.94-2.06-.94 2.06-2.06.94z\"/><path d=\"M17.41 7.96l-1.37-1.37c-.4-.4-.92-.59-1.43-.59-.52 0-1.04.2-1.43.59L10.3 9.45l-7.72 7.72c-.78.78-.78 2.05 0 2.83L4 21.41c.39.39.9.59 1.41.59.51 0 1.02-.2 1.41-.59l7.78-7.78 2.81-2.81c.8-.78.8-2.07 0-2.86zM5.41 20L4 18.59l7.72-7.72 1.47 1.35L5.41 20z\"/>\n",
              "  </svg>\n",
              "      </button>\n",
              "      \n",
              "  <style>\n",
              "    .colab-df-container {\n",
              "      display:flex;\n",
              "      flex-wrap:wrap;\n",
              "      gap: 12px;\n",
              "    }\n",
              "\n",
              "    .colab-df-convert {\n",
              "      background-color: #E8F0FE;\n",
              "      border: none;\n",
              "      border-radius: 50%;\n",
              "      cursor: pointer;\n",
              "      display: none;\n",
              "      fill: #1967D2;\n",
              "      height: 32px;\n",
              "      padding: 0 0 0 0;\n",
              "      width: 32px;\n",
              "    }\n",
              "\n",
              "    .colab-df-convert:hover {\n",
              "      background-color: #E2EBFA;\n",
              "      box-shadow: 0px 1px 2px rgba(60, 64, 67, 0.3), 0px 1px 3px 1px rgba(60, 64, 67, 0.15);\n",
              "      fill: #174EA6;\n",
              "    }\n",
              "\n",
              "    [theme=dark] .colab-df-convert {\n",
              "      background-color: #3B4455;\n",
              "      fill: #D2E3FC;\n",
              "    }\n",
              "\n",
              "    [theme=dark] .colab-df-convert:hover {\n",
              "      background-color: #434B5C;\n",
              "      box-shadow: 0px 1px 3px 1px rgba(0, 0, 0, 0.15);\n",
              "      filter: drop-shadow(0px 1px 2px rgba(0, 0, 0, 0.3));\n",
              "      fill: #FFFFFF;\n",
              "    }\n",
              "  </style>\n",
              "\n",
              "      <script>\n",
              "        const buttonEl =\n",
              "          document.querySelector('#df-fc74df98-fce3-4784-bba9-bb3b23792426 button.colab-df-convert');\n",
              "        buttonEl.style.display =\n",
              "          google.colab.kernel.accessAllowed ? 'block' : 'none';\n",
              "\n",
              "        async function convertToInteractive(key) {\n",
              "          const element = document.querySelector('#df-fc74df98-fce3-4784-bba9-bb3b23792426');\n",
              "          const dataTable =\n",
              "            await google.colab.kernel.invokeFunction('convertToInteractive',\n",
              "                                                     [key], {});\n",
              "          if (!dataTable) return;\n",
              "\n",
              "          const docLinkHtml = 'Like what you see? Visit the ' +\n",
              "            '<a target=\"_blank\" href=https://colab.research.google.com/notebooks/data_table.ipynb>data table notebook</a>'\n",
              "            + ' to learn more about interactive tables.';\n",
              "          element.innerHTML = '';\n",
              "          dataTable['output_type'] = 'display_data';\n",
              "          await google.colab.output.renderOutput(dataTable, element);\n",
              "          const docLink = document.createElement('div');\n",
              "          docLink.innerHTML = docLinkHtml;\n",
              "          element.appendChild(docLink);\n",
              "        }\n",
              "      </script>\n",
              "    </div>\n",
              "  </div>\n",
              "  "
            ]
          },
          "metadata": {},
          "execution_count": 234
        }
      ]
    },
    {
      "cell_type": "markdown",
      "metadata": {
        "id": "vrZTRaLNVQwS"
      },
      "source": [
        "Now we can use `PolynomialFeatues` to transform training data adding the square of each feature as new features."
      ]
    },
    {
      "cell_type": "code",
      "metadata": {
        "id": "BXo0Hm56VQwS"
      },
      "source": [
        "from sklearn.preprocessing import PolynomialFeatures\n",
        "\n",
        "poly_features = PolynomialFeatures(degree=2, include_bias=False)\n",
        "X_poly = poly_features.fit_transform(X)"
      ],
      "execution_count": 235,
      "outputs": []
    },
    {
      "cell_type": "code",
      "metadata": {
        "colab": {
          "base_uri": "https://localhost:8080/",
          "height": 0
        },
        "id": "1FqY9-I4VQwS",
        "outputId": "fd4d5365-8954-4f45-ad82-2d39600c6740"
      },
      "source": [
        "X_poly"
      ],
      "execution_count": 236,
      "outputs": [
        {
          "output_type": "execute_result",
          "data": {
            "text/plain": [
              "array([[ 2.72919168e+00,  7.44848725e+00],\n",
              "       [ 1.42738150e+00,  2.03741795e+00],\n",
              "       [ 3.26124315e-01,  1.06357069e-01],\n",
              "       [ 6.70324477e-01,  4.49334905e-01],\n",
              "       [-4.82399625e-01,  2.32709399e-01],\n",
              "       [-1.51361406e+00,  2.29102753e+00],\n",
              "       [-8.64163928e-01,  7.46779295e-01],\n",
              "       [ 1.54707666e+00,  2.39344620e+00],\n",
              "       [-2.91363907e+00,  8.48929262e+00],\n",
              "       [-2.30356416e+00,  5.30640783e+00],\n",
              "       [-2.72398415e+00,  7.42008964e+00],\n",
              "       [-2.75562719e+00,  7.59348119e+00],\n",
              "       [ 2.13276350e+00,  4.54868016e+00],\n",
              "       [ 1.22194716e+00,  1.49315485e+00],\n",
              "       [-1.54957025e-01,  2.40116797e-02],\n",
              "       [-2.41299504e+00,  5.82254504e+00],\n",
              "       [-5.03047493e-02,  2.53056780e-03],\n",
              "       [-1.59169375e-01,  2.53348900e-02],\n",
              "       [-1.96078878e+00,  3.84469264e+00],\n",
              "       [-3.96890105e-01,  1.57521755e-01],\n",
              "       [-6.08971594e-01,  3.70846402e-01],\n",
              "       [ 6.95100588e-01,  4.83164828e-01],\n",
              "       [ 8.10561905e-01,  6.57010602e-01],\n",
              "       [-2.72817594e+00,  7.44294397e+00],\n",
              "       [-7.52324312e-01,  5.65991871e-01],\n",
              "       [ 7.55159494e-01,  5.70265862e-01],\n",
              "       [ 1.88175515e-02,  3.54100244e-04],\n",
              "       [ 2.13893905e+00,  4.57506025e+00],\n",
              "       [ 9.52161790e-01,  9.06612074e-01],\n",
              "       [-2.02239344e+00,  4.09007522e+00],\n",
              "       [-2.57658752e+00,  6.63880323e+00],\n",
              "       [ 8.54515669e-01,  7.30197029e-01],\n",
              "       [-2.84093214e+00,  8.07089541e+00],\n",
              "       [ 5.14653488e-01,  2.64868212e-01],\n",
              "       [ 2.64138145e+00,  6.97689596e+00],\n",
              "       [ 4.52845067e-01,  2.05068655e-01],\n",
              "       [-6.70980443e-01,  4.50214755e-01],\n",
              "       [ 8.59729311e-01,  7.39134488e-01],\n",
              "       [-2.50482657e-01,  6.27415615e-02],\n",
              "       [ 2.73700736e-01,  7.49120928e-02],\n",
              "       [ 2.64878885e+00,  7.01608239e+00],\n",
              "       [-6.83384173e-01,  4.67013928e-01],\n",
              "       [ 2.76714338e+00,  7.65708250e+00],\n",
              "       [ 2.43210385e+00,  5.91512915e+00],\n",
              "       [-1.82525319e+00,  3.33154921e+00],\n",
              "       [-2.58383219e+00,  6.67618881e+00],\n",
              "       [-2.39533199e+00,  5.73761535e+00],\n",
              "       [-2.89066905e+00,  8.35596753e+00],\n",
              "       [-2.43334224e+00,  5.92115443e+00],\n",
              "       [ 1.09804064e+00,  1.20569325e+00],\n",
              "       [-2.57286811e+00,  6.61965031e+00],\n",
              "       [-1.08614622e+00,  1.17971361e+00],\n",
              "       [ 2.06925187e+00,  4.28180328e+00],\n",
              "       [-2.86036839e+00,  8.18170730e+00],\n",
              "       [ 1.88681090e+00,  3.56005536e+00],\n",
              "       [-1.30887135e+00,  1.71314421e+00],\n",
              "       [-2.29101103e+00,  5.24873156e+00],\n",
              "       [ 1.18042299e+00,  1.39339844e+00],\n",
              "       [ 7.73657081e-01,  5.98545278e-01],\n",
              "       [ 2.26483208e+00,  5.12946436e+00],\n",
              "       [ 1.41042626e+00,  1.98930224e+00],\n",
              "       [ 1.82088558e+00,  3.31562430e+00],\n",
              "       [-1.30779256e+00,  1.71032139e+00],\n",
              "       [-1.93536274e+00,  3.74562893e+00],\n",
              "       [ 1.50368851e+00,  2.26107913e+00],\n",
              "       [ 1.84100844e+00,  3.38931206e+00],\n",
              "       [ 2.94303085e+00,  8.66143060e+00],\n",
              "       [-5.24293939e-01,  2.74884134e-01],\n",
              "       [-7.67891485e-01,  5.89657333e-01],\n",
              "       [ 1.65847776e+00,  2.75054850e+00],\n",
              "       [-9.55178758e-01,  9.12366461e-01],\n",
              "       [ 2.58454395e+00,  6.67986745e+00],\n",
              "       [ 2.15047651e+00,  4.62454922e+00],\n",
              "       [-4.26035836e-01,  1.81506533e-01],\n",
              "       [ 1.50522641e+00,  2.26570654e+00],\n",
              "       [ 1.52725724e+00,  2.33251469e+00],\n",
              "       [-2.38125679e+00,  5.67038389e+00],\n",
              "       [ 2.41531744e+00,  5.83375834e+00],\n",
              "       [ 3.15142347e-02,  9.93146988e-04],\n",
              "       [ 1.95874480e+00,  3.83668118e+00],\n",
              "       [-1.07970239e+00,  1.16575726e+00],\n",
              "       [ 2.37313937e+00,  5.63179047e+00],\n",
              "       [-6.64789928e-01,  4.41945648e-01],\n",
              "       [-2.93497409e+00,  8.61407292e+00],\n",
              "       [ 2.43229186e+00,  5.91604369e+00],\n",
              "       [-2.45227994e+00,  6.01367690e+00],\n",
              "       [-1.08411817e+00,  1.17531222e+00],\n",
              "       [ 2.70037180e+00,  7.29200787e+00],\n",
              "       [ 2.70364288e+00,  7.30968483e+00],\n",
              "       [ 4.40627329e-01,  1.94152443e-01],\n",
              "       [ 7.91023273e-01,  6.25717818e-01],\n",
              "       [-3.09326868e-01,  9.56831113e-02],\n",
              "       [-1.24073537e+00,  1.53942426e+00],\n",
              "       [-1.02801273e+00,  1.05681017e+00],\n",
              "       [ 1.03511074e+00,  1.07145424e+00],\n",
              "       [ 1.51424718e+00,  2.29294451e+00],\n",
              "       [ 1.74947426e+00,  3.06066019e+00],\n",
              "       [ 1.73770886e+00,  3.01963207e+00],\n",
              "       [-2.45276338e+00,  6.01604821e+00],\n",
              "       [-3.34781718e-02,  1.12078799e-03]])"
            ]
          },
          "metadata": {},
          "execution_count": 236
        }
      ]
    },
    {
      "cell_type": "markdown",
      "metadata": {
        "id": "GrFMRU_eVQwS"
      },
      "source": [
        "`X_poly` now contains the original feature of X plus the square of the feature:"
      ]
    },
    {
      "cell_type": "code",
      "metadata": {
        "colab": {
          "base_uri": "https://localhost:8080/",
          "height": 0
        },
        "id": "M8FH1dY2UwgN",
        "outputId": "2faf45b3-6cf0-4e83-88cd-61a4456dcd1b"
      },
      "source": [
        "print(X[0])\n",
        "print(X[0]*X[0])\n"
      ],
      "execution_count": 237,
      "outputs": [
        {
          "output_type": "stream",
          "name": "stdout",
          "text": [
            "[2.72919168]\n",
            "[7.44848725]\n"
          ]
        }
      ]
    },
    {
      "cell_type": "code",
      "metadata": {
        "colab": {
          "base_uri": "https://localhost:8080/",
          "height": 0
        },
        "id": "PSflPniWVQwT",
        "outputId": "8b5090e9-a8b1-40df-9a78-d0aa8535c016"
      },
      "source": [
        "X_poly[0]"
      ],
      "execution_count": 238,
      "outputs": [
        {
          "output_type": "execute_result",
          "data": {
            "text/plain": [
              "array([2.72919168, 7.44848725])"
            ]
          },
          "metadata": {},
          "execution_count": 238
        }
      ]
    },
    {
      "cell_type": "markdown",
      "metadata": {
        "id": "HaXjXg7FVQwT"
      },
      "source": [
        "Fit the model to this extended training data:"
      ]
    },
    {
      "cell_type": "code",
      "metadata": {
        "colab": {
          "base_uri": "https://localhost:8080/",
          "height": 0
        },
        "id": "c0Qu93dgVQwT",
        "outputId": "97f057d1-220d-466a-9d61-61dc8f4b10eb"
      },
      "source": [
        "lin_reg = LinearRegression(fit_intercept=True)\n",
        "lin_reg.fit(X_poly, y)\n",
        "lin_reg.coef_, lin_reg.intercept_"
      ],
      "execution_count": 239,
      "outputs": [
        {
          "output_type": "execute_result",
          "data": {
            "text/plain": [
              "(array([[1.04271531, 0.50866711]]), array([2.01873554]))"
            ]
          },
          "metadata": {},
          "execution_count": 239
        }
      ]
    },
    {
      "cell_type": "markdown",
      "metadata": {
        "id": "rKOSwvnmVQwT"
      },
      "source": [
        "The model estimates:\n",
        "\n",
        "$\\hat{y} =  0.89X +0.48X^2 + 2.09$"
      ]
    },
    {
      "cell_type": "markdown",
      "metadata": {
        "id": "_EtZEKz5VQwT"
      },
      "source": [
        "Plot the data and the predictions:"
      ]
    },
    {
      "cell_type": "code",
      "metadata": {
        "colab": {
          "base_uri": "https://localhost:8080/",
          "height": 291
        },
        "id": "6Q8dHRgdVQwT",
        "outputId": "97c3fa6c-75ae-46b0-fa4f-ecff78e0dbe2"
      },
      "source": [
        "X_new=np.linspace(-3, 3, 100).reshape(100, 1)\n",
        "X_new_poly = poly_features.transform(X_new)\n",
        "y_new = lin_reg.predict(X_new_poly)\n",
        "plt.plot(X, y, \"b.\")\n",
        "plt.plot(X_new, y_new, \"r-\", linewidth=2, label=\"Predictions\")\n",
        "plt.xlabel(\"$x_1$\", fontsize=18)\n",
        "plt.ylabel(\"$y$\", rotation=0, fontsize=18)\n",
        "plt.legend(loc=\"upper left\", fontsize=14)\n",
        "plt.axis([-3, 3, 0, 10]);"
      ],
      "execution_count": 240,
      "outputs": [
        {
          "output_type": "display_data",
          "data": {
            "text/plain": [
              "<Figure size 432x288 with 1 Axes>"
            ],
            "image/png": "[encoded data removed]"
          },
          "metadata": {
            "needs_background": "light"
          }
        }
      ]
    },
    {
      "cell_type": "markdown",
      "source": [],
      "metadata": {
        "id": "j6zmOSWGxPjq"
      }
    },
    {
      "cell_type": "markdown",
      "source": [
        "## R square\n",
        "\n",
        "R² es una medida estadística de qué tan cerca están los datos de la línea de regresión ajustada. También se conoce como el coeficiente de determinación o el coeficiente de determinación múltiple para la regresión múltiple. Para decirlo en un lenguaje más simple, R² es una medida de ajuste para los modelos de regresión lineal.\n",
        "\n",
        "\n",
        "\n",
        "R² no indica si un modelo de regresión se ajusta adecuadamente a sus datos. Un buen modelo puede tener un valor R² bajo. Por otro lado, un modelo sesgado puede tener un valor alto de R².\n",
        "\n",
        " SSres + SSreg = SStot, R² = Explained variation / Total Variation\n",
        " \n",
        " ![image.png](https://i.stack.imgur.com/xb1VY.png)\n",
        " \n",
        "![image.png](https://3.bp.blogspot.com/-MFqQLwbGwd4/WMO7tz39beI/AAAAAAAAF9I/Bjpfohgv_5E4lu7HzHJBQtXsBM--byqPwCLcB/s1600/rsquared.png)\n"
      ],
      "metadata": {
        "id": "TIFwAtW1pc6h"
      }
    },
    {
      "cell_type": "markdown",
      "metadata": {
        "id": "nTKFj4x9LMXm"
      },
      "source": [
        "# Ejercicio 1\n",
        "\n",
        "Utiliza la base de datos de \n",
        "https://www.kaggle.com/vinicius150987/manufacturing-cost\n",
        "\n",
        "Suponga que trabaja como consultor de una empresa de nueva creación que busca desarrollar un modelo para estimar el costo de los bienes vendidos a medida que varían el volumen de producción (número de unidades producidas). La startup recopiló datos y le pidió que desarrollara un modelo para predecir su costo frente a la cantidad de unidades vendidas."
      ]
    },
    {
      "cell_type": "code",
      "metadata": {
        "colab": {
          "base_uri": "https://localhost:8080/",
          "height": 363
        },
        "id": "oTnErQOkL3oa",
        "outputId": "85e764b4-67b3-4bb7-d3f9-de485e106f7b"
      },
      "source": [
        "import pandas as pd\n",
        "df = pd.read_csv('https://raw.githubusercontent.com/marypazrf/bdd/main/EconomiesOfScale.csv')\n",
        "df.sample(10)"
      ],
      "execution_count": 154,
      "outputs": [
        {
          "output_type": "execute_result",
          "data": {
            "text/plain": [
              "     Number of Units  Manufacturing Cost\n",
              "57          2.354877           42.135353\n",
              "959         6.920145           28.348770\n",
              "902         6.128389           29.321686\n",
              "476         4.339428           40.179907\n",
              "600         4.794625           43.501171\n",
              "454         4.292741           40.590196\n",
              "235         3.488910           46.130645\n",
              "689         5.101248           45.671991\n",
              "869         5.915279           32.203796\n",
              "422         4.206457           50.812349"
            ],
            "text/html": [
              "\n",
              "  <div id=\"df-76a6040e-3b2e-49a8-aa0d-151a66f1aa1a\">\n",
              "    <div class=\"colab-df-container\">\n",
              "      <div>\n",
              "<style scoped>\n",
              "    .dataframe tbody tr th:only-of-type {\n",
              "        vertical-align: middle;\n",
              "    }\n",
              "\n",
              "    .dataframe tbody tr th {\n",
              "        vertical-align: top;\n",
              "    }\n",
              "\n",
              "    .dataframe thead th {\n",
              "        text-align: right;\n",
              "    }\n",
              "</style>\n",
              "<table border=\"1\" class=\"dataframe\">\n",
              "  <thead>\n",
              "    <tr style=\"text-align: right;\">\n",
              "      <th></th>\n",
              "      <th>Number of Units</th>\n",
              "      <th>Manufacturing Cost</th>\n",
              "    </tr>\n",
              "  </thead>\n",
              "  <tbody>\n",
              "    <tr>\n",
              "      <th>57</th>\n",
              "      <td>2.354877</td>\n",
              "      <td>42.135353</td>\n",
              "    </tr>\n",
              "    <tr>\n",
              "      <th>959</th>\n",
              "      <td>6.920145</td>\n",
              "      <td>28.348770</td>\n",
              "    </tr>\n",
              "    <tr>\n",
              "      <th>902</th>\n",
              "      <td>6.128389</td>\n",
              "      <td>29.321686</td>\n",
              "    </tr>\n",
              "    <tr>\n",
              "      <th>476</th>\n",
              "      <td>4.339428</td>\n",
              "      <td>40.179907</td>\n",
              "    </tr>\n",
              "    <tr>\n",
              "      <th>600</th>\n",
              "      <td>4.794625</td>\n",
              "      <td>43.501171</td>\n",
              "    </tr>\n",
              "    <tr>\n",
              "      <th>454</th>\n",
              "      <td>4.292741</td>\n",
              "      <td>40.590196</td>\n",
              "    </tr>\n",
              "    <tr>\n",
              "      <th>235</th>\n",
              "      <td>3.488910</td>\n",
              "      <td>46.130645</td>\n",
              "    </tr>\n",
              "    <tr>\n",
              "      <th>689</th>\n",
              "      <td>5.101248</td>\n",
              "      <td>45.671991</td>\n",
              "    </tr>\n",
              "    <tr>\n",
              "      <th>869</th>\n",
              "      <td>5.915279</td>\n",
              "      <td>32.203796</td>\n",
              "    </tr>\n",
              "    <tr>\n",
              "      <th>422</th>\n",
              "      <td>4.206457</td>\n",
              "      <td>50.812349</td>\n",
              "    </tr>\n",
              "  </tbody>\n",
              "</table>\n",
              "</div>\n",
              "      <button class=\"colab-df-convert\" onclick=\"convertToInteractive('df-76a6040e-3b2e-49a8-aa0d-151a66f1aa1a')\"\n",
              "              title=\"Convert this dataframe to an interactive table.\"\n",
              "              style=\"display:none;\">\n",
              "        \n",
              "  <svg xmlns=\"http://www.w3.org/2000/svg\" height=\"24px\"viewBox=\"0 0 24 24\"\n",
              "       width=\"24px\">\n",
              "    <path d=\"M0 0h24v24H0V0z\" fill=\"none\"/>\n",
              "    <path d=\"M18.56 5.44l.94 2.06.94-2.06 2.06-.94-2.06-.94-.94-2.06-.94 2.06-2.06.94zm-11 1L8.5 8.5l.94-2.06 2.06-.94-2.06-.94L8.5 2.5l-.94 2.06-2.06.94zm10 10l.94 2.06.94-2.06 2.06-.94-2.06-.94-.94-2.06-.94 2.06-2.06.94z\"/><path d=\"M17.41 7.96l-1.37-1.37c-.4-.4-.92-.59-1.43-.59-.52 0-1.04.2-1.43.59L10.3 9.45l-7.72 7.72c-.78.78-.78 2.05 0 2.83L4 21.41c.39.39.9.59 1.41.59.51 0 1.02-.2 1.41-.59l7.78-7.78 2.81-2.81c.8-.78.8-2.07 0-2.86zM5.41 20L4 18.59l7.72-7.72 1.47 1.35L5.41 20z\"/>\n",
              "  </svg>\n",
              "      </button>\n",
              "      \n",
              "  <style>\n",
              "    .colab-df-container {\n",
              "      display:flex;\n",
              "      flex-wrap:wrap;\n",
              "      gap: 12px;\n",
              "    }\n",
              "\n",
              "    .colab-df-convert {\n",
              "      background-color: #E8F0FE;\n",
              "      border: none;\n",
              "      border-radius: 50%;\n",
              "      cursor: pointer;\n",
              "      display: none;\n",
              "      fill: #1967D2;\n",
              "      height: 32px;\n",
              "      padding: 0 0 0 0;\n",
              "      width: 32px;\n",
              "    }\n",
              "\n",
              "    .colab-df-convert:hover {\n",
              "      background-color: #E2EBFA;\n",
              "      box-shadow: 0px 1px 2px rgba(60, 64, 67, 0.3), 0px 1px 3px 1px rgba(60, 64, 67, 0.15);\n",
              "      fill: #174EA6;\n",
              "    }\n",
              "\n",
              "    [theme=dark] .colab-df-convert {\n",
              "      background-color: #3B4455;\n",
              "      fill: #D2E3FC;\n",
              "    }\n",
              "\n",
              "    [theme=dark] .colab-df-convert:hover {\n",
              "      background-color: #434B5C;\n",
              "      box-shadow: 0px 1px 3px 1px rgba(0, 0, 0, 0.15);\n",
              "      filter: drop-shadow(0px 1px 2px rgba(0, 0, 0, 0.3));\n",
              "      fill: #FFFFFF;\n",
              "    }\n",
              "  </style>\n",
              "\n",
              "      <script>\n",
              "        const buttonEl =\n",
              "          document.querySelector('#df-76a6040e-3b2e-49a8-aa0d-151a66f1aa1a button.colab-df-convert');\n",
              "        buttonEl.style.display =\n",
              "          google.colab.kernel.accessAllowed ? 'block' : 'none';\n",
              "\n",
              "        async function convertToInteractive(key) {\n",
              "          const element = document.querySelector('#df-76a6040e-3b2e-49a8-aa0d-151a66f1aa1a');\n",
              "          const dataTable =\n",
              "            await google.colab.kernel.invokeFunction('convertToInteractive',\n",
              "                                                     [key], {});\n",
              "          if (!dataTable) return;\n",
              "\n",
              "          const docLinkHtml = 'Like what you see? Visit the ' +\n",
              "            '<a target=\"_blank\" href=https://colab.research.google.com/notebooks/data_table.ipynb>data table notebook</a>'\n",
              "            + ' to learn more about interactive tables.';\n",
              "          element.innerHTML = '';\n",
              "          dataTable['output_type'] = 'display_data';\n",
              "          await google.colab.output.renderOutput(dataTable, element);\n",
              "          const docLink = document.createElement('div');\n",
              "          docLink.innerHTML = docLinkHtml;\n",
              "          element.appendChild(docLink);\n",
              "        }\n",
              "      </script>\n",
              "    </div>\n",
              "  </div>\n",
              "  "
            ]
          },
          "metadata": {},
          "execution_count": 154
        }
      ]
    },
    {
      "cell_type": "code",
      "source": [
        "df.describe()"
      ],
      "metadata": {
        "colab": {
          "base_uri": "https://localhost:8080/",
          "height": 300
        },
        "id": "SWSbu60aHv-L",
        "outputId": "8a8ba873-b551-4456-c62a-fec8a966d7bc"
      },
      "execution_count": 155,
      "outputs": [
        {
          "output_type": "execute_result",
          "data": {
            "text/plain": [
              "       Number of Units  Manufacturing Cost\n",
              "count      1000.000000         1000.000000\n",
              "mean          4.472799           40.052999\n",
              "std           1.336241           10.595322\n",
              "min           1.000000           20.000000\n",
              "25%           3.594214           32.912036\n",
              "50%           4.435958           38.345781\n",
              "75%           5.324780           44.531822\n",
              "max          10.000000          100.000000"
            ],
            "text/html": [
              "\n",
              "  <div id=\"df-a42e587e-80cd-40ad-9ba4-803161c76ff0\">\n",
              "    <div class=\"colab-df-container\">\n",
              "      <div>\n",
              "<style scoped>\n",
              "    .dataframe tbody tr th:only-of-type {\n",
              "        vertical-align: middle;\n",
              "    }\n",
              "\n",
              "    .dataframe tbody tr th {\n",
              "        vertical-align: top;\n",
              "    }\n",
              "\n",
              "    .dataframe thead th {\n",
              "        text-align: right;\n",
              "    }\n",
              "</style>\n",
              "<table border=\"1\" class=\"dataframe\">\n",
              "  <thead>\n",
              "    <tr style=\"text-align: right;\">\n",
              "      <th></th>\n",
              "      <th>Number of Units</th>\n",
              "      <th>Manufacturing Cost</th>\n",
              "    </tr>\n",
              "  </thead>\n",
              "  <tbody>\n",
              "    <tr>\n",
              "      <th>count</th>\n",
              "      <td>1000.000000</td>\n",
              "      <td>1000.000000</td>\n",
              "    </tr>\n",
              "    <tr>\n",
              "      <th>mean</th>\n",
              "      <td>4.472799</td>\n",
              "      <td>40.052999</td>\n",
              "    </tr>\n",
              "    <tr>\n",
              "      <th>std</th>\n",
              "      <td>1.336241</td>\n",
              "      <td>10.595322</td>\n",
              "    </tr>\n",
              "    <tr>\n",
              "      <th>min</th>\n",
              "      <td>1.000000</td>\n",
              "      <td>20.000000</td>\n",
              "    </tr>\n",
              "    <tr>\n",
              "      <th>25%</th>\n",
              "      <td>3.594214</td>\n",
              "      <td>32.912036</td>\n",
              "    </tr>\n",
              "    <tr>\n",
              "      <th>50%</th>\n",
              "      <td>4.435958</td>\n",
              "      <td>38.345781</td>\n",
              "    </tr>\n",
              "    <tr>\n",
              "      <th>75%</th>\n",
              "      <td>5.324780</td>\n",
              "      <td>44.531822</td>\n",
              "    </tr>\n",
              "    <tr>\n",
              "      <th>max</th>\n",
              "      <td>10.000000</td>\n",
              "      <td>100.000000</td>\n",
              "    </tr>\n",
              "  </tbody>\n",
              "</table>\n",
              "</div>\n",
              "      <button class=\"colab-df-convert\" onclick=\"convertToInteractive('df-a42e587e-80cd-40ad-9ba4-803161c76ff0')\"\n",
              "              title=\"Convert this dataframe to an interactive table.\"\n",
              "              style=\"display:none;\">\n",
              "        \n",
              "  <svg xmlns=\"http://www.w3.org/2000/svg\" height=\"24px\"viewBox=\"0 0 24 24\"\n",
              "       width=\"24px\">\n",
              "    <path d=\"M0 0h24v24H0V0z\" fill=\"none\"/>\n",
              "    <path d=\"M18.56 5.44l.94 2.06.94-2.06 2.06-.94-2.06-.94-.94-2.06-.94 2.06-2.06.94zm-11 1L8.5 8.5l.94-2.06 2.06-.94-2.06-.94L8.5 2.5l-.94 2.06-2.06.94zm10 10l.94 2.06.94-2.06 2.06-.94-2.06-.94-.94-2.06-.94 2.06-2.06.94z\"/><path d=\"M17.41 7.96l-1.37-1.37c-.4-.4-.92-.59-1.43-.59-.52 0-1.04.2-1.43.59L10.3 9.45l-7.72 7.72c-.78.78-.78 2.05 0 2.83L4 21.41c.39.39.9.59 1.41.59.51 0 1.02-.2 1.41-.59l7.78-7.78 2.81-2.81c.8-.78.8-2.07 0-2.86zM5.41 20L4 18.59l7.72-7.72 1.47 1.35L5.41 20z\"/>\n",
              "  </svg>\n",
              "      </button>\n",
              "      \n",
              "  <style>\n",
              "    .colab-df-container {\n",
              "      display:flex;\n",
              "      flex-wrap:wrap;\n",
              "      gap: 12px;\n",
              "    }\n",
              "\n",
              "    .colab-df-convert {\n",
              "      background-color: #E8F0FE;\n",
              "      border: none;\n",
              "      border-radius: 50%;\n",
              "      cursor: pointer;\n",
              "      display: none;\n",
              "      fill: #1967D2;\n",
              "      height: 32px;\n",
              "      padding: 0 0 0 0;\n",
              "      width: 32px;\n",
              "    }\n",
              "\n",
              "    .colab-df-convert:hover {\n",
              "      background-color: #E2EBFA;\n",
              "      box-shadow: 0px 1px 2px rgba(60, 64, 67, 0.3), 0px 1px 3px 1px rgba(60, 64, 67, 0.15);\n",
              "      fill: #174EA6;\n",
              "    }\n",
              "\n",
              "    [theme=dark] .colab-df-convert {\n",
              "      background-color: #3B4455;\n",
              "      fill: #D2E3FC;\n",
              "    }\n",
              "\n",
              "    [theme=dark] .colab-df-convert:hover {\n",
              "      background-color: #434B5C;\n",
              "      box-shadow: 0px 1px 3px 1px rgba(0, 0, 0, 0.15);\n",
              "      filter: drop-shadow(0px 1px 2px rgba(0, 0, 0, 0.3));\n",
              "      fill: #FFFFFF;\n",
              "    }\n",
              "  </style>\n",
              "\n",
              "      <script>\n",
              "        const buttonEl =\n",
              "          document.querySelector('#df-a42e587e-80cd-40ad-9ba4-803161c76ff0 button.colab-df-convert');\n",
              "        buttonEl.style.display =\n",
              "          google.colab.kernel.accessAllowed ? 'block' : 'none';\n",
              "\n",
              "        async function convertToInteractive(key) {\n",
              "          const element = document.querySelector('#df-a42e587e-80cd-40ad-9ba4-803161c76ff0');\n",
              "          const dataTable =\n",
              "            await google.colab.kernel.invokeFunction('convertToInteractive',\n",
              "                                                     [key], {});\n",
              "          if (!dataTable) return;\n",
              "\n",
              "          const docLinkHtml = 'Like what you see? Visit the ' +\n",
              "            '<a target=\"_blank\" href=https://colab.research.google.com/notebooks/data_table.ipynb>data table notebook</a>'\n",
              "            + ' to learn more about interactive tables.';\n",
              "          element.innerHTML = '';\n",
              "          dataTable['output_type'] = 'display_data';\n",
              "          await google.colab.output.renderOutput(dataTable, element);\n",
              "          const docLink = document.createElement('div');\n",
              "          docLink.innerHTML = docLinkHtml;\n",
              "          element.appendChild(docLink);\n",
              "        }\n",
              "      </script>\n",
              "    </div>\n",
              "  </div>\n",
              "  "
            ]
          },
          "metadata": {},
          "execution_count": 155
        }
      ]
    },
    {
      "cell_type": "code",
      "metadata": {
        "id": "14kGO5nkMGlV"
      },
      "source": [
        "X = df[['Number of Units']]\n",
        "y = df['Manufacturing Cost']"
      ],
      "execution_count": 156,
      "outputs": []
    },
    {
      "cell_type": "code",
      "source": [
        "y.describe"
      ],
      "metadata": {
        "colab": {
          "base_uri": "https://localhost:8080/",
          "height": 0
        },
        "id": "bwR6SSqQDfC2",
        "outputId": "cc419aec-23db-4f41-ffc8-99de3d8a5573"
      },
      "execution_count": 157,
      "outputs": [
        {
          "output_type": "execute_result",
          "data": {
            "text/plain": [
              "<bound method NDFrame.describe of 0      95.066056\n",
              "1      96.531750\n",
              "2      73.661311\n",
              "3      95.566843\n",
              "4      98.777013\n",
              "         ...    \n",
              "995    23.855067\n",
              "996    27.536542\n",
              "997    25.973787\n",
              "998    25.138311\n",
              "999    21.547777\n",
              "Name: Manufacturing Cost, Length: 1000, dtype: float64>"
            ]
          },
          "metadata": {},
          "execution_count": 157
        }
      ]
    },
    {
      "cell_type": "code",
      "metadata": {
        "colab": {
          "base_uri": "https://localhost:8080/",
          "height": 283
        },
        "id": "idoEjfEhMoxk",
        "outputId": "1ace8e6e-749f-4868-bf43-b5a14e964fdb"
      },
      "source": [
        "plt.plot(X,y,'b.')"
      ],
      "execution_count": 158,
      "outputs": [
        {
          "output_type": "execute_result",
          "data": {
            "text/plain": [
              "[<matplotlib.lines.Line2D at 0x7f2ea653ca50>]"
            ]
          },
          "metadata": {},
          "execution_count": 158
        },
        {
          "output_type": "display_data",
          "data": {
            "text/plain": [
              "<Figure size 432x288 with 1 Axes>"
            ],
            "image/png": "[encoded data removed]"
          },
          "metadata": {
            "needs_background": "light"
          }
        }
      ]
    },
    {
      "cell_type": "markdown",
      "source": [
        "# Ejercicio 1.1 \n",
        "Divide los datos del costo de manufactura. Utiliza la función train_test_split (viene el ejemplo al final del notebook)."
      ],
      "metadata": {
        "id": "7wC0nQl-GRLR"
      }
    },
    {
      "cell_type": "code",
      "source": [
        "from sklearn.model_selection import train_test_split\n",
        "X_train, X_test, y_train, y_test = train_test_split(X, y, test_size = 0.1, random_state = 101)\n",
        "\n",
        "print(f'Numero total de registros en la bdd: {len(X)}')\n",
        "print(\"*****\"*10)\n",
        "print(f'Numero total de registros en el training set: {len(X_train)}')\n",
        "print(f'Tamaño de X_train: {X_train.shape}')\n",
        "print(\"*****\"*10)\n",
        "print(f'Mumero total de registros en el test dataset: {len(X_test)}')\n",
        "print(f'Tamaño del X_test: {X_test.shape}')"
      ],
      "metadata": {
        "colab": {
          "base_uri": "https://localhost:8080/",
          "height": 0
        },
        "id": "xCze1h7HGbOr",
        "outputId": "f8de49e9-b724-4f07-a7bd-784e76dae2d5"
      },
      "execution_count": 159,
      "outputs": [
        {
          "output_type": "stream",
          "name": "stdout",
          "text": [
            "Numero total de registros en la bdd: 1000\n",
            "**************************************************\n",
            "Numero total de registros en el training set: 900\n",
            "Tamaño de X_train: (900, 1)\n",
            "**************************************************\n",
            "Mumero total de registros en el test dataset: 100\n",
            "Tamaño del X_test: (100, 1)\n"
          ]
        }
      ]
    },
    {
      "cell_type": "markdown",
      "source": [
        "# Ejercicio 1.2 \n",
        "Realiza la regresión lineal: modelo generado (ecuación), su visualización, sus errores y r cuadrada."
      ],
      "metadata": {
        "id": "yOqjlO6uGtBE"
      }
    },
    {
      "cell_type": "code",
      "source": [
        "#lineal\n",
        "from sklearn.linear_model import LinearRegression\n",
        "linear_reg = LinearRegression(fit_intercept=True)\n",
        "linear_reg.fit(X_train, y_train)"
      ],
      "metadata": {
        "id": "kMmOy97puOLE",
        "colab": {
          "base_uri": "https://localhost:8080/",
          "height": 0
        },
        "outputId": "825893e0-656d-4ee7-8040-173fba6f75d4"
      },
      "execution_count": 160,
      "outputs": [
        {
          "output_type": "execute_result",
          "data": {
            "text/plain": [
              "LinearRegression()"
            ]
          },
          "metadata": {},
          "execution_count": 160
        }
      ]
    },
    {
      "cell_type": "code",
      "source": [
        "X_fit = np.linspace(1, 10, 100)\n",
        "y_fit = linear_reg.predict(X_fit[:, np.newaxis])\n",
        "\n",
        "plt.scatter(X, y)\n",
        "plt.plot(X_fit, y_fit, \"r-\", linewidth=2, label=\"Predictions\")\n",
        "plt.xlabel(\"$X$\", fontsize=18)\n",
        "plt.ylabel(\"$y$\", rotation=0, fontsize=18)\n",
        "plt.legend(loc=\"upper left\", fontsize=14);"
      ],
      "metadata": {
        "colab": {
          "base_uri": "https://localhost:8080/",
          "height": 344
        },
        "id": "EOAgTcpSIOeJ",
        "outputId": "ca3bd56e-551e-4e12-9362-9625df4feb1b"
      },
      "execution_count": 161,
      "outputs": [
        {
          "output_type": "stream",
          "name": "stderr",
          "text": [
            "/usr/local/lib/python3.7/dist-packages/sklearn/base.py:451: UserWarning: X does not have valid feature names, but LinearRegression was fitted with feature names\n",
            "  \"X does not have valid feature names, but\"\n"
          ]
        },
        {
          "output_type": "display_data",
          "data": {
            "text/plain": [
              "<Figure size 432x288 with 1 Axes>"
            ],
            "image/png": "[encoded data removed]"
          },
          "metadata": {
            "needs_background": "light"
          }
        }
      ]
    },
    {
      "cell_type": "code",
      "source": [
        "linear_reg.coef_, linear_reg.intercept_"
      ],
      "metadata": {
        "colab": {
          "base_uri": "https://localhost:8080/",
          "height": 0
        },
        "id": "WARhEk3fIfUA",
        "outputId": "38e4f01d-4b60-4a6e-894d-80935cf131bc"
      },
      "execution_count": 13,
      "outputs": [
        {
          "output_type": "execute_result",
          "data": {
            "text/plain": [
              "(array([-5.98882699]), 66.83650741226988)"
            ]
          },
          "metadata": {},
          "execution_count": 13
        }
      ]
    },
    {
      "cell_type": "markdown",
      "source": [
        "**ECUACION**\n",
        "\n",
        "$\\hat{y} = 66.83 - 5.98X$"
      ],
      "metadata": {
        "id": "MGWyLGeTTeaR"
      }
    },
    {
      "cell_type": "code",
      "source": [
        "y_pred_entrenamiento = linear_reg.predict(X_train)"
      ],
      "metadata": {
        "id": "Skszn48fKQqe"
      },
      "execution_count": 162,
      "outputs": []
    },
    {
      "cell_type": "code",
      "metadata": {
        "id": "-VDz4zLK9Q0K",
        "outputId": "19dbfb75-dd54-4f7e-fc1d-8b63319bc721",
        "colab": {
          "base_uri": "https://localhost:8080/",
          "height": 0
        }
      },
      "source": [
        "#Errores de Entrenamiento \n",
        "from sklearn import metrics\n",
        "from sklearn.metrics import r2_score\n",
        "\n",
        "y_pred_entrenamiento = linear_reg.predict(X_train)\n",
        "print('Error medio Absoluto (MAE):', metrics.mean_absolute_error(y_train, y_pred_entrenamiento))\n",
        "print('Root Mean Squared Error:', np.sqrt(metrics.mean_squared_error(y_train, y_pred_entrenamiento)))\n",
        "print('r2_score',r2_score(y_train, y_pred_entrenamiento))"
      ],
      "execution_count": 163,
      "outputs": [
        {
          "output_type": "stream",
          "name": "stdout",
          "text": [
            "Error medio Absoluto (MAE): 4.905332101451236\n",
            "Root Mean Squared Error: 6.844866083710475\n",
            "r2_score 0.5746524649404298\n"
          ]
        }
      ]
    },
    {
      "cell_type": "code",
      "source": [
        "#Errores de TEST\n",
        "y_pred_test = linear_reg.predict(X_test)\n",
        "print('Error medio Absoluto (MAE):', metrics.mean_absolute_error(y_test, y_pred_test))\n",
        "print('Root Mean Squared Error:', np.sqrt(metrics.mean_squared_error(y_test, y_pred_test)))\n",
        "print('r2_score',r2_score(y_test, y_pred_test))"
      ],
      "metadata": {
        "colab": {
          "base_uri": "https://localhost:8080/",
          "height": 0
        },
        "id": "ne5QLET7K5y9",
        "outputId": "4f569b02-9cea-49ab-8acf-51d5aecf9a7a"
      },
      "execution_count": 164,
      "outputs": [
        {
          "output_type": "stream",
          "name": "stdout",
          "text": [
            "Error medio Absoluto (MAE): 5.013587781954963\n",
            "Root Mean Squared Error: 7.108963321847682\n",
            "r2_score 0.6116251549562579\n"
          ]
        }
      ]
    },
    {
      "cell_type": "markdown",
      "source": [
        "# Regresión Polinomial.\n",
        "Realiza la  regresión polinomial completa, tu modelo generado (ecuación), su visualización, sus errores y r cuadrada."
      ],
      "metadata": {
        "id": "m8cdG8ZqLbK7"
      }
    },
    {
      "cell_type": "code",
      "source": [
        "from sklearn.preprocessing import PolynomialFeatures\n",
        "\n",
        "poly_features = PolynomialFeatures(degree=2, include_bias=False)\n",
        "X_poly_train = poly_features.fit_transform(X_train)\n",
        "X_poly_train"
      ],
      "metadata": {
        "id": "LWvfEDGKuoLJ",
        "colab": {
          "base_uri": "https://localhost:8080/",
          "height": 0
        },
        "outputId": "658a70ec-e31b-42e8-dd68-454f988d3fcd"
      },
      "execution_count": 165,
      "outputs": [
        {
          "output_type": "execute_result",
          "data": {
            "text/plain": [
              "array([[ 7.97424764, 63.58862541],\n",
              "       [ 1.89573077,  3.59379517],\n",
              "       [ 3.5765014 , 12.79136229],\n",
              "       ...,\n",
              "       [ 3.94046305, 15.52724904],\n",
              "       [ 4.52448429, 20.4709581 ],\n",
              "       [ 5.86814353, 34.43510849]])"
            ]
          },
          "metadata": {},
          "execution_count": 165
        }
      ]
    },
    {
      "cell_type": "code",
      "source": [
        "poly_features = PolynomialFeatures(degree=2, include_bias=False)\n",
        "X_poly_test = poly_features.fit_transform(X_test)\n"
      ],
      "metadata": {
        "id": "4B2Vw6zORzIF"
      },
      "execution_count": 166,
      "outputs": []
    },
    {
      "cell_type": "code",
      "source": [
        "lin_reg = LinearRegression(fit_intercept=True)\n",
        "lin_reg.fit(X_poly_train, y_train)\n",
        "lin_reg.coef_, lin_reg.intercept_"
      ],
      "metadata": {
        "colab": {
          "base_uri": "https://localhost:8080/",
          "height": 0
        },
        "id": "Aiz62ADwSAGI",
        "outputId": "1232923d-aaf3-4912-f203-4ef32ad81ebc"
      },
      "execution_count": 167,
      "outputs": [
        {
          "output_type": "execute_result",
          "data": {
            "text/plain": [
              "(array([-16.40638102,   1.13136095]), 88.80179909112496)"
            ]
          },
          "metadata": {},
          "execution_count": 167
        }
      ]
    },
    {
      "cell_type": "markdown",
      "source": [
        "**ECUACION**\n",
        "\n",
        "$\\hat{y} = 88.80 - 16.40 X + 1.34 X^2$"
      ],
      "metadata": {
        "id": "sy8QieC-Tsca"
      }
    },
    {
      "cell_type": "code",
      "source": [
        "X_new=np.linspace(1, 10, 100).reshape(100, 1)\n",
        "X_new_poly = poly_features.transform(X_new)\n",
        "y_new = lin_reg.predict(X_new_poly)\n",
        "plt.plot(X, y, \"b.\")\n",
        "plt.plot(X_new, y_new, \"r-\", linewidth=2, label=\"Predictions\")\n",
        "plt.xlabel(\"$x_1$\", fontsize=18)\n",
        "plt.ylabel(\"$y$\", rotation=0, fontsize=18)\n",
        "plt.legend(loc=\"upper left\", fontsize=14)\n",
        "plt.axis([1, 10, 20, 100]);"
      ],
      "metadata": {
        "colab": {
          "base_uri": "https://localhost:8080/",
          "height": 348
        },
        "id": "AA1gJh3OSQbM",
        "outputId": "20f1ee7e-30db-49bd-fefa-ec8ec452ff84"
      },
      "execution_count": 168,
      "outputs": [
        {
          "output_type": "stream",
          "name": "stderr",
          "text": [
            "/usr/local/lib/python3.7/dist-packages/sklearn/base.py:451: UserWarning: X does not have valid feature names, but PolynomialFeatures was fitted with feature names\n",
            "  \"X does not have valid feature names, but\"\n"
          ]
        },
        {
          "output_type": "display_data",
          "data": {
            "text/plain": [
              "<Figure size 432x288 with 1 Axes>"
            ],
            "image/png": "[encoded data removed]"
          },
          "metadata": {
            "needs_background": "light"
          }
        }
      ]
    },
    {
      "cell_type": "code",
      "source": [
        "#Errores de Entrenamiento\n",
        "y_pred_train = lin_reg.predict(X_poly_train)\n",
        "print('Error medio Absoluto (MAE):', metrics.mean_absolute_error(y_train, y_pred_train))\n",
        "print('Root Mean Squared Error:', np.sqrt(metrics.mean_squared_error(y_train, y_pred_train)))\n",
        "print('r2_score',r2_score(y_train, y_pred_train))"
      ],
      "metadata": {
        "colab": {
          "base_uri": "https://localhost:8080/",
          "height": 0
        },
        "id": "-X9I8eWoUssd",
        "outputId": "dc5d2730-b30d-4f3c-b892-95270f7cd7b5"
      },
      "execution_count": 169,
      "outputs": [
        {
          "output_type": "stream",
          "name": "stdout",
          "text": [
            "Error medio Absoluto (MAE): 4.545086474348086\n",
            "Root Mean Squared Error: 6.162532575212149\n",
            "r2_score 0.6552276217097528\n"
          ]
        }
      ]
    },
    {
      "cell_type": "code",
      "source": [
        "y_pred_test = lin_reg.predict(X_poly_test)\n",
        "print('Error medio Absoluto (MAE):', metrics.mean_absolute_error(y_test, y_pred_test))\n",
        "print('Root Mean Squared Error:', np.sqrt(metrics.mean_squared_error(y_test, y_pred_test)))\n",
        "print('r2_score',r2_score(y_test, y_pred_test))"
      ],
      "metadata": {
        "colab": {
          "base_uri": "https://localhost:8080/",
          "height": 0
        },
        "id": "xNV3yHphVcKY",
        "outputId": "3c0f8a54-0d5a-4152-905b-37238b0367a2"
      },
      "execution_count": 170,
      "outputs": [
        {
          "output_type": "stream",
          "name": "stdout",
          "text": [
            "Error medio Absoluto (MAE): 4.3833025759681075\n",
            "Root Mean Squared Error: 5.832771301068423\n",
            "r2_score 0.7385501224942537\n"
          ]
        }
      ]
    },
    {
      "cell_type": "markdown",
      "source": [
        "# Realiza la regresión con Ridge y Lasso"
      ],
      "metadata": {
        "id": "zU3lEcqNWnkH"
      }
    },
    {
      "cell_type": "code",
      "source": [
        "from sklearn.linear_model import Ridge\n",
        "\n",
        "ridge_reg = Ridge(alpha=0.1)\n",
        "ridge_reg.fit(X_poly_train, y_train)\n",
        "ridge_reg.coef_, lin_reg.intercept_\n"
      ],
      "metadata": {
        "colab": {
          "base_uri": "https://localhost:8080/",
          "height": 0
        },
        "id": "oI-ad_1gWuOQ",
        "outputId": "a714a4b9-78e0-43e9-815f-9e1269740d6e"
      },
      "execution_count": 171,
      "outputs": [
        {
          "output_type": "execute_result",
          "data": {
            "text/plain": [
              "(array([-16.38292464,   1.12892557]), 88.80179909112496)"
            ]
          },
          "metadata": {},
          "execution_count": 171
        }
      ]
    },
    {
      "cell_type": "markdown",
      "source": [
        "ECUACION\n",
        "\n",
        "$\\hat{y} = 88.80 - 16.38 X + 1.12 X^2$"
      ],
      "metadata": {
        "id": "-3TlmdnVZHHP"
      }
    },
    {
      "cell_type": "code",
      "source": [
        "X_new=np.linspace(1, 10, 100).reshape(100, 1)\n",
        "X_new_poly = poly_features.transform(X_new)\n",
        "y_new = ridge_reg.predict(X_new_poly)\n",
        "plt.plot(X, y, \"b.\")\n",
        "plt.plot(X_new, y_new, \"r-\", linewidth=2, label=\"Predictions\")\n",
        "plt.xlabel(\"$x_1$\", fontsize=18)\n",
        "plt.ylabel(\"$y$\", rotation=0, fontsize=18)\n",
        "plt.legend(loc=\"upper left\", fontsize=14)\n",
        "plt.axis([1, 10, 20, 100]);"
      ],
      "metadata": {
        "colab": {
          "base_uri": "https://localhost:8080/",
          "height": 348
        },
        "id": "vwOInAu4Zjn8",
        "outputId": "e1506faf-a057-4207-89e5-60cec3be4840"
      },
      "execution_count": 172,
      "outputs": [
        {
          "output_type": "stream",
          "name": "stderr",
          "text": [
            "/usr/local/lib/python3.7/dist-packages/sklearn/base.py:451: UserWarning: X does not have valid feature names, but PolynomialFeatures was fitted with feature names\n",
            "  \"X does not have valid feature names, but\"\n"
          ]
        },
        {
          "output_type": "display_data",
          "data": {
            "text/plain": [
              "<Figure size 432x288 with 1 Axes>"
            ],
            "image/png": "[encoded data removed]"
          },
          "metadata": {
            "needs_background": "light"
          }
        }
      ]
    },
    {
      "cell_type": "code",
      "source": [
        "y_pred_train = ridge_reg.predict(X_poly_train)\n",
        "print('Error medio Absoluto (MAE):', metrics.mean_absolute_error(y_train, y_pred_train))\n",
        "print('Root Mean Squared Error:', np.sqrt(metrics.mean_squared_error(y_train, y_pred_train)))\n",
        "print('r2_score',r2_score(y_train, y_pred_train))"
      ],
      "metadata": {
        "colab": {
          "base_uri": "https://localhost:8080/",
          "height": 0
        },
        "id": "GU7-NIMtZrX2",
        "outputId": "8afeee4d-4b79-4fd1-adfb-466270721e5c"
      },
      "execution_count": 173,
      "outputs": [
        {
          "output_type": "stream",
          "name": "stdout",
          "text": [
            "Error medio Absoluto (MAE): 4.544607693741813\n",
            "Root Mean Squared Error: 6.162536064337148\n",
            "r2_score 0.6552272313006962\n"
          ]
        }
      ]
    },
    {
      "cell_type": "code",
      "source": [
        "y_pred_test = ridge_reg.predict(X_poly_test)\n",
        "print('Error medio Absoluto (MAE):', metrics.mean_absolute_error(y_test, y_pred_test))\n",
        "print('Root Mean Squared Error:', np.sqrt(metrics.mean_squared_error(y_test, y_pred_test)))\n",
        "print('r2_score',r2_score(y_test, y_pred_test))"
      ],
      "metadata": {
        "colab": {
          "base_uri": "https://localhost:8080/",
          "height": 0
        },
        "id": "lBTsAX5gaK2x",
        "outputId": "886bf000-620e-442d-feae-e10b0ad342c3"
      },
      "execution_count": 174,
      "outputs": [
        {
          "output_type": "stream",
          "name": "stdout",
          "text": [
            "Error medio Absoluto (MAE): 4.383221078760819\n",
            "Root Mean Squared Error: 5.834105447214891\n",
            "r2_score 0.7384305044873147\n"
          ]
        }
      ]
    },
    {
      "cell_type": "markdown",
      "source": [
        "**Modelo de Lasso**"
      ],
      "metadata": {
        "id": "4-mS8CzVbuWm"
      }
    },
    {
      "cell_type": "code",
      "source": [
        "from sklearn.linear_model import Lasso\n",
        "\n",
        "lasso_reg = Lasso(alpha=0.1)\n",
        "lasso_reg.fit(X_poly_train, y_train)\n",
        "lasso_reg.coef_, lin_reg.intercept_\n"
      ],
      "metadata": {
        "colab": {
          "base_uri": "https://localhost:8080/",
          "height": 0
        },
        "outputId": "7b36fed3-20e0-4c01-efd5-d12fbbde9c52",
        "id": "OawTio9oarOL"
      },
      "execution_count": 175,
      "outputs": [
        {
          "output_type": "execute_result",
          "data": {
            "text/plain": [
              "(array([-14.9666674 ,   0.98129183]), 88.80179909112496)"
            ]
          },
          "metadata": {},
          "execution_count": 175
        }
      ]
    },
    {
      "cell_type": "markdown",
      "source": [
        "ECUACION\n",
        "\n",
        "$\\hat{y} = 88.80 - 14.96 X + 0.98 X^2$"
      ],
      "metadata": {
        "id": "4DaKRgoDarOM"
      }
    },
    {
      "cell_type": "code",
      "source": [
        "X_new=np.linspace(1, 10, 100).reshape(100, 1)\n",
        "X_new_poly = poly_features.transform(X_new)\n",
        "y_new = lasso_reg.predict(X_new_poly)\n",
        "plt.plot(X, y, \"b.\")\n",
        "plt.plot(X_new, y_new, \"r-\", linewidth=2, label=\"Predictions\")\n",
        "plt.xlabel(\"$x_1$\", fontsize=18)\n",
        "plt.ylabel(\"$y$\", rotation=0, fontsize=18)\n",
        "plt.legend(loc=\"upper left\", fontsize=14)\n",
        "plt.axis([1, 10, 20, 100]);"
      ],
      "metadata": {
        "colab": {
          "base_uri": "https://localhost:8080/",
          "height": 348
        },
        "outputId": "6b284219-f05d-4db7-b609-73fd7a1e8568",
        "id": "jF_lPdRXarOM"
      },
      "execution_count": 176,
      "outputs": [
        {
          "output_type": "stream",
          "name": "stderr",
          "text": [
            "/usr/local/lib/python3.7/dist-packages/sklearn/base.py:451: UserWarning: X does not have valid feature names, but PolynomialFeatures was fitted with feature names\n",
            "  \"X does not have valid feature names, but\"\n"
          ]
        },
        {
          "output_type": "display_data",
          "data": {
            "text/plain": [
              "<Figure size 432x288 with 1 Axes>"
            ],
            "image/png": "[encoded data removed]"
          },
          "metadata": {
            "needs_background": "light"
          }
        }
      ]
    },
    {
      "cell_type": "code",
      "source": [
        "y_pred_train = lasso_reg.predict(X_poly_train)\n",
        "print('Error medio Absoluto (MAE):', metrics.mean_absolute_error(y_train, y_pred_train))\n",
        "print('Root Mean Squared Error:', np.sqrt(metrics.mean_squared_error(y_train, y_pred_train)))\n",
        "print('r2_score',r2_score(y_train, y_pred_train))"
      ],
      "metadata": {
        "colab": {
          "base_uri": "https://localhost:8080/",
          "height": 0
        },
        "outputId": "f652f18b-a62d-4aa2-89e4-ebb633e9048e",
        "id": "oQsjYV-UarOM"
      },
      "execution_count": 177,
      "outputs": [
        {
          "output_type": "stream",
          "name": "stdout",
          "text": [
            "Error medio Absoluto (MAE): 4.522065264122638\n",
            "Root Mean Squared Error: 6.175668320741421\n",
            "r2_score 0.6537562561963224\n"
          ]
        }
      ]
    },
    {
      "cell_type": "code",
      "source": [
        "y_pred_test = lasso_reg.predict(X_poly_test)\n",
        "print('Error medio Absoluto (MAE):', metrics.mean_absolute_error(y_test, y_pred_test))\n",
        "print('Root Mean Squared Error:', np.sqrt(metrics.mean_squared_error(y_test, y_pred_test)))\n",
        "print('r2_score',r2_score(y_test, y_pred_test))"
      ],
      "metadata": {
        "colab": {
          "base_uri": "https://localhost:8080/",
          "height": 0
        },
        "outputId": "c34186a8-0548-491e-ad3f-388f71c1fb67",
        "id": "15HHBGgvarOM"
      },
      "execution_count": 178,
      "outputs": [
        {
          "output_type": "stream",
          "name": "stdout",
          "text": [
            "Error medio Absoluto (MAE): 4.385055190168516\n",
            "Root Mean Squared Error: 5.9291087345437985\n",
            "r2_score 0.72984228403894\n"
          ]
        }
      ]
    },
    {
      "cell_type": "markdown",
      "source": [
        "# GRAFICOS DE MAE Y R2"
      ],
      "metadata": {
        "id": "tghUXITerVyU"
      }
    },
    {
      "cell_type": "code",
      "source": [
        "from sklearn.model_selection import learning_curve\n",
        "\n",
        "train_sizes, train_scores, valid_scores = learning_curve(\n",
        "    LinearRegression(), X, y, train_sizes=np.linspace(0.01, 1.0, 40), cv=5,\n",
        "    scoring=\"neg_mean_absolute_error\")\n",
        "\n",
        "train_errors = -train_scores.mean(axis=1)\n",
        "valid_errors = -valid_scores.mean(axis=1)\n",
        "\n",
        "plt.figure(figsize=(6, 4))  # extra code – not needed, just formatting\n",
        "plt.plot(train_sizes, train_errors, \"r-+\", linewidth=2, label=\"train\")\n",
        "plt.plot(train_sizes, valid_errors, \"b-\", linewidth=3, label=\"valid\")\n",
        "\n",
        "\n",
        "plt.title(\"Modelos Regresion Lineal\", fontdict=None, loc='center')\n",
        "plt.xlabel(\"Training set size\")\n",
        "plt.ylabel(\"MAE\")\n",
        "plt.grid()\n",
        "plt.legend(loc=\"upper right\")\n",
        "plt.axis([8, 800, 2, 100])\n",
        "\n",
        "plt.show()"
      ],
      "metadata": {
        "colab": {
          "base_uri": "https://localhost:8080/",
          "height": 295
        },
        "outputId": "6df236e5-72ea-43ed-f47d-e333e76b5fdb",
        "id": "8eSKNn1PrVyU"
      },
      "execution_count": 203,
      "outputs": [
        {
          "output_type": "display_data",
          "data": {
            "text/plain": [
              "<Figure size 432x288 with 1 Axes>"
            ],
            "image/png": "[encoded data removed]"
          },
          "metadata": {
            "needs_background": "light"
          }
        }
      ]
    },
    {
      "cell_type": "code",
      "source": [
        "train_sizes"
      ],
      "metadata": {
        "colab": {
          "base_uri": "https://localhost:8080/",
          "height": 0
        },
        "id": "fdmrhRzYtL78",
        "outputId": "019e5559-a237-4cf7-f47e-6d879083812e"
      },
      "execution_count": 204,
      "outputs": [
        {
          "output_type": "execute_result",
          "data": {
            "text/plain": [
              "array([  8,  28,  48,  68,  89, 109, 129, 150, 170, 190, 211, 231, 251,\n",
              "       272, 292, 312, 332, 353, 373, 393, 414, 434, 454, 475, 495, 515,\n",
              "       536, 556, 576, 596, 617, 637, 657, 678, 698, 718, 739, 759, 779,\n",
              "       800])"
            ]
          },
          "metadata": {},
          "execution_count": 204
        }
      ]
    },
    {
      "cell_type": "code",
      "source": [
        "train_sizes, train_scores, valid_scores = learning_curve(\n",
        "    LinearRegression(), X, y, train_sizes=np.linspace(0.1, 1.0, 40), cv=5,\n",
        "    scoring=\"r2\")\n",
        "\n",
        "train_errors = train_scores.mean(axis=1)\n",
        "valid_errors = valid_scores.mean(axis=1)\n",
        "\n",
        "plt.figure(figsize=(6, 4))  # extra code – not needed, just formatting\n",
        "plt.plot(train_sizes, train_errors, \"r-+\", linewidth=2, label=\"train\")\n",
        "plt.plot(train_sizes, valid_errors, \"b-\", linewidth=3, label=\"valid\")\n",
        "\n",
        "plt.title(\"Modelos Regresion Lineal\", fontdict=None, loc='center')\n",
        "plt.xlabel(\"Training set size\")\n",
        "plt.ylabel(\"R2\")\n",
        "plt.grid()\n",
        "plt.legend(loc=\"upper right\")\n",
        "plt.axis([8, 800, 0.1, 1])\n",
        "\n",
        "plt.show()"
      ],
      "metadata": {
        "colab": {
          "base_uri": "https://localhost:8080/",
          "height": 295
        },
        "outputId": "782a888b-0c6d-4747-aef9-35ed7c82d48b",
        "id": "oZmnDjYxrVyV"
      },
      "execution_count": 206,
      "outputs": [
        {
          "output_type": "display_data",
          "data": {
            "text/plain": [
              "<Figure size 432x288 with 1 Axes>"
            ],
            "image/png": "[encoded data removed]"
          },
          "metadata": {
            "needs_background": "light"
          }
        }
      ]
    },
    {
      "cell_type": "code",
      "source": [
        "train_sizes, train_scores, valid_scores = learning_curve(\n",
        "    LinearRegression(), X_poly_train, y_train, train_sizes=np.linspace(0.01, 1.0, 40), cv=5,\n",
        "    scoring=\"neg_mean_absolute_error\")\n",
        "\n",
        "train_errors = -train_scores.mean(axis=1)\n",
        "valid_errors = -valid_scores.mean(axis=1)\n",
        "\n",
        "plt.figure(figsize=(6, 4))  # extra code – not needed, just formatting\n",
        "plt.plot(train_sizes, train_errors, \"r-+\", linewidth=2, label=\"train\")\n",
        "plt.plot(train_sizes, valid_errors, \"b-\", linewidth=3, label=\"valid\")\n",
        "\n",
        "\n",
        "plt.title(\"Modelos Regresion Polinomial\", fontdict=None, loc='center')\n",
        "plt.xlabel(\"Training set size\")\n",
        "plt.ylabel(\"MAE\")\n",
        "plt.grid()\n",
        "plt.legend(loc=\"upper right\")\n",
        "plt.axis([8, 800, 1, 10])\n",
        "\n",
        "plt.show()"
      ],
      "metadata": {
        "colab": {
          "base_uri": "https://localhost:8080/",
          "height": 295
        },
        "outputId": "2f6d7ddd-37b9-433b-adde-44e9b61445eb",
        "id": "H9JX-IxorVyV"
      },
      "execution_count": 210,
      "outputs": [
        {
          "output_type": "display_data",
          "data": {
            "text/plain": [
              "<Figure size 432x288 with 1 Axes>"
            ],
            "image/png": "[encoded data removed]"
          },
          "metadata": {
            "needs_background": "light"
          }
        }
      ]
    },
    {
      "cell_type": "code",
      "source": [
        "train_sizes, train_scores, valid_scores = learning_curve(\n",
        "    LinearRegression(), X_poly_train, y_train, train_sizes=np.linspace(0.01, 1.0, 40), cv=5,\n",
        "    scoring=\"r2\")\n",
        "\n",
        "train_errors = train_scores.mean(axis=1)\n",
        "valid_errors = valid_scores.mean(axis=1)\n",
        "\n",
        "plt.figure(figsize=(6, 4))  # extra code – not needed, just formatting\n",
        "plt.plot(train_sizes, train_errors, \"r-+\", linewidth=2, label=\"train\")\n",
        "plt.plot(train_sizes, valid_errors, \"b-\", linewidth=3, label=\"valid\")\n",
        "\n",
        "plt.title(\"Modelos Polinomial\", fontdict=None, loc='center')\n",
        "plt.xlabel(\"Training set size\")\n",
        "plt.ylabel(\"R2\")\n",
        "plt.grid()\n",
        "plt.legend(loc=\"upper right\")\n",
        "plt.axis([8, 800, 0.1, 1])\n",
        "\n",
        "plt.show()"
      ],
      "metadata": {
        "colab": {
          "base_uri": "https://localhost:8080/",
          "height": 295
        },
        "outputId": "f206901e-4d14-44a3-e0e3-05a93636c58b",
        "id": "2NuT01RCrVyV"
      },
      "execution_count": 211,
      "outputs": [
        {
          "output_type": "display_data",
          "data": {
            "text/plain": [
              "<Figure size 432x288 with 1 Axes>"
            ],
            "image/png": "[encoded data removed]"
          },
          "metadata": {
            "needs_background": "light"
          }
        }
      ]
    },
    {
      "cell_type": "code",
      "source": [
        "train_sizes, train_scores, valid_scores = learning_curve(\n",
        "    Ridge(alpha=0.1), X_poly_train, y_train, train_sizes=np.linspace(0.01, 1.0, 40), cv=5,\n",
        "    scoring=\"neg_mean_absolute_error\")\n",
        "\n",
        "train_errors = -train_scores.mean(axis=1)\n",
        "valid_errors = -valid_scores.mean(axis=1)\n",
        "\n",
        "plt.figure(figsize=(6, 4))  # extra code – not needed, just formatting\n",
        "plt.plot(train_sizes, train_errors, \"r-+\", linewidth=2, label=\"train\")\n",
        "plt.plot(train_sizes, valid_errors, \"b-\", linewidth=3, label=\"valid\")\n",
        "\n",
        "\n",
        "plt.title(\"Modelos Regresion Ridge\", fontdict=None, loc='center')\n",
        "plt.xlabel(\"Training set size\")\n",
        "plt.ylabel(\"MAE\")\n",
        "plt.grid()\n",
        "plt.legend(loc=\"upper right\")\n",
        "plt.axis([8, 800, 1, 10])\n",
        "\n",
        "plt.show()"
      ],
      "metadata": {
        "colab": {
          "base_uri": "https://localhost:8080/",
          "height": 295
        },
        "outputId": "428f6d5f-d5ab-4570-96af-1f87e36e2dfc",
        "id": "fGKpyLkWrVyV"
      },
      "execution_count": 212,
      "outputs": [
        {
          "output_type": "display_data",
          "data": {
            "text/plain": [
              "<Figure size 432x288 with 1 Axes>"
            ],
            "image/png": "[encoded data removed]"
          },
          "metadata": {
            "needs_background": "light"
          }
        }
      ]
    },
    {
      "cell_type": "code",
      "source": [
        "train_sizes, train_scores, valid_scores = learning_curve(\n",
        "    Ridge(alpha=0.1), X_poly_train, y_train, train_sizes=np.linspace(0.01, 1.0, 40), cv=5,\n",
        "    scoring=\"r2\")\n",
        "\n",
        "train_errors = train_scores.mean(axis=1)\n",
        "valid_errors = valid_scores.mean(axis=1)\n",
        "\n",
        "plt.figure(figsize=(6, 4))  # extra code – not needed, just formatting\n",
        "plt.plot(train_sizes, train_errors, \"r-+\", linewidth=2, label=\"train\")\n",
        "plt.plot(train_sizes, valid_errors, \"b-\", linewidth=3, label=\"valid\")\n",
        "\n",
        "plt.title(\"Modelos Regresion Ridge\", fontdict=None, loc='center')\n",
        "plt.xlabel(\"Training set size\")\n",
        "plt.ylabel(\"R2\")\n",
        "plt.grid()\n",
        "plt.legend(loc=\"upper right\")\n",
        "plt.axis([8, 800, 0.1, 1])\n",
        "\n",
        "plt.show()"
      ],
      "metadata": {
        "colab": {
          "base_uri": "https://localhost:8080/",
          "height": 295
        },
        "outputId": "ac21e148-4fb6-4970-96e9-399222281640",
        "id": "b6zf6YG8rVyV"
      },
      "execution_count": 213,
      "outputs": [
        {
          "output_type": "display_data",
          "data": {
            "text/plain": [
              "<Figure size 432x288 with 1 Axes>"
            ],
            "image/png": "[encoded data removed]"
          },
          "metadata": {
            "needs_background": "light"
          }
        }
      ]
    },
    {
      "cell_type": "code",
      "source": [
        "train_sizes, train_scores, valid_scores = learning_curve(\n",
        "    Lasso(alpha=100, max_iter=1000), X_poly_train, y_train, train_sizes=np.linspace(0.01, 1.0, 40), cv=3,\n",
        "    scoring=\"neg_mean_absolute_error\")\n",
        "\n",
        "train_errors = -train_scores.mean(axis=1)\n",
        "valid_errors = -valid_scores.mean(axis=1)\n",
        "\n",
        "plt.figure(figsize=(6, 4))  # extra code – not needed, just formatting\n",
        "plt.plot(train_sizes, train_errors, \"r-+\", linewidth=2, label=\"train\")\n",
        "plt.plot(train_sizes, valid_errors, \"b-\", linewidth=3, label=\"valid\")\n",
        "\n",
        "\n",
        "plt.title(\"Modelos Regresion Lasso\", fontdict=None, loc='center')\n",
        "plt.xlabel(\"Training set size\")\n",
        "plt.ylabel(\"MAE\")\n",
        "plt.grid()\n",
        "plt.legend(loc=\"upper right\")\n",
        "plt.axis([8, 800, 1, 10])\n",
        "\n",
        "plt.show()"
      ],
      "metadata": {
        "colab": {
          "base_uri": "https://localhost:8080/",
          "height": 295
        },
        "outputId": "2361b811-6a2e-410b-afc9-0ceb5da22d63",
        "id": "64gHAFsQrVyV"
      },
      "execution_count": 215,
      "outputs": [
        {
          "output_type": "display_data",
          "data": {
            "text/plain": [
              "<Figure size 432x288 with 1 Axes>"
            ],
            "image/png": "[encoded data removed]"
          },
          "metadata": {
            "needs_background": "light"
          }
        }
      ]
    },
    {
      "cell_type": "code",
      "source": [
        "train_sizes, train_scores, valid_scores = learning_curve(\n",
        "    Lasso(alpha=0.1), X_poly_train, y_train, train_sizes=np.linspace(0.01, 1.0, 40), cv=5,\n",
        "    scoring=\"r2\")\n",
        "\n",
        "train_errors = train_scores.mean(axis=1)\n",
        "valid_errors = valid_scores.mean(axis=1)\n",
        "\n",
        "plt.figure(figsize=(6, 4))  # extra code – not needed, just formatting\n",
        "plt.plot(train_sizes, train_errors, \"r-+\", linewidth=2, label=\"train\")\n",
        "plt.plot(train_sizes, valid_errors, \"b-\", linewidth=3, label=\"valid\")\n",
        "\n",
        "plt.title(\"Modelos Regresion Lasso\", fontdict=None, loc='center')\n",
        "plt.xlabel(\"Training set size\")\n",
        "plt.ylabel(\"R2\")\n",
        "plt.grid()\n",
        "plt.legend(loc=\"upper right\")\n",
        "plt.axis([8, 800, 0.1, 1])\n",
        "\n",
        "plt.show()"
      ],
      "metadata": {
        "colab": {
          "base_uri": "https://localhost:8080/",
          "height": 295
        },
        "outputId": "81085fec-b8a2-4c52-f744-4383c0ab0dfd",
        "id": "F1b0oCFNrVyV"
      },
      "execution_count": 216,
      "outputs": [
        {
          "output_type": "display_data",
          "data": {
            "text/plain": [
              "<Figure size 432x288 with 1 Axes>"
            ],
            "image/png": "[encoded data removed]"
          },
          "metadata": {
            "needs_background": "light"
          }
        }
      ]
    },
    {
      "cell_type": "markdown",
      "source": [
        "**Explica tus resultados, que método conviene más a la empresa, ¿por que?, ¿que porcentajes de entrenamiento y evaluación usaste?, ¿que error tienes?, ¿es bueno?, ¿cómo lo sabes?**\n",
        "\n",
        "En este caso los métodos entre si no han tenido un gran impacto en el resultado final del modelo. Utilizando la métrica de R2, concluy que el mejor modelo es el polinomial de grado 2, puede que con un mayor nivel de grado el ajuste haya sido mayor, pero también se pudo generar un modelo sobre-entrenado. "
      ],
      "metadata": {
        "id": "LH7ui84DvH71"
      }
    },
    {
      "cell_type": "markdown",
      "source": [
        "**Conclusiones**\n",
        "\n",
        "1. Para modelos sencillos los efectos de agregar modelos regulados no son significativos, con un modelo polinomial de segundo grado generan un buen ajuste. \n",
        "2. Las curvas de entrenamiento muestran de manera constante que los modelos mejora con más datos de entrenamiento, generando un buen ajuste respecto a sus datos de validación. \n",
        "3. En este caso el modelo de Lasso generar un performance mejor que el modelo original, debido a que la data no presente mayores problemas de datos extremos. "
      ],
      "metadata": {
        "id": "-1U8N6ZYvsy0"
      }
    },
    {
      "cell_type": "markdown",
      "metadata": {
        "id": "CfqcmLmxLoe9"
      },
      "source": [
        "#Ejercicio 2\n",
        "Realiza la regresión polinomial de los siguientes datos:"
      ]
    },
    {
      "cell_type": "code",
      "source": [
        "df = pd.read_csv('https://raw.githubusercontent.com/marypazrf/bdd/main/kc_house_data.csv')\n",
        "df.sample(10)"
      ],
      "metadata": {
        "id": "57bn0j38qGrg",
        "colab": {
          "base_uri": "https://localhost:8080/",
          "height": 456
        },
        "outputId": "a026c0a5-d927-4134-9c11-c67ce083ee99"
      },
      "execution_count": 179,
      "outputs": [
        {
          "output_type": "execute_result",
          "data": {
            "text/plain": [
              "               id             date     price  bedrooms  bathrooms  \\\n",
              "8455   4343800100  20141021T000000  315000.0         3       1.75   \n",
              "18737  5422950040  20140725T000000  410000.0         5       2.75   \n",
              "21128  2564900470  20140714T000000  718500.0         4       2.75   \n",
              "1673   7697920060  20140630T000000  285000.0         4       2.25   \n",
              "18140  5706202070  20140930T000000  511100.0         4       2.50   \n",
              "19048  1702901500  20141121T000000  365000.0         2       1.00   \n",
              "9670   8861000210  20150408T000000  865000.0         3       1.75   \n",
              "5266   5561000010  20150223T000000  605000.0         3       2.50   \n",
              "6319   2807100095  20140908T000000  402000.0         4       1.75   \n",
              "15128  8944460020  20150305T000000  340000.0         4       2.50   \n",
              "\n",
              "       sqft_living  sqft_lot  floors  waterfront  view  ...  grade  \\\n",
              "8455          1680      7250     1.0           0     0  ...      7   \n",
              "18737         2910      5802     2.0           0     0  ...      7   \n",
              "21128         2840      8800     2.0           0     0  ...      9   \n",
              "1673          1830      8734     2.0           0     0  ...      7   \n",
              "18140         1560     12220     1.5           0     0  ...      7   \n",
              "19048          920      6600     1.0           0     0  ...      6   \n",
              "9670          1480      8163     1.0           0     0  ...      7   \n",
              "5266          3200     35012     1.5           0     0  ...      8   \n",
              "6319          1510      9176     1.0           0     0  ...      7   \n",
              "15128         2665      5868     2.0           0     0  ...      9   \n",
              "\n",
              "       sqft_above  sqft_basement  yr_built  yr_renovated  zipcode      lat  \\\n",
              "8455          930            750      1952             0    98133  47.7201   \n",
              "18737        2910              0      2006             0    98038  47.3591   \n",
              "21128        2840              0      2008             0    98033  47.7029   \n",
              "1673         1830              0      1991             0    98030  47.3679   \n",
              "18140        1560              0      1965             0    98027  47.5287   \n",
              "19048         920              0      1910             0    98118  47.5572   \n",
              "9670         1040            440      1953             0    98004  47.6380   \n",
              "5266         2100           1100      1965             0    98027  47.4651   \n",
              "6319         1510              0      1957             0    98133  47.7651   \n",
              "15128        2665              0      2006             0    98030  47.3831   \n",
              "\n",
              "          long  sqft_living15  sqft_lot15  \n",
              "8455  -122.350           1340        7250  \n",
              "18737 -122.036           2910        5000  \n",
              "21128 -122.171           1840        7700  \n",
              "1673  -122.179           1870        7212  \n",
              "18140 -122.053           1920       12220  \n",
              "19048 -122.282           1370        5500  \n",
              "9670  -122.206           2170       11124  \n",
              "5266  -121.993           2690       35100  \n",
              "6319  -122.339           1480        9176  \n",
              "15128 -122.185           2665        6092  \n",
              "\n",
              "[10 rows x 21 columns]"
            ],
            "text/html": [
              "\n",
              "  <div id=\"df-c7940703-888e-4318-a7ff-04e7e5f31884\">\n",
              "    <div class=\"colab-df-container\">\n",
              "      <div>\n",
              "<style scoped>\n",
              "    .dataframe tbody tr th:only-of-type {\n",
              "        vertical-align: middle;\n",
              "    }\n",
              "\n",
              "    .dataframe tbody tr th {\n",
              "        vertical-align: top;\n",
              "    }\n",
              "\n",
              "    .dataframe thead th {\n",
              "        text-align: right;\n",
              "    }\n",
              "</style>\n",
              "<table border=\"1\" class=\"dataframe\">\n",
              "  <thead>\n",
              "    <tr style=\"text-align: right;\">\n",
              "      <th></th>\n",
              "      <th>id</th>\n",
              "      <th>date</th>\n",
              "      <th>price</th>\n",
              "      <th>bedrooms</th>\n",
              "      <th>bathrooms</th>\n",
              "      <th>sqft_living</th>\n",
              "      <th>sqft_lot</th>\n",
              "      <th>floors</th>\n",
              "      <th>waterfront</th>\n",
              "      <th>view</th>\n",
              "      <th>...</th>\n",
              "      <th>grade</th>\n",
              "      <th>sqft_above</th>\n",
              "      <th>sqft_basement</th>\n",
              "      <th>yr_built</th>\n",
              "      <th>yr_renovated</th>\n",
              "      <th>zipcode</th>\n",
              "      <th>lat</th>\n",
              "      <th>long</th>\n",
              "      <th>sqft_living15</th>\n",
              "      <th>sqft_lot15</th>\n",
              "    </tr>\n",
              "  </thead>\n",
              "  <tbody>\n",
              "    <tr>\n",
              "      <th>8455</th>\n",
              "      <td>4343800100</td>\n",
              "      <td>20141021T000000</td>\n",
              "      <td>315000.0</td>\n",
              "      <td>3</td>\n",
              "      <td>1.75</td>\n",
              "      <td>1680</td>\n",
              "      <td>7250</td>\n",
              "      <td>1.0</td>\n",
              "      <td>0</td>\n",
              "      <td>0</td>\n",
              "      <td>...</td>\n",
              "      <td>7</td>\n",
              "      <td>930</td>\n",
              "      <td>750</td>\n",
              "      <td>1952</td>\n",
              "      <td>0</td>\n",
              "      <td>98133</td>\n",
              "      <td>47.7201</td>\n",
              "      <td>-122.350</td>\n",
              "      <td>1340</td>\n",
              "      <td>7250</td>\n",
              "    </tr>\n",
              "    <tr>\n",
              "      <th>18737</th>\n",
              "      <td>5422950040</td>\n",
              "      <td>20140725T000000</td>\n",
              "      <td>410000.0</td>\n",
              "      <td>5</td>\n",
              "      <td>2.75</td>\n",
              "      <td>2910</td>\n",
              "      <td>5802</td>\n",
              "      <td>2.0</td>\n",
              "      <td>0</td>\n",
              "      <td>0</td>\n",
              "      <td>...</td>\n",
              "      <td>7</td>\n",
              "      <td>2910</td>\n",
              "      <td>0</td>\n",
              "      <td>2006</td>\n",
              "      <td>0</td>\n",
              "      <td>98038</td>\n",
              "      <td>47.3591</td>\n",
              "      <td>-122.036</td>\n",
              "      <td>2910</td>\n",
              "      <td>5000</td>\n",
              "    </tr>\n",
              "    <tr>\n",
              "      <th>21128</th>\n",
              "      <td>2564900470</td>\n",
              "      <td>20140714T000000</td>\n",
              "      <td>718500.0</td>\n",
              "      <td>4</td>\n",
              "      <td>2.75</td>\n",
              "      <td>2840</td>\n",
              "      <td>8800</td>\n",
              "      <td>2.0</td>\n",
              "      <td>0</td>\n",
              "      <td>0</td>\n",
              "      <td>...</td>\n",
              "      <td>9</td>\n",
              "      <td>2840</td>\n",
              "      <td>0</td>\n",
              "      <td>2008</td>\n",
              "      <td>0</td>\n",
              "      <td>98033</td>\n",
              "      <td>47.7029</td>\n",
              "      <td>-122.171</td>\n",
              "      <td>1840</td>\n",
              "      <td>7700</td>\n",
              "    </tr>\n",
              "    <tr>\n",
              "      <th>1673</th>\n",
              "      <td>7697920060</td>\n",
              "      <td>20140630T000000</td>\n",
              "      <td>285000.0</td>\n",
              "      <td>4</td>\n",
              "      <td>2.25</td>\n",
              "      <td>1830</td>\n",
              "      <td>8734</td>\n",
              "      <td>2.0</td>\n",
              "      <td>0</td>\n",
              "      <td>0</td>\n",
              "      <td>...</td>\n",
              "      <td>7</td>\n",
              "      <td>1830</td>\n",
              "      <td>0</td>\n",
              "      <td>1991</td>\n",
              "      <td>0</td>\n",
              "      <td>98030</td>\n",
              "      <td>47.3679</td>\n",
              "      <td>-122.179</td>\n",
              "      <td>1870</td>\n",
              "      <td>7212</td>\n",
              "    </tr>\n",
              "    <tr>\n",
              "      <th>18140</th>\n",
              "      <td>5706202070</td>\n",
              "      <td>20140930T000000</td>\n",
              "      <td>511100.0</td>\n",
              "      <td>4</td>\n",
              "      <td>2.50</td>\n",
              "      <td>1560</td>\n",
              "      <td>12220</td>\n",
              "      <td>1.5</td>\n",
              "      <td>0</td>\n",
              "      <td>0</td>\n",
              "      <td>...</td>\n",
              "      <td>7</td>\n",
              "      <td>1560</td>\n",
              "      <td>0</td>\n",
              "      <td>1965</td>\n",
              "      <td>0</td>\n",
              "      <td>98027</td>\n",
              "      <td>47.5287</td>\n",
              "      <td>-122.053</td>\n",
              "      <td>1920</td>\n",
              "      <td>12220</td>\n",
              "    </tr>\n",
              "    <tr>\n",
              "      <th>19048</th>\n",
              "      <td>1702901500</td>\n",
              "      <td>20141121T000000</td>\n",
              "      <td>365000.0</td>\n",
              "      <td>2</td>\n",
              "      <td>1.00</td>\n",
              "      <td>920</td>\n",
              "      <td>6600</td>\n",
              "      <td>1.0</td>\n",
              "      <td>0</td>\n",
              "      <td>0</td>\n",
              "      <td>...</td>\n",
              "      <td>6</td>\n",
              "      <td>920</td>\n",
              "      <td>0</td>\n",
              "      <td>1910</td>\n",
              "      <td>0</td>\n",
              "      <td>98118</td>\n",
              "      <td>47.5572</td>\n",
              "      <td>-122.282</td>\n",
              "      <td>1370</td>\n",
              "      <td>5500</td>\n",
              "    </tr>\n",
              "    <tr>\n",
              "      <th>9670</th>\n",
              "      <td>8861000210</td>\n",
              "      <td>20150408T000000</td>\n",
              "      <td>865000.0</td>\n",
              "      <td>3</td>\n",
              "      <td>1.75</td>\n",
              "      <td>1480</td>\n",
              "      <td>8163</td>\n",
              "      <td>1.0</td>\n",
              "      <td>0</td>\n",
              "      <td>0</td>\n",
              "      <td>...</td>\n",
              "      <td>7</td>\n",
              "      <td>1040</td>\n",
              "      <td>440</td>\n",
              "      <td>1953</td>\n",
              "      <td>0</td>\n",
              "      <td>98004</td>\n",
              "      <td>47.6380</td>\n",
              "      <td>-122.206</td>\n",
              "      <td>2170</td>\n",
              "      <td>11124</td>\n",
              "    </tr>\n",
              "    <tr>\n",
              "      <th>5266</th>\n",
              "      <td>5561000010</td>\n",
              "      <td>20150223T000000</td>\n",
              "      <td>605000.0</td>\n",
              "      <td>3</td>\n",
              "      <td>2.50</td>\n",
              "      <td>3200</td>\n",
              "      <td>35012</td>\n",
              "      <td>1.5</td>\n",
              "      <td>0</td>\n",
              "      <td>0</td>\n",
              "      <td>...</td>\n",
              "      <td>8</td>\n",
              "      <td>2100</td>\n",
              "      <td>1100</td>\n",
              "      <td>1965</td>\n",
              "      <td>0</td>\n",
              "      <td>98027</td>\n",
              "      <td>47.4651</td>\n",
              "      <td>-121.993</td>\n",
              "      <td>2690</td>\n",
              "      <td>35100</td>\n",
              "    </tr>\n",
              "    <tr>\n",
              "      <th>6319</th>\n",
              "      <td>2807100095</td>\n",
              "      <td>20140908T000000</td>\n",
              "      <td>402000.0</td>\n",
              "      <td>4</td>\n",
              "      <td>1.75</td>\n",
              "      <td>1510</td>\n",
              "      <td>9176</td>\n",
              "      <td>1.0</td>\n",
              "      <td>0</td>\n",
              "      <td>0</td>\n",
              "      <td>...</td>\n",
              "      <td>7</td>\n",
              "      <td>1510</td>\n",
              "      <td>0</td>\n",
              "      <td>1957</td>\n",
              "      <td>0</td>\n",
              "      <td>98133</td>\n",
              "      <td>47.7651</td>\n",
              "      <td>-122.339</td>\n",
              "      <td>1480</td>\n",
              "      <td>9176</td>\n",
              "    </tr>\n",
              "    <tr>\n",
              "      <th>15128</th>\n",
              "      <td>8944460020</td>\n",
              "      <td>20150305T000000</td>\n",
              "      <td>340000.0</td>\n",
              "      <td>4</td>\n",
              "      <td>2.50</td>\n",
              "      <td>2665</td>\n",
              "      <td>5868</td>\n",
              "      <td>2.0</td>\n",
              "      <td>0</td>\n",
              "      <td>0</td>\n",
              "      <td>...</td>\n",
              "      <td>9</td>\n",
              "      <td>2665</td>\n",
              "      <td>0</td>\n",
              "      <td>2006</td>\n",
              "      <td>0</td>\n",
              "      <td>98030</td>\n",
              "      <td>47.3831</td>\n",
              "      <td>-122.185</td>\n",
              "      <td>2665</td>\n",
              "      <td>6092</td>\n",
              "    </tr>\n",
              "  </tbody>\n",
              "</table>\n",
              "<p>10 rows × 21 columns</p>\n",
              "</div>\n",
              "      <button class=\"colab-df-convert\" onclick=\"convertToInteractive('df-c7940703-888e-4318-a7ff-04e7e5f31884')\"\n",
              "              title=\"Convert this dataframe to an interactive table.\"\n",
              "              style=\"display:none;\">\n",
              "        \n",
              "  <svg xmlns=\"http://www.w3.org/2000/svg\" height=\"24px\"viewBox=\"0 0 24 24\"\n",
              "       width=\"24px\">\n",
              "    <path d=\"M0 0h24v24H0V0z\" fill=\"none\"/>\n",
              "    <path d=\"M18.56 5.44l.94 2.06.94-2.06 2.06-.94-2.06-.94-.94-2.06-.94 2.06-2.06.94zm-11 1L8.5 8.5l.94-2.06 2.06-.94-2.06-.94L8.5 2.5l-.94 2.06-2.06.94zm10 10l.94 2.06.94-2.06 2.06-.94-2.06-.94-.94-2.06-.94 2.06-2.06.94z\"/><path d=\"M17.41 7.96l-1.37-1.37c-.4-.4-.92-.59-1.43-.59-.52 0-1.04.2-1.43.59L10.3 9.45l-7.72 7.72c-.78.78-.78 2.05 0 2.83L4 21.41c.39.39.9.59 1.41.59.51 0 1.02-.2 1.41-.59l7.78-7.78 2.81-2.81c.8-.78.8-2.07 0-2.86zM5.41 20L4 18.59l7.72-7.72 1.47 1.35L5.41 20z\"/>\n",
              "  </svg>\n",
              "      </button>\n",
              "      \n",
              "  <style>\n",
              "    .colab-df-container {\n",
              "      display:flex;\n",
              "      flex-wrap:wrap;\n",
              "      gap: 12px;\n",
              "    }\n",
              "\n",
              "    .colab-df-convert {\n",
              "      background-color: #E8F0FE;\n",
              "      border: none;\n",
              "      border-radius: 50%;\n",
              "      cursor: pointer;\n",
              "      display: none;\n",
              "      fill: #1967D2;\n",
              "      height: 32px;\n",
              "      padding: 0 0 0 0;\n",
              "      width: 32px;\n",
              "    }\n",
              "\n",
              "    .colab-df-convert:hover {\n",
              "      background-color: #E2EBFA;\n",
              "      box-shadow: 0px 1px 2px rgba(60, 64, 67, 0.3), 0px 1px 3px 1px rgba(60, 64, 67, 0.15);\n",
              "      fill: #174EA6;\n",
              "    }\n",
              "\n",
              "    [theme=dark] .colab-df-convert {\n",
              "      background-color: #3B4455;\n",
              "      fill: #D2E3FC;\n",
              "    }\n",
              "\n",
              "    [theme=dark] .colab-df-convert:hover {\n",
              "      background-color: #434B5C;\n",
              "      box-shadow: 0px 1px 3px 1px rgba(0, 0, 0, 0.15);\n",
              "      filter: drop-shadow(0px 1px 2px rgba(0, 0, 0, 0.3));\n",
              "      fill: #FFFFFF;\n",
              "    }\n",
              "  </style>\n",
              "\n",
              "      <script>\n",
              "        const buttonEl =\n",
              "          document.querySelector('#df-c7940703-888e-4318-a7ff-04e7e5f31884 button.colab-df-convert');\n",
              "        buttonEl.style.display =\n",
              "          google.colab.kernel.accessAllowed ? 'block' : 'none';\n",
              "\n",
              "        async function convertToInteractive(key) {\n",
              "          const element = document.querySelector('#df-c7940703-888e-4318-a7ff-04e7e5f31884');\n",
              "          const dataTable =\n",
              "            await google.colab.kernel.invokeFunction('convertToInteractive',\n",
              "                                                     [key], {});\n",
              "          if (!dataTable) return;\n",
              "\n",
              "          const docLinkHtml = 'Like what you see? Visit the ' +\n",
              "            '<a target=\"_blank\" href=https://colab.research.google.com/notebooks/data_table.ipynb>data table notebook</a>'\n",
              "            + ' to learn more about interactive tables.';\n",
              "          element.innerHTML = '';\n",
              "          dataTable['output_type'] = 'display_data';\n",
              "          await google.colab.output.renderOutput(dataTable, element);\n",
              "          const docLink = document.createElement('div');\n",
              "          docLink.innerHTML = docLinkHtml;\n",
              "          element.appendChild(docLink);\n",
              "        }\n",
              "      </script>\n",
              "    </div>\n",
              "  </div>\n",
              "  "
            ]
          },
          "metadata": {},
          "execution_count": 179
        }
      ]
    },
    {
      "cell_type": "code",
      "source": [
        "df.info()"
      ],
      "metadata": {
        "id": "n0fs14KoqI3M",
        "colab": {
          "base_uri": "https://localhost:8080/",
          "height": 0
        },
        "outputId": "a9dde66f-c27c-4a1e-a916-8e41ea46b99b"
      },
      "execution_count": 81,
      "outputs": [
        {
          "output_type": "stream",
          "name": "stdout",
          "text": [
            "<class 'pandas.core.frame.DataFrame'>\n",
            "RangeIndex: 21613 entries, 0 to 21612\n",
            "Data columns (total 21 columns):\n",
            " #   Column         Non-Null Count  Dtype  \n",
            "---  ------         --------------  -----  \n",
            " 0   id             21613 non-null  int64  \n",
            " 1   date           21613 non-null  object \n",
            " 2   price          21613 non-null  float64\n",
            " 3   bedrooms       21613 non-null  int64  \n",
            " 4   bathrooms      21613 non-null  float64\n",
            " 5   sqft_living    21613 non-null  int64  \n",
            " 6   sqft_lot       21613 non-null  int64  \n",
            " 7   floors         21613 non-null  float64\n",
            " 8   waterfront     21613 non-null  int64  \n",
            " 9   view           21613 non-null  int64  \n",
            " 10  condition      21613 non-null  int64  \n",
            " 11  grade          21613 non-null  int64  \n",
            " 12  sqft_above     21613 non-null  int64  \n",
            " 13  sqft_basement  21613 non-null  int64  \n",
            " 14  yr_built       21613 non-null  int64  \n",
            " 15  yr_renovated   21613 non-null  int64  \n",
            " 16  zipcode        21613 non-null  int64  \n",
            " 17  lat            21613 non-null  float64\n",
            " 18  long           21613 non-null  float64\n",
            " 19  sqft_living15  21613 non-null  int64  \n",
            " 20  sqft_lot15     21613 non-null  int64  \n",
            "dtypes: float64(5), int64(15), object(1)\n",
            "memory usage: 3.5+ MB\n"
          ]
        }
      ]
    },
    {
      "cell_type": "code",
      "source": [
        "df.describe()"
      ],
      "metadata": {
        "id": "1PNzDJZeqKhe",
        "colab": {
          "base_uri": "https://localhost:8080/",
          "height": 364
        },
        "outputId": "069374f8-58cf-4369-b75f-0b17296d2edc"
      },
      "execution_count": 82,
      "outputs": [
        {
          "output_type": "execute_result",
          "data": {
            "text/plain": [
              "                 id         price      bedrooms     bathrooms   sqft_living  \\\n",
              "count  2.161300e+04  2.161300e+04  21613.000000  21613.000000  21613.000000   \n",
              "mean   4.580302e+09  5.400881e+05      3.370842      2.114757   2079.899736   \n",
              "std    2.876566e+09  3.671272e+05      0.930062      0.770163    918.440897   \n",
              "min    1.000102e+06  7.500000e+04      0.000000      0.000000    290.000000   \n",
              "25%    2.123049e+09  3.219500e+05      3.000000      1.750000   1427.000000   \n",
              "50%    3.904930e+09  4.500000e+05      3.000000      2.250000   1910.000000   \n",
              "75%    7.308900e+09  6.450000e+05      4.000000      2.500000   2550.000000   \n",
              "max    9.900000e+09  7.700000e+06     33.000000      8.000000  13540.000000   \n",
              "\n",
              "           sqft_lot        floors    waterfront          view     condition  \\\n",
              "count  2.161300e+04  21613.000000  21613.000000  21613.000000  21613.000000   \n",
              "mean   1.510697e+04      1.494309      0.007542      0.234303      3.409430   \n",
              "std    4.142051e+04      0.539989      0.086517      0.766318      0.650743   \n",
              "min    5.200000e+02      1.000000      0.000000      0.000000      1.000000   \n",
              "25%    5.040000e+03      1.000000      0.000000      0.000000      3.000000   \n",
              "50%    7.618000e+03      1.500000      0.000000      0.000000      3.000000   \n",
              "75%    1.068800e+04      2.000000      0.000000      0.000000      4.000000   \n",
              "max    1.651359e+06      3.500000      1.000000      4.000000      5.000000   \n",
              "\n",
              "              grade    sqft_above  sqft_basement      yr_built  yr_renovated  \\\n",
              "count  21613.000000  21613.000000   21613.000000  21613.000000  21613.000000   \n",
              "mean       7.656873   1788.390691     291.509045   1971.005136     84.402258   \n",
              "std        1.175459    828.090978     442.575043     29.373411    401.679240   \n",
              "min        1.000000    290.000000       0.000000   1900.000000      0.000000   \n",
              "25%        7.000000   1190.000000       0.000000   1951.000000      0.000000   \n",
              "50%        7.000000   1560.000000       0.000000   1975.000000      0.000000   \n",
              "75%        8.000000   2210.000000     560.000000   1997.000000      0.000000   \n",
              "max       13.000000   9410.000000    4820.000000   2015.000000   2015.000000   \n",
              "\n",
              "            zipcode           lat          long  sqft_living15     sqft_lot15  \n",
              "count  21613.000000  21613.000000  21613.000000   21613.000000   21613.000000  \n",
              "mean   98077.939805     47.560053   -122.213896    1986.552492   12768.455652  \n",
              "std       53.505026      0.138564      0.140828     685.391304   27304.179631  \n",
              "min    98001.000000     47.155900   -122.519000     399.000000     651.000000  \n",
              "25%    98033.000000     47.471000   -122.328000    1490.000000    5100.000000  \n",
              "50%    98065.000000     47.571800   -122.230000    1840.000000    7620.000000  \n",
              "75%    98118.000000     47.678000   -122.125000    2360.000000   10083.000000  \n",
              "max    98199.000000     47.777600   -121.315000    6210.000000  871200.000000  "
            ],
            "text/html": [
              "\n",
              "  <div id=\"df-79493baf-791b-4c75-853d-d659da7af540\">\n",
              "    <div class=\"colab-df-container\">\n",
              "      <div>\n",
              "<style scoped>\n",
              "    .dataframe tbody tr th:only-of-type {\n",
              "        vertical-align: middle;\n",
              "    }\n",
              "\n",
              "    .dataframe tbody tr th {\n",
              "        vertical-align: top;\n",
              "    }\n",
              "\n",
              "    .dataframe thead th {\n",
              "        text-align: right;\n",
              "    }\n",
              "</style>\n",
              "<table border=\"1\" class=\"dataframe\">\n",
              "  <thead>\n",
              "    <tr style=\"text-align: right;\">\n",
              "      <th></th>\n",
              "      <th>id</th>\n",
              "      <th>price</th>\n",
              "      <th>bedrooms</th>\n",
              "      <th>bathrooms</th>\n",
              "      <th>sqft_living</th>\n",
              "      <th>sqft_lot</th>\n",
              "      <th>floors</th>\n",
              "      <th>waterfront</th>\n",
              "      <th>view</th>\n",
              "      <th>condition</th>\n",
              "      <th>grade</th>\n",
              "      <th>sqft_above</th>\n",
              "      <th>sqft_basement</th>\n",
              "      <th>yr_built</th>\n",
              "      <th>yr_renovated</th>\n",
              "      <th>zipcode</th>\n",
              "      <th>lat</th>\n",
              "      <th>long</th>\n",
              "      <th>sqft_living15</th>\n",
              "      <th>sqft_lot15</th>\n",
              "    </tr>\n",
              "  </thead>\n",
              "  <tbody>\n",
              "    <tr>\n",
              "      <th>count</th>\n",
              "      <td>2.161300e+04</td>\n",
              "      <td>2.161300e+04</td>\n",
              "      <td>21613.000000</td>\n",
              "      <td>21613.000000</td>\n",
              "      <td>21613.000000</td>\n",
              "      <td>2.161300e+04</td>\n",
              "      <td>21613.000000</td>\n",
              "      <td>21613.000000</td>\n",
              "      <td>21613.000000</td>\n",
              "      <td>21613.000000</td>\n",
              "      <td>21613.000000</td>\n",
              "      <td>21613.000000</td>\n",
              "      <td>21613.000000</td>\n",
              "      <td>21613.000000</td>\n",
              "      <td>21613.000000</td>\n",
              "      <td>21613.000000</td>\n",
              "      <td>21613.000000</td>\n",
              "      <td>21613.000000</td>\n",
              "      <td>21613.000000</td>\n",
              "      <td>21613.000000</td>\n",
              "    </tr>\n",
              "    <tr>\n",
              "      <th>mean</th>\n",
              "      <td>4.580302e+09</td>\n",
              "      <td>5.400881e+05</td>\n",
              "      <td>3.370842</td>\n",
              "      <td>2.114757</td>\n",
              "      <td>2079.899736</td>\n",
              "      <td>1.510697e+04</td>\n",
              "      <td>1.494309</td>\n",
              "      <td>0.007542</td>\n",
              "      <td>0.234303</td>\n",
              "      <td>3.409430</td>\n",
              "      <td>7.656873</td>\n",
              "      <td>1788.390691</td>\n",
              "      <td>291.509045</td>\n",
              "      <td>1971.005136</td>\n",
              "      <td>84.402258</td>\n",
              "      <td>98077.939805</td>\n",
              "      <td>47.560053</td>\n",
              "      <td>-122.213896</td>\n",
              "      <td>1986.552492</td>\n",
              "      <td>12768.455652</td>\n",
              "    </tr>\n",
              "    <tr>\n",
              "      <th>std</th>\n",
              "      <td>2.876566e+09</td>\n",
              "      <td>3.671272e+05</td>\n",
              "      <td>0.930062</td>\n",
              "      <td>0.770163</td>\n",
              "      <td>918.440897</td>\n",
              "      <td>4.142051e+04</td>\n",
              "      <td>0.539989</td>\n",
              "      <td>0.086517</td>\n",
              "      <td>0.766318</td>\n",
              "      <td>0.650743</td>\n",
              "      <td>1.175459</td>\n",
              "      <td>828.090978</td>\n",
              "      <td>442.575043</td>\n",
              "      <td>29.373411</td>\n",
              "      <td>401.679240</td>\n",
              "      <td>53.505026</td>\n",
              "      <td>0.138564</td>\n",
              "      <td>0.140828</td>\n",
              "      <td>685.391304</td>\n",
              "      <td>27304.179631</td>\n",
              "    </tr>\n",
              "    <tr>\n",
              "      <th>min</th>\n",
              "      <td>1.000102e+06</td>\n",
              "      <td>7.500000e+04</td>\n",
              "      <td>0.000000</td>\n",
              "      <td>0.000000</td>\n",
              "      <td>290.000000</td>\n",
              "      <td>5.200000e+02</td>\n",
              "      <td>1.000000</td>\n",
              "      <td>0.000000</td>\n",
              "      <td>0.000000</td>\n",
              "      <td>1.000000</td>\n",
              "      <td>1.000000</td>\n",
              "      <td>290.000000</td>\n",
              "      <td>0.000000</td>\n",
              "      <td>1900.000000</td>\n",
              "      <td>0.000000</td>\n",
              "      <td>98001.000000</td>\n",
              "      <td>47.155900</td>\n",
              "      <td>-122.519000</td>\n",
              "      <td>399.000000</td>\n",
              "      <td>651.000000</td>\n",
              "    </tr>\n",
              "    <tr>\n",
              "      <th>25%</th>\n",
              "      <td>2.123049e+09</td>\n",
              "      <td>3.219500e+05</td>\n",
              "      <td>3.000000</td>\n",
              "      <td>1.750000</td>\n",
              "      <td>1427.000000</td>\n",
              "      <td>5.040000e+03</td>\n",
              "      <td>1.000000</td>\n",
              "      <td>0.000000</td>\n",
              "      <td>0.000000</td>\n",
              "      <td>3.000000</td>\n",
              "      <td>7.000000</td>\n",
              "      <td>1190.000000</td>\n",
              "      <td>0.000000</td>\n",
              "      <td>1951.000000</td>\n",
              "      <td>0.000000</td>\n",
              "      <td>98033.000000</td>\n",
              "      <td>47.471000</td>\n",
              "      <td>-122.328000</td>\n",
              "      <td>1490.000000</td>\n",
              "      <td>5100.000000</td>\n",
              "    </tr>\n",
              "    <tr>\n",
              "      <th>50%</th>\n",
              "      <td>3.904930e+09</td>\n",
              "      <td>4.500000e+05</td>\n",
              "      <td>3.000000</td>\n",
              "      <td>2.250000</td>\n",
              "      <td>1910.000000</td>\n",
              "      <td>7.618000e+03</td>\n",
              "      <td>1.500000</td>\n",
              "      <td>0.000000</td>\n",
              "      <td>0.000000</td>\n",
              "      <td>3.000000</td>\n",
              "      <td>7.000000</td>\n",
              "      <td>1560.000000</td>\n",
              "      <td>0.000000</td>\n",
              "      <td>1975.000000</td>\n",
              "      <td>0.000000</td>\n",
              "      <td>98065.000000</td>\n",
              "      <td>47.571800</td>\n",
              "      <td>-122.230000</td>\n",
              "      <td>1840.000000</td>\n",
              "      <td>7620.000000</td>\n",
              "    </tr>\n",
              "    <tr>\n",
              "      <th>75%</th>\n",
              "      <td>7.308900e+09</td>\n",
              "      <td>6.450000e+05</td>\n",
              "      <td>4.000000</td>\n",
              "      <td>2.500000</td>\n",
              "      <td>2550.000000</td>\n",
              "      <td>1.068800e+04</td>\n",
              "      <td>2.000000</td>\n",
              "      <td>0.000000</td>\n",
              "      <td>0.000000</td>\n",
              "      <td>4.000000</td>\n",
              "      <td>8.000000</td>\n",
              "      <td>2210.000000</td>\n",
              "      <td>560.000000</td>\n",
              "      <td>1997.000000</td>\n",
              "      <td>0.000000</td>\n",
              "      <td>98118.000000</td>\n",
              "      <td>47.678000</td>\n",
              "      <td>-122.125000</td>\n",
              "      <td>2360.000000</td>\n",
              "      <td>10083.000000</td>\n",
              "    </tr>\n",
              "    <tr>\n",
              "      <th>max</th>\n",
              "      <td>9.900000e+09</td>\n",
              "      <td>7.700000e+06</td>\n",
              "      <td>33.000000</td>\n",
              "      <td>8.000000</td>\n",
              "      <td>13540.000000</td>\n",
              "      <td>1.651359e+06</td>\n",
              "      <td>3.500000</td>\n",
              "      <td>1.000000</td>\n",
              "      <td>4.000000</td>\n",
              "      <td>5.000000</td>\n",
              "      <td>13.000000</td>\n",
              "      <td>9410.000000</td>\n",
              "      <td>4820.000000</td>\n",
              "      <td>2015.000000</td>\n",
              "      <td>2015.000000</td>\n",
              "      <td>98199.000000</td>\n",
              "      <td>47.777600</td>\n",
              "      <td>-121.315000</td>\n",
              "      <td>6210.000000</td>\n",
              "      <td>871200.000000</td>\n",
              "    </tr>\n",
              "  </tbody>\n",
              "</table>\n",
              "</div>\n",
              "      <button class=\"colab-df-convert\" onclick=\"convertToInteractive('df-79493baf-791b-4c75-853d-d659da7af540')\"\n",
              "              title=\"Convert this dataframe to an interactive table.\"\n",
              "              style=\"display:none;\">\n",
              "        \n",
              "  <svg xmlns=\"http://www.w3.org/2000/svg\" height=\"24px\"viewBox=\"0 0 24 24\"\n",
              "       width=\"24px\">\n",
              "    <path d=\"M0 0h24v24H0V0z\" fill=\"none\"/>\n",
              "    <path d=\"M18.56 5.44l.94 2.06.94-2.06 2.06-.94-2.06-.94-.94-2.06-.94 2.06-2.06.94zm-11 1L8.5 8.5l.94-2.06 2.06-.94-2.06-.94L8.5 2.5l-.94 2.06-2.06.94zm10 10l.94 2.06.94-2.06 2.06-.94-2.06-.94-.94-2.06-.94 2.06-2.06.94z\"/><path d=\"M17.41 7.96l-1.37-1.37c-.4-.4-.92-.59-1.43-.59-.52 0-1.04.2-1.43.59L10.3 9.45l-7.72 7.72c-.78.78-.78 2.05 0 2.83L4 21.41c.39.39.9.59 1.41.59.51 0 1.02-.2 1.41-.59l7.78-7.78 2.81-2.81c.8-.78.8-2.07 0-2.86zM5.41 20L4 18.59l7.72-7.72 1.47 1.35L5.41 20z\"/>\n",
              "  </svg>\n",
              "      </button>\n",
              "      \n",
              "  <style>\n",
              "    .colab-df-container {\n",
              "      display:flex;\n",
              "      flex-wrap:wrap;\n",
              "      gap: 12px;\n",
              "    }\n",
              "\n",
              "    .colab-df-convert {\n",
              "      background-color: #E8F0FE;\n",
              "      border: none;\n",
              "      border-radius: 50%;\n",
              "      cursor: pointer;\n",
              "      display: none;\n",
              "      fill: #1967D2;\n",
              "      height: 32px;\n",
              "      padding: 0 0 0 0;\n",
              "      width: 32px;\n",
              "    }\n",
              "\n",
              "    .colab-df-convert:hover {\n",
              "      background-color: #E2EBFA;\n",
              "      box-shadow: 0px 1px 2px rgba(60, 64, 67, 0.3), 0px 1px 3px 1px rgba(60, 64, 67, 0.15);\n",
              "      fill: #174EA6;\n",
              "    }\n",
              "\n",
              "    [theme=dark] .colab-df-convert {\n",
              "      background-color: #3B4455;\n",
              "      fill: #D2E3FC;\n",
              "    }\n",
              "\n",
              "    [theme=dark] .colab-df-convert:hover {\n",
              "      background-color: #434B5C;\n",
              "      box-shadow: 0px 1px 3px 1px rgba(0, 0, 0, 0.15);\n",
              "      filter: drop-shadow(0px 1px 2px rgba(0, 0, 0, 0.3));\n",
              "      fill: #FFFFFF;\n",
              "    }\n",
              "  </style>\n",
              "\n",
              "      <script>\n",
              "        const buttonEl =\n",
              "          document.querySelector('#df-79493baf-791b-4c75-853d-d659da7af540 button.colab-df-convert');\n",
              "        buttonEl.style.display =\n",
              "          google.colab.kernel.accessAllowed ? 'block' : 'none';\n",
              "\n",
              "        async function convertToInteractive(key) {\n",
              "          const element = document.querySelector('#df-79493baf-791b-4c75-853d-d659da7af540');\n",
              "          const dataTable =\n",
              "            await google.colab.kernel.invokeFunction('convertToInteractive',\n",
              "                                                     [key], {});\n",
              "          if (!dataTable) return;\n",
              "\n",
              "          const docLinkHtml = 'Like what you see? Visit the ' +\n",
              "            '<a target=\"_blank\" href=https://colab.research.google.com/notebooks/data_table.ipynb>data table notebook</a>'\n",
              "            + ' to learn more about interactive tables.';\n",
              "          element.innerHTML = '';\n",
              "          dataTable['output_type'] = 'display_data';\n",
              "          await google.colab.output.renderOutput(dataTable, element);\n",
              "          const docLink = document.createElement('div');\n",
              "          docLink.innerHTML = docLinkHtml;\n",
              "          element.appendChild(docLink);\n",
              "        }\n",
              "      </script>\n",
              "    </div>\n",
              "  </div>\n",
              "  "
            ]
          },
          "metadata": {},
          "execution_count": 82
        }
      ]
    },
    {
      "cell_type": "code",
      "source": [
        "df.drop('id', axis = 1, inplace = True)\n",
        "df.drop('date', axis = 1, inplace = True)\n",
        "df.drop('zipcode', axis = 1, inplace = True)\n",
        "df.drop('lat', axis = 1, inplace = True)\n",
        "df.drop('long', axis = 1, inplace = True)\n"
      ],
      "metadata": {
        "id": "0KUD8T08qMmq"
      },
      "execution_count": 83,
      "outputs": []
    },
    {
      "cell_type": "code",
      "source": [
        "plt.figure(figsize=(12,8)) \n",
        "sns.heatmap(df.corr(), annot=True, cmap='Dark2_r', linewidths = 2)\n",
        "plt.show()"
      ],
      "metadata": {
        "id": "r-jk_nHmqKpp",
        "colab": {
          "base_uri": "https://localhost:8080/",
          "height": 551
        },
        "outputId": "22b5ee35-8ef1-4a75-c1d5-59b827185312"
      },
      "execution_count": 84,
      "outputs": [
        {
          "output_type": "display_data",
          "data": {
            "text/plain": [
              "<Figure size 864x576 with 2 Axes>"
            ],
            "image/png": "[encoded data removed]"
          },
          "metadata": {
            "needs_background": "light"
          }
        }
      ]
    },
    {
      "cell_type": "code",
      "source": [
        "columns = df.columns.drop('price')\n",
        "\n",
        "features = columns\n",
        "label = ['price']\n",
        "\n",
        "X = df[features]\n",
        "y = df[label]"
      ],
      "metadata": {
        "id": "p4zqCnFwq7Oc"
      },
      "execution_count": 85,
      "outputs": []
    },
    {
      "cell_type": "code",
      "source": [
        "from sklearn.model_selection import train_test_split\n",
        "X_train, X_test, y_train, y_test = train_test_split(X, y, test_size = 0.1, random_state = 101)\n",
        "\n",
        "print(f'Numero total de registros en la bdd: {len(X)}')\n",
        "print(\"*****\"*10)\n",
        "print(f'Numero total de registros en el training set: {len(X_train)}')\n",
        "print(f'Tamaño de X_train: {X_train.shape}')\n",
        "print(\"*****\"*10)\n",
        "print(f'Mumero total de registros en el test dataset: {len(X_test)}')\n",
        "print(f'Tamaño del X_test: {X_test.shape}')"
      ],
      "metadata": {
        "id": "p91PEVPLq93-",
        "colab": {
          "base_uri": "https://localhost:8080/",
          "height": 0
        },
        "outputId": "7730deb4-d8aa-4293-e5cf-c4d2c967a2f9"
      },
      "execution_count": 88,
      "outputs": [
        {
          "output_type": "stream",
          "name": "stdout",
          "text": [
            "Numero total de registros en la bdd: 21613\n",
            "**************************************************\n",
            "Numero total de registros en el training set: 19451\n",
            "Tamaño de X_train: (19451, 15)\n",
            "**************************************************\n",
            "Mumero total de registros en el test dataset: 2162\n",
            "Tamaño del X_test: (2162, 15)\n"
          ]
        }
      ]
    },
    {
      "cell_type": "code",
      "source": [
        "#lineal\n",
        "from sklearn.linear_model import LinearRegression\n",
        "linear_reg = LinearRegression(fit_intercept=True)\n",
        "linear_reg.fit(X_train, y_train)"
      ],
      "metadata": {
        "id": "0faHrN8-rv9V",
        "colab": {
          "base_uri": "https://localhost:8080/",
          "height": 0
        },
        "outputId": "e49a497b-e608-4d5f-bf2c-441e337312bd"
      },
      "execution_count": 89,
      "outputs": [
        {
          "output_type": "execute_result",
          "data": {
            "text/plain": [
              "LinearRegression()"
            ]
          },
          "metadata": {},
          "execution_count": 89
        }
      ]
    },
    {
      "cell_type": "code",
      "source": [
        "#COEFICIENTES DE LAS VARIABLES X _ ECUACION\n",
        "linear_reg.coef_, linear_reg.intercept_"
      ],
      "metadata": {
        "colab": {
          "base_uri": "https://localhost:8080/",
          "height": 0
        },
        "id": "CXjYaXAXdAJb",
        "outputId": "bfa1c439-7f4e-43dd-bc87-273d36cb5769"
      },
      "execution_count": 90,
      "outputs": [
        {
          "output_type": "execute_result",
          "data": {
            "text/plain": [
              "(array([[-3.82008048e+04,  4.14661380e+04,  1.07992584e+02,\n",
              "          1.71356997e-02,  3.16916913e+04,  5.52691023e+05,\n",
              "          4.12493228e+04,  2.12221443e+04,  1.19493216e+05,\n",
              "          4.77750271e+01,  6.02175565e+01, -3.55090216e+03,\n",
              "          1.32602215e+01,  2.90059284e+01, -5.48132603e-01]]),\n",
              " array([6151359.2627409]))"
            ]
          },
          "metadata": {},
          "execution_count": 90
        }
      ]
    },
    {
      "cell_type": "code",
      "source": [
        "y_pred_entrenamiento = linear_reg.predict(X_train)\n",
        "print('Error medio Absoluto (MAE):', metrics.mean_absolute_error(y_train, y_pred_entrenamiento))\n",
        "print('Root Mean Squared Error:', np.sqrt(metrics.mean_squared_error(y_train, y_pred_entrenamiento)))\n",
        "print('r2_score',r2_score(y_train, y_pred_entrenamiento))"
      ],
      "metadata": {
        "colab": {
          "base_uri": "https://localhost:8080/",
          "height": 0
        },
        "id": "8cg-35o0dkaL",
        "outputId": "40823f04-6177-45d3-d70f-c6e1632d6af0"
      },
      "execution_count": 91,
      "outputs": [
        {
          "output_type": "stream",
          "name": "stdout",
          "text": [
            "Error medio Absoluto (MAE): 139269.32939115583\n",
            "Root Mean Squared Error: 214234.8822754647\n",
            "r2_score 0.6529196653133833\n"
          ]
        }
      ]
    },
    {
      "cell_type": "code",
      "source": [
        "y_pred_test = linear_reg.predict(X_test)\n",
        "print('Error medio Absoluto (MAE):', metrics.mean_absolute_error(y_test, y_pred_test))\n",
        "print('Root Mean Squared Error:', np.sqrt(metrics.mean_squared_error(y_test, y_pred_test)))\n",
        "print('r2_score',r2_score(y_test, y_pred_test))"
      ],
      "metadata": {
        "colab": {
          "base_uri": "https://localhost:8080/",
          "height": 0
        },
        "id": "LOX8sixFdw06",
        "outputId": "e8818d0b-ea72-4354-8508-8958d476df71"
      },
      "execution_count": 93,
      "outputs": [
        {
          "output_type": "stream",
          "name": "stdout",
          "text": [
            "Error medio Absoluto (MAE): 137480.1388273178\n",
            "Root Mean Squared Error: 232133.3676240749\n",
            "r2_score 0.6579723205007814\n"
          ]
        }
      ]
    },
    {
      "cell_type": "markdown",
      "source": [
        "# Regresión Polinomial.\n",
        "Realiza la  regresión polinomial completa, tu modelo generado (ecuación), su visualización, sus errores y r cuadrada."
      ],
      "metadata": {
        "id": "LSPrqGj7eZbj"
      }
    },
    {
      "cell_type": "code",
      "source": [
        "from sklearn.preprocessing import PolynomialFeatures\n",
        "\n",
        "poly_features = PolynomialFeatures(degree=2, include_bias=False)\n",
        "X_poly_train = poly_features.fit_transform(X_train)\n",
        "X_poly_train"
      ],
      "metadata": {
        "colab": {
          "base_uri": "https://localhost:8080/",
          "height": 0
        },
        "outputId": "20f6d179-fb5b-4672-c6d3-b4ed6f865a4a",
        "id": "4ky6ThtSeZbk"
      },
      "execution_count": 94,
      "outputs": [
        {
          "output_type": "execute_result",
          "data": {
            "text/plain": [
              "array([[5.00000000e+00, 2.75000000e+00, 3.75000000e+03, ...,\n",
              "        9.73440000e+06, 2.26356000e+07, 5.26350250e+07],\n",
              "       [4.00000000e+00, 4.50000000e+00, 5.25000000e+03, ...,\n",
              "        6.25000000e+06, 1.20880000e+08, 2.33791590e+09],\n",
              "       [3.00000000e+00, 2.50000000e+00, 2.88000000e+03, ...,\n",
              "        8.76160000e+06, 3.11214400e+07, 1.10544196e+08],\n",
              "       ...,\n",
              "       [3.00000000e+00, 2.25000000e+00, 1.78000000e+03, ...,\n",
              "        2.28010000e+06, 1.15137500e+07, 5.81406250e+07],\n",
              "       [2.00000000e+00, 1.00000000e+00, 1.15000000e+03, ...,\n",
              "        2.14036900e+06, 6.32016000e+06, 1.86624000e+07],\n",
              "       [3.00000000e+00, 1.00000000e+00, 1.45000000e+03, ...,\n",
              "        1.08160000e+06, 8.04960000e+06, 5.99076000e+07]])"
            ]
          },
          "metadata": {},
          "execution_count": 94
        }
      ]
    },
    {
      "cell_type": "code",
      "source": [
        "poly_features = PolynomialFeatures(degree=2, include_bias=False)\n",
        "X_poly_test = poly_features.fit_transform(X_test)\n"
      ],
      "metadata": {
        "id": "0gbF_AkUeZbl"
      },
      "execution_count": 95,
      "outputs": []
    },
    {
      "cell_type": "code",
      "source": [
        "lin_reg = LinearRegression(fit_intercept=True)\n",
        "lin_reg.fit(X_poly_train, y_train)\n",
        "lin_reg.coef_, lin_reg.intercept_"
      ],
      "metadata": {
        "colab": {
          "base_uri": "https://localhost:8080/",
          "height": 0
        },
        "outputId": "ddc48dce-855a-4c6c-ac9e-1c827bd7a8cb",
        "id": "TRtgubQWeZbl"
      },
      "execution_count": 96,
      "outputs": [
        {
          "output_type": "execute_result",
          "data": {
            "text/plain": [
              "(array([[ 9.33912834e+05, -1.09330730e+06, -4.56449932e+02,\n",
              "         -2.78686288e+01, -2.07407238e+06, -3.95431870e+06,\n",
              "         -2.88638026e+05,  5.58697570e+05,  1.09864510e+06,\n",
              "         -2.19758415e+02, -3.82034272e+02, -8.59630908e+04,\n",
              "         -2.95351595e+03,  3.99965710e+03, -3.40106316e+01,\n",
              "          9.57541696e+02,  7.49958190e+03, -1.37969466e+01,\n",
              "         -1.84926695e-02,  8.57699569e+03, -1.14965893e+04,\n",
              "         -3.06588900e+02, -5.24628836e+03, -5.36788065e+03,\n",
              "         -1.20757669e+00, -1.46068182e+01, -4.67099451e+02,\n",
              "         -9.13191519e+00,  1.72800642e+01,  2.15500198e-01,\n",
              "         -9.63429892e+03,  1.53879172e+01, -1.35842369e-01,\n",
              "         -2.59067293e+04,  4.33707238e+04,  3.82942459e+03,\n",
              "         -1.07592927e+03,  2.22971689e+04,  1.44292325e+01,\n",
              "          1.33928361e+00,  5.03401980e+02, -1.70798805e+01,\n",
              "         -1.72895923e+01, -5.56785248e-02,  1.56185890e+00,\n",
              "         -4.34972758e+00,  4.83299456e+00,  1.60303193e+02,\n",
              "         -1.42711737e+01,  1.31138593e+01,  2.07283397e+01,\n",
              "          2.61335089e+00, -4.41381412e+00, -2.20765903e+00,\n",
              "          6.36282684e-02,  3.53629072e+00,  1.88176819e+01,\n",
              "          3.06637958e-07,  4.40839907e-01, -9.84216136e-02,\n",
              "         -9.75869659e-02,  9.17233241e-02,  1.51960354e-01,\n",
              "          4.34904161e+00,  4.34926327e+00,  1.37650380e-02,\n",
              "         -1.48516006e-04,  1.76864211e-04,  1.05303479e-06,\n",
              "          2.16116740e+04, -1.31320713e+05,  1.44412938e+04,\n",
              "          2.02989005e+04, -4.27844150e+03, -2.82201875e+00,\n",
              "          7.66330754e+00,  1.03664758e+03,  2.59349503e+00,\n",
              "         -3.20401882e+01, -5.28612817e-01, -3.95431899e+06,\n",
              "         -1.60488762e+04,  9.19611219e+03, -1.61637325e+05,\n",
              "          1.83103328e+02, -2.28001023e+01,  4.42833048e+03,\n",
              "         -2.99177258e+01,  1.70604193e+02, -8.13533327e-01,\n",
              "          7.98448565e+03,  7.33999963e+03,  1.79556171e+04,\n",
              "         -1.24963418e+01, -1.77332663e+00,  7.20704241e+01,\n",
              "         -9.96831512e+00,  4.63359903e+00, -5.24194412e-02,\n",
              "         -5.41914699e+02, -6.03821219e+03,  1.16309467e+00,\n",
              "          1.19544378e+01, -3.07074418e+02, -2.01997367e+01,\n",
              "          4.63198881e+01, -2.76877580e-01,  7.36624125e+03,\n",
              "          9.60665725e+00,  1.11459299e+01, -5.71989956e+02,\n",
              "         -1.01345126e+01, -2.27554341e+01, -5.08577049e-01,\n",
              "         -4.16987537e+00, -1.28789962e+00,  2.44718109e+00,\n",
              "         -2.54496408e-02, -3.53836487e+00, -1.88174913e+01,\n",
              "          2.79020491e+00,  2.54821210e+00, -1.88342368e-02,\n",
              "         -3.53312599e+00, -1.88181978e+01,  2.30599022e+01,\n",
              "          4.06969503e-01, -2.04695891e+00,  1.88936366e-02,\n",
              "          1.11629336e+00,  4.71190049e-02,  2.55405757e-04,\n",
              "          3.31517292e-02,  1.11144269e-04,  2.35741027e-06]]),\n",
              " array([80227028.3104757]))"
            ]
          },
          "metadata": {},
          "execution_count": 96
        }
      ]
    },
    {
      "cell_type": "code",
      "source": [
        "#Errores de Entrenamiento\n",
        "y_pred_train = lin_reg.predict(X_poly_train)\n",
        "print('Error medio Absoluto (MAE):', metrics.mean_absolute_error(y_train, y_pred_train))\n",
        "print('Root Mean Squared Error:', np.sqrt(metrics.mean_squared_error(y_train, y_pred_train)))\n",
        "print('r2_score',r2_score(y_train, y_pred_train))"
      ],
      "metadata": {
        "colab": {
          "base_uri": "https://localhost:8080/",
          "height": 0
        },
        "outputId": "45137cb3-4e8c-4a38-f56f-491213293ddd",
        "id": "p-h8s7DteZbl"
      },
      "execution_count": 97,
      "outputs": [
        {
          "output_type": "stream",
          "name": "stdout",
          "text": [
            "Error medio Absoluto (MAE): 123190.80861039193\n",
            "Root Mean Squared Error: 182926.52904652644\n",
            "r2_score 0.7469519325162244\n"
          ]
        }
      ]
    },
    {
      "cell_type": "code",
      "source": [
        "y_pred_test = lin_reg.predict(X_poly_test)\n",
        "print('Error medio Absoluto (MAE):', metrics.mean_absolute_error(y_test, y_pred_test))\n",
        "print('Root Mean Squared Error:', np.sqrt(metrics.mean_squared_error(y_test, y_pred_test)))\n",
        "print('r2_score',r2_score(y_test, y_pred_test))"
      ],
      "metadata": {
        "colab": {
          "base_uri": "https://localhost:8080/",
          "height": 0
        },
        "outputId": "d383e317-3fb7-4c42-849c-920280eb8503",
        "id": "Kk7uWV61eZbl"
      },
      "execution_count": 98,
      "outputs": [
        {
          "output_type": "stream",
          "name": "stdout",
          "text": [
            "Error medio Absoluto (MAE): 121314.06948173394\n",
            "Root Mean Squared Error: 186261.28575138954\n",
            "r2_score 0.7797929072570198\n"
          ]
        }
      ]
    },
    {
      "cell_type": "code",
      "source": [],
      "metadata": {
        "id": "01sDhVMkeBIz"
      },
      "execution_count": null,
      "outputs": []
    },
    {
      "cell_type": "markdown",
      "source": [
        "# Realiza la regresión con Ridge y Lasso"
      ],
      "metadata": {
        "id": "-8UvkSHSe5iO"
      }
    },
    {
      "cell_type": "code",
      "source": [
        "from sklearn.linear_model import Ridge\n",
        "\n",
        "ridge_reg = Ridge(alpha=0.1)\n",
        "ridge_reg.fit(X_poly_train, y_train)\n",
        "ridge_reg.coef_, lin_reg.intercept_\n"
      ],
      "metadata": {
        "colab": {
          "base_uri": "https://localhost:8080/",
          "height": 0
        },
        "outputId": "398b94de-ff88-4899-e829-585729ff944c",
        "id": "yeeFGh5we5iP"
      },
      "execution_count": 110,
      "outputs": [
        {
          "output_type": "execute_result",
          "data": {
            "text/plain": [
              "(array([[ 8.42621237e+05, -8.71501286e+05, -1.56090200e+02,\n",
              "         -2.79605214e+01, -1.43556644e+06, -7.81137601e+05,\n",
              "         -4.95769140e+05,  5.19835558e+05,  9.53832255e+05,\n",
              "         -7.35539356e+02, -5.89140289e+02, -8.79671187e+04,\n",
              "         -3.04308693e+03,  4.09028766e+03, -3.32422254e+01,\n",
              "          9.62340810e+02,  6.61863158e+03,  6.56785504e+02,\n",
              "         -2.00226794e-02,  7.11401159e+03, -2.31307820e+04,\n",
              "          1.54498197e+02, -5.00736254e+03, -5.53333868e+03,\n",
              "         -6.70841721e+02, -6.85026112e+02, -4.18845768e+02,\n",
              "         -8.12510642e+00,  1.67292765e+01,  2.11600376e-01,\n",
              "         -8.58940237e+03, -3.86849803e+02, -1.31862208e-01,\n",
              "         -2.16923669e+04,  6.40504717e+04,  2.10817082e+03,\n",
              "         -2.71196021e+03,  2.12570981e+04,  4.15986420e+02,\n",
              "          4.04117370e+02,  3.92377621e+02, -1.89230918e+01,\n",
              "         -1.53859490e+01, -5.14555440e-02,  7.90412514e+02,\n",
              "          5.98531770e+02, -1.61461591e+02, -7.35063592e+02,\n",
              "          1.00844149e+02, -1.90551025e+02, -1.39823115e+02,\n",
              "         -1.91114572e+02, -1.08643985e+02, -4.37588796e+02,\n",
              "          1.09107002e+03,  2.77670781e+02,  5.15049053e+02,\n",
              "          3.16160471e-07,  4.45755919e-01, -1.24273165e-01,\n",
              "         -9.70830902e-02,  9.33266520e-02,  1.50484309e-01,\n",
              "         -5.98532458e+02, -5.98532225e+02,  1.38146930e-02,\n",
              "         -1.27611496e-04,  1.66865218e-04,  1.07918148e-06,\n",
              "          2.37134617e+04, -1.00836969e+05,  1.36877371e+04,\n",
              "          1.48901155e+04, -4.11615314e+03,  1.62495458e+02,\n",
              "          1.71964455e+02,  7.18664504e+02, -3.98184628e+00,\n",
              "         -3.21831064e+01, -5.33703161e-01, -7.83316763e+05,\n",
              "         -1.25998228e+04, -2.47099274e+04, -1.39293715e+05,\n",
              "          1.06567962e+03,  8.81227481e+02,  1.14548124e+03,\n",
              "         -6.89779061e+01,  1.65767391e+02, -8.18372863e-01,\n",
              "          8.00112416e+03,  8.96462925e+03,  1.78585291e+04,\n",
              "         -1.27213963e+02, -1.16701507e+02,  1.76432420e+02,\n",
              "         -7.66324622e+00,  4.52649776e+00, -6.14586567e-02,\n",
              "         -7.85110713e+02, -5.36591580e+03,  2.08234717e+02,\n",
              "          2.15256693e+02, -2.85596582e+02, -1.91491641e+01,\n",
              "          4.50284229e+01, -2.82648442e-01,  7.12571993e+03,\n",
              "          1.70781406e+02,  1.72789309e+02, -4.96619671e+02,\n",
              "         -8.75772623e+00, -2.34260954e+01, -5.12240724e-01,\n",
              "         -5.99292842e+02, -1.28103163e+03,  4.37928791e+02,\n",
              "         -1.09102977e+03, -2.77672805e+02, -5.15048856e+02,\n",
              "         -6.81830904e+02,  4.37879923e+02, -1.09102689e+03,\n",
              "         -2.77667908e+02, -5.15049577e+02,  2.35262367e+01,\n",
              "          4.47125994e-01, -2.08888975e+00,  1.85182799e-02,\n",
              "          1.11947686e+00,  4.59870760e-02,  2.12516610e-04,\n",
              "          3.31191623e-02,  1.23675979e-04,  2.33849746e-06]]),\n",
              " array([80227028.3104757]))"
            ]
          },
          "metadata": {},
          "execution_count": 110
        }
      ]
    },
    {
      "cell_type": "code",
      "source": [
        "y_pred_train = ridge_reg.predict(X_poly_train)\n",
        "print('Error medio Absoluto (MAE):', metrics.mean_absolute_error(y_train, y_pred_train))\n",
        "print('Root Mean Squared Error:', np.sqrt(metrics.mean_squared_error(y_train, y_pred_train)))\n",
        "print('r2_score',r2_score(y_train, y_pred_train))"
      ],
      "metadata": {
        "colab": {
          "base_uri": "https://localhost:8080/",
          "height": 0
        },
        "outputId": "2690c3f6-4d27-4ccd-fa99-28b16b78cc44",
        "id": "y26dMG57e5iP"
      },
      "execution_count": 111,
      "outputs": [
        {
          "output_type": "stream",
          "name": "stdout",
          "text": [
            "Error medio Absoluto (MAE): 123226.27422678734\n",
            "Root Mean Squared Error: 183013.7641893687\n",
            "r2_score 0.7467105246899841\n"
          ]
        }
      ]
    },
    {
      "cell_type": "code",
      "source": [
        "y_pred_test = ridge_reg.predict(X_poly_test)\n",
        "print('Error medio Absoluto (MAE):', metrics.mean_absolute_error(y_test, y_pred_test))\n",
        "print('Root Mean Squared Error:', np.sqrt(metrics.mean_squared_error(y_test, y_pred_test)))\n",
        "print('r2_score',r2_score(y_test, y_pred_test))"
      ],
      "metadata": {
        "colab": {
          "base_uri": "https://localhost:8080/",
          "height": 0
        },
        "outputId": "0b4aaeb8-affe-484c-a8b3-a3ca48c46c1b",
        "id": "KenUwOuze5iP"
      },
      "execution_count": 112,
      "outputs": [
        {
          "output_type": "stream",
          "name": "stdout",
          "text": [
            "Error medio Absoluto (MAE): 121264.02201075925\n",
            "Root Mean Squared Error: 186281.11398935644\n",
            "r2_score 0.7797460209593644\n"
          ]
        }
      ]
    },
    {
      "cell_type": "markdown",
      "source": [
        "**Modelo de Lasso**"
      ],
      "metadata": {
        "id": "Ivf1vgm8e5iP"
      }
    },
    {
      "cell_type": "code",
      "source": [
        "from sklearn.linear_model import Lasso\n",
        "\n",
        "lasso_reg = Lasso(alpha=0.1)\n",
        "lasso_reg.fit(X_poly_train, y_train)\n",
        "lasso_reg.coef_, lin_reg.intercept_\n"
      ],
      "metadata": {
        "colab": {
          "base_uri": "https://localhost:8080/",
          "height": 0
        },
        "outputId": "d23905ab-4002-44d3-9cc6-e09ab0f9c0dc",
        "id": "oIttbLhve5iQ"
      },
      "execution_count": 113,
      "outputs": [
        {
          "output_type": "stream",
          "name": "stderr",
          "text": [
            "/usr/local/lib/python3.7/dist-packages/sklearn/linear_model/_coordinate_descent.py:648: ConvergenceWarning: Objective did not converge. You might want to increase the number of iterations, check the scale of the features or consider increasing regularisation. Duality gap: 3.355e+14, tolerance: 2.572e+11\n",
            "  coef_, l1_reg, l2_reg, X, y, max_iter, tol, rng, random, positive\n"
          ]
        },
        {
          "output_type": "execute_result",
          "data": {
            "text/plain": [
              "(array([ 1.25635647e+05,  1.54290641e+05,  7.92596956e+01, -3.03164749e+00,\n",
              "        -4.70182821e+04,  3.41936930e+05,  7.36673732e+04,  1.35580140e+05,\n",
              "         1.80420161e+05, -1.83432483e+02, -6.11966200e+01, -3.81843660e+03,\n",
              "        -2.48334689e+02,  1.34716557e+02, -1.53438643e+00,  1.07511258e+03,\n",
              "        -3.10200497e+03, -2.05528780e+01, -1.79173965e-01,  8.12528030e+03,\n",
              "        -2.24103956e+04, -8.57717040e+01, -1.71980634e+03, -3.86234645e+03,\n",
              "         7.52613486e+00,  3.00938917e-01, -6.24556965e+01,  3.93947295e-02,\n",
              "         1.88875408e+01,  2.66480392e-01,  1.16611093e+03,  4.55894050e+01,\n",
              "        -2.29341857e-02, -2.69459638e+04,  5.45518249e+04,  6.03284663e+03,\n",
              "        -1.99637398e+04,  1.80657147e+04, -1.33141982e+01, -3.78823670e+01,\n",
              "        -6.85651765e+01, -2.72527660e+01, -3.38941271e+01,  1.37042260e-01,\n",
              "         1.96413009e-02, -1.72852493e-04,  4.38782923e+00, -9.70138684e+01,\n",
              "         3.24894239e+01, -1.25229591e+01,  2.25072465e+01, -5.33925150e-02,\n",
              "         2.70953361e-02, -5.23275282e-02, -1.10959142e-03,  1.52565289e-03,\n",
              "        -4.72096277e-04, -1.05342644e-08,  4.66061906e-01, -2.07139457e-01,\n",
              "        -1.01641331e-01,  7.69497083e-02,  2.39408290e-01, -3.81717285e-04,\n",
              "        -3.19758436e-04,  1.02859751e-03, -3.68447775e-04,  4.01225720e-05,\n",
              "         1.75804051e-06,  2.75452106e+04, -9.92073647e+04,  1.16365702e+04,\n",
              "         9.65518788e+03,  6.55713117e+03, -4.70764315e+00,  2.63246518e+01,\n",
              "         1.84931367e+01, -3.04785454e+01, -5.75163708e+01, -4.56204047e-01,\n",
              "        -3.94090136e+05, -1.48964461e+04, -1.37282703e+04, -1.05383898e+05,\n",
              "         4.22598555e+02,  2.54694624e+02,  2.49126009e+02, -7.07060267e+01,\n",
              "         1.46789321e+02, -1.12126923e+00,  7.12114328e+03,  3.54535071e+03,\n",
              "         1.53348457e+04, -5.92771719e+01, -5.40559931e+01, -1.00224756e+02,\n",
              "        -1.48992239e+01,  1.21466865e+01, -9.95445439e-02,  1.40744978e+03,\n",
              "        -2.40596385e+03,  2.93350525e+01,  4.27410475e+01, -1.17427161e+02,\n",
              "        -2.46789375e+01,  7.11085269e+01, -6.14886475e-01,  6.11896640e+03,\n",
              "         2.39000292e+00,  1.88192463e+01, -1.01029033e+02,  1.79926051e+00,\n",
              "        -2.60336583e+01, -4.92505561e-01,  4.37469195e-02,  1.98818698e-02,\n",
              "        -4.31449600e-03,  3.17530984e-02,  1.96411446e-03,  4.29583531e-04,\n",
              "        -1.12633971e-01, -1.04231228e-01,  3.62575926e-02,  6.75182191e-03,\n",
              "        -1.96727865e-04,  6.82048315e-01,  9.75804149e-02, -8.51824297e-02,\n",
              "         2.76303525e-03,  1.91944973e-02,  8.25878035e-02, -3.66684914e-05,\n",
              "         2.99249513e-02,  2.66877018e-04,  2.06331541e-06]),\n",
              " array([80227028.3104757]))"
            ]
          },
          "metadata": {},
          "execution_count": 113
        }
      ]
    },
    {
      "cell_type": "code",
      "source": [
        "y_pred_train = lasso_reg.predict(X_poly_train)\n",
        "print('Error medio Absoluto (MAE):', metrics.mean_absolute_error(y_train, y_pred_train))\n",
        "print('Root Mean Squared Error:', np.sqrt(metrics.mean_squared_error(y_train, y_pred_train)))\n",
        "print('r2_score',r2_score(y_train, y_pred_train))"
      ],
      "metadata": {
        "colab": {
          "base_uri": "https://localhost:8080/",
          "height": 0
        },
        "outputId": "1b81400a-3904-45c7-be91-c3da4a912800",
        "id": "HtLcZ8GNe5iQ"
      },
      "execution_count": 114,
      "outputs": [
        {
          "output_type": "stream",
          "name": "stdout",
          "text": [
            "Error medio Absoluto (MAE): 124944.9838894542\n",
            "Root Mean Squared Error: 185746.24941955038\n",
            "r2_score 0.7390905894103803\n"
          ]
        }
      ]
    },
    {
      "cell_type": "code",
      "source": [
        "y_pred_test = lasso_reg.predict(X_poly_test)\n",
        "print('Error medio Absoluto (MAE):', metrics.mean_absolute_error(y_test, y_pred_test))\n",
        "print('Root Mean Squared Error:', np.sqrt(metrics.mean_squared_error(y_test, y_pred_test)))\n",
        "print('r2_score',r2_score(y_test, y_pred_test))"
      ],
      "metadata": {
        "colab": {
          "base_uri": "https://localhost:8080/",
          "height": 0
        },
        "outputId": "2ccd94f0-0988-47f2-a4ca-d936648491d6",
        "id": "gfqOAEQoe5iQ"
      },
      "execution_count": 115,
      "outputs": [
        {
          "output_type": "stream",
          "name": "stdout",
          "text": [
            "Error medio Absoluto (MAE): 122442.49286885232\n",
            "Root Mean Squared Error: 187920.41772823734\n",
            "r2_score 0.7758524230465759\n"
          ]
        }
      ]
    },
    {
      "cell_type": "markdown",
      "source": [
        "# GRAFICOS DE MAE Y R2"
      ],
      "metadata": {
        "id": "qv4Hh2PolFvi"
      }
    },
    {
      "cell_type": "code",
      "source": [
        "from sklearn.model_selection import learning_curve\n",
        "\n",
        "train_sizes, train_scores, valid_scores = learning_curve(\n",
        "    LinearRegression(), X, y, train_sizes=np.linspace(0.01, 1.0, 40), cv=5,\n",
        "    scoring=\"neg_mean_absolute_error\")\n",
        "\n",
        "train_errors = -train_scores.mean(axis=1)\n",
        "valid_errors = -valid_scores.mean(axis=1)\n",
        "\n",
        "plt.figure(figsize=(6, 4))  # extra code – not needed, just formatting\n",
        "plt.plot(train_sizes, train_errors, \"r-+\", linewidth=2, label=\"train\")\n",
        "plt.plot(train_sizes, valid_errors, \"b-\", linewidth=3, label=\"valid\")\n",
        "\n",
        "\n",
        "plt.title(\"Modelos Regresion Lineal\", fontdict=None, loc='center')\n",
        "plt.xlabel(\"Training set size\")\n",
        "plt.ylabel(\"MAE\")\n",
        "plt.grid()\n",
        "plt.legend(loc=\"upper right\")\n",
        "plt.axis([100, 20000, 120000, 150000])\n",
        "\n",
        "plt.show()"
      ],
      "metadata": {
        "colab": {
          "base_uri": "https://localhost:8080/",
          "height": 295
        },
        "id": "DslgzsMngmRY",
        "outputId": "12009bfd-825c-4c82-bbba-c4e19b1f50c8"
      },
      "execution_count": 134,
      "outputs": [
        {
          "output_type": "display_data",
          "data": {
            "text/plain": [
              "<Figure size 432x288 with 1 Axes>"
            ],
            "image/png": "[encoded data removed]"
          },
          "metadata": {
            "needs_background": "light"
          }
        }
      ]
    },
    {
      "cell_type": "code",
      "source": [
        "\n",
        "\n",
        "train_sizes, train_scores, valid_scores = learning_curve(\n",
        "    LinearRegression(), X, y, train_sizes=np.linspace(0.01, 1.0, 40), cv=5,\n",
        "    scoring=\"r2\")\n",
        "\n",
        "train_errors = train_scores.mean(axis=1)\n",
        "valid_errors = valid_scores.mean(axis=1)\n",
        "\n",
        "plt.figure(figsize=(6, 4))  # extra code – not needed, just formatting\n",
        "plt.plot(train_sizes, train_errors, \"r-+\", linewidth=2, label=\"train\")\n",
        "plt.plot(train_sizes, valid_errors, \"b-\", linewidth=3, label=\"valid\")\n",
        "\n",
        "plt.title(\"Modelos Regresion Lineal\", fontdict=None, loc='center')\n",
        "plt.xlabel(\"Training set size\")\n",
        "plt.ylabel(\"R2\")\n",
        "plt.grid()\n",
        "plt.legend(loc=\"upper right\")\n",
        "plt.axis([100, 20000, 0.4, 1])\n",
        "\n",
        "plt.show()"
      ],
      "metadata": {
        "colab": {
          "base_uri": "https://localhost:8080/",
          "height": 295
        },
        "id": "XFvFfNe7jCP8",
        "outputId": "19bc730c-98c4-45d4-93a7-d3431dddca77"
      },
      "execution_count": 135,
      "outputs": [
        {
          "output_type": "display_data",
          "data": {
            "text/plain": [
              "<Figure size 432x288 with 1 Axes>"
            ],
            "image/png": "[encoded data removed]"
          },
          "metadata": {
            "needs_background": "light"
          }
        }
      ]
    },
    {
      "cell_type": "code",
      "source": [
        "\n",
        "\n",
        "train_sizes, train_scores, valid_scores = learning_curve(\n",
        "    LinearRegression(), X_poly_train, y_train, train_sizes=np.linspace(0.01, 1.0, 40), cv=5,\n",
        "    scoring=\"neg_mean_absolute_error\")\n",
        "\n",
        "train_errors = -train_scores.mean(axis=1)\n",
        "valid_errors = -valid_scores.mean(axis=1)\n",
        "\n",
        "plt.figure(figsize=(6, 4))  # extra code – not needed, just formatting\n",
        "plt.plot(train_sizes, train_errors, \"r-+\", linewidth=2, label=\"train\")\n",
        "plt.plot(train_sizes, valid_errors, \"b-\", linewidth=3, label=\"valid\")\n",
        "\n",
        "\n",
        "plt.title(\"Modelos Regresion Polinomial\", fontdict=None, loc='center')\n",
        "plt.xlabel(\"Training set size\")\n",
        "plt.ylabel(\"MAE\")\n",
        "plt.grid()\n",
        "plt.legend(loc=\"upper right\")\n",
        "plt.axis([100, 20000, 120000, 150000])\n",
        "\n",
        "plt.show()"
      ],
      "metadata": {
        "colab": {
          "base_uri": "https://localhost:8080/",
          "height": 295
        },
        "id": "xiX2XEvUlTpw",
        "outputId": "6be5cf3a-af6d-4106-9212-b82bf07cf952"
      },
      "execution_count": 136,
      "outputs": [
        {
          "output_type": "display_data",
          "data": {
            "text/plain": [
              "<Figure size 432x288 with 1 Axes>"
            ],
            "image/png": "[encoded data removed]"
          },
          "metadata": {
            "needs_background": "light"
          }
        }
      ]
    },
    {
      "cell_type": "code",
      "source": [
        "train_sizes, train_scores, valid_scores = learning_curve(\n",
        "    LinearRegression(), X_poly_train, y_train, train_sizes=np.linspace(0.01, 1.0, 40), cv=5,\n",
        "    scoring=\"r2\")\n",
        "\n",
        "train_errors = train_scores.mean(axis=1)\n",
        "valid_errors = valid_scores.mean(axis=1)\n",
        "\n",
        "plt.figure(figsize=(6, 4))  # extra code – not needed, just formatting\n",
        "plt.plot(train_sizes, train_errors, \"r-+\", linewidth=2, label=\"train\")\n",
        "plt.plot(train_sizes, valid_errors, \"b-\", linewidth=3, label=\"valid\")\n",
        "\n",
        "plt.title(\"Modelos Polinomial\", fontdict=None, loc='center')\n",
        "plt.xlabel(\"Training set size\")\n",
        "plt.ylabel(\"R2\")\n",
        "plt.grid()\n",
        "plt.legend(loc=\"upper right\")\n",
        "plt.axis([100, 20000, 0.4, 1])\n",
        "\n",
        "plt.show()"
      ],
      "metadata": {
        "colab": {
          "base_uri": "https://localhost:8080/",
          "height": 295
        },
        "id": "UJ58tWnql2ho",
        "outputId": "d09c238c-020b-496a-84fe-fec957a136f9"
      },
      "execution_count": 137,
      "outputs": [
        {
          "output_type": "display_data",
          "data": {
            "text/plain": [
              "<Figure size 432x288 with 1 Axes>"
            ],
            "image/png": "[encoded data removed]"
          },
          "metadata": {
            "needs_background": "light"
          }
        }
      ]
    },
    {
      "cell_type": "code",
      "source": [
        "train_sizes, train_scores, valid_scores = learning_curve(\n",
        "    Ridge(alpha=0.1), X_poly_train, y_train, train_sizes=np.linspace(0.01, 1.0, 40), cv=5,\n",
        "    scoring=\"neg_mean_absolute_error\")\n",
        "\n",
        "train_errors = -train_scores.mean(axis=1)\n",
        "valid_errors = -valid_scores.mean(axis=1)\n",
        "\n",
        "plt.figure(figsize=(6, 4))  # extra code – not needed, just formatting\n",
        "plt.plot(train_sizes, train_errors, \"r-+\", linewidth=2, label=\"train\")\n",
        "plt.plot(train_sizes, valid_errors, \"b-\", linewidth=3, label=\"valid\")\n",
        "\n",
        "\n",
        "plt.title(\"Modelos Regresion Ridge\", fontdict=None, loc='center')\n",
        "plt.xlabel(\"Training set size\")\n",
        "plt.ylabel(\"MAE\")\n",
        "plt.grid()\n",
        "plt.legend(loc=\"upper right\")\n",
        "plt.axis([100, 20000, 120000, 150000])\n",
        "\n",
        "plt.show()"
      ],
      "metadata": {
        "colab": {
          "base_uri": "https://localhost:8080/",
          "height": 295
        },
        "id": "Swu65rdamuMi",
        "outputId": "63eaec3e-3ff0-4996-d1d6-85bc72b3b305"
      },
      "execution_count": 151,
      "outputs": [
        {
          "output_type": "display_data",
          "data": {
            "text/plain": [
              "<Figure size 432x288 with 1 Axes>"
            ],
            "image/png": "[encoded data removed]"
          },
          "metadata": {
            "needs_background": "light"
          }
        }
      ]
    },
    {
      "cell_type": "code",
      "source": [
        "train_sizes, train_scores, valid_scores = learning_curve(\n",
        "    Ridge(alpha=0.1), X_poly_train, y_train, train_sizes=np.linspace(0.01, 1.0, 40), cv=5,\n",
        "    scoring=\"r2\")\n",
        "\n",
        "train_errors = train_scores.mean(axis=1)\n",
        "valid_errors = valid_scores.mean(axis=1)\n",
        "\n",
        "plt.figure(figsize=(6, 4))  # extra code – not needed, just formatting\n",
        "plt.plot(train_sizes, train_errors, \"r-+\", linewidth=2, label=\"train\")\n",
        "plt.plot(train_sizes, valid_errors, \"b-\", linewidth=3, label=\"valid\")\n",
        "\n",
        "plt.title(\"Modelos Regresion Ridge\", fontdict=None, loc='center')\n",
        "plt.xlabel(\"Training set size\")\n",
        "plt.ylabel(\"R2\")\n",
        "plt.grid()\n",
        "plt.legend(loc=\"upper right\")\n",
        "plt.axis([100, 20000, 0.4, 1])\n",
        "\n",
        "plt.show()"
      ],
      "metadata": {
        "colab": {
          "base_uri": "https://localhost:8080/",
          "height": 295
        },
        "id": "z9FHiqcZnGPf",
        "outputId": "48c40406-0b64-4371-f2ad-be93a4c65d1e"
      },
      "execution_count": 152,
      "outputs": [
        {
          "output_type": "display_data",
          "data": {
            "text/plain": [
              "<Figure size 432x288 with 1 Axes>"
            ],
            "image/png": "[encoded data removed]"
          },
          "metadata": {
            "needs_background": "light"
          }
        }
      ]
    },
    {
      "cell_type": "code",
      "source": [
        "train_sizes, train_scores, valid_scores = learning_curve(\n",
        "    Lasso(alpha=100, max_iter=10000), X_poly_train, y_train, train_sizes=np.linspace(0.01, 1.0, 40), cv=3,\n",
        "    scoring=\"neg_mean_absolute_error\")\n",
        "\n",
        "train_errors = -train_scores.mean(axis=1)\n",
        "valid_errors = -valid_scores.mean(axis=1)\n",
        "\n",
        "plt.figure(figsize=(6, 4))  # extra code – not needed, just formatting\n",
        "plt.plot(train_sizes, train_errors, \"r-+\", linewidth=2, label=\"train\")\n",
        "plt.plot(train_sizes, valid_errors, \"b-\", linewidth=3, label=\"valid\")\n",
        "\n",
        "\n",
        "plt.title(\"Modelos Regresion Lasso\", fontdict=None, loc='center')\n",
        "plt.xlabel(\"Training set size\")\n",
        "plt.ylabel(\"MAE\")\n",
        "plt.grid()\n",
        "plt.legend(loc=\"upper right\")\n",
        "plt.axis([100, 20000, 120000, 150000])\n",
        "\n",
        "plt.show()"
      ],
      "metadata": {
        "colab": {
          "base_uri": "https://localhost:8080/",
          "height": 295
        },
        "id": "bM2kbWTwnPHY",
        "outputId": "71a49b57-bb96-4c23-ff62-4bb728579ec2"
      },
      "execution_count": 217,
      "outputs": [
        {
          "output_type": "display_data",
          "data": {
            "text/plain": [
              "<Figure size 432x288 with 1 Axes>"
            ],
            "image/png": "[encoded data removed]"
          },
          "metadata": {
            "needs_background": "light"
          }
        }
      ]
    },
    {
      "cell_type": "code",
      "source": [
        "train_sizes, train_scores, valid_scores = learning_curve(\n",
        "    Lasso(alpha=0.1), X_poly_train, y_train, train_sizes=np.linspace(0.01, 1.0, 40), cv=5,\n",
        "    scoring=\"r2\")\n",
        "\n",
        "train_errors = train_scores.mean(axis=1)\n",
        "valid_errors = valid_scores.mean(axis=1)\n",
        "\n",
        "plt.figure(figsize=(6, 4))  # extra code – not needed, just formatting\n",
        "plt.plot(train_sizes, train_errors, \"r-+\", linewidth=2, label=\"train\")\n",
        "plt.plot(train_sizes, valid_errors, \"b-\", linewidth=3, label=\"valid\")\n",
        "\n",
        "plt.title(\"Modelos Regresion Lasso\", fontdict=None, loc='center')\n",
        "plt.xlabel(\"Training set size\")\n",
        "plt.ylabel(\"R2\")\n",
        "plt.grid()\n",
        "plt.legend(loc=\"upper right\")\n",
        "plt.axis([100, 20000, 0.4, 1])\n",
        "\n",
        "plt.show()"
      ],
      "metadata": {
        "colab": {
          "base_uri": "https://localhost:8080/",
          "height": 295
        },
        "id": "IrR20tJrnYxu",
        "outputId": "3a0eafac-8d92-4bed-d454-5fd3458dff2b"
      },
      "execution_count": 218,
      "outputs": [
        {
          "output_type": "display_data",
          "data": {
            "text/plain": [
              "<Figure size 432x288 with 1 Axes>"
            ],
            "image/png": "[encoded data removed]"
          },
          "metadata": {
            "needs_background": "light"
          }
        }
      ]
    },
    {
      "cell_type": "markdown",
      "source": [
        "**Explica tus resultados, que método conviene más a la empresa, ¿por que?, ¿que porcentajes de entrenamiento y evaluación usaste?, ¿que error tienes?, ¿es bueno?, ¿cómo lo sabes?**\n",
        "\n",
        "Al igual que en el caso anterior el modelo polinomial ha generado un buen ajuste y no hay mayor mejora en el mismo con los dos modelos regislados.  \n",
        "\n",
        "Utilizando la métrica de R2, concluye que el mejor modelo es el polinomial de grado 2, puede que con un mayor nivel de grado el ajuste haya sido mayor, pero también se pudo generar un modelo sobre-entrenado. "
      ],
      "metadata": {
        "id": "qymcYRJxwYB1"
      }
    },
    {
      "cell_type": "markdown",
      "source": [
        "**Conclusiones**\n",
        "\n",
        "1. Para modelos sencillos los efectos de agregar modelos regulados no son significativos, con un modelo polinomial de segundo grado generan un buen ajuste, esta conclusión se valida respecto al anterior ejercicio, no hubo gran impacto con el uso de modelos regulados. \n",
        "2. Las curvas de entrenamiento muestran de manera constante que los modelos mejora con más datos de entrenamiento, generando un buen ajuste respecto a sus datos de validación.\n",
        "3. En este caso el modelo de Lasso generar un performance mejor que el modelo original, debido a que la data no presente mayores problemas de datos extremos. En el caso de la gráfica del modelo de Lasso se generaron alerta de \"no convergencia del modelo\", por ello las gráficas no fueron realizadas. "
      ],
      "metadata": {
        "id": "JK3MsPpow0Fb"
      }
    }
  ]
}
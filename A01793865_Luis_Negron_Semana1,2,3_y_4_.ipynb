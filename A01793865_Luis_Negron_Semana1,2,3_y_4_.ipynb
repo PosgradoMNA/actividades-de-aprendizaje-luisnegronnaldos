{
  "nbformat": 4,
  "nbformat_minor": 0,
  "metadata": {
    "colab": {
      "provenance": [],
      "authorship_tag": "ABX9TyMRdWn0Lf9uK3iBySDY0waP",
      "include_colab_link": true
    },
    "kernelspec": {
      "name": "python3",
      "display_name": "Python 3"
    },
    "language_info": {
      "name": "python"
    }
  },
  "cells": [
    {
      "cell_type": "markdown",
      "metadata": {
        "id": "view-in-github",
        "colab_type": "text"
      },
      "source": [
        "<a href=\"https://colab.research.google.com/github/PosgradoMNA/actividades-de-aprendizaje-luisnegronnaldos/blob/main/A01793865_Luis_Negron_Semana1%2C2%2C3_y_4_.ipynb\" target=\"_parent\"><img src=\"https://colab.research.google.com/assets/colab-badge.svg\" alt=\"Open In Colab\"/></a>"
      ]
    },
    {
      "cell_type": "markdown",
      "source": [
        "\n",
        "Nombre: Luis Alfredo Negron Naldos\n",
        "\n",
        "Matricula: A01793865\n",
        "\n",
        "Curso: Ciencias y Analítica de Datos\n",
        "\n",
        "Profesor: Jobish Vallikavungal Devassia"
      ],
      "metadata": {
        "id": "5Y3I1ifVnFsX"
      }
    },
    {
      "cell_type": "markdown",
      "source": [
        "## **MODULO 1**"
      ],
      "metadata": {
        "id": "6q_j58YEvFx4"
      }
    },
    {
      "cell_type": "code",
      "execution_count": null,
      "metadata": {
        "id": "qJlj_TLfiAUi",
        "outputId": "03f3dd7b-ead9-494b-b61a-f4fc227a6dbf",
        "colab": {
          "base_uri": "https://localhost:8080/"
        }
      },
      "outputs": [
        {
          "output_type": "stream",
          "name": "stdout",
          "text": [
            "Hello World\n"
          ]
        }
      ],
      "source": [
        "print(\"Hello World\")"
      ]
    },
    {
      "cell_type": "code",
      "source": [
        "print(int(\"1\"))\n",
        "print(bool(\"1\"))"
      ],
      "metadata": {
        "outputId": "27a4acee-744b-4a48-ccc3-bc4ff3870ecf",
        "colab": {
          "base_uri": "https://localhost:8080/"
        },
        "id": "aX4lgNZ9-eMx"
      },
      "execution_count": null,
      "outputs": [
        {
          "output_type": "stream",
          "name": "stdout",
          "text": [
            "1\n",
            "True\n"
          ]
        }
      ]
    },
    {
      "cell_type": "code",
      "source": [
        "Letters=\"ABCDEFGHIJK\"\n",
        "Letters[0:4]"
      ],
      "metadata": {
        "colab": {
          "base_uri": "https://localhost:8080/",
          "height": 35
        },
        "id": "S031I6Q_4RbP",
        "outputId": "07b921b1-95a1-4415-a3d5-8c932f52d08a"
      },
      "execution_count": null,
      "outputs": [
        {
          "output_type": "execute_result",
          "data": {
            "text/plain": [
              "'ABCD'"
            ],
            "application/vnd.google.colaboratory.intrinsic+json": {
              "type": "string"
            }
          },
          "metadata": {},
          "execution_count": 11
        }
      ]
    },
    {
      "cell_type": "code",
      "source": [
        "Good=\"GsoAo+d\"\n",
        "Good[::2]"
      ],
      "metadata": {
        "colab": {
          "base_uri": "https://localhost:8080/",
          "height": 35
        },
        "id": "ZlQftL_I4Xl7",
        "outputId": "f82e82df-6bec-4983-93ea-19d9dbabbc7e"
      },
      "execution_count": null,
      "outputs": [
        {
          "output_type": "execute_result",
          "data": {
            "text/plain": [
              "'Good'"
            ],
            "application/vnd.google.colaboratory.intrinsic+json": {
              "type": "string"
            }
          },
          "metadata": {},
          "execution_count": 12
        }
      ]
    },
    {
      "cell_type": "code",
      "source": [
        "\"uppercase\"\n",
        "\"uppercase\".upper()"
      ],
      "metadata": {
        "colab": {
          "base_uri": "https://localhost:8080/",
          "height": 35
        },
        "id": "vWoMQxTz4dc-",
        "outputId": "0982e707-3843-4531-9e75-767d7aebdf12"
      },
      "execution_count": null,
      "outputs": [
        {
          "output_type": "execute_result",
          "data": {
            "text/plain": [
              "'UPPERCASE'"
            ],
            "application/vnd.google.colaboratory.intrinsic+json": {
              "type": "string"
            }
          },
          "metadata": {},
          "execution_count": 13
        }
      ]
    },
    {
      "cell_type": "code",
      "source": [
        "Name = \"Michael Jackson\"\n",
        "Name = Name + \"is the best\""
      ],
      "metadata": {
        "id": "01OosVQd5Owb"
      },
      "execution_count": null,
      "outputs": []
    },
    {
      "cell_type": "code",
      "source": [
        "Name"
      ],
      "metadata": {
        "colab": {
          "base_uri": "https://localhost:8080/",
          "height": 35
        },
        "id": "IwRTHZgx5Zud",
        "outputId": "01390abd-bb55-40f1-8030-94349acd4040"
      },
      "execution_count": null,
      "outputs": [
        {
          "output_type": "execute_result",
          "data": {
            "text/plain": [
              "'Michael Jacksonis the best'"
            ],
            "application/vnd.google.colaboratory.intrinsic+json": {
              "type": "string"
            }
          },
          "metadata": {},
          "execution_count": 15
        }
      ]
    },
    {
      "cell_type": "code",
      "source": [
        "print (\"Michael Jackson \\n is the best\")"
      ],
      "metadata": {
        "colab": {
          "base_uri": "https://localhost:8080/"
        },
        "id": "OZi9UANb5jxb",
        "outputId": "01833b6f-1e98-45cd-9ed3-d1ff3d4dc2ea"
      },
      "execution_count": null,
      "outputs": [
        {
          "output_type": "stream",
          "name": "stdout",
          "text": [
            "Michael Jackson \n",
            " is the best\n"
          ]
        }
      ]
    },
    {
      "cell_type": "code",
      "source": [
        "print (\"Michael Jackson \\t is the best\")"
      ],
      "metadata": {
        "colab": {
          "base_uri": "https://localhost:8080/"
        },
        "id": "LZMe8h8Z6STE",
        "outputId": "f6549753-2881-4393-acc4-25101f0e03ff"
      },
      "execution_count": null,
      "outputs": [
        {
          "output_type": "stream",
          "name": "stdout",
          "text": [
            "Michael Jackson \t is the best\n"
          ]
        }
      ]
    },
    {
      "cell_type": "code",
      "source": [
        "A = \"Thriller is the best\"\n",
        "B = A.replace (\"Thriller\", \"Michael\")\n",
        "B"
      ],
      "metadata": {
        "colab": {
          "base_uri": "https://localhost:8080/",
          "height": 35
        },
        "id": "OrP5CGdU6ZcL",
        "outputId": "72969485-5cc2-4d0d-ee06-c30ab4d3dea6"
      },
      "execution_count": null,
      "outputs": [
        {
          "output_type": "execute_result",
          "data": {
            "text/plain": [
              "'Michael is the best'"
            ],
            "application/vnd.google.colaboratory.intrinsic+json": {
              "type": "string"
            }
          },
          "metadata": {},
          "execution_count": 9
        }
      ]
    },
    {
      "cell_type": "code",
      "source": [
        "'1' + '2'"
      ],
      "metadata": {
        "id": "8onSFqJs7Aqc",
        "outputId": "e383fea3-4c29-4982-957b-2683f8dadac8",
        "colab": {
          "base_uri": "https://localhost:8080/",
          "height": 35
        }
      },
      "execution_count": null,
      "outputs": [
        {
          "output_type": "execute_result",
          "data": {
            "text/plain": [
              "'12'"
            ],
            "application/vnd.google.colaboratory.intrinsic+json": {
              "type": "string"
            }
          },
          "metadata": {},
          "execution_count": 8
        }
      ]
    },
    {
      "cell_type": "code",
      "execution_count": null,
      "metadata": {
        "colab": {
          "base_uri": "https://localhost:8080/"
        },
        "outputId": "7a940452-00ce-4226-958a-859cfed16bce",
        "id": "e7dCsTgN4JbE"
      },
      "outputs": [
        {
          "output_type": "stream",
          "name": "stdout",
          "text": [
            "Hello World\n"
          ]
        }
      ],
      "source": [
        "print(\"Hello World\")"
      ]
    },
    {
      "cell_type": "code",
      "source": [
        "print(\"Hello\\nWorld\")"
      ],
      "metadata": {
        "id": "amXIW6Fq3OHi",
        "outputId": "b94dd3c5-68c8-4fa1-ee76-65e43c6c146c",
        "colab": {
          "base_uri": "https://localhost:8080/"
        }
      },
      "execution_count": null,
      "outputs": [
        {
          "output_type": "stream",
          "name": "stdout",
          "text": [
            "Hello\n",
            "World\n"
          ]
        }
      ]
    },
    {
      "cell_type": "code",
      "source": [
        "# this is a comment"
      ],
      "metadata": {
        "id": "qfrhUxXv3R2o"
      },
      "execution_count": null,
      "outputs": []
    },
    {
      "cell_type": "code",
      "source": [
        "type(\"Hello World\")"
      ],
      "metadata": {
        "id": "xljYOtzs3Z8i",
        "outputId": "760dad0f-4472-4334-814e-0327fb408e56",
        "colab": {
          "base_uri": "https://localhost:8080/"
        }
      },
      "execution_count": null,
      "outputs": [
        {
          "output_type": "execute_result",
          "data": {
            "text/plain": [
              "str"
            ]
          },
          "metadata": {},
          "execution_count": 4
        }
      ]
    },
    {
      "cell_type": "code",
      "source": [
        "type(\"1.1\")"
      ],
      "metadata": {
        "id": "EYKIDwah3a-C",
        "outputId": "512605e7-80bb-47c3-9220-d8ecf0f24309",
        "colab": {
          "base_uri": "https://localhost:8080/"
        }
      },
      "execution_count": null,
      "outputs": [
        {
          "output_type": "execute_result",
          "data": {
            "text/plain": [
              "str"
            ]
          },
          "metadata": {},
          "execution_count": 5
        }
      ]
    },
    {
      "cell_type": "code",
      "source": [
        "print(int(\"1\"))\n",
        "print(bool(\"1\"))"
      ],
      "metadata": {
        "id": "GnFU_DAP3eWS",
        "outputId": "27a4acee-744b-4a48-ccc3-bc4ff3870ecf",
        "colab": {
          "base_uri": "https://localhost:8080/"
        }
      },
      "execution_count": null,
      "outputs": [
        {
          "output_type": "stream",
          "name": "stdout",
          "text": [
            "1\n",
            "True\n"
          ]
        }
      ]
    },
    {
      "cell_type": "markdown",
      "source": [
        "## **MODULO 2**"
      ],
      "metadata": {
        "id": "5bkBHnRNvBK-"
      }
    },
    {
      "cell_type": "code",
      "source": [
        "Ratings = (10, 9, 8 , 7, 5, 7, 6, 8 ,9)"
      ],
      "metadata": {
        "id": "sxdUzUGSvIO5"
      },
      "execution_count": null,
      "outputs": []
    },
    {
      "cell_type": "code",
      "source": [
        "tuple1 = ( \"disco\", 10, 1.2)\n",
        "tuple1[1]"
      ],
      "metadata": {
        "colab": {
          "base_uri": "https://localhost:8080/"
        },
        "id": "IEwj_anQvmt2",
        "outputId": "5173b2a0-d204-49a6-f798-d507472d1cd4"
      },
      "execution_count": null,
      "outputs": [
        {
          "output_type": "execute_result",
          "data": {
            "text/plain": [
              "10"
            ]
          },
          "metadata": {},
          "execution_count": 5
        }
      ]
    },
    {
      "cell_type": "code",
      "source": [
        "tuple1 = ( \"disco\", 10, 1.2)\n",
        "tuple1[-2]"
      ],
      "metadata": {
        "colab": {
          "base_uri": "https://localhost:8080/"
        },
        "id": "9hTwuliov8S1",
        "outputId": "9740add0-9f00-4c05-cca2-8651f6e40166"
      },
      "execution_count": null,
      "outputs": [
        {
          "output_type": "execute_result",
          "data": {
            "text/plain": [
              "10"
            ]
          },
          "metadata": {},
          "execution_count": 7
        }
      ]
    },
    {
      "cell_type": "code",
      "source": [
        "tuple2= (\"disco\", 10, 1.2, \"hard rock\", 10)\n",
        "tuple2[0:3]"
      ],
      "metadata": {
        "colab": {
          "base_uri": "https://localhost:8080/"
        },
        "id": "UiT_JISzwFpn",
        "outputId": "d30660f5-5106-45bd-cf85-c731acb0a47c"
      },
      "execution_count": null,
      "outputs": [
        {
          "output_type": "execute_result",
          "data": {
            "text/plain": [
              "('disco', 10, 1.2)"
            ]
          },
          "metadata": {},
          "execution_count": 2
        }
      ]
    },
    {
      "cell_type": "code",
      "source": [
        "ratings1 = Ratings"
      ],
      "metadata": {
        "id": "W1Lzos00wg1t"
      },
      "execution_count": null,
      "outputs": []
    },
    {
      "cell_type": "code",
      "source": [
        "ratingsorted = sorted(Ratings)\n",
        "ratingsorted"
      ],
      "metadata": {
        "colab": {
          "base_uri": "https://localhost:8080/"
        },
        "id": "ZlzANhd-wyF4",
        "outputId": "b4e2d80c-6f02-43c8-b6e6-1c16dbeba4b5"
      },
      "execution_count": null,
      "outputs": [
        {
          "output_type": "execute_result",
          "data": {
            "text/plain": [
              "[5, 6, 7, 7, 8, 8, 9, 9, 10]"
            ]
          },
          "metadata": {},
          "execution_count": 8
        }
      ]
    },
    {
      "cell_type": "code",
      "source": [
        "NT = (1,2,(\"pop\", \"rock\"), (3,4), (\"disco\", 2, 3))\n",
        "NT[2][1]"
      ],
      "metadata": {
        "colab": {
          "base_uri": "https://localhost:8080/",
          "height": 35
        },
        "id": "GSee870IxzCq",
        "outputId": "818555b5-076d-4780-9652-5a65dd40a5f8"
      },
      "execution_count": null,
      "outputs": [
        {
          "output_type": "execute_result",
          "data": {
            "text/plain": [
              "'rock'"
            ],
            "application/vnd.google.colaboratory.intrinsic+json": {
              "type": "string"
            }
          },
          "metadata": {},
          "execution_count": 9
        }
      ]
    },
    {
      "cell_type": "code",
      "source": [
        "list = [\"michael jackson\", 10.2, 1982,2,3,4]\n",
        "list[0]\n",
        "list[3:5]"
      ],
      "metadata": {
        "colab": {
          "base_uri": "https://localhost:8080/"
        },
        "id": "KE2SaKTTyiDx",
        "outputId": "5bba6e03-1a55-414a-8d8d-7d2c7f03711d"
      },
      "execution_count": null,
      "outputs": [
        {
          "output_type": "execute_result",
          "data": {
            "text/plain": [
              "[2, 3]"
            ]
          },
          "metadata": {},
          "execution_count": 10
        }
      ]
    },
    {
      "cell_type": "code",
      "source": [
        "L= list + [3, 4]\n",
        "L"
      ],
      "metadata": {
        "colab": {
          "base_uri": "https://localhost:8080/"
        },
        "id": "VP8H1k9CzESE",
        "outputId": "625233e9-d444-42b8-b419-02d08d66ad40"
      },
      "execution_count": null,
      "outputs": [
        {
          "output_type": "execute_result",
          "data": {
            "text/plain": [
              "['michael jackson', 10.2, 1982, 2, 3, 4, 3, 4]"
            ]
          },
          "metadata": {},
          "execution_count": 11
        }
      ]
    },
    {
      "cell_type": "code",
      "source": [
        "L.extend([10,20])\n",
        "L"
      ],
      "metadata": {
        "colab": {
          "base_uri": "https://localhost:8080/"
        },
        "id": "MMq8GVttzOg7",
        "outputId": "b9911e17-a7c7-4667-bd51-d902f6ed8e34"
      },
      "execution_count": null,
      "outputs": [
        {
          "output_type": "execute_result",
          "data": {
            "text/plain": [
              "['michael jackson', 10.2, 1982, 2, 3, 4, 3, 4, 10, 20]"
            ]
          },
          "metadata": {},
          "execution_count": 12
        }
      ]
    },
    {
      "cell_type": "code",
      "source": [
        "A=[\"disco\", 10, 1.2]\n",
        "A[0] = \"hard rock\"\n",
        "A"
      ],
      "metadata": {
        "colab": {
          "base_uri": "https://localhost:8080/"
        },
        "id": "3unLYzh5zhSg",
        "outputId": "cbeb64bd-03e7-445d-8e5e-699eb60fa39e"
      },
      "execution_count": null,
      "outputs": [
        {
          "output_type": "execute_result",
          "data": {
            "text/plain": [
              "['hard rock', 10, 1.2]"
            ]
          },
          "metadata": {},
          "execution_count": 15
        }
      ]
    },
    {
      "cell_type": "code",
      "source": [
        "del(A[0])\n",
        "A"
      ],
      "metadata": {
        "colab": {
          "base_uri": "https://localhost:8080/"
        },
        "id": "0keqUztyz4n7",
        "outputId": "a1946402-3046-4fb0-96a7-e54927992be0"
      },
      "execution_count": null,
      "outputs": [
        {
          "output_type": "execute_result",
          "data": {
            "text/plain": [
              "[10, 1.2]"
            ]
          },
          "metadata": {},
          "execution_count": 16
        }
      ]
    },
    {
      "cell_type": "code",
      "source": [
        "B= A\n",
        "B\n"
      ],
      "metadata": {
        "colab": {
          "base_uri": "https://localhost:8080/"
        },
        "id": "7gAAVLGt0L8B",
        "outputId": "959bb5e6-d34e-48b8-9e2a-9ed982b6f570"
      },
      "execution_count": null,
      "outputs": [
        {
          "output_type": "execute_result",
          "data": {
            "text/plain": [
              "[10, 1.2]"
            ]
          },
          "metadata": {},
          "execution_count": 17
        }
      ]
    },
    {
      "cell_type": "code",
      "source": [
        "B[0]= \"banana\"\n",
        "A"
      ],
      "metadata": {
        "colab": {
          "base_uri": "https://localhost:8080/"
        },
        "id": "DbA1dVcv0thA",
        "outputId": "50d63d6a-b89e-4238-f643-d8158f6a98eb"
      },
      "execution_count": null,
      "outputs": [
        {
          "output_type": "execute_result",
          "data": {
            "text/plain": [
              "['banana', 1.2]"
            ]
          },
          "metadata": {},
          "execution_count": 18
        }
      ]
    },
    {
      "cell_type": "code",
      "source": [
        "set= {\"pop\", \"rock\", \"salsa\", \"pop\", \"metal\", \"pop\", \"salsa\"}\n",
        "set"
      ],
      "metadata": {
        "id": "fg9CthOR9Ssy",
        "outputId": "39550c6a-a5e5-4280-a6d3-11c712378e31",
        "colab": {
          "base_uri": "https://localhost:8080/"
        }
      },
      "execution_count": null,
      "outputs": [
        {
          "output_type": "execute_result",
          "data": {
            "text/plain": [
              "{'metal', 'pop', 'rock', 'salsa'}"
            ]
          },
          "metadata": {},
          "execution_count": 19
        }
      ]
    },
    {
      "cell_type": "code",
      "source": [
        "A={\"thriller\", \"Black in back\", \"AC/DC\"}\n",
        "A.add(\"NYNC\")\n",
        "A"
      ],
      "metadata": {
        "id": "iYDjB-yb9uf4",
        "outputId": "632eae73-ac19-462b-9789-e8a1343c4935",
        "colab": {
          "base_uri": "https://localhost:8080/"
        }
      },
      "execution_count": null,
      "outputs": [
        {
          "output_type": "execute_result",
          "data": {
            "text/plain": [
              "{'AC/DC', 'Black in back', 'NYNC', 'thriller'}"
            ]
          },
          "metadata": {},
          "execution_count": 20
        }
      ]
    },
    {
      "cell_type": "code",
      "source": [
        "A.remove(\"AC/DC\")\n",
        "A"
      ],
      "metadata": {
        "id": "c_qAaXar-yQq",
        "outputId": "e41f20e2-14b3-478c-f52b-5d132dae56e7",
        "colab": {
          "base_uri": "https://localhost:8080/"
        }
      },
      "execution_count": null,
      "outputs": [
        {
          "output_type": "execute_result",
          "data": {
            "text/plain": [
              "{'Black in back', 'NYNC', 'thriller'}"
            ]
          },
          "metadata": {},
          "execution_count": 21
        }
      ]
    },
    {
      "cell_type": "code",
      "source": [
        "\"Who\" in A"
      ],
      "metadata": {
        "id": "DEe-tKZi_DQs",
        "outputId": "e7f81101-ebca-4d7e-94e2-da3cb5d0e155",
        "colab": {
          "base_uri": "https://localhost:8080/"
        }
      },
      "execution_count": null,
      "outputs": [
        {
          "output_type": "execute_result",
          "data": {
            "text/plain": [
              "False"
            ]
          },
          "metadata": {},
          "execution_count": 23
        }
      ]
    },
    {
      "cell_type": "code",
      "source": [
        "B ={\"NYNC\", 5, \"thriller\"}\n",
        "set3 = A&B\n",
        "set3"
      ],
      "metadata": {
        "id": "iTPkWsFM_VoF",
        "outputId": "50897631-f8ca-4651-dbf0-fe7923c21eed",
        "colab": {
          "base_uri": "https://localhost:8080/"
        }
      },
      "execution_count": null,
      "outputs": [
        {
          "output_type": "execute_result",
          "data": {
            "text/plain": [
              "{'NYNC', 'thriller'}"
            ]
          },
          "metadata": {},
          "execution_count": 22
        }
      ]
    },
    {
      "cell_type": "code",
      "source": [
        "dict = {\"thriller\":1982, \"Back in Black\":1980, \"Thew dark side of the moon\": 1973, \"the bodyguard\": 1992}\n",
        "dict\n",
        "           "
      ],
      "metadata": {
        "colab": {
          "base_uri": "https://localhost:8080/"
        },
        "id": "L4hUpdPg-bdI",
        "outputId": "4ba88beb-19bd-4110-e5bf-58f58dc7cf28"
      },
      "execution_count": null,
      "outputs": [
        {
          "output_type": "execute_result",
          "data": {
            "text/plain": [
              "{'thriller': 1982,\n",
              " 'Back in Black': 1980,\n",
              " 'Thew dark side of the moon': 1973,\n",
              " 'the bodyguard': 1992}"
            ]
          },
          "metadata": {},
          "execution_count": 24
        }
      ]
    },
    {
      "cell_type": "code",
      "source": [
        "dict[\"thriller\"]"
      ],
      "metadata": {
        "colab": {
          "base_uri": "https://localhost:8080/"
        },
        "id": "M9wPDY7i_QSu",
        "outputId": "7a116fd1-6a59-4ea7-bf3c-10016364a0ea"
      },
      "execution_count": null,
      "outputs": [
        {
          "output_type": "execute_result",
          "data": {
            "text/plain": [
              "1982"
            ]
          },
          "metadata": {},
          "execution_count": 25
        }
      ]
    },
    {
      "cell_type": "code",
      "source": [
        "dict['peru']='2020'\n",
        "dict"
      ],
      "metadata": {
        "colab": {
          "base_uri": "https://localhost:8080/"
        },
        "id": "lAeO7vNf_ceZ",
        "outputId": "d0698679-72bc-47b9-f3ed-188441bce979"
      },
      "execution_count": null,
      "outputs": [
        {
          "output_type": "execute_result",
          "data": {
            "text/plain": [
              "{'Back in Black': 1980,\n",
              " 'Thew dark side of the moon': 1973,\n",
              " 'the bodyguard': 1992,\n",
              " 'peru': '2020'}"
            ]
          },
          "metadata": {},
          "execution_count": 27
        }
      ]
    },
    {
      "cell_type": "code",
      "source": [
        "del(dict['thriller'])\n",
        "dict"
      ],
      "metadata": {
        "colab": {
          "base_uri": "https://localhost:8080/"
        },
        "id": "OFezJuR-AHln",
        "outputId": "59c3d1a1-c343-4507-e303-9b49636b8d55"
      },
      "execution_count": null,
      "outputs": [
        {
          "output_type": "execute_result",
          "data": {
            "text/plain": [
              "{'Back in Black': 1980,\n",
              " 'Thew dark side of the moon': 1973,\n",
              " 'the bodyguard': 1992}"
            ]
          },
          "metadata": {},
          "execution_count": 26
        }
      ]
    },
    {
      "cell_type": "markdown",
      "source": [
        "## MODULO 3"
      ],
      "metadata": {
        "id": "HO6vcmeSAY5C"
      }
    },
    {
      "cell_type": "code",
      "source": [
        "a= 6\n",
        "a==7 \n"
      ],
      "metadata": {
        "colab": {
          "base_uri": "https://localhost:8080/"
        },
        "id": "QD3QGsIqAeSO",
        "outputId": "90ec11c6-98da-4d61-e87d-be44bc4094af"
      },
      "execution_count": null,
      "outputs": [
        {
          "output_type": "execute_result",
          "data": {
            "text/plain": [
              "False"
            ]
          },
          "metadata": {},
          "execution_count": 28
        }
      ]
    },
    {
      "cell_type": "code",
      "source": [
        "a>5"
      ],
      "metadata": {
        "colab": {
          "base_uri": "https://localhost:8080/"
        },
        "id": "ZtCcLGQWBfKw",
        "outputId": "58cbb992-bb52-46da-a09f-c94241c0ee3f"
      },
      "execution_count": null,
      "outputs": [
        {
          "output_type": "execute_result",
          "data": {
            "text/plain": [
              "True"
            ]
          },
          "metadata": {},
          "execution_count": 2
        }
      ]
    },
    {
      "cell_type": "code",
      "source": [
        "a<6"
      ],
      "metadata": {
        "colab": {
          "base_uri": "https://localhost:8080/"
        },
        "id": "vEml3PEgEH9f",
        "outputId": "0e54c346-e8d7-475b-b7de-9fa02ecbcfbe"
      },
      "execution_count": null,
      "outputs": [
        {
          "output_type": "execute_result",
          "data": {
            "text/plain": [
              "False"
            ]
          },
          "metadata": {},
          "execution_count": 3
        }
      ]
    },
    {
      "cell_type": "code",
      "source": [
        "a!=6"
      ],
      "metadata": {
        "colab": {
          "base_uri": "https://localhost:8080/"
        },
        "id": "oM0igzJmELgk",
        "outputId": "2ad5e6b6-6dc3-459b-8062-e36c845eadc0"
      },
      "execution_count": null,
      "outputs": [
        {
          "output_type": "execute_result",
          "data": {
            "text/plain": [
              "False"
            ]
          },
          "metadata": {},
          "execution_count": 4
        }
      ]
    },
    {
      "cell_type": "code",
      "source": [
        "age = 17\n",
        "if (age>18):\n",
        "  print(\"Entra al concierto\")\n",
        "print (\"No entra al concierto\")  "
      ],
      "metadata": {
        "colab": {
          "base_uri": "https://localhost:8080/"
        },
        "id": "dt1bHSaIEcAI",
        "outputId": "528d6e38-e15e-4bab-82c7-95f07ebd2c5b"
      },
      "execution_count": null,
      "outputs": [
        {
          "output_type": "stream",
          "name": "stdout",
          "text": [
            "No entra al concierto\n"
          ]
        }
      ]
    },
    {
      "cell_type": "code",
      "source": [
        "age = 17\n",
        "if (age>18):\n",
        "  print(\"Entra al concierto\")\n",
        "else:\n",
        "  print(\"se va a cenar\")\n",
        "\n",
        "print (\"Sigue caminando\")  "
      ],
      "metadata": {
        "colab": {
          "base_uri": "https://localhost:8080/"
        },
        "id": "rQNJUlDyFUZ8",
        "outputId": "f5640cc9-e07f-4c7f-bbb5-522a49a1b69f"
      },
      "execution_count": null,
      "outputs": [
        {
          "output_type": "stream",
          "name": "stdout",
          "text": [
            "se va a cenar\n",
            "Sigue caminando\n"
          ]
        }
      ]
    },
    {
      "cell_type": "code",
      "source": [
        "age = 18 \n",
        "if (age>18):\n",
        "  print(\"Entra al concierto\")\n",
        "elif(age==18):\n",
        "  print(\"Va al otro concierto\")\n",
        "else:\n",
        "  print(\"se va a cenar\")\n",
        "\n",
        "print (\"Sigue caminando\") "
      ],
      "metadata": {
        "colab": {
          "base_uri": "https://localhost:8080/"
        },
        "id": "rIqcNB9gF-Af",
        "outputId": "1b7f69b9-43e0-4040-d06e-c7fb5f3cef14"
      },
      "execution_count": null,
      "outputs": [
        {
          "output_type": "stream",
          "name": "stdout",
          "text": [
            "Va al otro concierto\n",
            "Sigue caminando\n"
          ]
        }
      ]
    },
    {
      "cell_type": "code",
      "source": [
        "squares = [\"red\", \"yellow\",\"green\",\"blue\",\"purple\"]\n",
        "for i in range(0,5):\n",
        "  squares[i]=\"black\"\n",
        "\n",
        "squares\n"
      ],
      "metadata": {
        "colab": {
          "base_uri": "https://localhost:8080/"
        },
        "id": "PEMiEfIQRuZl",
        "outputId": "cd6d0513-0e8e-4510-83da-01e16b286164"
      },
      "execution_count": null,
      "outputs": [
        {
          "output_type": "execute_result",
          "data": {
            "text/plain": [
              "['black', 'black', 'black', 'black', 'black']"
            ]
          },
          "metadata": {},
          "execution_count": 31
        }
      ]
    },
    {
      "cell_type": "code",
      "source": [
        "squares = ['red', 'yellow', 'green', 'purple', 'blue']\n",
        "\n",
        "for i in range(0, 5):\n",
        "    print(\"Antes \", i, 'es',  squares[i])\n",
        "    squares[i] = 'white'\n",
        "    print(\"Despues \", i, 'es',  squares[i])"
      ],
      "metadata": {
        "colab": {
          "base_uri": "https://localhost:8080/"
        },
        "id": "O_MJztNzWzEf",
        "outputId": "d0639eb3-2b66-4b03-ca28-1746b4c7f871"
      },
      "execution_count": null,
      "outputs": [
        {
          "output_type": "stream",
          "name": "stdout",
          "text": [
            "Antes  0 es red\n",
            "Despues  0 es white\n",
            "Antes  1 es yellow\n",
            "Despues  1 es white\n",
            "Antes  2 es green\n",
            "Despues  2 es white\n",
            "Antes  3 es purple\n",
            "Despues  3 es white\n",
            "Antes  4 es blue\n",
            "Despues  4 es white\n"
          ]
        }
      ]
    },
    {
      "cell_type": "code",
      "source": [
        "album_rating = [10.0, 8.5, 5.8, 7.2, 9.0, 9.5]\n",
        "L= len(album_rating)\n",
        "L"
      ],
      "metadata": {
        "colab": {
          "base_uri": "https://localhost:8080/"
        },
        "id": "NlDiHWbJS9aq",
        "outputId": "cc576ca6-a44e-4b5c-8aa7-9a6801ad66ea"
      },
      "execution_count": null,
      "outputs": [
        {
          "output_type": "execute_result",
          "data": {
            "text/plain": [
              "6"
            ]
          },
          "metadata": {},
          "execution_count": 34
        }
      ]
    },
    {
      "cell_type": "code",
      "source": [
        "dates = [1982,1980,1973]\n",
        "N = len(dates)\n",
        "\n",
        "for i in range(N):\n",
        "    print(dates[i])  "
      ],
      "metadata": {
        "colab": {
          "base_uri": "https://localhost:8080/"
        },
        "id": "cOMiHm6aT2sd",
        "outputId": "ab9857bb-e7c6-48ac-f50e-e0b078ebb0c6"
      },
      "execution_count": null,
      "outputs": [
        {
          "output_type": "stream",
          "name": "stdout",
          "text": [
            "1982\n",
            "1980\n",
            "1973\n"
          ]
        }
      ]
    },
    {
      "cell_type": "code",
      "source": [
        "s = sum(album_rating)\n",
        "s"
      ],
      "metadata": {
        "colab": {
          "base_uri": "https://localhost:8080/"
        },
        "id": "UqTf5VbiTpML",
        "outputId": "fbd24fca-5db2-49b3-d4c6-3edaed35c234"
      },
      "execution_count": null,
      "outputs": [
        {
          "output_type": "execute_result",
          "data": {
            "text/plain": [
              "50.0"
            ]
          },
          "metadata": {},
          "execution_count": 35
        }
      ]
    },
    {
      "cell_type": "code",
      "source": [
        "sorted_album = sorted(album_rating)\n",
        "album_rating"
      ],
      "metadata": {
        "id": "CmLbRSS-Ucmv",
        "outputId": "c52eb16d-6627-42a5-f5ae-daeda786086e",
        "colab": {
          "base_uri": "https://localhost:8080/"
        }
      },
      "execution_count": null,
      "outputs": [
        {
          "output_type": "execute_result",
          "data": {
            "text/plain": [
              "[10.0, 8.5, 5.8, 7.2, 9.0, 9.5]"
            ]
          },
          "metadata": {},
          "execution_count": 41
        }
      ]
    },
    {
      "cell_type": "code",
      "source": [
        "sorted_album"
      ],
      "metadata": {
        "id": "Z9LxMTCeVOPa",
        "outputId": "5a87cc8e-062a-4783-f8da-3925e41b8dd3",
        "colab": {
          "base_uri": "https://localhost:8080/"
        }
      },
      "execution_count": null,
      "outputs": [
        {
          "output_type": "execute_result",
          "data": {
            "text/plain": [
              "[5.8, 7.2, 8.5, 9.0, 9.5, 10.0]"
            ]
          },
          "metadata": {},
          "execution_count": 42
        }
      ]
    },
    {
      "cell_type": "code",
      "source": [
        "album_rating.sort()\n",
        "album_rating"
      ],
      "metadata": {
        "colab": {
          "base_uri": "https://localhost:8080/"
        },
        "id": "vv98M3wNVkqx",
        "outputId": "bb12ba7f-2d6c-4cca-b901-169724b0b829"
      },
      "execution_count": null,
      "outputs": [
        {
          "output_type": "execute_result",
          "data": {
            "text/plain": [
              "[5.8, 7.2, 8.5, 9.0, 9.5, 10.0]"
            ]
          },
          "metadata": {},
          "execution_count": 43
        }
      ]
    },
    {
      "cell_type": "code",
      "source": [
        "def add(a):\n",
        "    \"\"\"\n",
        "    add 1 to a\n",
        "    \"\"\"\n",
        "    b = a + 1\n",
        "    print(a, \"Si tu agregas uno, es:\", b)\n",
        "    return(b)"
      ],
      "metadata": {
        "id": "QAqTLp7SXQ5s"
      },
      "execution_count": null,
      "outputs": []
    },
    {
      "cell_type": "code",
      "source": [
        "add(1)"
      ],
      "metadata": {
        "colab": {
          "base_uri": "https://localhost:8080/"
        },
        "id": "paUZuZn3XUZr",
        "outputId": "82721bdc-08d9-4907-a919-2f6d368d3cf5"
      },
      "execution_count": null,
      "outputs": [
        {
          "output_type": "stream",
          "name": "stdout",
          "text": [
            "1 Si tu agregas uno, es: 2\n"
          ]
        },
        {
          "output_type": "execute_result",
          "data": {
            "text/plain": [
              "2"
            ]
          },
          "metadata": {},
          "execution_count": 52
        }
      ]
    },
    {
      "cell_type": "code",
      "source": [
        "add(3)"
      ],
      "metadata": {
        "colab": {
          "base_uri": "https://localhost:8080/"
        },
        "id": "RLgw--yzXamY",
        "outputId": "d70e85bb-2609-466a-8893-6107dc49d491"
      },
      "execution_count": null,
      "outputs": [
        {
          "output_type": "stream",
          "name": "stdout",
          "text": [
            "3 Si tu agregas uno, es: 4\n"
          ]
        },
        {
          "output_type": "execute_result",
          "data": {
            "text/plain": [
              "4"
            ]
          },
          "metadata": {},
          "execution_count": 53
        }
      ]
    },
    {
      "cell_type": "code",
      "source": [
        "def Mult(a, b):\n",
        "    c = a * b\n",
        "    return(c)\n",
        "    \n",
        "result = Mult(12,2)\n",
        "print(result)"
      ],
      "metadata": {
        "colab": {
          "base_uri": "https://localhost:8080/"
        },
        "id": "yZ2YJyThXuyo",
        "outputId": "16f90892-a302-4614-b801-ae4e524d089c"
      },
      "execution_count": null,
      "outputs": [
        {
          "output_type": "stream",
          "name": "stdout",
          "text": [
            "24\n"
          ]
        }
      ]
    },
    {
      "cell_type": "code",
      "source": [
        "Mult(10.0, 3.14)"
      ],
      "metadata": {
        "colab": {
          "base_uri": "https://localhost:8080/"
        },
        "id": "tzheDwTKXq_i",
        "outputId": "e32ab1bb-2409-4135-8568-5edab6d8f035"
      },
      "execution_count": null,
      "outputs": [
        {
          "output_type": "execute_result",
          "data": {
            "text/plain": [
              "31.400000000000002"
            ]
          },
          "metadata": {},
          "execution_count": 58
        }
      ]
    },
    {
      "cell_type": "code",
      "source": [
        "a1 = 4\n",
        "b1 = 5\n",
        "c1 = a1 + b1 + 2 * a1 * b1 - 1\n",
        "if(c1 < 0):\n",
        "    c1 = 0 \n",
        "else:\n",
        "    c1 = 5\n",
        "c1 "
      ],
      "metadata": {
        "colab": {
          "base_uri": "https://localhost:8080/"
        },
        "id": "ReL9d58LYMoV",
        "outputId": "d61445d8-bacd-4e04-d8ea-926756f513e1"
      },
      "execution_count": null,
      "outputs": [
        {
          "output_type": "execute_result",
          "data": {
            "text/plain": [
              "5"
            ]
          },
          "metadata": {},
          "execution_count": 61
        }
      ]
    },
    {
      "cell_type": "code",
      "source": [
        "type([1,2,3])"
      ],
      "metadata": {
        "id": "OB_AZSaSXYAq",
        "outputId": "e54ac24c-1d92-477a-a4ce-776535701b00",
        "colab": {
          "base_uri": "https://localhost:8080/"
        }
      },
      "execution_count": null,
      "outputs": [
        {
          "output_type": "execute_result",
          "data": {
            "text/plain": [
              "list"
            ]
          },
          "metadata": {},
          "execution_count": 1
        }
      ]
    },
    {
      "cell_type": "code",
      "source": [
        "type(\"the cat is yellow\")"
      ],
      "metadata": {
        "id": "6y39xCobXebt",
        "outputId": "cdce9172-84d5-456b-c993-f7ad829d8867",
        "colab": {
          "base_uri": "https://localhost:8080/"
        }
      },
      "execution_count": null,
      "outputs": [
        {
          "output_type": "execute_result",
          "data": {
            "text/plain": [
              "str"
            ]
          },
          "metadata": {},
          "execution_count": 2
        }
      ]
    },
    {
      "cell_type": "code",
      "source": [
        "type(1)"
      ],
      "metadata": {
        "id": "fnIkdxfaXidd",
        "outputId": "2a1543e3-afdf-4bd6-e26f-b63c0b3f5fdd",
        "colab": {
          "base_uri": "https://localhost:8080/"
        }
      },
      "execution_count": null,
      "outputs": [
        {
          "output_type": "execute_result",
          "data": {
            "text/plain": [
              "int"
            ]
          },
          "metadata": {},
          "execution_count": 3
        }
      ]
    },
    {
      "cell_type": "code",
      "source": [
        "rating =[7,5,4,8,9,5,10,9,5,9]"
      ],
      "metadata": {
        "id": "Lef0B6KqXs9Y"
      },
      "execution_count": null,
      "outputs": []
    },
    {
      "cell_type": "code",
      "source": [
        "rating.sort()\n",
        "rating"
      ],
      "metadata": {
        "id": "1H5pKsb7Xxay",
        "outputId": "0d3350f2-0778-4508-d7be-f4f9ef98fdee",
        "colab": {
          "base_uri": "https://localhost:8080/"
        }
      },
      "execution_count": null,
      "outputs": [
        {
          "output_type": "execute_result",
          "data": {
            "text/plain": [
              "[4, 5, 5, 5, 7, 8, 9, 9, 9, 10]"
            ]
          },
          "metadata": {},
          "execution_count": 5
        }
      ]
    },
    {
      "cell_type": "code",
      "source": [
        "rating.reverse()\n",
        "rating"
      ],
      "metadata": {
        "id": "yG_LTnZtX6Yl",
        "outputId": "106045d2-b1ce-4859-cef9-e3ec3acebe97",
        "colab": {
          "base_uri": "https://localhost:8080/"
        }
      },
      "execution_count": null,
      "outputs": [
        {
          "output_type": "execute_result",
          "data": {
            "text/plain": [
              "[10, 9, 9, 9, 8, 7, 5, 5, 5, 4]"
            ]
          },
          "metadata": {},
          "execution_count": 6
        }
      ]
    },
    {
      "cell_type": "code",
      "source": [
        "class circle(object):\n",
        "  def _init_(self,radius,color):\n",
        "    self.radius = radius;\n",
        "    self.color = color;\n"
      ],
      "metadata": {
        "id": "tpiJh_MZYdOa"
      },
      "execution_count": null,
      "outputs": []
    },
    {
      "cell_type": "code",
      "source": [
        "class Circle(object):\n",
        "    \n",
        "    # Constructor\n",
        "    def __init__(self, radius=3, color='blue'):\n",
        "        self.radius = radius\n",
        "        self.color = color \n",
        "    \n",
        "    # Method\n",
        "    def add_radius(self, r):\n",
        "        self.radius = self.radius + r\n",
        "        return(self.radius)\n",
        "    \n",
        "    # Method\n",
        "    def drawCircle(self):\n",
        "        plt.gca().add_patch(plt.Circle((0, 0), radius=self.radius, fc=self.color))\n",
        "        plt.axis('scaled')\n",
        "        plt.show()  "
      ],
      "metadata": {
        "id": "jFZO8LkQZBFE"
      },
      "execution_count": null,
      "outputs": []
    },
    {
      "cell_type": "markdown",
      "source": [
        "##MODULO 4"
      ],
      "metadata": {
        "id": "2C2GfiTwnf_2"
      }
    },
    {
      "cell_type": "markdown",
      "source": [
        "**Lectura de Archivos** "
      ],
      "metadata": {
        "id": "f8vzP_rVZOQP"
      }
    },
    {
      "cell_type": "code",
      "source": [
        "# tomado del laboratorio para importar el archivo de ejemplo del video\n",
        "import urllib.request\n",
        "url = 'https://cf-courses-data.s3.us.cloud-object-storage.appdomain.cloud/IBMDeveloperSkillsNetwork-PY0101EN-SkillsNetwork/labs/Module%204/data/example1.txt'\n",
        "filename = 'Example1.txt'\n",
        "urllib.request.urlretrieve(url, filename)\n",
        "\n",
        "## Download Example file\n",
        "!wget -O /resources/data/Example1.txt https://cf-courses-data.s3.us.cloud-object-storage.appdomain.cloud/IBMDeveloperSkillsNetwork-PY0101EN-SkillsNetwork/labs/Module%204/data/example1.txt"
      ],
      "metadata": {
        "colab": {
          "base_uri": "https://localhost:8080/"
        },
        "id": "L_rSsRgPaVUM",
        "outputId": "56c78b15-249f-49ea-abbc-38aed17bce8f"
      },
      "execution_count": null,
      "outputs": [
        {
          "output_type": "stream",
          "name": "stdout",
          "text": [
            "/resources/data/Example1.txt: No such file or directory\n"
          ]
        }
      ]
    },
    {
      "cell_type": "code",
      "source": [
        "example1 = \"Example1.txt\"\n",
        "archivo = open(example1, \"r\")\n",
        "#se utiliza el comendo \"r\" para identificar que vamoa a abrir el archivo"
      ],
      "metadata": {
        "id": "4AEdznhaaoFI"
      },
      "execution_count": null,
      "outputs": []
    },
    {
      "cell_type": "code",
      "source": [
        "archivo.mode\n",
        "#con lo extensión podemos ver en que modo esta.... sale r, porque esta en lectura... "
      ],
      "metadata": {
        "colab": {
          "base_uri": "https://localhost:8080/",
          "height": 35
        },
        "id": "g6MNFBglapk7",
        "outputId": "6c7e53c2-c8a7-48ad-818f-19c9f207966b"
      },
      "execution_count": null,
      "outputs": [
        {
          "output_type": "execute_result",
          "data": {
            "text/plain": [
              "'r'"
            ],
            "application/vnd.google.colaboratory.intrinsic+json": {
              "type": "string"
            }
          },
          "metadata": {},
          "execution_count": 15
        }
      ]
    },
    {
      "cell_type": "code",
      "source": [
        "archivo.name"
      ],
      "metadata": {
        "colab": {
          "base_uri": "https://localhost:8080/",
          "height": 35
        },
        "id": "r9rO2CI9bv5e",
        "outputId": "7314c5b1-2ce7-46c5-8dd0-20d59d38a9b0"
      },
      "execution_count": null,
      "outputs": [
        {
          "output_type": "execute_result",
          "data": {
            "text/plain": [
              "'Example1.txt'"
            ],
            "application/vnd.google.colaboratory.intrinsic+json": {
              "type": "string"
            }
          },
          "metadata": {},
          "execution_count": 16
        }
      ]
    },
    {
      "cell_type": "code",
      "source": [
        "contenido = archivo.read()\n",
        "print (contenido)"
      ],
      "metadata": {
        "colab": {
          "base_uri": "https://localhost:8080/"
        },
        "id": "uKcI__o8bKCs",
        "outputId": "7041b6ba-e1f4-4da3-93b1-98098ca39069"
      },
      "execution_count": null,
      "outputs": [
        {
          "output_type": "stream",
          "name": "stdout",
          "text": [
            "This is line 1 \n",
            "This is line 2\n",
            "This is line 3\n"
          ]
        }
      ]
    },
    {
      "cell_type": "code",
      "source": [
        "# Otra forma de abrir los arhivos \n",
        "with open(example1, \"r\") as archivo:\n",
        "    contenido = archivo.read()\n",
        "    print(contenido)"
      ],
      "metadata": {
        "colab": {
          "base_uri": "https://localhost:8080/"
        },
        "id": "9L6vOVyPch8j",
        "outputId": "62b80781-9184-4a3f-8af7-6ab654209d80"
      },
      "execution_count": null,
      "outputs": [
        {
          "output_type": "stream",
          "name": "stdout",
          "text": [
            "This is line 1 \n",
            "This is line 2\n",
            "This is line 3\n"
          ]
        }
      ]
    },
    {
      "cell_type": "code",
      "source": [
        "# En esta linea estoy verificando que el archivo ha sido cerrado\n",
        "archivo.closed"
      ],
      "metadata": {
        "colab": {
          "base_uri": "https://localhost:8080/"
        },
        "id": "2o0F6-PldAz2",
        "outputId": "c19086c1-432e-42ba-9210-ba57e6baa4d0"
      },
      "execution_count": null,
      "outputs": [
        {
          "output_type": "execute_result",
          "data": {
            "text/plain": [
              "True"
            ]
          },
          "metadata": {},
          "execution_count": 19
        }
      ]
    },
    {
      "cell_type": "code",
      "source": [
        "with open(example1, \"r\") as archivo:\n",
        "    print(archivo.read(4))\n",
        "    print(archivo.read(4))\n",
        "    print(archivo.read(10))\n",
        "    print(archivo.read(19))"
      ],
      "metadata": {
        "colab": {
          "base_uri": "https://localhost:8080/"
        },
        "id": "MBbgFOzSdM8I",
        "outputId": "dffe8057-5b98-41f8-9ac6-ced4aff9141b"
      },
      "execution_count": null,
      "outputs": [
        {
          "output_type": "stream",
          "name": "stdout",
          "text": [
            "This\n",
            " is \n",
            "line 1 \n",
            "Th\n",
            "is is line 2\n",
            "This i\n"
          ]
        }
      ]
    },
    {
      "cell_type": "markdown",
      "source": [
        "**Escritura de Archivos**"
      ],
      "metadata": {
        "id": "4OFZeVRUe_TE"
      }
    },
    {
      "cell_type": "code",
      "source": [
        "# Código para abrir un archivo en modo escritura\n",
        "exmp2 = 'Example2.txt'\n",
        "with open(exmp2, 'w') as writefile:\n",
        "    writefile.write(\"This is line A\") #ojo solo permite un argumento"
      ],
      "metadata": {
        "id": "HixsOXvjfEUQ"
      },
      "execution_count": null,
      "outputs": []
    },
    {
      "cell_type": "code",
      "source": [
        "exmp2\n",
        "print(exmp2)"
      ],
      "metadata": {
        "colab": {
          "base_uri": "https://localhost:8080/"
        },
        "id": "cBfbF65wfHBo",
        "outputId": "c2b5828a-f275-4cd5-a133-988be605c7a1"
      },
      "execution_count": null,
      "outputs": [
        {
          "output_type": "stream",
          "name": "stdout",
          "text": [
            "Example2.txt\n"
          ]
        }
      ]
    },
    {
      "cell_type": "code",
      "source": [
        "#Podemos verificar si el texto se ha escrito:\n",
        "with open(exmp2, 'r') as testwritefile:\n",
        "    print(testwritefile.read())"
      ],
      "metadata": {
        "colab": {
          "base_uri": "https://localhost:8080/"
        },
        "id": "MGxDXRvc50Sy",
        "outputId": "114cd5eb-1759-428e-c041-37f6af682941"
      },
      "execution_count": null,
      "outputs": [
        {
          "output_type": "stream",
          "name": "stdout",
          "text": [
            "This is line A\n"
          ]
        }
      ]
    },
    {
      "cell_type": "code",
      "source": [
        "exmp3 = 'Example3.txt'\n",
        "with open(exmp3, 'w') as writefile:\n",
        "    writefile.write(\"Esta es la linea A\\n\")\n",
        "    writefile.write(\"Esta es la linea B\\n\")"
      ],
      "metadata": {
        "id": "rERxAMPk6Tax"
      },
      "execution_count": null,
      "outputs": []
    },
    {
      "cell_type": "code",
      "source": [
        "with open(exmp3, 'r') as testwritefile:\n",
        "    print(testwritefile.read())"
      ],
      "metadata": {
        "colab": {
          "base_uri": "https://localhost:8080/"
        },
        "id": "e6qnw8Lf6cbq",
        "outputId": "3d6063bf-f724-4364-e69c-bd5f76bcfe1e"
      },
      "execution_count": null,
      "outputs": [
        {
          "output_type": "stream",
          "name": "stdout",
          "text": [
            "Esta es la linea A\n",
            "Esta es la linea B\n",
            "\n"
          ]
        }
      ]
    },
    {
      "cell_type": "code",
      "source": [
        "Lineas = [\"This is line A\\n\", \"This is line B\\n\", \"This is line C\\n\", \"Agregando una\", \"sin espacio\"]\n",
        "Lineas # se ha creado una secuencia de tres lineas para escribir un archivo. "
      ],
      "metadata": {
        "colab": {
          "base_uri": "https://localhost:8080/"
        },
        "id": "gWSHNYSR7b1Q",
        "outputId": "63d25529-fb84-4fcf-8323-92c4e42cf6b1"
      },
      "execution_count": null,
      "outputs": [
        {
          "output_type": "execute_result",
          "data": {
            "text/plain": [
              "['This is line A\\n',\n",
              " 'This is line B\\n',\n",
              " 'This is line C\\n',\n",
              " 'Agregando una',\n",
              " 'sin espacio']"
            ]
          },
          "metadata": {},
          "execution_count": 25
        }
      ]
    },
    {
      "cell_type": "code",
      "source": [
        "#Con este secuencia de comandos, verificamos lo que se ha guardado\n",
        "with open('Example2.txt', 'w') as writefile:\n",
        "    for line in Lineas:\n",
        "        print(line)\n",
        "        writefile.write(line)"
      ],
      "metadata": {
        "colab": {
          "base_uri": "https://localhost:8080/"
        },
        "id": "RlsIhNHL7iLa",
        "outputId": "8a20b443-f891-47bd-8c04-e31e742b9abd"
      },
      "execution_count": null,
      "outputs": [
        {
          "output_type": "stream",
          "name": "stdout",
          "text": [
            "This is line A\n",
            "\n",
            "This is line B\n",
            "\n",
            "This is line C\n",
            "\n",
            "Agregando una\n",
            "sin espacio\n"
          ]
        }
      ]
    },
    {
      "cell_type": "markdown",
      "source": [
        "**Cargando Archivos con Panda**"
      ],
      "metadata": {
        "id": "I802IB_QEoh4"
      }
    },
    {
      "cell_type": "code",
      "source": [
        "import pandas as pd"
      ],
      "metadata": {
        "id": "RXJ_yLe28E2t"
      },
      "execution_count": null,
      "outputs": []
    },
    {
      "cell_type": "code",
      "source": [
        "!pip install xlrd #instalando lo recomendado por en el ambiente del laboratorio. "
      ],
      "metadata": {
        "colab": {
          "base_uri": "https://localhost:8080/"
        },
        "id": "MixVr17qFDUJ",
        "outputId": "040b3cbf-2b20-494a-c7e5-a5522c3e5911"
      },
      "execution_count": null,
      "outputs": [
        {
          "output_type": "stream",
          "name": "stdout",
          "text": [
            "Looking in indexes: https://pypi.org/simple, https://us-python.pkg.dev/colab-wheels/public/simple/\n",
            "Requirement already satisfied: xlrd in /usr/local/lib/python3.7/dist-packages (1.1.0)\n"
          ]
        }
      ]
    },
    {
      "cell_type": "code",
      "source": [
        "csv_path = 'https://cf-courses-data.s3.us.cloud-object-storage.appdomain.cloud/IBMDeveloperSkillsNetwork-PY0101EN-SkillsNetwork/labs/Module%204/data/TopSellingAlbums.csv'\n",
        "df = pd.read_csv(csv_path) #cargando la base de datos del caso de estudio\n",
        "df.head()"
      ],
      "metadata": {
        "colab": {
          "base_uri": "https://localhost:8080/",
          "height": 444
        },
        "id": "0_37GaUiGMOE",
        "outputId": "87627789-0c89-4165-a58d-793379b4469a"
      },
      "execution_count": null,
      "outputs": [
        {
          "output_type": "execute_result",
          "data": {
            "text/plain": [
              "            Artist                      Album  Released   Length  \\\n",
              "0  Michael Jackson                   Thriller      1982  0:42:19   \n",
              "1            AC/DC              Back in Black      1980  0:42:11   \n",
              "2       Pink Floyd  The Dark Side of the Moon      1973  0:42:49   \n",
              "3  Whitney Houston              The Bodyguard      1992  0:57:44   \n",
              "4        Meat Loaf            Bat Out of Hell      1977  0:46:33   \n",
              "\n",
              "                         Genre  Music Recording Sales (millions)  \\\n",
              "0               pop, rock, R&B                              46.0   \n",
              "1                    hard rock                              26.1   \n",
              "2             progressive rock                              24.2   \n",
              "3               R&B, soul, pop                              27.4   \n",
              "4  hard rock, progressive rock                              20.6   \n",
              "\n",
              "   Claimed Sales (millions) Released.1 Soundtrack  Rating  \n",
              "0                        65  30-Nov-82        NaN    10.0  \n",
              "1                        50  25-Jul-80        NaN     9.5  \n",
              "2                        45  01-Mar-73        NaN     9.0  \n",
              "3                        44  17-Nov-92          Y     8.5  \n",
              "4                        43  21-Oct-77        NaN     8.0  "
            ],
            "text/html": [
              "\n",
              "  <div id=\"df-58435224-be4a-4680-b730-a10254a71766\">\n",
              "    <div class=\"colab-df-container\">\n",
              "      <div>\n",
              "<style scoped>\n",
              "    .dataframe tbody tr th:only-of-type {\n",
              "        vertical-align: middle;\n",
              "    }\n",
              "\n",
              "    .dataframe tbody tr th {\n",
              "        vertical-align: top;\n",
              "    }\n",
              "\n",
              "    .dataframe thead th {\n",
              "        text-align: right;\n",
              "    }\n",
              "</style>\n",
              "<table border=\"1\" class=\"dataframe\">\n",
              "  <thead>\n",
              "    <tr style=\"text-align: right;\">\n",
              "      <th></th>\n",
              "      <th>Artist</th>\n",
              "      <th>Album</th>\n",
              "      <th>Released</th>\n",
              "      <th>Length</th>\n",
              "      <th>Genre</th>\n",
              "      <th>Music Recording Sales (millions)</th>\n",
              "      <th>Claimed Sales (millions)</th>\n",
              "      <th>Released.1</th>\n",
              "      <th>Soundtrack</th>\n",
              "      <th>Rating</th>\n",
              "    </tr>\n",
              "  </thead>\n",
              "  <tbody>\n",
              "    <tr>\n",
              "      <th>0</th>\n",
              "      <td>Michael Jackson</td>\n",
              "      <td>Thriller</td>\n",
              "      <td>1982</td>\n",
              "      <td>0:42:19</td>\n",
              "      <td>pop, rock, R&amp;B</td>\n",
              "      <td>46.0</td>\n",
              "      <td>65</td>\n",
              "      <td>30-Nov-82</td>\n",
              "      <td>NaN</td>\n",
              "      <td>10.0</td>\n",
              "    </tr>\n",
              "    <tr>\n",
              "      <th>1</th>\n",
              "      <td>AC/DC</td>\n",
              "      <td>Back in Black</td>\n",
              "      <td>1980</td>\n",
              "      <td>0:42:11</td>\n",
              "      <td>hard rock</td>\n",
              "      <td>26.1</td>\n",
              "      <td>50</td>\n",
              "      <td>25-Jul-80</td>\n",
              "      <td>NaN</td>\n",
              "      <td>9.5</td>\n",
              "    </tr>\n",
              "    <tr>\n",
              "      <th>2</th>\n",
              "      <td>Pink Floyd</td>\n",
              "      <td>The Dark Side of the Moon</td>\n",
              "      <td>1973</td>\n",
              "      <td>0:42:49</td>\n",
              "      <td>progressive rock</td>\n",
              "      <td>24.2</td>\n",
              "      <td>45</td>\n",
              "      <td>01-Mar-73</td>\n",
              "      <td>NaN</td>\n",
              "      <td>9.0</td>\n",
              "    </tr>\n",
              "    <tr>\n",
              "      <th>3</th>\n",
              "      <td>Whitney Houston</td>\n",
              "      <td>The Bodyguard</td>\n",
              "      <td>1992</td>\n",
              "      <td>0:57:44</td>\n",
              "      <td>R&amp;B, soul, pop</td>\n",
              "      <td>27.4</td>\n",
              "      <td>44</td>\n",
              "      <td>17-Nov-92</td>\n",
              "      <td>Y</td>\n",
              "      <td>8.5</td>\n",
              "    </tr>\n",
              "    <tr>\n",
              "      <th>4</th>\n",
              "      <td>Meat Loaf</td>\n",
              "      <td>Bat Out of Hell</td>\n",
              "      <td>1977</td>\n",
              "      <td>0:46:33</td>\n",
              "      <td>hard rock, progressive rock</td>\n",
              "      <td>20.6</td>\n",
              "      <td>43</td>\n",
              "      <td>21-Oct-77</td>\n",
              "      <td>NaN</td>\n",
              "      <td>8.0</td>\n",
              "    </tr>\n",
              "  </tbody>\n",
              "</table>\n",
              "</div>\n",
              "      <button class=\"colab-df-convert\" onclick=\"convertToInteractive('df-58435224-be4a-4680-b730-a10254a71766')\"\n",
              "              title=\"Convert this dataframe to an interactive table.\"\n",
              "              style=\"display:none;\">\n",
              "        \n",
              "  <svg xmlns=\"http://www.w3.org/2000/svg\" height=\"24px\"viewBox=\"0 0 24 24\"\n",
              "       width=\"24px\">\n",
              "    <path d=\"M0 0h24v24H0V0z\" fill=\"none\"/>\n",
              "    <path d=\"M18.56 5.44l.94 2.06.94-2.06 2.06-.94-2.06-.94-.94-2.06-.94 2.06-2.06.94zm-11 1L8.5 8.5l.94-2.06 2.06-.94-2.06-.94L8.5 2.5l-.94 2.06-2.06.94zm10 10l.94 2.06.94-2.06 2.06-.94-2.06-.94-.94-2.06-.94 2.06-2.06.94z\"/><path d=\"M17.41 7.96l-1.37-1.37c-.4-.4-.92-.59-1.43-.59-.52 0-1.04.2-1.43.59L10.3 9.45l-7.72 7.72c-.78.78-.78 2.05 0 2.83L4 21.41c.39.39.9.59 1.41.59.51 0 1.02-.2 1.41-.59l7.78-7.78 2.81-2.81c.8-.78.8-2.07 0-2.86zM5.41 20L4 18.59l7.72-7.72 1.47 1.35L5.41 20z\"/>\n",
              "  </svg>\n",
              "      </button>\n",
              "      \n",
              "  <style>\n",
              "    .colab-df-container {\n",
              "      display:flex;\n",
              "      flex-wrap:wrap;\n",
              "      gap: 12px;\n",
              "    }\n",
              "\n",
              "    .colab-df-convert {\n",
              "      background-color: #E8F0FE;\n",
              "      border: none;\n",
              "      border-radius: 50%;\n",
              "      cursor: pointer;\n",
              "      display: none;\n",
              "      fill: #1967D2;\n",
              "      height: 32px;\n",
              "      padding: 0 0 0 0;\n",
              "      width: 32px;\n",
              "    }\n",
              "\n",
              "    .colab-df-convert:hover {\n",
              "      background-color: #E2EBFA;\n",
              "      box-shadow: 0px 1px 2px rgba(60, 64, 67, 0.3), 0px 1px 3px 1px rgba(60, 64, 67, 0.15);\n",
              "      fill: #174EA6;\n",
              "    }\n",
              "\n",
              "    [theme=dark] .colab-df-convert {\n",
              "      background-color: #3B4455;\n",
              "      fill: #D2E3FC;\n",
              "    }\n",
              "\n",
              "    [theme=dark] .colab-df-convert:hover {\n",
              "      background-color: #434B5C;\n",
              "      box-shadow: 0px 1px 3px 1px rgba(0, 0, 0, 0.15);\n",
              "      filter: drop-shadow(0px 1px 2px rgba(0, 0, 0, 0.3));\n",
              "      fill: #FFFFFF;\n",
              "    }\n",
              "  </style>\n",
              "\n",
              "      <script>\n",
              "        const buttonEl =\n",
              "          document.querySelector('#df-58435224-be4a-4680-b730-a10254a71766 button.colab-df-convert');\n",
              "        buttonEl.style.display =\n",
              "          google.colab.kernel.accessAllowed ? 'block' : 'none';\n",
              "\n",
              "        async function convertToInteractive(key) {\n",
              "          const element = document.querySelector('#df-58435224-be4a-4680-b730-a10254a71766');\n",
              "          const dataTable =\n",
              "            await google.colab.kernel.invokeFunction('convertToInteractive',\n",
              "                                                     [key], {});\n",
              "          if (!dataTable) return;\n",
              "\n",
              "          const docLinkHtml = 'Like what you see? Visit the ' +\n",
              "            '<a target=\"_blank\" href=https://colab.research.google.com/notebooks/data_table.ipynb>data table notebook</a>'\n",
              "            + ' to learn more about interactive tables.';\n",
              "          element.innerHTML = '';\n",
              "          dataTable['output_type'] = 'display_data';\n",
              "          await google.colab.output.renderOutput(dataTable, element);\n",
              "          const docLink = document.createElement('div');\n",
              "          docLink.innerHTML = docLinkHtml;\n",
              "          element.appendChild(docLink);\n",
              "        }\n",
              "      </script>\n",
              "    </div>\n",
              "  </div>\n",
              "  "
            ]
          },
          "metadata": {},
          "execution_count": 32
        }
      ]
    },
    {
      "cell_type": "code",
      "source": [
        "df.head(n=10) #cuando se usa el N=10 se muestran 10 registros en vez de 5 cuando esta en blanco"
      ],
      "metadata": {
        "colab": {
          "base_uri": "https://localhost:8080/",
          "height": 659
        },
        "id": "1eTrMTAuGw8Q",
        "outputId": "e0607e90-16b0-4aa4-ef40-0a005ef7563a"
      },
      "execution_count": null,
      "outputs": [
        {
          "output_type": "execute_result",
          "data": {
            "text/plain": [
              "            Artist                            Album  Released   Length  \\\n",
              "0  Michael Jackson                         Thriller      1982  0:42:19   \n",
              "1            AC/DC                    Back in Black      1980  0:42:11   \n",
              "2       Pink Floyd        The Dark Side of the Moon      1973  0:42:49   \n",
              "3  Whitney Houston                    The Bodyguard      1992  0:57:44   \n",
              "4        Meat Loaf                  Bat Out of Hell      1977  0:46:33   \n",
              "5           Eagles  Their Greatest Hits (1971-1975)      1976  0:43:08   \n",
              "6         Bee Gees             Saturday Night Fever      1977  1:15:54   \n",
              "7    Fleetwood Mac                          Rumours      1977  0:40:01   \n",
              "\n",
              "                         Genre  Music Recording Sales (millions)  \\\n",
              "0               pop, rock, R&B                              46.0   \n",
              "1                    hard rock                              26.1   \n",
              "2             progressive rock                              24.2   \n",
              "3               R&B, soul, pop                              27.4   \n",
              "4  hard rock, progressive rock                              20.6   \n",
              "5   rock, soft rock, folk rock                              32.2   \n",
              "6                        disco                              20.6   \n",
              "7                    soft rock                              27.9   \n",
              "\n",
              "   Claimed Sales (millions) Released.1 Soundtrack  Rating  \n",
              "0                        65  30-Nov-82        NaN    10.0  \n",
              "1                        50  25-Jul-80        NaN     9.5  \n",
              "2                        45  01-Mar-73        NaN     9.0  \n",
              "3                        44  17-Nov-92          Y     8.5  \n",
              "4                        43  21-Oct-77        NaN     8.0  \n",
              "5                        42  17-Feb-76        NaN     7.5  \n",
              "6                        40  15-Nov-77          Y     7.0  \n",
              "7                        40  04-Feb-77        NaN     6.5  "
            ],
            "text/html": [
              "\n",
              "  <div id=\"df-65364058-1b72-42c2-9848-27e11f57bd37\">\n",
              "    <div class=\"colab-df-container\">\n",
              "      <div>\n",
              "<style scoped>\n",
              "    .dataframe tbody tr th:only-of-type {\n",
              "        vertical-align: middle;\n",
              "    }\n",
              "\n",
              "    .dataframe tbody tr th {\n",
              "        vertical-align: top;\n",
              "    }\n",
              "\n",
              "    .dataframe thead th {\n",
              "        text-align: right;\n",
              "    }\n",
              "</style>\n",
              "<table border=\"1\" class=\"dataframe\">\n",
              "  <thead>\n",
              "    <tr style=\"text-align: right;\">\n",
              "      <th></th>\n",
              "      <th>Artist</th>\n",
              "      <th>Album</th>\n",
              "      <th>Released</th>\n",
              "      <th>Length</th>\n",
              "      <th>Genre</th>\n",
              "      <th>Music Recording Sales (millions)</th>\n",
              "      <th>Claimed Sales (millions)</th>\n",
              "      <th>Released.1</th>\n",
              "      <th>Soundtrack</th>\n",
              "      <th>Rating</th>\n",
              "    </tr>\n",
              "  </thead>\n",
              "  <tbody>\n",
              "    <tr>\n",
              "      <th>0</th>\n",
              "      <td>Michael Jackson</td>\n",
              "      <td>Thriller</td>\n",
              "      <td>1982</td>\n",
              "      <td>0:42:19</td>\n",
              "      <td>pop, rock, R&amp;B</td>\n",
              "      <td>46.0</td>\n",
              "      <td>65</td>\n",
              "      <td>30-Nov-82</td>\n",
              "      <td>NaN</td>\n",
              "      <td>10.0</td>\n",
              "    </tr>\n",
              "    <tr>\n",
              "      <th>1</th>\n",
              "      <td>AC/DC</td>\n",
              "      <td>Back in Black</td>\n",
              "      <td>1980</td>\n",
              "      <td>0:42:11</td>\n",
              "      <td>hard rock</td>\n",
              "      <td>26.1</td>\n",
              "      <td>50</td>\n",
              "      <td>25-Jul-80</td>\n",
              "      <td>NaN</td>\n",
              "      <td>9.5</td>\n",
              "    </tr>\n",
              "    <tr>\n",
              "      <th>2</th>\n",
              "      <td>Pink Floyd</td>\n",
              "      <td>The Dark Side of the Moon</td>\n",
              "      <td>1973</td>\n",
              "      <td>0:42:49</td>\n",
              "      <td>progressive rock</td>\n",
              "      <td>24.2</td>\n",
              "      <td>45</td>\n",
              "      <td>01-Mar-73</td>\n",
              "      <td>NaN</td>\n",
              "      <td>9.0</td>\n",
              "    </tr>\n",
              "    <tr>\n",
              "      <th>3</th>\n",
              "      <td>Whitney Houston</td>\n",
              "      <td>The Bodyguard</td>\n",
              "      <td>1992</td>\n",
              "      <td>0:57:44</td>\n",
              "      <td>R&amp;B, soul, pop</td>\n",
              "      <td>27.4</td>\n",
              "      <td>44</td>\n",
              "      <td>17-Nov-92</td>\n",
              "      <td>Y</td>\n",
              "      <td>8.5</td>\n",
              "    </tr>\n",
              "    <tr>\n",
              "      <th>4</th>\n",
              "      <td>Meat Loaf</td>\n",
              "      <td>Bat Out of Hell</td>\n",
              "      <td>1977</td>\n",
              "      <td>0:46:33</td>\n",
              "      <td>hard rock, progressive rock</td>\n",
              "      <td>20.6</td>\n",
              "      <td>43</td>\n",
              "      <td>21-Oct-77</td>\n",
              "      <td>NaN</td>\n",
              "      <td>8.0</td>\n",
              "    </tr>\n",
              "    <tr>\n",
              "      <th>5</th>\n",
              "      <td>Eagles</td>\n",
              "      <td>Their Greatest Hits (1971-1975)</td>\n",
              "      <td>1976</td>\n",
              "      <td>0:43:08</td>\n",
              "      <td>rock, soft rock, folk rock</td>\n",
              "      <td>32.2</td>\n",
              "      <td>42</td>\n",
              "      <td>17-Feb-76</td>\n",
              "      <td>NaN</td>\n",
              "      <td>7.5</td>\n",
              "    </tr>\n",
              "    <tr>\n",
              "      <th>6</th>\n",
              "      <td>Bee Gees</td>\n",
              "      <td>Saturday Night Fever</td>\n",
              "      <td>1977</td>\n",
              "      <td>1:15:54</td>\n",
              "      <td>disco</td>\n",
              "      <td>20.6</td>\n",
              "      <td>40</td>\n",
              "      <td>15-Nov-77</td>\n",
              "      <td>Y</td>\n",
              "      <td>7.0</td>\n",
              "    </tr>\n",
              "    <tr>\n",
              "      <th>7</th>\n",
              "      <td>Fleetwood Mac</td>\n",
              "      <td>Rumours</td>\n",
              "      <td>1977</td>\n",
              "      <td>0:40:01</td>\n",
              "      <td>soft rock</td>\n",
              "      <td>27.9</td>\n",
              "      <td>40</td>\n",
              "      <td>04-Feb-77</td>\n",
              "      <td>NaN</td>\n",
              "      <td>6.5</td>\n",
              "    </tr>\n",
              "  </tbody>\n",
              "</table>\n",
              "</div>\n",
              "      <button class=\"colab-df-convert\" onclick=\"convertToInteractive('df-65364058-1b72-42c2-9848-27e11f57bd37')\"\n",
              "              title=\"Convert this dataframe to an interactive table.\"\n",
              "              style=\"display:none;\">\n",
              "        \n",
              "  <svg xmlns=\"http://www.w3.org/2000/svg\" height=\"24px\"viewBox=\"0 0 24 24\"\n",
              "       width=\"24px\">\n",
              "    <path d=\"M0 0h24v24H0V0z\" fill=\"none\"/>\n",
              "    <path d=\"M18.56 5.44l.94 2.06.94-2.06 2.06-.94-2.06-.94-.94-2.06-.94 2.06-2.06.94zm-11 1L8.5 8.5l.94-2.06 2.06-.94-2.06-.94L8.5 2.5l-.94 2.06-2.06.94zm10 10l.94 2.06.94-2.06 2.06-.94-2.06-.94-.94-2.06-.94 2.06-2.06.94z\"/><path d=\"M17.41 7.96l-1.37-1.37c-.4-.4-.92-.59-1.43-.59-.52 0-1.04.2-1.43.59L10.3 9.45l-7.72 7.72c-.78.78-.78 2.05 0 2.83L4 21.41c.39.39.9.59 1.41.59.51 0 1.02-.2 1.41-.59l7.78-7.78 2.81-2.81c.8-.78.8-2.07 0-2.86zM5.41 20L4 18.59l7.72-7.72 1.47 1.35L5.41 20z\"/>\n",
              "  </svg>\n",
              "      </button>\n",
              "      \n",
              "  <style>\n",
              "    .colab-df-container {\n",
              "      display:flex;\n",
              "      flex-wrap:wrap;\n",
              "      gap: 12px;\n",
              "    }\n",
              "\n",
              "    .colab-df-convert {\n",
              "      background-color: #E8F0FE;\n",
              "      border: none;\n",
              "      border-radius: 50%;\n",
              "      cursor: pointer;\n",
              "      display: none;\n",
              "      fill: #1967D2;\n",
              "      height: 32px;\n",
              "      padding: 0 0 0 0;\n",
              "      width: 32px;\n",
              "    }\n",
              "\n",
              "    .colab-df-convert:hover {\n",
              "      background-color: #E2EBFA;\n",
              "      box-shadow: 0px 1px 2px rgba(60, 64, 67, 0.3), 0px 1px 3px 1px rgba(60, 64, 67, 0.15);\n",
              "      fill: #174EA6;\n",
              "    }\n",
              "\n",
              "    [theme=dark] .colab-df-convert {\n",
              "      background-color: #3B4455;\n",
              "      fill: #D2E3FC;\n",
              "    }\n",
              "\n",
              "    [theme=dark] .colab-df-convert:hover {\n",
              "      background-color: #434B5C;\n",
              "      box-shadow: 0px 1px 3px 1px rgba(0, 0, 0, 0.15);\n",
              "      filter: drop-shadow(0px 1px 2px rgba(0, 0, 0, 0.3));\n",
              "      fill: #FFFFFF;\n",
              "    }\n",
              "  </style>\n",
              "\n",
              "      <script>\n",
              "        const buttonEl =\n",
              "          document.querySelector('#df-65364058-1b72-42c2-9848-27e11f57bd37 button.colab-df-convert');\n",
              "        buttonEl.style.display =\n",
              "          google.colab.kernel.accessAllowed ? 'block' : 'none';\n",
              "\n",
              "        async function convertToInteractive(key) {\n",
              "          const element = document.querySelector('#df-65364058-1b72-42c2-9848-27e11f57bd37');\n",
              "          const dataTable =\n",
              "            await google.colab.kernel.invokeFunction('convertToInteractive',\n",
              "                                                     [key], {});\n",
              "          if (!dataTable) return;\n",
              "\n",
              "          const docLinkHtml = 'Like what you see? Visit the ' +\n",
              "            '<a target=\"_blank\" href=https://colab.research.google.com/notebooks/data_table.ipynb>data table notebook</a>'\n",
              "            + ' to learn more about interactive tables.';\n",
              "          element.innerHTML = '';\n",
              "          dataTable['output_type'] = 'display_data';\n",
              "          await google.colab.output.renderOutput(dataTable, element);\n",
              "          const docLink = document.createElement('div');\n",
              "          docLink.innerHTML = docLinkHtml;\n",
              "          element.appendChild(docLink);\n",
              "        }\n",
              "      </script>\n",
              "    </div>\n",
              "  </div>\n",
              "  "
            ]
          },
          "metadata": {},
          "execution_count": 34
        }
      ]
    },
    {
      "cell_type": "code",
      "source": [
        "x = df[['Album']]\n",
        "x # de esta manera se puede ver una columna en específico"
      ],
      "metadata": {
        "colab": {
          "base_uri": "https://localhost:8080/",
          "height": 300
        },
        "id": "UuoATfPjHE26",
        "outputId": "5f94c141-6d0d-47f6-bbe2-7463f873b3c6"
      },
      "execution_count": null,
      "outputs": [
        {
          "output_type": "execute_result",
          "data": {
            "text/plain": [
              "                             Album\n",
              "0                         Thriller\n",
              "1                    Back in Black\n",
              "2        The Dark Side of the Moon\n",
              "3                    The Bodyguard\n",
              "4                  Bat Out of Hell\n",
              "5  Their Greatest Hits (1971-1975)\n",
              "6             Saturday Night Fever\n",
              "7                          Rumours"
            ],
            "text/html": [
              "\n",
              "  <div id=\"df-9495332d-3d3f-482b-8464-18921238e074\">\n",
              "    <div class=\"colab-df-container\">\n",
              "      <div>\n",
              "<style scoped>\n",
              "    .dataframe tbody tr th:only-of-type {\n",
              "        vertical-align: middle;\n",
              "    }\n",
              "\n",
              "    .dataframe tbody tr th {\n",
              "        vertical-align: top;\n",
              "    }\n",
              "\n",
              "    .dataframe thead th {\n",
              "        text-align: right;\n",
              "    }\n",
              "</style>\n",
              "<table border=\"1\" class=\"dataframe\">\n",
              "  <thead>\n",
              "    <tr style=\"text-align: right;\">\n",
              "      <th></th>\n",
              "      <th>Album</th>\n",
              "    </tr>\n",
              "  </thead>\n",
              "  <tbody>\n",
              "    <tr>\n",
              "      <th>0</th>\n",
              "      <td>Thriller</td>\n",
              "    </tr>\n",
              "    <tr>\n",
              "      <th>1</th>\n",
              "      <td>Back in Black</td>\n",
              "    </tr>\n",
              "    <tr>\n",
              "      <th>2</th>\n",
              "      <td>The Dark Side of the Moon</td>\n",
              "    </tr>\n",
              "    <tr>\n",
              "      <th>3</th>\n",
              "      <td>The Bodyguard</td>\n",
              "    </tr>\n",
              "    <tr>\n",
              "      <th>4</th>\n",
              "      <td>Bat Out of Hell</td>\n",
              "    </tr>\n",
              "    <tr>\n",
              "      <th>5</th>\n",
              "      <td>Their Greatest Hits (1971-1975)</td>\n",
              "    </tr>\n",
              "    <tr>\n",
              "      <th>6</th>\n",
              "      <td>Saturday Night Fever</td>\n",
              "    </tr>\n",
              "    <tr>\n",
              "      <th>7</th>\n",
              "      <td>Rumours</td>\n",
              "    </tr>\n",
              "  </tbody>\n",
              "</table>\n",
              "</div>\n",
              "      <button class=\"colab-df-convert\" onclick=\"convertToInteractive('df-9495332d-3d3f-482b-8464-18921238e074')\"\n",
              "              title=\"Convert this dataframe to an interactive table.\"\n",
              "              style=\"display:none;\">\n",
              "        \n",
              "  <svg xmlns=\"http://www.w3.org/2000/svg\" height=\"24px\"viewBox=\"0 0 24 24\"\n",
              "       width=\"24px\">\n",
              "    <path d=\"M0 0h24v24H0V0z\" fill=\"none\"/>\n",
              "    <path d=\"M18.56 5.44l.94 2.06.94-2.06 2.06-.94-2.06-.94-.94-2.06-.94 2.06-2.06.94zm-11 1L8.5 8.5l.94-2.06 2.06-.94-2.06-.94L8.5 2.5l-.94 2.06-2.06.94zm10 10l.94 2.06.94-2.06 2.06-.94-2.06-.94-.94-2.06-.94 2.06-2.06.94z\"/><path d=\"M17.41 7.96l-1.37-1.37c-.4-.4-.92-.59-1.43-.59-.52 0-1.04.2-1.43.59L10.3 9.45l-7.72 7.72c-.78.78-.78 2.05 0 2.83L4 21.41c.39.39.9.59 1.41.59.51 0 1.02-.2 1.41-.59l7.78-7.78 2.81-2.81c.8-.78.8-2.07 0-2.86zM5.41 20L4 18.59l7.72-7.72 1.47 1.35L5.41 20z\"/>\n",
              "  </svg>\n",
              "      </button>\n",
              "      \n",
              "  <style>\n",
              "    .colab-df-container {\n",
              "      display:flex;\n",
              "      flex-wrap:wrap;\n",
              "      gap: 12px;\n",
              "    }\n",
              "\n",
              "    .colab-df-convert {\n",
              "      background-color: #E8F0FE;\n",
              "      border: none;\n",
              "      border-radius: 50%;\n",
              "      cursor: pointer;\n",
              "      display: none;\n",
              "      fill: #1967D2;\n",
              "      height: 32px;\n",
              "      padding: 0 0 0 0;\n",
              "      width: 32px;\n",
              "    }\n",
              "\n",
              "    .colab-df-convert:hover {\n",
              "      background-color: #E2EBFA;\n",
              "      box-shadow: 0px 1px 2px rgba(60, 64, 67, 0.3), 0px 1px 3px 1px rgba(60, 64, 67, 0.15);\n",
              "      fill: #174EA6;\n",
              "    }\n",
              "\n",
              "    [theme=dark] .colab-df-convert {\n",
              "      background-color: #3B4455;\n",
              "      fill: #D2E3FC;\n",
              "    }\n",
              "\n",
              "    [theme=dark] .colab-df-convert:hover {\n",
              "      background-color: #434B5C;\n",
              "      box-shadow: 0px 1px 3px 1px rgba(0, 0, 0, 0.15);\n",
              "      filter: drop-shadow(0px 1px 2px rgba(0, 0, 0, 0.3));\n",
              "      fill: #FFFFFF;\n",
              "    }\n",
              "  </style>\n",
              "\n",
              "      <script>\n",
              "        const buttonEl =\n",
              "          document.querySelector('#df-9495332d-3d3f-482b-8464-18921238e074 button.colab-df-convert');\n",
              "        buttonEl.style.display =\n",
              "          google.colab.kernel.accessAllowed ? 'block' : 'none';\n",
              "\n",
              "        async function convertToInteractive(key) {\n",
              "          const element = document.querySelector('#df-9495332d-3d3f-482b-8464-18921238e074');\n",
              "          const dataTable =\n",
              "            await google.colab.kernel.invokeFunction('convertToInteractive',\n",
              "                                                     [key], {});\n",
              "          if (!dataTable) return;\n",
              "\n",
              "          const docLinkHtml = 'Like what you see? Visit the ' +\n",
              "            '<a target=\"_blank\" href=https://colab.research.google.com/notebooks/data_table.ipynb>data table notebook</a>'\n",
              "            + ' to learn more about interactive tables.';\n",
              "          element.innerHTML = '';\n",
              "          dataTable['output_type'] = 'display_data';\n",
              "          await google.colab.output.renderOutput(dataTable, element);\n",
              "          const docLink = document.createElement('div');\n",
              "          docLink.innerHTML = docLinkHtml;\n",
              "          element.appendChild(docLink);\n",
              "        }\n",
              "      </script>\n",
              "    </div>\n",
              "  </div>\n",
              "  "
            ]
          },
          "metadata": {},
          "execution_count": 38
        }
      ]
    },
    {
      "cell_type": "code",
      "source": [
        "x = df[['Album','Genre']]\n",
        "x"
      ],
      "metadata": {
        "colab": {
          "base_uri": "https://localhost:8080/",
          "height": 300
        },
        "id": "_RYsCQ4PL7KI",
        "outputId": "8be9074d-18c1-4a39-b46a-b102c75da3e8"
      },
      "execution_count": null,
      "outputs": [
        {
          "output_type": "execute_result",
          "data": {
            "text/plain": [
              "                             Album                        Genre\n",
              "0                         Thriller               pop, rock, R&B\n",
              "1                    Back in Black                    hard rock\n",
              "2        The Dark Side of the Moon             progressive rock\n",
              "3                    The Bodyguard               R&B, soul, pop\n",
              "4                  Bat Out of Hell  hard rock, progressive rock\n",
              "5  Their Greatest Hits (1971-1975)   rock, soft rock, folk rock\n",
              "6             Saturday Night Fever                        disco\n",
              "7                          Rumours                    soft rock"
            ],
            "text/html": [
              "\n",
              "  <div id=\"df-7625b57e-1099-4d2b-a917-897546cec0fb\">\n",
              "    <div class=\"colab-df-container\">\n",
              "      <div>\n",
              "<style scoped>\n",
              "    .dataframe tbody tr th:only-of-type {\n",
              "        vertical-align: middle;\n",
              "    }\n",
              "\n",
              "    .dataframe tbody tr th {\n",
              "        vertical-align: top;\n",
              "    }\n",
              "\n",
              "    .dataframe thead th {\n",
              "        text-align: right;\n",
              "    }\n",
              "</style>\n",
              "<table border=\"1\" class=\"dataframe\">\n",
              "  <thead>\n",
              "    <tr style=\"text-align: right;\">\n",
              "      <th></th>\n",
              "      <th>Album</th>\n",
              "      <th>Genre</th>\n",
              "    </tr>\n",
              "  </thead>\n",
              "  <tbody>\n",
              "    <tr>\n",
              "      <th>0</th>\n",
              "      <td>Thriller</td>\n",
              "      <td>pop, rock, R&amp;B</td>\n",
              "    </tr>\n",
              "    <tr>\n",
              "      <th>1</th>\n",
              "      <td>Back in Black</td>\n",
              "      <td>hard rock</td>\n",
              "    </tr>\n",
              "    <tr>\n",
              "      <th>2</th>\n",
              "      <td>The Dark Side of the Moon</td>\n",
              "      <td>progressive rock</td>\n",
              "    </tr>\n",
              "    <tr>\n",
              "      <th>3</th>\n",
              "      <td>The Bodyguard</td>\n",
              "      <td>R&amp;B, soul, pop</td>\n",
              "    </tr>\n",
              "    <tr>\n",
              "      <th>4</th>\n",
              "      <td>Bat Out of Hell</td>\n",
              "      <td>hard rock, progressive rock</td>\n",
              "    </tr>\n",
              "    <tr>\n",
              "      <th>5</th>\n",
              "      <td>Their Greatest Hits (1971-1975)</td>\n",
              "      <td>rock, soft rock, folk rock</td>\n",
              "    </tr>\n",
              "    <tr>\n",
              "      <th>6</th>\n",
              "      <td>Saturday Night Fever</td>\n",
              "      <td>disco</td>\n",
              "    </tr>\n",
              "    <tr>\n",
              "      <th>7</th>\n",
              "      <td>Rumours</td>\n",
              "      <td>soft rock</td>\n",
              "    </tr>\n",
              "  </tbody>\n",
              "</table>\n",
              "</div>\n",
              "      <button class=\"colab-df-convert\" onclick=\"convertToInteractive('df-7625b57e-1099-4d2b-a917-897546cec0fb')\"\n",
              "              title=\"Convert this dataframe to an interactive table.\"\n",
              "              style=\"display:none;\">\n",
              "        \n",
              "  <svg xmlns=\"http://www.w3.org/2000/svg\" height=\"24px\"viewBox=\"0 0 24 24\"\n",
              "       width=\"24px\">\n",
              "    <path d=\"M0 0h24v24H0V0z\" fill=\"none\"/>\n",
              "    <path d=\"M18.56 5.44l.94 2.06.94-2.06 2.06-.94-2.06-.94-.94-2.06-.94 2.06-2.06.94zm-11 1L8.5 8.5l.94-2.06 2.06-.94-2.06-.94L8.5 2.5l-.94 2.06-2.06.94zm10 10l.94 2.06.94-2.06 2.06-.94-2.06-.94-.94-2.06-.94 2.06-2.06.94z\"/><path d=\"M17.41 7.96l-1.37-1.37c-.4-.4-.92-.59-1.43-.59-.52 0-1.04.2-1.43.59L10.3 9.45l-7.72 7.72c-.78.78-.78 2.05 0 2.83L4 21.41c.39.39.9.59 1.41.59.51 0 1.02-.2 1.41-.59l7.78-7.78 2.81-2.81c.8-.78.8-2.07 0-2.86zM5.41 20L4 18.59l7.72-7.72 1.47 1.35L5.41 20z\"/>\n",
              "  </svg>\n",
              "      </button>\n",
              "      \n",
              "  <style>\n",
              "    .colab-df-container {\n",
              "      display:flex;\n",
              "      flex-wrap:wrap;\n",
              "      gap: 12px;\n",
              "    }\n",
              "\n",
              "    .colab-df-convert {\n",
              "      background-color: #E8F0FE;\n",
              "      border: none;\n",
              "      border-radius: 50%;\n",
              "      cursor: pointer;\n",
              "      display: none;\n",
              "      fill: #1967D2;\n",
              "      height: 32px;\n",
              "      padding: 0 0 0 0;\n",
              "      width: 32px;\n",
              "    }\n",
              "\n",
              "    .colab-df-convert:hover {\n",
              "      background-color: #E2EBFA;\n",
              "      box-shadow: 0px 1px 2px rgba(60, 64, 67, 0.3), 0px 1px 3px 1px rgba(60, 64, 67, 0.15);\n",
              "      fill: #174EA6;\n",
              "    }\n",
              "\n",
              "    [theme=dark] .colab-df-convert {\n",
              "      background-color: #3B4455;\n",
              "      fill: #D2E3FC;\n",
              "    }\n",
              "\n",
              "    [theme=dark] .colab-df-convert:hover {\n",
              "      background-color: #434B5C;\n",
              "      box-shadow: 0px 1px 3px 1px rgba(0, 0, 0, 0.15);\n",
              "      filter: drop-shadow(0px 1px 2px rgba(0, 0, 0, 0.3));\n",
              "      fill: #FFFFFF;\n",
              "    }\n",
              "  </style>\n",
              "\n",
              "      <script>\n",
              "        const buttonEl =\n",
              "          document.querySelector('#df-7625b57e-1099-4d2b-a917-897546cec0fb button.colab-df-convert');\n",
              "        buttonEl.style.display =\n",
              "          google.colab.kernel.accessAllowed ? 'block' : 'none';\n",
              "\n",
              "        async function convertToInteractive(key) {\n",
              "          const element = document.querySelector('#df-7625b57e-1099-4d2b-a917-897546cec0fb');\n",
              "          const dataTable =\n",
              "            await google.colab.kernel.invokeFunction('convertToInteractive',\n",
              "                                                     [key], {});\n",
              "          if (!dataTable) return;\n",
              "\n",
              "          const docLinkHtml = 'Like what you see? Visit the ' +\n",
              "            '<a target=\"_blank\" href=https://colab.research.google.com/notebooks/data_table.ipynb>data table notebook</a>'\n",
              "            + ' to learn more about interactive tables.';\n",
              "          element.innerHTML = '';\n",
              "          dataTable['output_type'] = 'display_data';\n",
              "          await google.colab.output.renderOutput(dataTable, element);\n",
              "          const docLink = document.createElement('div');\n",
              "          docLink.innerHTML = docLinkHtml;\n",
              "          element.appendChild(docLink);\n",
              "        }\n",
              "      </script>\n",
              "    </div>\n",
              "  </div>\n",
              "  "
            ]
          },
          "metadata": {},
          "execution_count": 40
        }
      ]
    },
    {
      "cell_type": "code",
      "source": [
        "df.iloc[1,1]"
      ],
      "metadata": {
        "colab": {
          "base_uri": "https://localhost:8080/",
          "height": 35
        },
        "id": "mzWTkLYVMUmn",
        "outputId": "5a4062db-3e0d-47dd-af79-a972d1087ef7"
      },
      "execution_count": null,
      "outputs": [
        {
          "output_type": "execute_result",
          "data": {
            "text/plain": [
              "'Back in Black'"
            ],
            "application/vnd.google.colaboratory.intrinsic+json": {
              "type": "string"
            }
          },
          "metadata": {},
          "execution_count": 42
        }
      ]
    },
    {
      "cell_type": "code",
      "source": [
        "df.iloc[2,2] #ojo que df sige siendo la base de datos principal"
      ],
      "metadata": {
        "colab": {
          "base_uri": "https://localhost:8080/"
        },
        "id": "YArwEcG2MqBB",
        "outputId": "5b1fc6a2-c78d-4260-ac3d-3916694053d9"
      },
      "execution_count": null,
      "outputs": [
        {
          "output_type": "execute_result",
          "data": {
            "text/plain": [
              "1973"
            ]
          },
          "metadata": {},
          "execution_count": 43
        }
      ]
    },
    {
      "cell_type": "code",
      "source": [
        "df['Released'].unique()"
      ],
      "metadata": {
        "colab": {
          "base_uri": "https://localhost:8080/"
        },
        "id": "N3Dfj8GRM1dr",
        "outputId": "3c985190-900f-47e4-9ce3-389457aeac3e"
      },
      "execution_count": null,
      "outputs": [
        {
          "output_type": "execute_result",
          "data": {
            "text/plain": [
              "array([1982, 1980, 1973, 1992, 1977, 1976])"
            ]
          },
          "metadata": {},
          "execution_count": 45
        }
      ]
    },
    {
      "cell_type": "code",
      "source": [
        "df['Released']>= 1980"
      ],
      "metadata": {
        "id": "WFyuTIqoOW86",
        "outputId": "e1e41d52-ae6e-4067-9ce6-72ebd2d9315b",
        "colab": {
          "base_uri": "https://localhost:8080/"
        }
      },
      "execution_count": null,
      "outputs": [
        {
          "output_type": "execute_result",
          "data": {
            "text/plain": [
              "0     True\n",
              "1     True\n",
              "2    False\n",
              "3     True\n",
              "4    False\n",
              "5    False\n",
              "6    False\n",
              "7    False\n",
              "Name: Released, dtype: bool"
            ]
          },
          "metadata": {},
          "execution_count": 46
        }
      ]
    },
    {
      "cell_type": "markdown",
      "source": [
        "# MODULO 5"
      ],
      "metadata": {
        "id": "IxonCKC55nRJ"
      }
    },
    {
      "cell_type": "code",
      "source": [
        "import numpy as np # llamando a la librería\n",
        "a=[1,2,3,4,5,6,7] #creando una lista \n",
        "x = np.array(a) #generando una numpy array\n",
        "x"
      ],
      "metadata": {
        "colab": {
          "base_uri": "https://localhost:8080/"
        },
        "id": "CqpIypW05p3m",
        "outputId": "5ff64feb-f8fe-4ed7-9713-a03de144d5ba"
      },
      "execution_count": 3,
      "outputs": [
        {
          "output_type": "execute_result",
          "data": {
            "text/plain": [
              "array([1, 2, 3, 4, 5, 6, 7])"
            ]
          },
          "metadata": {},
          "execution_count": 3
        }
      ]
    },
    {
      "cell_type": "code",
      "source": [
        "type(x)\n",
        "#comprobamos el tipo de arreglo que tienen los datos"
      ],
      "metadata": {
        "colab": {
          "base_uri": "https://localhost:8080/"
        },
        "id": "sn6lO9A_8lWg",
        "outputId": "476f7adf-2e09-44b2-d239-9539f56c71a5"
      },
      "execution_count": 5,
      "outputs": [
        {
          "output_type": "execute_result",
          "data": {
            "text/plain": [
              "numpy.ndarray"
            ]
          },
          "metadata": {},
          "execution_count": 5
        }
      ]
    },
    {
      "cell_type": "code",
      "source": [
        "x.mean()"
      ],
      "metadata": {
        "colab": {
          "base_uri": "https://localhost:8080/"
        },
        "id": "4-WKT7ML8sEf",
        "outputId": "79984cce-6660-4964-b22e-6c7bfe17519f"
      },
      "execution_count": 6,
      "outputs": [
        {
          "output_type": "execute_result",
          "data": {
            "text/plain": [
              "4.0"
            ]
          },
          "metadata": {},
          "execution_count": 6
        }
      ]
    },
    {
      "cell_type": "code",
      "source": [
        "np.median(x)\n",
        "#En este estoy calculando el valor de la media y me da el mismo valor que la mediana."
      ],
      "metadata": {
        "colab": {
          "base_uri": "https://localhost:8080/"
        },
        "id": "0VK7us0V8xjx",
        "outputId": "1334e976-1749-4cc5-98d7-bfbe1beeec15"
      },
      "execution_count": 9,
      "outputs": [
        {
          "output_type": "execute_result",
          "data": {
            "text/plain": [
              "4.0"
            ]
          },
          "metadata": {},
          "execution_count": 9
        }
      ]
    },
    {
      "cell_type": "code",
      "source": [
        "# Crando un nuevo arreglo \n",
        "A=np.array([[11,12],[21,22],[31,32]])"
      ],
      "metadata": {
        "id": "UJp7aNCJ9LK1"
      },
      "execution_count": 10,
      "outputs": []
    },
    {
      "cell_type": "code",
      "source": [
        "#Podemos verificar el tipo de dato\n",
        "type(A)"
      ],
      "metadata": {
        "colab": {
          "base_uri": "https://localhost:8080/"
        },
        "id": "G41rojEP9x2w",
        "outputId": "fc3086de-7b67-4df0-ccf1-440c4070cf9e"
      },
      "execution_count": 12,
      "outputs": [
        {
          "output_type": "execute_result",
          "data": {
            "text/plain": [
              "numpy.ndarray"
            ]
          },
          "metadata": {},
          "execution_count": 12
        }
      ]
    },
    {
      "cell_type": "code",
      "source": [
        "A.shape # nos va a permitir ver la forma de la matriz A\n",
        "# como se puede observar es de tres filas y dos columnas "
      ],
      "metadata": {
        "colab": {
          "base_uri": "https://localhost:8080/"
        },
        "id": "Y4_qfAzL9_LW",
        "outputId": "d4586716-aa31-4283-8cd5-11fce23b89ad"
      },
      "execution_count": 13,
      "outputs": [
        {
          "output_type": "execute_result",
          "data": {
            "text/plain": [
              "(3, 2)"
            ]
          },
          "metadata": {},
          "execution_count": 13
        }
      ]
    },
    {
      "cell_type": "code",
      "source": [
        "A"
      ],
      "metadata": {
        "colab": {
          "base_uri": "https://localhost:8080/"
        },
        "id": "2Gg4AfJt-IVr",
        "outputId": "b13681c3-dff1-47e7-f25b-2eff38d913b4"
      },
      "execution_count": 14,
      "outputs": [
        {
          "output_type": "execute_result",
          "data": {
            "text/plain": [
              "array([[11, 12],\n",
              "       [21, 22],\n",
              "       [31, 32]])"
            ]
          },
          "metadata": {},
          "execution_count": 14
        }
      ]
    },
    {
      "cell_type": "code",
      "source": [
        "#Agregando un arreglo para poder hacer operaciones adicionales \n",
        "A=np.array([[11,12],[21,22]])\n",
        "B=np.array([[1, 0],[0,1]])"
      ],
      "metadata": {
        "id": "1I1A0mxN-LvB"
      },
      "execution_count": 15,
      "outputs": []
    },
    {
      "cell_type": "code",
      "source": [
        "A + B\n",
        "#haciendo una suma"
      ],
      "metadata": {
        "colab": {
          "base_uri": "https://localhost:8080/"
        },
        "id": "FFCgrd3--Vy3",
        "outputId": "cf4e1d0b-5857-486f-b1d6-edf906e8fdca"
      },
      "execution_count": 16,
      "outputs": [
        {
          "output_type": "execute_result",
          "data": {
            "text/plain": [
              "array([[12, 12],\n",
              "       [21, 23]])"
            ]
          },
          "metadata": {},
          "execution_count": 16
        }
      ]
    },
    {
      "cell_type": "code",
      "source": [
        "A-B\n",
        "#probando la resta de este punto. "
      ],
      "metadata": {
        "colab": {
          "base_uri": "https://localhost:8080/"
        },
        "id": "LKS7jIbD-Y1C",
        "outputId": "46b5c0ec-3181-432a-f6dd-33e4567b78cd"
      },
      "execution_count": 17,
      "outputs": [
        {
          "output_type": "execute_result",
          "data": {
            "text/plain": [
              "array([[10, 12],\n",
              "       [21, 21]])"
            ]
          },
          "metadata": {},
          "execution_count": 17
        }
      ]
    },
    {
      "cell_type": "code",
      "source": [
        "Z = np.dot(A,B) #generando una suma.producto\n",
        "Z"
      ],
      "metadata": {
        "colab": {
          "base_uri": "https://localhost:8080/"
        },
        "id": "Y67Bkme-A3ed",
        "outputId": "6d5a5747-2db9-48f6-fb22-38ab827b9ea8"
      },
      "execution_count": 21,
      "outputs": [
        {
          "output_type": "execute_result",
          "data": {
            "text/plain": [
              "array([[11, 12],\n",
              "       [21, 22]])"
            ]
          },
          "metadata": {},
          "execution_count": 21
        }
      ]
    },
    {
      "cell_type": "code",
      "source": [
        "#Instalando las librerias solicitadas en el ejemplo\n",
        "!pip install pycoingecko\n",
        "!pip install plotly\n",
        "!pip install mplfinance"
      ],
      "metadata": {
        "colab": {
          "base_uri": "https://localhost:8080/"
        },
        "id": "qM6TZcMFCz29",
        "outputId": "eeffdfa5-e93d-4e97-fd2b-ebaae89d8292"
      },
      "execution_count": 23,
      "outputs": [
        {
          "output_type": "stream",
          "name": "stdout",
          "text": [
            "Looking in indexes: https://pypi.org/simple, https://us-python.pkg.dev/colab-wheels/public/simple/\n",
            "Collecting pycoingecko\n",
            "  Downloading pycoingecko-3.0.0-py3-none-any.whl (8.6 kB)\n",
            "Requirement already satisfied: requests in /usr/local/lib/python3.7/dist-packages (from pycoingecko) (2.23.0)\n",
            "Requirement already satisfied: idna<3,>=2.5 in /usr/local/lib/python3.7/dist-packages (from requests->pycoingecko) (2.10)\n",
            "Requirement already satisfied: certifi>=2017.4.17 in /usr/local/lib/python3.7/dist-packages (from requests->pycoingecko) (2022.6.15)\n",
            "Requirement already satisfied: chardet<4,>=3.0.2 in /usr/local/lib/python3.7/dist-packages (from requests->pycoingecko) (3.0.4)\n",
            "Requirement already satisfied: urllib3!=1.25.0,!=1.25.1,<1.26,>=1.21.1 in /usr/local/lib/python3.7/dist-packages (from requests->pycoingecko) (1.24.3)\n",
            "Installing collected packages: pycoingecko\n",
            "Successfully installed pycoingecko-3.0.0\n",
            "Looking in indexes: https://pypi.org/simple, https://us-python.pkg.dev/colab-wheels/public/simple/\n",
            "Requirement already satisfied: plotly in /usr/local/lib/python3.7/dist-packages (5.5.0)\n",
            "Requirement already satisfied: tenacity>=6.2.0 in /usr/local/lib/python3.7/dist-packages (from plotly) (8.0.1)\n",
            "Requirement already satisfied: six in /usr/local/lib/python3.7/dist-packages (from plotly) (1.15.0)\n",
            "Looking in indexes: https://pypi.org/simple, https://us-python.pkg.dev/colab-wheels/public/simple/\n",
            "Collecting mplfinance\n",
            "  Downloading mplfinance-0.12.9b1-py3-none-any.whl (70 kB)\n",
            "\u001b[K     |████████████████████████████████| 70 kB 3.9 MB/s \n",
            "\u001b[?25hRequirement already satisfied: pandas in /usr/local/lib/python3.7/dist-packages (from mplfinance) (1.3.5)\n",
            "Requirement already satisfied: matplotlib in /usr/local/lib/python3.7/dist-packages (from mplfinance) (3.2.2)\n",
            "Requirement already satisfied: python-dateutil>=2.1 in /usr/local/lib/python3.7/dist-packages (from matplotlib->mplfinance) (2.8.2)\n",
            "Requirement already satisfied: cycler>=0.10 in /usr/local/lib/python3.7/dist-packages (from matplotlib->mplfinance) (0.11.0)\n",
            "Requirement already satisfied: kiwisolver>=1.0.1 in /usr/local/lib/python3.7/dist-packages (from matplotlib->mplfinance) (1.4.4)\n",
            "Requirement already satisfied: numpy>=1.11 in /usr/local/lib/python3.7/dist-packages (from matplotlib->mplfinance) (1.21.6)\n",
            "Requirement already satisfied: pyparsing!=2.0.4,!=2.1.2,!=2.1.6,>=2.0.1 in /usr/local/lib/python3.7/dist-packages (from matplotlib->mplfinance) (3.0.9)\n",
            "Requirement already satisfied: typing-extensions in /usr/local/lib/python3.7/dist-packages (from kiwisolver>=1.0.1->matplotlib->mplfinance) (4.1.1)\n",
            "Requirement already satisfied: six>=1.5 in /usr/local/lib/python3.7/dist-packages (from python-dateutil>=2.1->matplotlib->mplfinance) (1.15.0)\n",
            "Requirement already satisfied: pytz>=2017.3 in /usr/local/lib/python3.7/dist-packages (from pandas->mplfinance) (2022.2.1)\n",
            "Installing collected packages: mplfinance\n",
            "Successfully installed mplfinance-0.12.9b1\n"
          ]
        }
      ]
    },
    {
      "cell_type": "code",
      "source": [
        "#Una vez instalada las librerias, procedo a importar las mismas en el archivo de trabajo\n",
        "import pandas as pd\n",
        "import numpy as np\n",
        "import plotly.graph_objects as go\n",
        "from plotly.offline import plot\n",
        "import matplotlib.pyplot as plt\n",
        "import datetime\n",
        "from pycoingecko import CoinGeckoAPI\n",
        "from mplfinance.original_flavor import candlestick2_ohlc"
      ],
      "metadata": {
        "id": "yU6a4dh8CyAS"
      },
      "execution_count": 24,
      "outputs": []
    },
    {
      "cell_type": "code",
      "source": [
        "#creo un archivo en pandas data.frame\n",
        "dict_={'a':[11,21,31],'b':[12,22,32]}\n",
        "df=pd.DataFrame(dict_)\n",
        "type(df)"
      ],
      "metadata": {
        "colab": {
          "base_uri": "https://localhost:8080/"
        },
        "id": "TaOvE4LtDFNY",
        "outputId": "8048aa58-a175-4329-ec9a-8dff1aa89f64"
      },
      "execution_count": 25,
      "outputs": [
        {
          "output_type": "execute_result",
          "data": {
            "text/plain": [
              "pandas.core.frame.DataFrame"
            ]
          },
          "metadata": {},
          "execution_count": 25
        }
      ]
    },
    {
      "cell_type": "code",
      "source": [
        "df.head()\n",
        "#Aqui estamos llamando a un API"
      ],
      "metadata": {
        "colab": {
          "base_uri": "https://localhost:8080/",
          "height": 143
        },
        "id": "33MoveyQDhPQ",
        "outputId": "720cb95c-948d-4268-a0c4-d79f61674ffd"
      },
      "execution_count": 26,
      "outputs": [
        {
          "output_type": "execute_result",
          "data": {
            "text/plain": [
              "    a   b\n",
              "0  11  12\n",
              "1  21  22\n",
              "2  31  32"
            ],
            "text/html": [
              "\n",
              "  <div id=\"df-0e3188ab-8490-4212-a700-6c9a754c83ef\">\n",
              "    <div class=\"colab-df-container\">\n",
              "      <div>\n",
              "<style scoped>\n",
              "    .dataframe tbody tr th:only-of-type {\n",
              "        vertical-align: middle;\n",
              "    }\n",
              "\n",
              "    .dataframe tbody tr th {\n",
              "        vertical-align: top;\n",
              "    }\n",
              "\n",
              "    .dataframe thead th {\n",
              "        text-align: right;\n",
              "    }\n",
              "</style>\n",
              "<table border=\"1\" class=\"dataframe\">\n",
              "  <thead>\n",
              "    <tr style=\"text-align: right;\">\n",
              "      <th></th>\n",
              "      <th>a</th>\n",
              "      <th>b</th>\n",
              "    </tr>\n",
              "  </thead>\n",
              "  <tbody>\n",
              "    <tr>\n",
              "      <th>0</th>\n",
              "      <td>11</td>\n",
              "      <td>12</td>\n",
              "    </tr>\n",
              "    <tr>\n",
              "      <th>1</th>\n",
              "      <td>21</td>\n",
              "      <td>22</td>\n",
              "    </tr>\n",
              "    <tr>\n",
              "      <th>2</th>\n",
              "      <td>31</td>\n",
              "      <td>32</td>\n",
              "    </tr>\n",
              "  </tbody>\n",
              "</table>\n",
              "</div>\n",
              "      <button class=\"colab-df-convert\" onclick=\"convertToInteractive('df-0e3188ab-8490-4212-a700-6c9a754c83ef')\"\n",
              "              title=\"Convert this dataframe to an interactive table.\"\n",
              "              style=\"display:none;\">\n",
              "        \n",
              "  <svg xmlns=\"http://www.w3.org/2000/svg\" height=\"24px\"viewBox=\"0 0 24 24\"\n",
              "       width=\"24px\">\n",
              "    <path d=\"M0 0h24v24H0V0z\" fill=\"none\"/>\n",
              "    <path d=\"M18.56 5.44l.94 2.06.94-2.06 2.06-.94-2.06-.94-.94-2.06-.94 2.06-2.06.94zm-11 1L8.5 8.5l.94-2.06 2.06-.94-2.06-.94L8.5 2.5l-.94 2.06-2.06.94zm10 10l.94 2.06.94-2.06 2.06-.94-2.06-.94-.94-2.06-.94 2.06-2.06.94z\"/><path d=\"M17.41 7.96l-1.37-1.37c-.4-.4-.92-.59-1.43-.59-.52 0-1.04.2-1.43.59L10.3 9.45l-7.72 7.72c-.78.78-.78 2.05 0 2.83L4 21.41c.39.39.9.59 1.41.59.51 0 1.02-.2 1.41-.59l7.78-7.78 2.81-2.81c.8-.78.8-2.07 0-2.86zM5.41 20L4 18.59l7.72-7.72 1.47 1.35L5.41 20z\"/>\n",
              "  </svg>\n",
              "      </button>\n",
              "      \n",
              "  <style>\n",
              "    .colab-df-container {\n",
              "      display:flex;\n",
              "      flex-wrap:wrap;\n",
              "      gap: 12px;\n",
              "    }\n",
              "\n",
              "    .colab-df-convert {\n",
              "      background-color: #E8F0FE;\n",
              "      border: none;\n",
              "      border-radius: 50%;\n",
              "      cursor: pointer;\n",
              "      display: none;\n",
              "      fill: #1967D2;\n",
              "      height: 32px;\n",
              "      padding: 0 0 0 0;\n",
              "      width: 32px;\n",
              "    }\n",
              "\n",
              "    .colab-df-convert:hover {\n",
              "      background-color: #E2EBFA;\n",
              "      box-shadow: 0px 1px 2px rgba(60, 64, 67, 0.3), 0px 1px 3px 1px rgba(60, 64, 67, 0.15);\n",
              "      fill: #174EA6;\n",
              "    }\n",
              "\n",
              "    [theme=dark] .colab-df-convert {\n",
              "      background-color: #3B4455;\n",
              "      fill: #D2E3FC;\n",
              "    }\n",
              "\n",
              "    [theme=dark] .colab-df-convert:hover {\n",
              "      background-color: #434B5C;\n",
              "      box-shadow: 0px 1px 3px 1px rgba(0, 0, 0, 0.15);\n",
              "      filter: drop-shadow(0px 1px 2px rgba(0, 0, 0, 0.3));\n",
              "      fill: #FFFFFF;\n",
              "    }\n",
              "  </style>\n",
              "\n",
              "      <script>\n",
              "        const buttonEl =\n",
              "          document.querySelector('#df-0e3188ab-8490-4212-a700-6c9a754c83ef button.colab-df-convert');\n",
              "        buttonEl.style.display =\n",
              "          google.colab.kernel.accessAllowed ? 'block' : 'none';\n",
              "\n",
              "        async function convertToInteractive(key) {\n",
              "          const element = document.querySelector('#df-0e3188ab-8490-4212-a700-6c9a754c83ef');\n",
              "          const dataTable =\n",
              "            await google.colab.kernel.invokeFunction('convertToInteractive',\n",
              "                                                     [key], {});\n",
              "          if (!dataTable) return;\n",
              "\n",
              "          const docLinkHtml = 'Like what you see? Visit the ' +\n",
              "            '<a target=\"_blank\" href=https://colab.research.google.com/notebooks/data_table.ipynb>data table notebook</a>'\n",
              "            + ' to learn more about interactive tables.';\n",
              "          element.innerHTML = '';\n",
              "          dataTable['output_type'] = 'display_data';\n",
              "          await google.colab.output.renderOutput(dataTable, element);\n",
              "          const docLink = document.createElement('div');\n",
              "          docLink.innerHTML = docLinkHtml;\n",
              "          element.appendChild(docLink);\n",
              "        }\n",
              "      </script>\n",
              "    </div>\n",
              "  </div>\n",
              "  "
            ]
          },
          "metadata": {},
          "execution_count": 26
        }
      ]
    },
    {
      "cell_type": "code",
      "source": [
        "#Tambien puedo llamar un Api para calcular la media \n",
        "df.mean()"
      ],
      "metadata": {
        "colab": {
          "base_uri": "https://localhost:8080/"
        },
        "id": "Y-I9eqE5Dr_u",
        "outputId": "68c7a9cd-7ace-4114-8ba0-dba779f91a29"
      },
      "execution_count": 27,
      "outputs": [
        {
          "output_type": "execute_result",
          "data": {
            "text/plain": [
              "a    21.0\n",
              "b    22.0\n",
              "dtype: float64"
            ]
          },
          "metadata": {},
          "execution_count": 27
        }
      ]
    },
    {
      "cell_type": "code",
      "source": [
        "cg = CoinGeckoAPI()\n",
        "\n",
        "bitcoin_data = cg.get_coin_market_chart_by_id(id='bitcoin', vs_currency='usd', days=30)\n",
        "#Se carga una nueva data para aplicar en el trabajo"
      ],
      "metadata": {
        "id": "TRJlp4BDE4LX"
      },
      "execution_count": 36,
      "outputs": []
    },
    {
      "cell_type": "code",
      "source": [
        "type(bitcoin_data )\n",
        "#se comprueba el tipo de informacion que se tien "
      ],
      "metadata": {
        "colab": {
          "base_uri": "https://localhost:8080/"
        },
        "id": "V821xTqBJpPK",
        "outputId": "98789cfe-3b26-4e6f-aa2a-e9987be2b5c3"
      },
      "execution_count": 37,
      "outputs": [
        {
          "output_type": "execute_result",
          "data": {
            "text/plain": [
              "dict"
            ]
          },
          "metadata": {},
          "execution_count": 37
        }
      ]
    },
    {
      "cell_type": "code",
      "source": [
        "bitcoin_price_data = bitcoin_data['prices']\n",
        "\n",
        "bitcoin_price_data[0:5]"
      ],
      "metadata": {
        "colab": {
          "base_uri": "https://localhost:8080/"
        },
        "id": "RVoV55AnJyWj",
        "outputId": "ea992ac2-dcd8-4d0f-86f9-92e83430eb47"
      },
      "execution_count": 39,
      "outputs": [
        {
          "output_type": "execute_result",
          "data": {
            "text/plain": [
              "[[1662346941176, 19862.157764615546],\n",
              " [1662350511028, 19896.14394975393],\n",
              " [1662354087346, 19899.445698298885],\n",
              " [1662357679997, 19727.17937456354],\n",
              " [1662361297881, 19787.135398638195]]"
            ]
          },
          "metadata": {},
          "execution_count": 39
        }
      ]
    },
    {
      "cell_type": "code",
      "source": [
        "#se puede ver los datos capturados de la diccionario de los precios del BitCoin\n",
        "data = pd.DataFrame(bitcoin_price_data, columns=['TimeStamp', 'Price'])\n",
        "data"
      ],
      "metadata": {
        "colab": {
          "base_uri": "https://localhost:8080/",
          "height": 424
        },
        "id": "0kFNWS3RJ8DJ",
        "outputId": "3ffa449c-9f45-4800-a710-4d9917023d25"
      },
      "execution_count": 41,
      "outputs": [
        {
          "output_type": "execute_result",
          "data": {
            "text/plain": [
              "         TimeStamp         Price\n",
              "0    1662346941176  19862.157765\n",
              "1    1662350511028  19896.143950\n",
              "2    1662354087346  19899.445698\n",
              "3    1662357679997  19727.179375\n",
              "4    1662361297881  19787.135399\n",
              "..             ...           ...\n",
              "717  1664924476553  20281.613594\n",
              "718  1664928013649  20345.398520\n",
              "719  1664931617018  20190.037040\n",
              "720  1664935259054  20244.144201\n",
              "721  1664938980000  20199.285529\n",
              "\n",
              "[722 rows x 2 columns]"
            ],
            "text/html": [
              "\n",
              "  <div id=\"df-729cdb63-3510-4824-9f17-681523b8aafb\">\n",
              "    <div class=\"colab-df-container\">\n",
              "      <div>\n",
              "<style scoped>\n",
              "    .dataframe tbody tr th:only-of-type {\n",
              "        vertical-align: middle;\n",
              "    }\n",
              "\n",
              "    .dataframe tbody tr th {\n",
              "        vertical-align: top;\n",
              "    }\n",
              "\n",
              "    .dataframe thead th {\n",
              "        text-align: right;\n",
              "    }\n",
              "</style>\n",
              "<table border=\"1\" class=\"dataframe\">\n",
              "  <thead>\n",
              "    <tr style=\"text-align: right;\">\n",
              "      <th></th>\n",
              "      <th>TimeStamp</th>\n",
              "      <th>Price</th>\n",
              "    </tr>\n",
              "  </thead>\n",
              "  <tbody>\n",
              "    <tr>\n",
              "      <th>0</th>\n",
              "      <td>1662346941176</td>\n",
              "      <td>19862.157765</td>\n",
              "    </tr>\n",
              "    <tr>\n",
              "      <th>1</th>\n",
              "      <td>1662350511028</td>\n",
              "      <td>19896.143950</td>\n",
              "    </tr>\n",
              "    <tr>\n",
              "      <th>2</th>\n",
              "      <td>1662354087346</td>\n",
              "      <td>19899.445698</td>\n",
              "    </tr>\n",
              "    <tr>\n",
              "      <th>3</th>\n",
              "      <td>1662357679997</td>\n",
              "      <td>19727.179375</td>\n",
              "    </tr>\n",
              "    <tr>\n",
              "      <th>4</th>\n",
              "      <td>1662361297881</td>\n",
              "      <td>19787.135399</td>\n",
              "    </tr>\n",
              "    <tr>\n",
              "      <th>...</th>\n",
              "      <td>...</td>\n",
              "      <td>...</td>\n",
              "    </tr>\n",
              "    <tr>\n",
              "      <th>717</th>\n",
              "      <td>1664924476553</td>\n",
              "      <td>20281.613594</td>\n",
              "    </tr>\n",
              "    <tr>\n",
              "      <th>718</th>\n",
              "      <td>1664928013649</td>\n",
              "      <td>20345.398520</td>\n",
              "    </tr>\n",
              "    <tr>\n",
              "      <th>719</th>\n",
              "      <td>1664931617018</td>\n",
              "      <td>20190.037040</td>\n",
              "    </tr>\n",
              "    <tr>\n",
              "      <th>720</th>\n",
              "      <td>1664935259054</td>\n",
              "      <td>20244.144201</td>\n",
              "    </tr>\n",
              "    <tr>\n",
              "      <th>721</th>\n",
              "      <td>1664938980000</td>\n",
              "      <td>20199.285529</td>\n",
              "    </tr>\n",
              "  </tbody>\n",
              "</table>\n",
              "<p>722 rows × 2 columns</p>\n",
              "</div>\n",
              "      <button class=\"colab-df-convert\" onclick=\"convertToInteractive('df-729cdb63-3510-4824-9f17-681523b8aafb')\"\n",
              "              title=\"Convert this dataframe to an interactive table.\"\n",
              "              style=\"display:none;\">\n",
              "        \n",
              "  <svg xmlns=\"http://www.w3.org/2000/svg\" height=\"24px\"viewBox=\"0 0 24 24\"\n",
              "       width=\"24px\">\n",
              "    <path d=\"M0 0h24v24H0V0z\" fill=\"none\"/>\n",
              "    <path d=\"M18.56 5.44l.94 2.06.94-2.06 2.06-.94-2.06-.94-.94-2.06-.94 2.06-2.06.94zm-11 1L8.5 8.5l.94-2.06 2.06-.94-2.06-.94L8.5 2.5l-.94 2.06-2.06.94zm10 10l.94 2.06.94-2.06 2.06-.94-2.06-.94-.94-2.06-.94 2.06-2.06.94z\"/><path d=\"M17.41 7.96l-1.37-1.37c-.4-.4-.92-.59-1.43-.59-.52 0-1.04.2-1.43.59L10.3 9.45l-7.72 7.72c-.78.78-.78 2.05 0 2.83L4 21.41c.39.39.9.59 1.41.59.51 0 1.02-.2 1.41-.59l7.78-7.78 2.81-2.81c.8-.78.8-2.07 0-2.86zM5.41 20L4 18.59l7.72-7.72 1.47 1.35L5.41 20z\"/>\n",
              "  </svg>\n",
              "      </button>\n",
              "      \n",
              "  <style>\n",
              "    .colab-df-container {\n",
              "      display:flex;\n",
              "      flex-wrap:wrap;\n",
              "      gap: 12px;\n",
              "    }\n",
              "\n",
              "    .colab-df-convert {\n",
              "      background-color: #E8F0FE;\n",
              "      border: none;\n",
              "      border-radius: 50%;\n",
              "      cursor: pointer;\n",
              "      display: none;\n",
              "      fill: #1967D2;\n",
              "      height: 32px;\n",
              "      padding: 0 0 0 0;\n",
              "      width: 32px;\n",
              "    }\n",
              "\n",
              "    .colab-df-convert:hover {\n",
              "      background-color: #E2EBFA;\n",
              "      box-shadow: 0px 1px 2px rgba(60, 64, 67, 0.3), 0px 1px 3px 1px rgba(60, 64, 67, 0.15);\n",
              "      fill: #174EA6;\n",
              "    }\n",
              "\n",
              "    [theme=dark] .colab-df-convert {\n",
              "      background-color: #3B4455;\n",
              "      fill: #D2E3FC;\n",
              "    }\n",
              "\n",
              "    [theme=dark] .colab-df-convert:hover {\n",
              "      background-color: #434B5C;\n",
              "      box-shadow: 0px 1px 3px 1px rgba(0, 0, 0, 0.15);\n",
              "      filter: drop-shadow(0px 1px 2px rgba(0, 0, 0, 0.3));\n",
              "      fill: #FFFFFF;\n",
              "    }\n",
              "  </style>\n",
              "\n",
              "      <script>\n",
              "        const buttonEl =\n",
              "          document.querySelector('#df-729cdb63-3510-4824-9f17-681523b8aafb button.colab-df-convert');\n",
              "        buttonEl.style.display =\n",
              "          google.colab.kernel.accessAllowed ? 'block' : 'none';\n",
              "\n",
              "        async function convertToInteractive(key) {\n",
              "          const element = document.querySelector('#df-729cdb63-3510-4824-9f17-681523b8aafb');\n",
              "          const dataTable =\n",
              "            await google.colab.kernel.invokeFunction('convertToInteractive',\n",
              "                                                     [key], {});\n",
              "          if (!dataTable) return;\n",
              "\n",
              "          const docLinkHtml = 'Like what you see? Visit the ' +\n",
              "            '<a target=\"_blank\" href=https://colab.research.google.com/notebooks/data_table.ipynb>data table notebook</a>'\n",
              "            + ' to learn more about interactive tables.';\n",
              "          element.innerHTML = '';\n",
              "          dataTable['output_type'] = 'display_data';\n",
              "          await google.colab.output.renderOutput(dataTable, element);\n",
              "          const docLink = document.createElement('div');\n",
              "          docLink.innerHTML = docLinkHtml;\n",
              "          element.appendChild(docLink);\n",
              "        }\n",
              "      </script>\n",
              "    </div>\n",
              "  </div>\n",
              "  "
            ]
          },
          "metadata": {},
          "execution_count": 41
        }
      ]
    },
    {
      "cell_type": "markdown",
      "source": [
        "A01793865_Luis_Negron_Semana1,2,3_y_4_.ipynb"
      ],
      "metadata": {
        "id": "sHyEOlD_KfLo"
      }
    },
    {
      "cell_type": "markdown",
      "source": [
        "#Badge conseguido\n",
        "![python-for-data-science.png](data:image/png;base64,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)"
      ],
      "metadata": {
        "id": "LcHC4NcvKIoc"
      }
    },
    {
      "cell_type": "markdown",
      "source": [
        "![Captura de Pantalla 2022-10-04 a la(s) 22.24.56.png](data:image/png;base64,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)"
      ],
      "metadata": {
        "id": "1DMG2B7lLPA0"
      }
    }
  ]
}
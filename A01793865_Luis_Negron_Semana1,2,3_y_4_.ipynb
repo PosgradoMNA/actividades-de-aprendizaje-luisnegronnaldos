{
  "nbformat": 4,
  "nbformat_minor": 0,
  "metadata": {
    "colab": {
      "provenance": [],
      "authorship_tag": "ABX9TyMBgsTObn8snXVrgrFkpD8R",
      "include_colab_link": true
    },
    "kernelspec": {
      "name": "python3",
      "display_name": "Python 3"
    },
    "language_info": {
      "name": "python"
    }
  },
  "cells": [
    {
      "cell_type": "markdown",
      "metadata": {
        "id": "view-in-github",
        "colab_type": "text"
      },
      "source": [
        "<a href=\"https://colab.research.google.com/github/PosgradoMNA/actividades-de-aprendizaje-luisnegronnaldos/blob/main/A01793865_Luis_Negron_Semana1%2C2%2C3_y_4_.ipynb\" target=\"_parent\"><img src=\"https://colab.research.google.com/assets/colab-badge.svg\" alt=\"Open In Colab\"/></a>"
      ]
    },
    {
      "cell_type": "markdown",
      "source": [
        "\n",
        "Nombre: Luis Alfredo Negron Naldos\n",
        "\n",
        "Matricula: A01793865\n",
        "\n",
        "Curso: Ciencias y Analítica de Datos\n",
        "\n",
        "Profesor: Jobish Vallikavungal Devassia"
      ],
      "metadata": {
        "id": "5Y3I1ifVnFsX"
      }
    },
    {
      "cell_type": "markdown",
      "source": [
        "## **MODULO 1**"
      ],
      "metadata": {
        "id": "6q_j58YEvFx4"
      }
    },
    {
      "cell_type": "code",
      "execution_count": null,
      "metadata": {
        "id": "qJlj_TLfiAUi",
        "outputId": "03f3dd7b-ead9-494b-b61a-f4fc227a6dbf",
        "colab": {
          "base_uri": "https://localhost:8080/"
        }
      },
      "outputs": [
        {
          "output_type": "stream",
          "name": "stdout",
          "text": [
            "Hello World\n"
          ]
        }
      ],
      "source": [
        "print(\"Hello World\")"
      ]
    },
    {
      "cell_type": "code",
      "source": [
        "print(int(\"1\"))\n",
        "print(bool(\"1\"))"
      ],
      "metadata": {
        "outputId": "27a4acee-744b-4a48-ccc3-bc4ff3870ecf",
        "colab": {
          "base_uri": "https://localhost:8080/"
        },
        "id": "aX4lgNZ9-eMx"
      },
      "execution_count": null,
      "outputs": [
        {
          "output_type": "stream",
          "name": "stdout",
          "text": [
            "1\n",
            "True\n"
          ]
        }
      ]
    },
    {
      "cell_type": "code",
      "source": [
        "Letters=\"ABCDEFGHIJK\"\n",
        "Letters[0:4]"
      ],
      "metadata": {
        "colab": {
          "base_uri": "https://localhost:8080/",
          "height": 35
        },
        "id": "S031I6Q_4RbP",
        "outputId": "07b921b1-95a1-4415-a3d5-8c932f52d08a"
      },
      "execution_count": null,
      "outputs": [
        {
          "output_type": "execute_result",
          "data": {
            "text/plain": [
              "'ABCD'"
            ],
            "application/vnd.google.colaboratory.intrinsic+json": {
              "type": "string"
            }
          },
          "metadata": {},
          "execution_count": 11
        }
      ]
    },
    {
      "cell_type": "code",
      "source": [
        "Good=\"GsoAo+d\"\n",
        "Good[::2]"
      ],
      "metadata": {
        "colab": {
          "base_uri": "https://localhost:8080/",
          "height": 35
        },
        "id": "ZlQftL_I4Xl7",
        "outputId": "f82e82df-6bec-4983-93ea-19d9dbabbc7e"
      },
      "execution_count": null,
      "outputs": [
        {
          "output_type": "execute_result",
          "data": {
            "text/plain": [
              "'Good'"
            ],
            "application/vnd.google.colaboratory.intrinsic+json": {
              "type": "string"
            }
          },
          "metadata": {},
          "execution_count": 12
        }
      ]
    },
    {
      "cell_type": "code",
      "source": [
        "\"uppercase\"\n",
        "\"uppercase\".upper()"
      ],
      "metadata": {
        "colab": {
          "base_uri": "https://localhost:8080/",
          "height": 35
        },
        "id": "vWoMQxTz4dc-",
        "outputId": "0982e707-3843-4531-9e75-767d7aebdf12"
      },
      "execution_count": null,
      "outputs": [
        {
          "output_type": "execute_result",
          "data": {
            "text/plain": [
              "'UPPERCASE'"
            ],
            "application/vnd.google.colaboratory.intrinsic+json": {
              "type": "string"
            }
          },
          "metadata": {},
          "execution_count": 13
        }
      ]
    },
    {
      "cell_type": "code",
      "source": [
        "Name = \"Michael Jackson\"\n",
        "Name = Name + \"is the best\""
      ],
      "metadata": {
        "id": "01OosVQd5Owb"
      },
      "execution_count": null,
      "outputs": []
    },
    {
      "cell_type": "code",
      "source": [
        "Name"
      ],
      "metadata": {
        "colab": {
          "base_uri": "https://localhost:8080/",
          "height": 35
        },
        "id": "IwRTHZgx5Zud",
        "outputId": "01390abd-bb55-40f1-8030-94349acd4040"
      },
      "execution_count": null,
      "outputs": [
        {
          "output_type": "execute_result",
          "data": {
            "text/plain": [
              "'Michael Jacksonis the best'"
            ],
            "application/vnd.google.colaboratory.intrinsic+json": {
              "type": "string"
            }
          },
          "metadata": {},
          "execution_count": 15
        }
      ]
    },
    {
      "cell_type": "code",
      "source": [
        "print (\"Michael Jackson \\n is the best\")"
      ],
      "metadata": {
        "colab": {
          "base_uri": "https://localhost:8080/"
        },
        "id": "OZi9UANb5jxb",
        "outputId": "01833b6f-1e98-45cd-9ed3-d1ff3d4dc2ea"
      },
      "execution_count": null,
      "outputs": [
        {
          "output_type": "stream",
          "name": "stdout",
          "text": [
            "Michael Jackson \n",
            " is the best\n"
          ]
        }
      ]
    },
    {
      "cell_type": "code",
      "source": [
        "print (\"Michael Jackson \\t is the best\")"
      ],
      "metadata": {
        "colab": {
          "base_uri": "https://localhost:8080/"
        },
        "id": "LZMe8h8Z6STE",
        "outputId": "f6549753-2881-4393-acc4-25101f0e03ff"
      },
      "execution_count": null,
      "outputs": [
        {
          "output_type": "stream",
          "name": "stdout",
          "text": [
            "Michael Jackson \t is the best\n"
          ]
        }
      ]
    },
    {
      "cell_type": "code",
      "source": [
        "A = \"Thriller is the best\"\n",
        "B = A.replace (\"Thriller\", \"Michael\")\n",
        "B"
      ],
      "metadata": {
        "colab": {
          "base_uri": "https://localhost:8080/",
          "height": 35
        },
        "id": "OrP5CGdU6ZcL",
        "outputId": "72969485-5cc2-4d0d-ee06-c30ab4d3dea6"
      },
      "execution_count": null,
      "outputs": [
        {
          "output_type": "execute_result",
          "data": {
            "text/plain": [
              "'Michael is the best'"
            ],
            "application/vnd.google.colaboratory.intrinsic+json": {
              "type": "string"
            }
          },
          "metadata": {},
          "execution_count": 9
        }
      ]
    },
    {
      "cell_type": "code",
      "source": [
        "'1' + '2'"
      ],
      "metadata": {
        "id": "8onSFqJs7Aqc",
        "outputId": "e383fea3-4c29-4982-957b-2683f8dadac8",
        "colab": {
          "base_uri": "https://localhost:8080/",
          "height": 35
        }
      },
      "execution_count": null,
      "outputs": [
        {
          "output_type": "execute_result",
          "data": {
            "text/plain": [
              "'12'"
            ],
            "application/vnd.google.colaboratory.intrinsic+json": {
              "type": "string"
            }
          },
          "metadata": {},
          "execution_count": 8
        }
      ]
    },
    {
      "cell_type": "code",
      "execution_count": null,
      "metadata": {
        "colab": {
          "base_uri": "https://localhost:8080/"
        },
        "outputId": "7a940452-00ce-4226-958a-859cfed16bce",
        "id": "e7dCsTgN4JbE"
      },
      "outputs": [
        {
          "output_type": "stream",
          "name": "stdout",
          "text": [
            "Hello World\n"
          ]
        }
      ],
      "source": [
        "print(\"Hello World\")"
      ]
    },
    {
      "cell_type": "code",
      "source": [
        "print(\"Hello\\nWorld\")"
      ],
      "metadata": {
        "id": "amXIW6Fq3OHi",
        "outputId": "b94dd3c5-68c8-4fa1-ee76-65e43c6c146c",
        "colab": {
          "base_uri": "https://localhost:8080/"
        }
      },
      "execution_count": null,
      "outputs": [
        {
          "output_type": "stream",
          "name": "stdout",
          "text": [
            "Hello\n",
            "World\n"
          ]
        }
      ]
    },
    {
      "cell_type": "code",
      "source": [
        "# this is a comment"
      ],
      "metadata": {
        "id": "qfrhUxXv3R2o"
      },
      "execution_count": null,
      "outputs": []
    },
    {
      "cell_type": "code",
      "source": [
        "type(\"Hello World\")"
      ],
      "metadata": {
        "id": "xljYOtzs3Z8i",
        "outputId": "760dad0f-4472-4334-814e-0327fb408e56",
        "colab": {
          "base_uri": "https://localhost:8080/"
        }
      },
      "execution_count": null,
      "outputs": [
        {
          "output_type": "execute_result",
          "data": {
            "text/plain": [
              "str"
            ]
          },
          "metadata": {},
          "execution_count": 4
        }
      ]
    },
    {
      "cell_type": "code",
      "source": [
        "type(\"1.1\")"
      ],
      "metadata": {
        "id": "EYKIDwah3a-C",
        "outputId": "512605e7-80bb-47c3-9220-d8ecf0f24309",
        "colab": {
          "base_uri": "https://localhost:8080/"
        }
      },
      "execution_count": null,
      "outputs": [
        {
          "output_type": "execute_result",
          "data": {
            "text/plain": [
              "str"
            ]
          },
          "metadata": {},
          "execution_count": 5
        }
      ]
    },
    {
      "cell_type": "code",
      "source": [
        "print(int(\"1\"))\n",
        "print(bool(\"1\"))"
      ],
      "metadata": {
        "id": "GnFU_DAP3eWS",
        "outputId": "27a4acee-744b-4a48-ccc3-bc4ff3870ecf",
        "colab": {
          "base_uri": "https://localhost:8080/"
        }
      },
      "execution_count": null,
      "outputs": [
        {
          "output_type": "stream",
          "name": "stdout",
          "text": [
            "1\n",
            "True\n"
          ]
        }
      ]
    },
    {
      "cell_type": "markdown",
      "source": [
        "## **MODULO 2**"
      ],
      "metadata": {
        "id": "5bkBHnRNvBK-"
      }
    },
    {
      "cell_type": "code",
      "source": [
        "Ratings = (10, 9, 8 , 7, 5, 7, 6, 8 ,9)"
      ],
      "metadata": {
        "id": "sxdUzUGSvIO5"
      },
      "execution_count": null,
      "outputs": []
    },
    {
      "cell_type": "code",
      "source": [
        "tuple1 = ( \"disco\", 10, 1.2)\n",
        "tuple1[1]"
      ],
      "metadata": {
        "colab": {
          "base_uri": "https://localhost:8080/"
        },
        "id": "IEwj_anQvmt2",
        "outputId": "5173b2a0-d204-49a6-f798-d507472d1cd4"
      },
      "execution_count": null,
      "outputs": [
        {
          "output_type": "execute_result",
          "data": {
            "text/plain": [
              "10"
            ]
          },
          "metadata": {},
          "execution_count": 5
        }
      ]
    },
    {
      "cell_type": "code",
      "source": [
        "tuple1 = ( \"disco\", 10, 1.2)\n",
        "tuple1[-2]"
      ],
      "metadata": {
        "colab": {
          "base_uri": "https://localhost:8080/"
        },
        "id": "9hTwuliov8S1",
        "outputId": "9740add0-9f00-4c05-cca2-8651f6e40166"
      },
      "execution_count": null,
      "outputs": [
        {
          "output_type": "execute_result",
          "data": {
            "text/plain": [
              "10"
            ]
          },
          "metadata": {},
          "execution_count": 7
        }
      ]
    },
    {
      "cell_type": "code",
      "source": [
        "tuple2= (\"disco\", 10, 1.2, \"hard rock\", 10)\n",
        "tuple2[0:3]"
      ],
      "metadata": {
        "colab": {
          "base_uri": "https://localhost:8080/"
        },
        "id": "UiT_JISzwFpn",
        "outputId": "d30660f5-5106-45bd-cf85-c731acb0a47c"
      },
      "execution_count": null,
      "outputs": [
        {
          "output_type": "execute_result",
          "data": {
            "text/plain": [
              "('disco', 10, 1.2)"
            ]
          },
          "metadata": {},
          "execution_count": 2
        }
      ]
    },
    {
      "cell_type": "code",
      "source": [
        "ratings1 = Ratings"
      ],
      "metadata": {
        "id": "W1Lzos00wg1t"
      },
      "execution_count": null,
      "outputs": []
    },
    {
      "cell_type": "code",
      "source": [
        "ratingsorted = sorted(Ratings)\n",
        "ratingsorted"
      ],
      "metadata": {
        "colab": {
          "base_uri": "https://localhost:8080/"
        },
        "id": "ZlzANhd-wyF4",
        "outputId": "b4e2d80c-6f02-43c8-b6e6-1c16dbeba4b5"
      },
      "execution_count": null,
      "outputs": [
        {
          "output_type": "execute_result",
          "data": {
            "text/plain": [
              "[5, 6, 7, 7, 8, 8, 9, 9, 10]"
            ]
          },
          "metadata": {},
          "execution_count": 8
        }
      ]
    },
    {
      "cell_type": "code",
      "source": [
        "NT = (1,2,(\"pop\", \"rock\"), (3,4), (\"disco\", 2, 3))\n",
        "NT[2][1]"
      ],
      "metadata": {
        "colab": {
          "base_uri": "https://localhost:8080/",
          "height": 35
        },
        "id": "GSee870IxzCq",
        "outputId": "818555b5-076d-4780-9652-5a65dd40a5f8"
      },
      "execution_count": null,
      "outputs": [
        {
          "output_type": "execute_result",
          "data": {
            "text/plain": [
              "'rock'"
            ],
            "application/vnd.google.colaboratory.intrinsic+json": {
              "type": "string"
            }
          },
          "metadata": {},
          "execution_count": 9
        }
      ]
    },
    {
      "cell_type": "code",
      "source": [
        "list = [\"michael jackson\", 10.2, 1982,2,3,4]\n",
        "list[0]\n",
        "list[3:5]"
      ],
      "metadata": {
        "colab": {
          "base_uri": "https://localhost:8080/"
        },
        "id": "KE2SaKTTyiDx",
        "outputId": "5bba6e03-1a55-414a-8d8d-7d2c7f03711d"
      },
      "execution_count": null,
      "outputs": [
        {
          "output_type": "execute_result",
          "data": {
            "text/plain": [
              "[2, 3]"
            ]
          },
          "metadata": {},
          "execution_count": 10
        }
      ]
    },
    {
      "cell_type": "code",
      "source": [
        "L= list + [3, 4]\n",
        "L"
      ],
      "metadata": {
        "colab": {
          "base_uri": "https://localhost:8080/"
        },
        "id": "VP8H1k9CzESE",
        "outputId": "625233e9-d444-42b8-b419-02d08d66ad40"
      },
      "execution_count": null,
      "outputs": [
        {
          "output_type": "execute_result",
          "data": {
            "text/plain": [
              "['michael jackson', 10.2, 1982, 2, 3, 4, 3, 4]"
            ]
          },
          "metadata": {},
          "execution_count": 11
        }
      ]
    },
    {
      "cell_type": "code",
      "source": [
        "L.extend([10,20])\n",
        "L"
      ],
      "metadata": {
        "colab": {
          "base_uri": "https://localhost:8080/"
        },
        "id": "MMq8GVttzOg7",
        "outputId": "b9911e17-a7c7-4667-bd51-d902f6ed8e34"
      },
      "execution_count": null,
      "outputs": [
        {
          "output_type": "execute_result",
          "data": {
            "text/plain": [
              "['michael jackson', 10.2, 1982, 2, 3, 4, 3, 4, 10, 20]"
            ]
          },
          "metadata": {},
          "execution_count": 12
        }
      ]
    },
    {
      "cell_type": "code",
      "source": [
        "A=[\"disco\", 10, 1.2]\n",
        "A[0] = \"hard rock\"\n",
        "A"
      ],
      "metadata": {
        "colab": {
          "base_uri": "https://localhost:8080/"
        },
        "id": "3unLYzh5zhSg",
        "outputId": "cbeb64bd-03e7-445d-8e5e-699eb60fa39e"
      },
      "execution_count": null,
      "outputs": [
        {
          "output_type": "execute_result",
          "data": {
            "text/plain": [
              "['hard rock', 10, 1.2]"
            ]
          },
          "metadata": {},
          "execution_count": 15
        }
      ]
    },
    {
      "cell_type": "code",
      "source": [
        "del(A[0])\n",
        "A"
      ],
      "metadata": {
        "colab": {
          "base_uri": "https://localhost:8080/"
        },
        "id": "0keqUztyz4n7",
        "outputId": "a1946402-3046-4fb0-96a7-e54927992be0"
      },
      "execution_count": null,
      "outputs": [
        {
          "output_type": "execute_result",
          "data": {
            "text/plain": [
              "[10, 1.2]"
            ]
          },
          "metadata": {},
          "execution_count": 16
        }
      ]
    },
    {
      "cell_type": "code",
      "source": [
        "B= A\n",
        "B\n"
      ],
      "metadata": {
        "colab": {
          "base_uri": "https://localhost:8080/"
        },
        "id": "7gAAVLGt0L8B",
        "outputId": "959bb5e6-d34e-48b8-9e2a-9ed982b6f570"
      },
      "execution_count": null,
      "outputs": [
        {
          "output_type": "execute_result",
          "data": {
            "text/plain": [
              "[10, 1.2]"
            ]
          },
          "metadata": {},
          "execution_count": 17
        }
      ]
    },
    {
      "cell_type": "code",
      "source": [
        "B[0]= \"banana\"\n",
        "A"
      ],
      "metadata": {
        "colab": {
          "base_uri": "https://localhost:8080/"
        },
        "id": "DbA1dVcv0thA",
        "outputId": "50d63d6a-b89e-4238-f643-d8158f6a98eb"
      },
      "execution_count": null,
      "outputs": [
        {
          "output_type": "execute_result",
          "data": {
            "text/plain": [
              "['banana', 1.2]"
            ]
          },
          "metadata": {},
          "execution_count": 18
        }
      ]
    },
    {
      "cell_type": "code",
      "source": [
        "set= {\"pop\", \"rock\", \"salsa\", \"pop\", \"metal\", \"pop\", \"salsa\"}\n",
        "set"
      ],
      "metadata": {
        "id": "fg9CthOR9Ssy",
        "outputId": "39550c6a-a5e5-4280-a6d3-11c712378e31",
        "colab": {
          "base_uri": "https://localhost:8080/"
        }
      },
      "execution_count": null,
      "outputs": [
        {
          "output_type": "execute_result",
          "data": {
            "text/plain": [
              "{'metal', 'pop', 'rock', 'salsa'}"
            ]
          },
          "metadata": {},
          "execution_count": 19
        }
      ]
    },
    {
      "cell_type": "code",
      "source": [
        "A={\"thriller\", \"Black in back\", \"AC/DC\"}\n",
        "A.add(\"NYNC\")\n",
        "A"
      ],
      "metadata": {
        "id": "iYDjB-yb9uf4",
        "outputId": "632eae73-ac19-462b-9789-e8a1343c4935",
        "colab": {
          "base_uri": "https://localhost:8080/"
        }
      },
      "execution_count": null,
      "outputs": [
        {
          "output_type": "execute_result",
          "data": {
            "text/plain": [
              "{'AC/DC', 'Black in back', 'NYNC', 'thriller'}"
            ]
          },
          "metadata": {},
          "execution_count": 20
        }
      ]
    },
    {
      "cell_type": "code",
      "source": [
        "A.remove(\"AC/DC\")\n",
        "A"
      ],
      "metadata": {
        "id": "c_qAaXar-yQq",
        "outputId": "e41f20e2-14b3-478c-f52b-5d132dae56e7",
        "colab": {
          "base_uri": "https://localhost:8080/"
        }
      },
      "execution_count": null,
      "outputs": [
        {
          "output_type": "execute_result",
          "data": {
            "text/plain": [
              "{'Black in back', 'NYNC', 'thriller'}"
            ]
          },
          "metadata": {},
          "execution_count": 21
        }
      ]
    },
    {
      "cell_type": "code",
      "source": [
        "\"Who\" in A"
      ],
      "metadata": {
        "id": "DEe-tKZi_DQs",
        "outputId": "e7f81101-ebca-4d7e-94e2-da3cb5d0e155",
        "colab": {
          "base_uri": "https://localhost:8080/"
        }
      },
      "execution_count": null,
      "outputs": [
        {
          "output_type": "execute_result",
          "data": {
            "text/plain": [
              "False"
            ]
          },
          "metadata": {},
          "execution_count": 23
        }
      ]
    },
    {
      "cell_type": "code",
      "source": [
        "B ={\"NYNC\", 5, \"thriller\"}\n",
        "set3 = A&B\n",
        "set3"
      ],
      "metadata": {
        "id": "iTPkWsFM_VoF",
        "outputId": "50897631-f8ca-4651-dbf0-fe7923c21eed",
        "colab": {
          "base_uri": "https://localhost:8080/"
        }
      },
      "execution_count": null,
      "outputs": [
        {
          "output_type": "execute_result",
          "data": {
            "text/plain": [
              "{'NYNC', 'thriller'}"
            ]
          },
          "metadata": {},
          "execution_count": 22
        }
      ]
    },
    {
      "cell_type": "code",
      "source": [
        "dict = {\"thriller\":1982, \"Back in Black\":1980, \"Thew dark side of the moon\": 1973, \"the bodyguard\": 1992}\n",
        "dict\n",
        "           "
      ],
      "metadata": {
        "colab": {
          "base_uri": "https://localhost:8080/"
        },
        "id": "L4hUpdPg-bdI",
        "outputId": "4ba88beb-19bd-4110-e5bf-58f58dc7cf28"
      },
      "execution_count": null,
      "outputs": [
        {
          "output_type": "execute_result",
          "data": {
            "text/plain": [
              "{'thriller': 1982,\n",
              " 'Back in Black': 1980,\n",
              " 'Thew dark side of the moon': 1973,\n",
              " 'the bodyguard': 1992}"
            ]
          },
          "metadata": {},
          "execution_count": 24
        }
      ]
    },
    {
      "cell_type": "code",
      "source": [
        "dict[\"thriller\"]"
      ],
      "metadata": {
        "colab": {
          "base_uri": "https://localhost:8080/"
        },
        "id": "M9wPDY7i_QSu",
        "outputId": "7a116fd1-6a59-4ea7-bf3c-10016364a0ea"
      },
      "execution_count": null,
      "outputs": [
        {
          "output_type": "execute_result",
          "data": {
            "text/plain": [
              "1982"
            ]
          },
          "metadata": {},
          "execution_count": 25
        }
      ]
    },
    {
      "cell_type": "code",
      "source": [
        "dict['peru']='2020'\n",
        "dict"
      ],
      "metadata": {
        "colab": {
          "base_uri": "https://localhost:8080/"
        },
        "id": "lAeO7vNf_ceZ",
        "outputId": "d0698679-72bc-47b9-f3ed-188441bce979"
      },
      "execution_count": null,
      "outputs": [
        {
          "output_type": "execute_result",
          "data": {
            "text/plain": [
              "{'Back in Black': 1980,\n",
              " 'Thew dark side of the moon': 1973,\n",
              " 'the bodyguard': 1992,\n",
              " 'peru': '2020'}"
            ]
          },
          "metadata": {},
          "execution_count": 27
        }
      ]
    },
    {
      "cell_type": "code",
      "source": [
        "del(dict['thriller'])\n",
        "dict"
      ],
      "metadata": {
        "colab": {
          "base_uri": "https://localhost:8080/"
        },
        "id": "OFezJuR-AHln",
        "outputId": "59c3d1a1-c343-4507-e303-9b49636b8d55"
      },
      "execution_count": null,
      "outputs": [
        {
          "output_type": "execute_result",
          "data": {
            "text/plain": [
              "{'Back in Black': 1980,\n",
              " 'Thew dark side of the moon': 1973,\n",
              " 'the bodyguard': 1992}"
            ]
          },
          "metadata": {},
          "execution_count": 26
        }
      ]
    },
    {
      "cell_type": "markdown",
      "source": [
        "## MODULO 3"
      ],
      "metadata": {
        "id": "HO6vcmeSAY5C"
      }
    },
    {
      "cell_type": "code",
      "source": [
        "a= 6\n",
        "a==7 \n"
      ],
      "metadata": {
        "colab": {
          "base_uri": "https://localhost:8080/"
        },
        "id": "QD3QGsIqAeSO",
        "outputId": "90ec11c6-98da-4d61-e87d-be44bc4094af"
      },
      "execution_count": null,
      "outputs": [
        {
          "output_type": "execute_result",
          "data": {
            "text/plain": [
              "False"
            ]
          },
          "metadata": {},
          "execution_count": 28
        }
      ]
    },
    {
      "cell_type": "code",
      "source": [
        "a>5"
      ],
      "metadata": {
        "colab": {
          "base_uri": "https://localhost:8080/"
        },
        "id": "ZtCcLGQWBfKw",
        "outputId": "58cbb992-bb52-46da-a09f-c94241c0ee3f"
      },
      "execution_count": null,
      "outputs": [
        {
          "output_type": "execute_result",
          "data": {
            "text/plain": [
              "True"
            ]
          },
          "metadata": {},
          "execution_count": 2
        }
      ]
    },
    {
      "cell_type": "code",
      "source": [
        "a<6"
      ],
      "metadata": {
        "colab": {
          "base_uri": "https://localhost:8080/"
        },
        "id": "vEml3PEgEH9f",
        "outputId": "0e54c346-e8d7-475b-b7de-9fa02ecbcfbe"
      },
      "execution_count": null,
      "outputs": [
        {
          "output_type": "execute_result",
          "data": {
            "text/plain": [
              "False"
            ]
          },
          "metadata": {},
          "execution_count": 3
        }
      ]
    },
    {
      "cell_type": "code",
      "source": [
        "a!=6"
      ],
      "metadata": {
        "colab": {
          "base_uri": "https://localhost:8080/"
        },
        "id": "oM0igzJmELgk",
        "outputId": "2ad5e6b6-6dc3-459b-8062-e36c845eadc0"
      },
      "execution_count": null,
      "outputs": [
        {
          "output_type": "execute_result",
          "data": {
            "text/plain": [
              "False"
            ]
          },
          "metadata": {},
          "execution_count": 4
        }
      ]
    },
    {
      "cell_type": "code",
      "source": [
        "age = 17\n",
        "if (age>18):\n",
        "  print(\"Entra al concierto\")\n",
        "print (\"No entra al concierto\")  "
      ],
      "metadata": {
        "colab": {
          "base_uri": "https://localhost:8080/"
        },
        "id": "dt1bHSaIEcAI",
        "outputId": "528d6e38-e15e-4bab-82c7-95f07ebd2c5b"
      },
      "execution_count": null,
      "outputs": [
        {
          "output_type": "stream",
          "name": "stdout",
          "text": [
            "No entra al concierto\n"
          ]
        }
      ]
    },
    {
      "cell_type": "code",
      "source": [
        "age = 17\n",
        "if (age>18):\n",
        "  print(\"Entra al concierto\")\n",
        "else:\n",
        "  print(\"se va a cenar\")\n",
        "\n",
        "print (\"Sigue caminando\")  "
      ],
      "metadata": {
        "colab": {
          "base_uri": "https://localhost:8080/"
        },
        "id": "rQNJUlDyFUZ8",
        "outputId": "f5640cc9-e07f-4c7f-bbb5-522a49a1b69f"
      },
      "execution_count": null,
      "outputs": [
        {
          "output_type": "stream",
          "name": "stdout",
          "text": [
            "se va a cenar\n",
            "Sigue caminando\n"
          ]
        }
      ]
    },
    {
      "cell_type": "code",
      "source": [
        "age = 18 \n",
        "if (age>18):\n",
        "  print(\"Entra al concierto\")\n",
        "elif(age==18):\n",
        "  print(\"Va al otro concierto\")\n",
        "else:\n",
        "  print(\"se va a cenar\")\n",
        "\n",
        "print (\"Sigue caminando\") "
      ],
      "metadata": {
        "colab": {
          "base_uri": "https://localhost:8080/"
        },
        "id": "rIqcNB9gF-Af",
        "outputId": "1b7f69b9-43e0-4040-d06e-c7fb5f3cef14"
      },
      "execution_count": null,
      "outputs": [
        {
          "output_type": "stream",
          "name": "stdout",
          "text": [
            "Va al otro concierto\n",
            "Sigue caminando\n"
          ]
        }
      ]
    },
    {
      "cell_type": "code",
      "source": [
        "squares = [\"red\", \"yellow\",\"green\",\"blue\",\"purple\"]\n",
        "for i in range(0,5):\n",
        "  squares[i]=\"black\"\n",
        "\n",
        "squares\n"
      ],
      "metadata": {
        "colab": {
          "base_uri": "https://localhost:8080/"
        },
        "id": "PEMiEfIQRuZl",
        "outputId": "cd6d0513-0e8e-4510-83da-01e16b286164"
      },
      "execution_count": null,
      "outputs": [
        {
          "output_type": "execute_result",
          "data": {
            "text/plain": [
              "['black', 'black', 'black', 'black', 'black']"
            ]
          },
          "metadata": {},
          "execution_count": 31
        }
      ]
    },
    {
      "cell_type": "code",
      "source": [
        "squares = ['red', 'yellow', 'green', 'purple', 'blue']\n",
        "\n",
        "for i in range(0, 5):\n",
        "    print(\"Antes \", i, 'es',  squares[i])\n",
        "    squares[i] = 'white'\n",
        "    print(\"Despues \", i, 'es',  squares[i])"
      ],
      "metadata": {
        "colab": {
          "base_uri": "https://localhost:8080/"
        },
        "id": "O_MJztNzWzEf",
        "outputId": "d0639eb3-2b66-4b03-ca28-1746b4c7f871"
      },
      "execution_count": null,
      "outputs": [
        {
          "output_type": "stream",
          "name": "stdout",
          "text": [
            "Antes  0 es red\n",
            "Despues  0 es white\n",
            "Antes  1 es yellow\n",
            "Despues  1 es white\n",
            "Antes  2 es green\n",
            "Despues  2 es white\n",
            "Antes  3 es purple\n",
            "Despues  3 es white\n",
            "Antes  4 es blue\n",
            "Despues  4 es white\n"
          ]
        }
      ]
    },
    {
      "cell_type": "code",
      "source": [
        "album_rating = [10.0, 8.5, 5.8, 7.2, 9.0, 9.5]\n",
        "L= len(album_rating)\n",
        "L"
      ],
      "metadata": {
        "colab": {
          "base_uri": "https://localhost:8080/"
        },
        "id": "NlDiHWbJS9aq",
        "outputId": "cc576ca6-a44e-4b5c-8aa7-9a6801ad66ea"
      },
      "execution_count": null,
      "outputs": [
        {
          "output_type": "execute_result",
          "data": {
            "text/plain": [
              "6"
            ]
          },
          "metadata": {},
          "execution_count": 34
        }
      ]
    },
    {
      "cell_type": "code",
      "source": [
        "dates = [1982,1980,1973]\n",
        "N = len(dates)\n",
        "\n",
        "for i in range(N):\n",
        "    print(dates[i])  "
      ],
      "metadata": {
        "colab": {
          "base_uri": "https://localhost:8080/"
        },
        "id": "cOMiHm6aT2sd",
        "outputId": "ab9857bb-e7c6-48ac-f50e-e0b078ebb0c6"
      },
      "execution_count": null,
      "outputs": [
        {
          "output_type": "stream",
          "name": "stdout",
          "text": [
            "1982\n",
            "1980\n",
            "1973\n"
          ]
        }
      ]
    },
    {
      "cell_type": "code",
      "source": [
        "s = sum(album_rating)\n",
        "s"
      ],
      "metadata": {
        "colab": {
          "base_uri": "https://localhost:8080/"
        },
        "id": "UqTf5VbiTpML",
        "outputId": "fbd24fca-5db2-49b3-d4c6-3edaed35c234"
      },
      "execution_count": null,
      "outputs": [
        {
          "output_type": "execute_result",
          "data": {
            "text/plain": [
              "50.0"
            ]
          },
          "metadata": {},
          "execution_count": 35
        }
      ]
    },
    {
      "cell_type": "code",
      "source": [
        "sorted_album = sorted(album_rating)\n",
        "album_rating"
      ],
      "metadata": {
        "id": "CmLbRSS-Ucmv",
        "outputId": "c52eb16d-6627-42a5-f5ae-daeda786086e",
        "colab": {
          "base_uri": "https://localhost:8080/"
        }
      },
      "execution_count": null,
      "outputs": [
        {
          "output_type": "execute_result",
          "data": {
            "text/plain": [
              "[10.0, 8.5, 5.8, 7.2, 9.0, 9.5]"
            ]
          },
          "metadata": {},
          "execution_count": 41
        }
      ]
    },
    {
      "cell_type": "code",
      "source": [
        "sorted_album"
      ],
      "metadata": {
        "id": "Z9LxMTCeVOPa",
        "outputId": "5a87cc8e-062a-4783-f8da-3925e41b8dd3",
        "colab": {
          "base_uri": "https://localhost:8080/"
        }
      },
      "execution_count": null,
      "outputs": [
        {
          "output_type": "execute_result",
          "data": {
            "text/plain": [
              "[5.8, 7.2, 8.5, 9.0, 9.5, 10.0]"
            ]
          },
          "metadata": {},
          "execution_count": 42
        }
      ]
    },
    {
      "cell_type": "code",
      "source": [
        "album_rating.sort()\n",
        "album_rating"
      ],
      "metadata": {
        "colab": {
          "base_uri": "https://localhost:8080/"
        },
        "id": "vv98M3wNVkqx",
        "outputId": "bb12ba7f-2d6c-4cca-b901-169724b0b829"
      },
      "execution_count": null,
      "outputs": [
        {
          "output_type": "execute_result",
          "data": {
            "text/plain": [
              "[5.8, 7.2, 8.5, 9.0, 9.5, 10.0]"
            ]
          },
          "metadata": {},
          "execution_count": 43
        }
      ]
    },
    {
      "cell_type": "code",
      "source": [
        "def add(a):\n",
        "    \"\"\"\n",
        "    add 1 to a\n",
        "    \"\"\"\n",
        "    b = a + 1\n",
        "    print(a, \"Si tu agregas uno, es:\", b)\n",
        "    return(b)"
      ],
      "metadata": {
        "id": "QAqTLp7SXQ5s"
      },
      "execution_count": null,
      "outputs": []
    },
    {
      "cell_type": "code",
      "source": [
        "add(1)"
      ],
      "metadata": {
        "colab": {
          "base_uri": "https://localhost:8080/"
        },
        "id": "paUZuZn3XUZr",
        "outputId": "82721bdc-08d9-4907-a919-2f6d368d3cf5"
      },
      "execution_count": null,
      "outputs": [
        {
          "output_type": "stream",
          "name": "stdout",
          "text": [
            "1 Si tu agregas uno, es: 2\n"
          ]
        },
        {
          "output_type": "execute_result",
          "data": {
            "text/plain": [
              "2"
            ]
          },
          "metadata": {},
          "execution_count": 52
        }
      ]
    },
    {
      "cell_type": "code",
      "source": [
        "add(3)"
      ],
      "metadata": {
        "colab": {
          "base_uri": "https://localhost:8080/"
        },
        "id": "RLgw--yzXamY",
        "outputId": "d70e85bb-2609-466a-8893-6107dc49d491"
      },
      "execution_count": null,
      "outputs": [
        {
          "output_type": "stream",
          "name": "stdout",
          "text": [
            "3 Si tu agregas uno, es: 4\n"
          ]
        },
        {
          "output_type": "execute_result",
          "data": {
            "text/plain": [
              "4"
            ]
          },
          "metadata": {},
          "execution_count": 53
        }
      ]
    },
    {
      "cell_type": "code",
      "source": [
        "def Mult(a, b):\n",
        "    c = a * b\n",
        "    return(c)\n",
        "    \n",
        "result = Mult(12,2)\n",
        "print(result)"
      ],
      "metadata": {
        "colab": {
          "base_uri": "https://localhost:8080/"
        },
        "id": "yZ2YJyThXuyo",
        "outputId": "16f90892-a302-4614-b801-ae4e524d089c"
      },
      "execution_count": null,
      "outputs": [
        {
          "output_type": "stream",
          "name": "stdout",
          "text": [
            "24\n"
          ]
        }
      ]
    },
    {
      "cell_type": "code",
      "source": [
        "Mult(10.0, 3.14)"
      ],
      "metadata": {
        "colab": {
          "base_uri": "https://localhost:8080/"
        },
        "id": "tzheDwTKXq_i",
        "outputId": "e32ab1bb-2409-4135-8568-5edab6d8f035"
      },
      "execution_count": null,
      "outputs": [
        {
          "output_type": "execute_result",
          "data": {
            "text/plain": [
              "31.400000000000002"
            ]
          },
          "metadata": {},
          "execution_count": 58
        }
      ]
    },
    {
      "cell_type": "code",
      "source": [
        "a1 = 4\n",
        "b1 = 5\n",
        "c1 = a1 + b1 + 2 * a1 * b1 - 1\n",
        "if(c1 < 0):\n",
        "    c1 = 0 \n",
        "else:\n",
        "    c1 = 5\n",
        "c1 "
      ],
      "metadata": {
        "colab": {
          "base_uri": "https://localhost:8080/"
        },
        "id": "ReL9d58LYMoV",
        "outputId": "d61445d8-bacd-4e04-d8ea-926756f513e1"
      },
      "execution_count": null,
      "outputs": [
        {
          "output_type": "execute_result",
          "data": {
            "text/plain": [
              "5"
            ]
          },
          "metadata": {},
          "execution_count": 61
        }
      ]
    },
    {
      "cell_type": "code",
      "source": [
        "type([1,2,3])"
      ],
      "metadata": {
        "id": "OB_AZSaSXYAq",
        "outputId": "e54ac24c-1d92-477a-a4ce-776535701b00",
        "colab": {
          "base_uri": "https://localhost:8080/"
        }
      },
      "execution_count": null,
      "outputs": [
        {
          "output_type": "execute_result",
          "data": {
            "text/plain": [
              "list"
            ]
          },
          "metadata": {},
          "execution_count": 1
        }
      ]
    },
    {
      "cell_type": "code",
      "source": [
        "type(\"the cat is yellow\")"
      ],
      "metadata": {
        "id": "6y39xCobXebt",
        "outputId": "cdce9172-84d5-456b-c993-f7ad829d8867",
        "colab": {
          "base_uri": "https://localhost:8080/"
        }
      },
      "execution_count": null,
      "outputs": [
        {
          "output_type": "execute_result",
          "data": {
            "text/plain": [
              "str"
            ]
          },
          "metadata": {},
          "execution_count": 2
        }
      ]
    },
    {
      "cell_type": "code",
      "source": [
        "type(1)"
      ],
      "metadata": {
        "id": "fnIkdxfaXidd",
        "outputId": "2a1543e3-afdf-4bd6-e26f-b63c0b3f5fdd",
        "colab": {
          "base_uri": "https://localhost:8080/"
        }
      },
      "execution_count": null,
      "outputs": [
        {
          "output_type": "execute_result",
          "data": {
            "text/plain": [
              "int"
            ]
          },
          "metadata": {},
          "execution_count": 3
        }
      ]
    },
    {
      "cell_type": "code",
      "source": [
        "rating =[7,5,4,8,9,5,10,9,5,9]"
      ],
      "metadata": {
        "id": "Lef0B6KqXs9Y"
      },
      "execution_count": null,
      "outputs": []
    },
    {
      "cell_type": "code",
      "source": [
        "rating.sort()\n",
        "rating"
      ],
      "metadata": {
        "id": "1H5pKsb7Xxay",
        "outputId": "0d3350f2-0778-4508-d7be-f4f9ef98fdee",
        "colab": {
          "base_uri": "https://localhost:8080/"
        }
      },
      "execution_count": null,
      "outputs": [
        {
          "output_type": "execute_result",
          "data": {
            "text/plain": [
              "[4, 5, 5, 5, 7, 8, 9, 9, 9, 10]"
            ]
          },
          "metadata": {},
          "execution_count": 5
        }
      ]
    },
    {
      "cell_type": "code",
      "source": [
        "rating.reverse()\n",
        "rating"
      ],
      "metadata": {
        "id": "yG_LTnZtX6Yl",
        "outputId": "106045d2-b1ce-4859-cef9-e3ec3acebe97",
        "colab": {
          "base_uri": "https://localhost:8080/"
        }
      },
      "execution_count": null,
      "outputs": [
        {
          "output_type": "execute_result",
          "data": {
            "text/plain": [
              "[10, 9, 9, 9, 8, 7, 5, 5, 5, 4]"
            ]
          },
          "metadata": {},
          "execution_count": 6
        }
      ]
    },
    {
      "cell_type": "code",
      "source": [
        "class circle(object):\n",
        "  def _init_(self,radius,color):\n",
        "    self.radius = radius;\n",
        "    self.color = color;\n"
      ],
      "metadata": {
        "id": "tpiJh_MZYdOa"
      },
      "execution_count": null,
      "outputs": []
    },
    {
      "cell_type": "code",
      "source": [
        "class Circle(object):\n",
        "    \n",
        "    # Constructor\n",
        "    def __init__(self, radius=3, color='blue'):\n",
        "        self.radius = radius\n",
        "        self.color = color \n",
        "    \n",
        "    # Method\n",
        "    def add_radius(self, r):\n",
        "        self.radius = self.radius + r\n",
        "        return(self.radius)\n",
        "    \n",
        "    # Method\n",
        "    def drawCircle(self):\n",
        "        plt.gca().add_patch(plt.Circle((0, 0), radius=self.radius, fc=self.color))\n",
        "        plt.axis('scaled')\n",
        "        plt.show()  "
      ],
      "metadata": {
        "id": "jFZO8LkQZBFE"
      },
      "execution_count": null,
      "outputs": []
    },
    {
      "cell_type": "markdown",
      "source": [
        "##MODULO 4"
      ],
      "metadata": {
        "id": "2C2GfiTwnf_2"
      }
    },
    {
      "cell_type": "markdown",
      "source": [
        "**Lectura de Archivos** "
      ],
      "metadata": {
        "id": "f8vzP_rVZOQP"
      }
    },
    {
      "cell_type": "code",
      "source": [
        "# tomado del laboratorio para importar el archivo de ejemplo del video\n",
        "import urllib.request\n",
        "url = 'https://cf-courses-data.s3.us.cloud-object-storage.appdomain.cloud/IBMDeveloperSkillsNetwork-PY0101EN-SkillsNetwork/labs/Module%204/data/example1.txt'\n",
        "filename = 'Example1.txt'\n",
        "urllib.request.urlretrieve(url, filename)\n",
        "\n",
        "## Download Example file\n",
        "!wget -O /resources/data/Example1.txt https://cf-courses-data.s3.us.cloud-object-storage.appdomain.cloud/IBMDeveloperSkillsNetwork-PY0101EN-SkillsNetwork/labs/Module%204/data/example1.txt"
      ],
      "metadata": {
        "colab": {
          "base_uri": "https://localhost:8080/"
        },
        "id": "L_rSsRgPaVUM",
        "outputId": "56c78b15-249f-49ea-abbc-38aed17bce8f"
      },
      "execution_count": null,
      "outputs": [
        {
          "output_type": "stream",
          "name": "stdout",
          "text": [
            "/resources/data/Example1.txt: No such file or directory\n"
          ]
        }
      ]
    },
    {
      "cell_type": "code",
      "source": [
        "example1 = \"Example1.txt\"\n",
        "archivo = open(example1, \"r\")\n",
        "#se utiliza el comendo \"r\" para identificar que vamoa a abrir el archivo"
      ],
      "metadata": {
        "id": "4AEdznhaaoFI"
      },
      "execution_count": null,
      "outputs": []
    },
    {
      "cell_type": "code",
      "source": [
        "archivo.mode\n",
        "#con lo extensión podemos ver en que modo esta.... sale r, porque esta en lectura... "
      ],
      "metadata": {
        "colab": {
          "base_uri": "https://localhost:8080/",
          "height": 35
        },
        "id": "g6MNFBglapk7",
        "outputId": "6c7e53c2-c8a7-48ad-818f-19c9f207966b"
      },
      "execution_count": null,
      "outputs": [
        {
          "output_type": "execute_result",
          "data": {
            "text/plain": [
              "'r'"
            ],
            "application/vnd.google.colaboratory.intrinsic+json": {
              "type": "string"
            }
          },
          "metadata": {},
          "execution_count": 15
        }
      ]
    },
    {
      "cell_type": "code",
      "source": [
        "archivo.name"
      ],
      "metadata": {
        "colab": {
          "base_uri": "https://localhost:8080/",
          "height": 35
        },
        "id": "r9rO2CI9bv5e",
        "outputId": "7314c5b1-2ce7-46c5-8dd0-20d59d38a9b0"
      },
      "execution_count": null,
      "outputs": [
        {
          "output_type": "execute_result",
          "data": {
            "text/plain": [
              "'Example1.txt'"
            ],
            "application/vnd.google.colaboratory.intrinsic+json": {
              "type": "string"
            }
          },
          "metadata": {},
          "execution_count": 16
        }
      ]
    },
    {
      "cell_type": "code",
      "source": [
        "contenido = archivo.read()\n",
        "print (contenido)"
      ],
      "metadata": {
        "colab": {
          "base_uri": "https://localhost:8080/"
        },
        "id": "uKcI__o8bKCs",
        "outputId": "7041b6ba-e1f4-4da3-93b1-98098ca39069"
      },
      "execution_count": null,
      "outputs": [
        {
          "output_type": "stream",
          "name": "stdout",
          "text": [
            "This is line 1 \n",
            "This is line 2\n",
            "This is line 3\n"
          ]
        }
      ]
    },
    {
      "cell_type": "code",
      "source": [
        "# Otra forma de abrir los arhivos \n",
        "with open(example1, \"r\") as archivo:\n",
        "    contenido = archivo.read()\n",
        "    print(contenido)"
      ],
      "metadata": {
        "colab": {
          "base_uri": "https://localhost:8080/"
        },
        "id": "9L6vOVyPch8j",
        "outputId": "62b80781-9184-4a3f-8af7-6ab654209d80"
      },
      "execution_count": null,
      "outputs": [
        {
          "output_type": "stream",
          "name": "stdout",
          "text": [
            "This is line 1 \n",
            "This is line 2\n",
            "This is line 3\n"
          ]
        }
      ]
    },
    {
      "cell_type": "code",
      "source": [
        "# En esta linea estoy verificando que el archivo ha sido cerrado\n",
        "archivo.closed"
      ],
      "metadata": {
        "colab": {
          "base_uri": "https://localhost:8080/"
        },
        "id": "2o0F6-PldAz2",
        "outputId": "c19086c1-432e-42ba-9210-ba57e6baa4d0"
      },
      "execution_count": null,
      "outputs": [
        {
          "output_type": "execute_result",
          "data": {
            "text/plain": [
              "True"
            ]
          },
          "metadata": {},
          "execution_count": 19
        }
      ]
    },
    {
      "cell_type": "code",
      "source": [
        "with open(example1, \"r\") as archivo:\n",
        "    print(archivo.read(4))\n",
        "    print(archivo.read(4))\n",
        "    print(archivo.read(10))\n",
        "    print(archivo.read(19))"
      ],
      "metadata": {
        "colab": {
          "base_uri": "https://localhost:8080/"
        },
        "id": "MBbgFOzSdM8I",
        "outputId": "dffe8057-5b98-41f8-9ac6-ced4aff9141b"
      },
      "execution_count": null,
      "outputs": [
        {
          "output_type": "stream",
          "name": "stdout",
          "text": [
            "This\n",
            " is \n",
            "line 1 \n",
            "Th\n",
            "is is line 2\n",
            "This i\n"
          ]
        }
      ]
    },
    {
      "cell_type": "markdown",
      "source": [
        "**Escritura de Archivos**"
      ],
      "metadata": {
        "id": "4OFZeVRUe_TE"
      }
    },
    {
      "cell_type": "code",
      "source": [
        "# Código para abrir un archivo en modo escritura\n",
        "exmp2 = 'Example2.txt'\n",
        "with open(exmp2, 'w') as writefile:\n",
        "    writefile.write(\"This is line A\") #ojo solo permite un argumento"
      ],
      "metadata": {
        "id": "HixsOXvjfEUQ"
      },
      "execution_count": null,
      "outputs": []
    },
    {
      "cell_type": "code",
      "source": [
        "exmp2\n",
        "print(exmp2)"
      ],
      "metadata": {
        "colab": {
          "base_uri": "https://localhost:8080/"
        },
        "id": "cBfbF65wfHBo",
        "outputId": "c2b5828a-f275-4cd5-a133-988be605c7a1"
      },
      "execution_count": null,
      "outputs": [
        {
          "output_type": "stream",
          "name": "stdout",
          "text": [
            "Example2.txt\n"
          ]
        }
      ]
    },
    {
      "cell_type": "code",
      "source": [
        "#Podemos verificar si el texto se ha escrito:\n",
        "with open(exmp2, 'r') as testwritefile:\n",
        "    print(testwritefile.read())"
      ],
      "metadata": {
        "colab": {
          "base_uri": "https://localhost:8080/"
        },
        "id": "MGxDXRvc50Sy",
        "outputId": "114cd5eb-1759-428e-c041-37f6af682941"
      },
      "execution_count": null,
      "outputs": [
        {
          "output_type": "stream",
          "name": "stdout",
          "text": [
            "This is line A\n"
          ]
        }
      ]
    },
    {
      "cell_type": "code",
      "source": [
        "exmp3 = 'Example3.txt'\n",
        "with open(exmp3, 'w') as writefile:\n",
        "    writefile.write(\"Esta es la linea A\\n\")\n",
        "    writefile.write(\"Esta es la linea B\\n\")"
      ],
      "metadata": {
        "id": "rERxAMPk6Tax"
      },
      "execution_count": null,
      "outputs": []
    },
    {
      "cell_type": "code",
      "source": [
        "with open(exmp3, 'r') as testwritefile:\n",
        "    print(testwritefile.read())"
      ],
      "metadata": {
        "colab": {
          "base_uri": "https://localhost:8080/"
        },
        "id": "e6qnw8Lf6cbq",
        "outputId": "3d6063bf-f724-4364-e69c-bd5f76bcfe1e"
      },
      "execution_count": null,
      "outputs": [
        {
          "output_type": "stream",
          "name": "stdout",
          "text": [
            "Esta es la linea A\n",
            "Esta es la linea B\n",
            "\n"
          ]
        }
      ]
    },
    {
      "cell_type": "code",
      "source": [
        "Lineas = [\"This is line A\\n\", \"This is line B\\n\", \"This is line C\\n\", \"Agregando una\", \"sin espacio\"]\n",
        "Lineas # se ha creado una secuencia de tres lineas para escribir un archivo. "
      ],
      "metadata": {
        "colab": {
          "base_uri": "https://localhost:8080/"
        },
        "id": "gWSHNYSR7b1Q",
        "outputId": "63d25529-fb84-4fcf-8323-92c4e42cf6b1"
      },
      "execution_count": null,
      "outputs": [
        {
          "output_type": "execute_result",
          "data": {
            "text/plain": [
              "['This is line A\\n',\n",
              " 'This is line B\\n',\n",
              " 'This is line C\\n',\n",
              " 'Agregando una',\n",
              " 'sin espacio']"
            ]
          },
          "metadata": {},
          "execution_count": 25
        }
      ]
    },
    {
      "cell_type": "code",
      "source": [
        "#Con este secuencia de comandos, verificamos lo que se ha guardado\n",
        "with open('Example2.txt', 'w') as writefile:\n",
        "    for line in Lineas:\n",
        "        print(line)\n",
        "        writefile.write(line)"
      ],
      "metadata": {
        "colab": {
          "base_uri": "https://localhost:8080/"
        },
        "id": "RlsIhNHL7iLa",
        "outputId": "8a20b443-f891-47bd-8c04-e31e742b9abd"
      },
      "execution_count": null,
      "outputs": [
        {
          "output_type": "stream",
          "name": "stdout",
          "text": [
            "This is line A\n",
            "\n",
            "This is line B\n",
            "\n",
            "This is line C\n",
            "\n",
            "Agregando una\n",
            "sin espacio\n"
          ]
        }
      ]
    },
    {
      "cell_type": "markdown",
      "source": [
        "**Cargando Archivos con Panda**"
      ],
      "metadata": {
        "id": "I802IB_QEoh4"
      }
    },
    {
      "cell_type": "code",
      "source": [
        "import pandas as pd"
      ],
      "metadata": {
        "id": "RXJ_yLe28E2t"
      },
      "execution_count": null,
      "outputs": []
    },
    {
      "cell_type": "code",
      "source": [
        "!pip install xlrd #instalando lo recomendado por en el ambiente del laboratorio. "
      ],
      "metadata": {
        "colab": {
          "base_uri": "https://localhost:8080/"
        },
        "id": "MixVr17qFDUJ",
        "outputId": "040b3cbf-2b20-494a-c7e5-a5522c3e5911"
      },
      "execution_count": null,
      "outputs": [
        {
          "output_type": "stream",
          "name": "stdout",
          "text": [
            "Looking in indexes: https://pypi.org/simple, https://us-python.pkg.dev/colab-wheels/public/simple/\n",
            "Requirement already satisfied: xlrd in /usr/local/lib/python3.7/dist-packages (1.1.0)\n"
          ]
        }
      ]
    },
    {
      "cell_type": "code",
      "source": [
        "csv_path = 'https://cf-courses-data.s3.us.cloud-object-storage.appdomain.cloud/IBMDeveloperSkillsNetwork-PY0101EN-SkillsNetwork/labs/Module%204/data/TopSellingAlbums.csv'\n",
        "df = pd.read_csv(csv_path) #cargando la base de datos del caso de estudio\n",
        "df.head()"
      ],
      "metadata": {
        "colab": {
          "base_uri": "https://localhost:8080/",
          "height": 444
        },
        "id": "0_37GaUiGMOE",
        "outputId": "87627789-0c89-4165-a58d-793379b4469a"
      },
      "execution_count": null,
      "outputs": [
        {
          "output_type": "execute_result",
          "data": {
            "text/plain": [
              "            Artist                      Album  Released   Length  \\\n",
              "0  Michael Jackson                   Thriller      1982  0:42:19   \n",
              "1            AC/DC              Back in Black      1980  0:42:11   \n",
              "2       Pink Floyd  The Dark Side of the Moon      1973  0:42:49   \n",
              "3  Whitney Houston              The Bodyguard      1992  0:57:44   \n",
              "4        Meat Loaf            Bat Out of Hell      1977  0:46:33   \n",
              "\n",
              "                         Genre  Music Recording Sales (millions)  \\\n",
              "0               pop, rock, R&B                              46.0   \n",
              "1                    hard rock                              26.1   \n",
              "2             progressive rock                              24.2   \n",
              "3               R&B, soul, pop                              27.4   \n",
              "4  hard rock, progressive rock                              20.6   \n",
              "\n",
              "   Claimed Sales (millions) Released.1 Soundtrack  Rating  \n",
              "0                        65  30-Nov-82        NaN    10.0  \n",
              "1                        50  25-Jul-80        NaN     9.5  \n",
              "2                        45  01-Mar-73        NaN     9.0  \n",
              "3                        44  17-Nov-92          Y     8.5  \n",
              "4                        43  21-Oct-77        NaN     8.0  "
            ],
            "text/html": [
              "\n",
              "  <div id=\"df-58435224-be4a-4680-b730-a10254a71766\">\n",
              "    <div class=\"colab-df-container\">\n",
              "      <div>\n",
              "<style scoped>\n",
              "    .dataframe tbody tr th:only-of-type {\n",
              "        vertical-align: middle;\n",
              "    }\n",
              "\n",
              "    .dataframe tbody tr th {\n",
              "        vertical-align: top;\n",
              "    }\n",
              "\n",
              "    .dataframe thead th {\n",
              "        text-align: right;\n",
              "    }\n",
              "</style>\n",
              "<table border=\"1\" class=\"dataframe\">\n",
              "  <thead>\n",
              "    <tr style=\"text-align: right;\">\n",
              "      <th></th>\n",
              "      <th>Artist</th>\n",
              "      <th>Album</th>\n",
              "      <th>Released</th>\n",
              "      <th>Length</th>\n",
              "      <th>Genre</th>\n",
              "      <th>Music Recording Sales (millions)</th>\n",
              "      <th>Claimed Sales (millions)</th>\n",
              "      <th>Released.1</th>\n",
              "      <th>Soundtrack</th>\n",
              "      <th>Rating</th>\n",
              "    </tr>\n",
              "  </thead>\n",
              "  <tbody>\n",
              "    <tr>\n",
              "      <th>0</th>\n",
              "      <td>Michael Jackson</td>\n",
              "      <td>Thriller</td>\n",
              "      <td>1982</td>\n",
              "      <td>0:42:19</td>\n",
              "      <td>pop, rock, R&amp;B</td>\n",
              "      <td>46.0</td>\n",
              "      <td>65</td>\n",
              "      <td>30-Nov-82</td>\n",
              "      <td>NaN</td>\n",
              "      <td>10.0</td>\n",
              "    </tr>\n",
              "    <tr>\n",
              "      <th>1</th>\n",
              "      <td>AC/DC</td>\n",
              "      <td>Back in Black</td>\n",
              "      <td>1980</td>\n",
              "      <td>0:42:11</td>\n",
              "      <td>hard rock</td>\n",
              "      <td>26.1</td>\n",
              "      <td>50</td>\n",
              "      <td>25-Jul-80</td>\n",
              "      <td>NaN</td>\n",
              "      <td>9.5</td>\n",
              "    </tr>\n",
              "    <tr>\n",
              "      <th>2</th>\n",
              "      <td>Pink Floyd</td>\n",
              "      <td>The Dark Side of the Moon</td>\n",
              "      <td>1973</td>\n",
              "      <td>0:42:49</td>\n",
              "      <td>progressive rock</td>\n",
              "      <td>24.2</td>\n",
              "      <td>45</td>\n",
              "      <td>01-Mar-73</td>\n",
              "      <td>NaN</td>\n",
              "      <td>9.0</td>\n",
              "    </tr>\n",
              "    <tr>\n",
              "      <th>3</th>\n",
              "      <td>Whitney Houston</td>\n",
              "      <td>The Bodyguard</td>\n",
              "      <td>1992</td>\n",
              "      <td>0:57:44</td>\n",
              "      <td>R&amp;B, soul, pop</td>\n",
              "      <td>27.4</td>\n",
              "      <td>44</td>\n",
              "      <td>17-Nov-92</td>\n",
              "      <td>Y</td>\n",
              "      <td>8.5</td>\n",
              "    </tr>\n",
              "    <tr>\n",
              "      <th>4</th>\n",
              "      <td>Meat Loaf</td>\n",
              "      <td>Bat Out of Hell</td>\n",
              "      <td>1977</td>\n",
              "      <td>0:46:33</td>\n",
              "      <td>hard rock, progressive rock</td>\n",
              "      <td>20.6</td>\n",
              "      <td>43</td>\n",
              "      <td>21-Oct-77</td>\n",
              "      <td>NaN</td>\n",
              "      <td>8.0</td>\n",
              "    </tr>\n",
              "  </tbody>\n",
              "</table>\n",
              "</div>\n",
              "      <button class=\"colab-df-convert\" onclick=\"convertToInteractive('df-58435224-be4a-4680-b730-a10254a71766')\"\n",
              "              title=\"Convert this dataframe to an interactive table.\"\n",
              "              style=\"display:none;\">\n",
              "        \n",
              "  <svg xmlns=\"http://www.w3.org/2000/svg\" height=\"24px\"viewBox=\"0 0 24 24\"\n",
              "       width=\"24px\">\n",
              "    <path d=\"M0 0h24v24H0V0z\" fill=\"none\"/>\n",
              "    <path d=\"M18.56 5.44l.94 2.06.94-2.06 2.06-.94-2.06-.94-.94-2.06-.94 2.06-2.06.94zm-11 1L8.5 8.5l.94-2.06 2.06-.94-2.06-.94L8.5 2.5l-.94 2.06-2.06.94zm10 10l.94 2.06.94-2.06 2.06-.94-2.06-.94-.94-2.06-.94 2.06-2.06.94z\"/><path d=\"M17.41 7.96l-1.37-1.37c-.4-.4-.92-.59-1.43-.59-.52 0-1.04.2-1.43.59L10.3 9.45l-7.72 7.72c-.78.78-.78 2.05 0 2.83L4 21.41c.39.39.9.59 1.41.59.51 0 1.02-.2 1.41-.59l7.78-7.78 2.81-2.81c.8-.78.8-2.07 0-2.86zM5.41 20L4 18.59l7.72-7.72 1.47 1.35L5.41 20z\"/>\n",
              "  </svg>\n",
              "      </button>\n",
              "      \n",
              "  <style>\n",
              "    .colab-df-container {\n",
              "      display:flex;\n",
              "      flex-wrap:wrap;\n",
              "      gap: 12px;\n",
              "    }\n",
              "\n",
              "    .colab-df-convert {\n",
              "      background-color: #E8F0FE;\n",
              "      border: none;\n",
              "      border-radius: 50%;\n",
              "      cursor: pointer;\n",
              "      display: none;\n",
              "      fill: #1967D2;\n",
              "      height: 32px;\n",
              "      padding: 0 0 0 0;\n",
              "      width: 32px;\n",
              "    }\n",
              "\n",
              "    .colab-df-convert:hover {\n",
              "      background-color: #E2EBFA;\n",
              "      box-shadow: 0px 1px 2px rgba(60, 64, 67, 0.3), 0px 1px 3px 1px rgba(60, 64, 67, 0.15);\n",
              "      fill: #174EA6;\n",
              "    }\n",
              "\n",
              "    [theme=dark] .colab-df-convert {\n",
              "      background-color: #3B4455;\n",
              "      fill: #D2E3FC;\n",
              "    }\n",
              "\n",
              "    [theme=dark] .colab-df-convert:hover {\n",
              "      background-color: #434B5C;\n",
              "      box-shadow: 0px 1px 3px 1px rgba(0, 0, 0, 0.15);\n",
              "      filter: drop-shadow(0px 1px 2px rgba(0, 0, 0, 0.3));\n",
              "      fill: #FFFFFF;\n",
              "    }\n",
              "  </style>\n",
              "\n",
              "      <script>\n",
              "        const buttonEl =\n",
              "          document.querySelector('#df-58435224-be4a-4680-b730-a10254a71766 button.colab-df-convert');\n",
              "        buttonEl.style.display =\n",
              "          google.colab.kernel.accessAllowed ? 'block' : 'none';\n",
              "\n",
              "        async function convertToInteractive(key) {\n",
              "          const element = document.querySelector('#df-58435224-be4a-4680-b730-a10254a71766');\n",
              "          const dataTable =\n",
              "            await google.colab.kernel.invokeFunction('convertToInteractive',\n",
              "                                                     [key], {});\n",
              "          if (!dataTable) return;\n",
              "\n",
              "          const docLinkHtml = 'Like what you see? Visit the ' +\n",
              "            '<a target=\"_blank\" href=https://colab.research.google.com/notebooks/data_table.ipynb>data table notebook</a>'\n",
              "            + ' to learn more about interactive tables.';\n",
              "          element.innerHTML = '';\n",
              "          dataTable['output_type'] = 'display_data';\n",
              "          await google.colab.output.renderOutput(dataTable, element);\n",
              "          const docLink = document.createElement('div');\n",
              "          docLink.innerHTML = docLinkHtml;\n",
              "          element.appendChild(docLink);\n",
              "        }\n",
              "      </script>\n",
              "    </div>\n",
              "  </div>\n",
              "  "
            ]
          },
          "metadata": {},
          "execution_count": 32
        }
      ]
    },
    {
      "cell_type": "code",
      "source": [
        "df.head(n=10) #cuando se usa el N=10 se muestran 10 registros en vez de 5 cuando esta en blanco"
      ],
      "metadata": {
        "colab": {
          "base_uri": "https://localhost:8080/",
          "height": 659
        },
        "id": "1eTrMTAuGw8Q",
        "outputId": "e0607e90-16b0-4aa4-ef40-0a005ef7563a"
      },
      "execution_count": null,
      "outputs": [
        {
          "output_type": "execute_result",
          "data": {
            "text/plain": [
              "            Artist                            Album  Released   Length  \\\n",
              "0  Michael Jackson                         Thriller      1982  0:42:19   \n",
              "1            AC/DC                    Back in Black      1980  0:42:11   \n",
              "2       Pink Floyd        The Dark Side of the Moon      1973  0:42:49   \n",
              "3  Whitney Houston                    The Bodyguard      1992  0:57:44   \n",
              "4        Meat Loaf                  Bat Out of Hell      1977  0:46:33   \n",
              "5           Eagles  Their Greatest Hits (1971-1975)      1976  0:43:08   \n",
              "6         Bee Gees             Saturday Night Fever      1977  1:15:54   \n",
              "7    Fleetwood Mac                          Rumours      1977  0:40:01   \n",
              "\n",
              "                         Genre  Music Recording Sales (millions)  \\\n",
              "0               pop, rock, R&B                              46.0   \n",
              "1                    hard rock                              26.1   \n",
              "2             progressive rock                              24.2   \n",
              "3               R&B, soul, pop                              27.4   \n",
              "4  hard rock, progressive rock                              20.6   \n",
              "5   rock, soft rock, folk rock                              32.2   \n",
              "6                        disco                              20.6   \n",
              "7                    soft rock                              27.9   \n",
              "\n",
              "   Claimed Sales (millions) Released.1 Soundtrack  Rating  \n",
              "0                        65  30-Nov-82        NaN    10.0  \n",
              "1                        50  25-Jul-80        NaN     9.5  \n",
              "2                        45  01-Mar-73        NaN     9.0  \n",
              "3                        44  17-Nov-92          Y     8.5  \n",
              "4                        43  21-Oct-77        NaN     8.0  \n",
              "5                        42  17-Feb-76        NaN     7.5  \n",
              "6                        40  15-Nov-77          Y     7.0  \n",
              "7                        40  04-Feb-77        NaN     6.5  "
            ],
            "text/html": [
              "\n",
              "  <div id=\"df-65364058-1b72-42c2-9848-27e11f57bd37\">\n",
              "    <div class=\"colab-df-container\">\n",
              "      <div>\n",
              "<style scoped>\n",
              "    .dataframe tbody tr th:only-of-type {\n",
              "        vertical-align: middle;\n",
              "    }\n",
              "\n",
              "    .dataframe tbody tr th {\n",
              "        vertical-align: top;\n",
              "    }\n",
              "\n",
              "    .dataframe thead th {\n",
              "        text-align: right;\n",
              "    }\n",
              "</style>\n",
              "<table border=\"1\" class=\"dataframe\">\n",
              "  <thead>\n",
              "    <tr style=\"text-align: right;\">\n",
              "      <th></th>\n",
              "      <th>Artist</th>\n",
              "      <th>Album</th>\n",
              "      <th>Released</th>\n",
              "      <th>Length</th>\n",
              "      <th>Genre</th>\n",
              "      <th>Music Recording Sales (millions)</th>\n",
              "      <th>Claimed Sales (millions)</th>\n",
              "      <th>Released.1</th>\n",
              "      <th>Soundtrack</th>\n",
              "      <th>Rating</th>\n",
              "    </tr>\n",
              "  </thead>\n",
              "  <tbody>\n",
              "    <tr>\n",
              "      <th>0</th>\n",
              "      <td>Michael Jackson</td>\n",
              "      <td>Thriller</td>\n",
              "      <td>1982</td>\n",
              "      <td>0:42:19</td>\n",
              "      <td>pop, rock, R&amp;B</td>\n",
              "      <td>46.0</td>\n",
              "      <td>65</td>\n",
              "      <td>30-Nov-82</td>\n",
              "      <td>NaN</td>\n",
              "      <td>10.0</td>\n",
              "    </tr>\n",
              "    <tr>\n",
              "      <th>1</th>\n",
              "      <td>AC/DC</td>\n",
              "      <td>Back in Black</td>\n",
              "      <td>1980</td>\n",
              "      <td>0:42:11</td>\n",
              "      <td>hard rock</td>\n",
              "      <td>26.1</td>\n",
              "      <td>50</td>\n",
              "      <td>25-Jul-80</td>\n",
              "      <td>NaN</td>\n",
              "      <td>9.5</td>\n",
              "    </tr>\n",
              "    <tr>\n",
              "      <th>2</th>\n",
              "      <td>Pink Floyd</td>\n",
              "      <td>The Dark Side of the Moon</td>\n",
              "      <td>1973</td>\n",
              "      <td>0:42:49</td>\n",
              "      <td>progressive rock</td>\n",
              "      <td>24.2</td>\n",
              "      <td>45</td>\n",
              "      <td>01-Mar-73</td>\n",
              "      <td>NaN</td>\n",
              "      <td>9.0</td>\n",
              "    </tr>\n",
              "    <tr>\n",
              "      <th>3</th>\n",
              "      <td>Whitney Houston</td>\n",
              "      <td>The Bodyguard</td>\n",
              "      <td>1992</td>\n",
              "      <td>0:57:44</td>\n",
              "      <td>R&amp;B, soul, pop</td>\n",
              "      <td>27.4</td>\n",
              "      <td>44</td>\n",
              "      <td>17-Nov-92</td>\n",
              "      <td>Y</td>\n",
              "      <td>8.5</td>\n",
              "    </tr>\n",
              "    <tr>\n",
              "      <th>4</th>\n",
              "      <td>Meat Loaf</td>\n",
              "      <td>Bat Out of Hell</td>\n",
              "      <td>1977</td>\n",
              "      <td>0:46:33</td>\n",
              "      <td>hard rock, progressive rock</td>\n",
              "      <td>20.6</td>\n",
              "      <td>43</td>\n",
              "      <td>21-Oct-77</td>\n",
              "      <td>NaN</td>\n",
              "      <td>8.0</td>\n",
              "    </tr>\n",
              "    <tr>\n",
              "      <th>5</th>\n",
              "      <td>Eagles</td>\n",
              "      <td>Their Greatest Hits (1971-1975)</td>\n",
              "      <td>1976</td>\n",
              "      <td>0:43:08</td>\n",
              "      <td>rock, soft rock, folk rock</td>\n",
              "      <td>32.2</td>\n",
              "      <td>42</td>\n",
              "      <td>17-Feb-76</td>\n",
              "      <td>NaN</td>\n",
              "      <td>7.5</td>\n",
              "    </tr>\n",
              "    <tr>\n",
              "      <th>6</th>\n",
              "      <td>Bee Gees</td>\n",
              "      <td>Saturday Night Fever</td>\n",
              "      <td>1977</td>\n",
              "      <td>1:15:54</td>\n",
              "      <td>disco</td>\n",
              "      <td>20.6</td>\n",
              "      <td>40</td>\n",
              "      <td>15-Nov-77</td>\n",
              "      <td>Y</td>\n",
              "      <td>7.0</td>\n",
              "    </tr>\n",
              "    <tr>\n",
              "      <th>7</th>\n",
              "      <td>Fleetwood Mac</td>\n",
              "      <td>Rumours</td>\n",
              "      <td>1977</td>\n",
              "      <td>0:40:01</td>\n",
              "      <td>soft rock</td>\n",
              "      <td>27.9</td>\n",
              "      <td>40</td>\n",
              "      <td>04-Feb-77</td>\n",
              "      <td>NaN</td>\n",
              "      <td>6.5</td>\n",
              "    </tr>\n",
              "  </tbody>\n",
              "</table>\n",
              "</div>\n",
              "      <button class=\"colab-df-convert\" onclick=\"convertToInteractive('df-65364058-1b72-42c2-9848-27e11f57bd37')\"\n",
              "              title=\"Convert this dataframe to an interactive table.\"\n",
              "              style=\"display:none;\">\n",
              "        \n",
              "  <svg xmlns=\"http://www.w3.org/2000/svg\" height=\"24px\"viewBox=\"0 0 24 24\"\n",
              "       width=\"24px\">\n",
              "    <path d=\"M0 0h24v24H0V0z\" fill=\"none\"/>\n",
              "    <path d=\"M18.56 5.44l.94 2.06.94-2.06 2.06-.94-2.06-.94-.94-2.06-.94 2.06-2.06.94zm-11 1L8.5 8.5l.94-2.06 2.06-.94-2.06-.94L8.5 2.5l-.94 2.06-2.06.94zm10 10l.94 2.06.94-2.06 2.06-.94-2.06-.94-.94-2.06-.94 2.06-2.06.94z\"/><path d=\"M17.41 7.96l-1.37-1.37c-.4-.4-.92-.59-1.43-.59-.52 0-1.04.2-1.43.59L10.3 9.45l-7.72 7.72c-.78.78-.78 2.05 0 2.83L4 21.41c.39.39.9.59 1.41.59.51 0 1.02-.2 1.41-.59l7.78-7.78 2.81-2.81c.8-.78.8-2.07 0-2.86zM5.41 20L4 18.59l7.72-7.72 1.47 1.35L5.41 20z\"/>\n",
              "  </svg>\n",
              "      </button>\n",
              "      \n",
              "  <style>\n",
              "    .colab-df-container {\n",
              "      display:flex;\n",
              "      flex-wrap:wrap;\n",
              "      gap: 12px;\n",
              "    }\n",
              "\n",
              "    .colab-df-convert {\n",
              "      background-color: #E8F0FE;\n",
              "      border: none;\n",
              "      border-radius: 50%;\n",
              "      cursor: pointer;\n",
              "      display: none;\n",
              "      fill: #1967D2;\n",
              "      height: 32px;\n",
              "      padding: 0 0 0 0;\n",
              "      width: 32px;\n",
              "    }\n",
              "\n",
              "    .colab-df-convert:hover {\n",
              "      background-color: #E2EBFA;\n",
              "      box-shadow: 0px 1px 2px rgba(60, 64, 67, 0.3), 0px 1px 3px 1px rgba(60, 64, 67, 0.15);\n",
              "      fill: #174EA6;\n",
              "    }\n",
              "\n",
              "    [theme=dark] .colab-df-convert {\n",
              "      background-color: #3B4455;\n",
              "      fill: #D2E3FC;\n",
              "    }\n",
              "\n",
              "    [theme=dark] .colab-df-convert:hover {\n",
              "      background-color: #434B5C;\n",
              "      box-shadow: 0px 1px 3px 1px rgba(0, 0, 0, 0.15);\n",
              "      filter: drop-shadow(0px 1px 2px rgba(0, 0, 0, 0.3));\n",
              "      fill: #FFFFFF;\n",
              "    }\n",
              "  </style>\n",
              "\n",
              "      <script>\n",
              "        const buttonEl =\n",
              "          document.querySelector('#df-65364058-1b72-42c2-9848-27e11f57bd37 button.colab-df-convert');\n",
              "        buttonEl.style.display =\n",
              "          google.colab.kernel.accessAllowed ? 'block' : 'none';\n",
              "\n",
              "        async function convertToInteractive(key) {\n",
              "          const element = document.querySelector('#df-65364058-1b72-42c2-9848-27e11f57bd37');\n",
              "          const dataTable =\n",
              "            await google.colab.kernel.invokeFunction('convertToInteractive',\n",
              "                                                     [key], {});\n",
              "          if (!dataTable) return;\n",
              "\n",
              "          const docLinkHtml = 'Like what you see? Visit the ' +\n",
              "            '<a target=\"_blank\" href=https://colab.research.google.com/notebooks/data_table.ipynb>data table notebook</a>'\n",
              "            + ' to learn more about interactive tables.';\n",
              "          element.innerHTML = '';\n",
              "          dataTable['output_type'] = 'display_data';\n",
              "          await google.colab.output.renderOutput(dataTable, element);\n",
              "          const docLink = document.createElement('div');\n",
              "          docLink.innerHTML = docLinkHtml;\n",
              "          element.appendChild(docLink);\n",
              "        }\n",
              "      </script>\n",
              "    </div>\n",
              "  </div>\n",
              "  "
            ]
          },
          "metadata": {},
          "execution_count": 34
        }
      ]
    },
    {
      "cell_type": "code",
      "source": [
        "x = df[['Album']]\n",
        "x # de esta manera se puede ver una columna en específico"
      ],
      "metadata": {
        "colab": {
          "base_uri": "https://localhost:8080/",
          "height": 300
        },
        "id": "UuoATfPjHE26",
        "outputId": "5f94c141-6d0d-47f6-bbe2-7463f873b3c6"
      },
      "execution_count": null,
      "outputs": [
        {
          "output_type": "execute_result",
          "data": {
            "text/plain": [
              "                             Album\n",
              "0                         Thriller\n",
              "1                    Back in Black\n",
              "2        The Dark Side of the Moon\n",
              "3                    The Bodyguard\n",
              "4                  Bat Out of Hell\n",
              "5  Their Greatest Hits (1971-1975)\n",
              "6             Saturday Night Fever\n",
              "7                          Rumours"
            ],
            "text/html": [
              "\n",
              "  <div id=\"df-9495332d-3d3f-482b-8464-18921238e074\">\n",
              "    <div class=\"colab-df-container\">\n",
              "      <div>\n",
              "<style scoped>\n",
              "    .dataframe tbody tr th:only-of-type {\n",
              "        vertical-align: middle;\n",
              "    }\n",
              "\n",
              "    .dataframe tbody tr th {\n",
              "        vertical-align: top;\n",
              "    }\n",
              "\n",
              "    .dataframe thead th {\n",
              "        text-align: right;\n",
              "    }\n",
              "</style>\n",
              "<table border=\"1\" class=\"dataframe\">\n",
              "  <thead>\n",
              "    <tr style=\"text-align: right;\">\n",
              "      <th></th>\n",
              "      <th>Album</th>\n",
              "    </tr>\n",
              "  </thead>\n",
              "  <tbody>\n",
              "    <tr>\n",
              "      <th>0</th>\n",
              "      <td>Thriller</td>\n",
              "    </tr>\n",
              "    <tr>\n",
              "      <th>1</th>\n",
              "      <td>Back in Black</td>\n",
              "    </tr>\n",
              "    <tr>\n",
              "      <th>2</th>\n",
              "      <td>The Dark Side of the Moon</td>\n",
              "    </tr>\n",
              "    <tr>\n",
              "      <th>3</th>\n",
              "      <td>The Bodyguard</td>\n",
              "    </tr>\n",
              "    <tr>\n",
              "      <th>4</th>\n",
              "      <td>Bat Out of Hell</td>\n",
              "    </tr>\n",
              "    <tr>\n",
              "      <th>5</th>\n",
              "      <td>Their Greatest Hits (1971-1975)</td>\n",
              "    </tr>\n",
              "    <tr>\n",
              "      <th>6</th>\n",
              "      <td>Saturday Night Fever</td>\n",
              "    </tr>\n",
              "    <tr>\n",
              "      <th>7</th>\n",
              "      <td>Rumours</td>\n",
              "    </tr>\n",
              "  </tbody>\n",
              "</table>\n",
              "</div>\n",
              "      <button class=\"colab-df-convert\" onclick=\"convertToInteractive('df-9495332d-3d3f-482b-8464-18921238e074')\"\n",
              "              title=\"Convert this dataframe to an interactive table.\"\n",
              "              style=\"display:none;\">\n",
              "        \n",
              "  <svg xmlns=\"http://www.w3.org/2000/svg\" height=\"24px\"viewBox=\"0 0 24 24\"\n",
              "       width=\"24px\">\n",
              "    <path d=\"M0 0h24v24H0V0z\" fill=\"none\"/>\n",
              "    <path d=\"M18.56 5.44l.94 2.06.94-2.06 2.06-.94-2.06-.94-.94-2.06-.94 2.06-2.06.94zm-11 1L8.5 8.5l.94-2.06 2.06-.94-2.06-.94L8.5 2.5l-.94 2.06-2.06.94zm10 10l.94 2.06.94-2.06 2.06-.94-2.06-.94-.94-2.06-.94 2.06-2.06.94z\"/><path d=\"M17.41 7.96l-1.37-1.37c-.4-.4-.92-.59-1.43-.59-.52 0-1.04.2-1.43.59L10.3 9.45l-7.72 7.72c-.78.78-.78 2.05 0 2.83L4 21.41c.39.39.9.59 1.41.59.51 0 1.02-.2 1.41-.59l7.78-7.78 2.81-2.81c.8-.78.8-2.07 0-2.86zM5.41 20L4 18.59l7.72-7.72 1.47 1.35L5.41 20z\"/>\n",
              "  </svg>\n",
              "      </button>\n",
              "      \n",
              "  <style>\n",
              "    .colab-df-container {\n",
              "      display:flex;\n",
              "      flex-wrap:wrap;\n",
              "      gap: 12px;\n",
              "    }\n",
              "\n",
              "    .colab-df-convert {\n",
              "      background-color: #E8F0FE;\n",
              "      border: none;\n",
              "      border-radius: 50%;\n",
              "      cursor: pointer;\n",
              "      display: none;\n",
              "      fill: #1967D2;\n",
              "      height: 32px;\n",
              "      padding: 0 0 0 0;\n",
              "      width: 32px;\n",
              "    }\n",
              "\n",
              "    .colab-df-convert:hover {\n",
              "      background-color: #E2EBFA;\n",
              "      box-shadow: 0px 1px 2px rgba(60, 64, 67, 0.3), 0px 1px 3px 1px rgba(60, 64, 67, 0.15);\n",
              "      fill: #174EA6;\n",
              "    }\n",
              "\n",
              "    [theme=dark] .colab-df-convert {\n",
              "      background-color: #3B4455;\n",
              "      fill: #D2E3FC;\n",
              "    }\n",
              "\n",
              "    [theme=dark] .colab-df-convert:hover {\n",
              "      background-color: #434B5C;\n",
              "      box-shadow: 0px 1px 3px 1px rgba(0, 0, 0, 0.15);\n",
              "      filter: drop-shadow(0px 1px 2px rgba(0, 0, 0, 0.3));\n",
              "      fill: #FFFFFF;\n",
              "    }\n",
              "  </style>\n",
              "\n",
              "      <script>\n",
              "        const buttonEl =\n",
              "          document.querySelector('#df-9495332d-3d3f-482b-8464-18921238e074 button.colab-df-convert');\n",
              "        buttonEl.style.display =\n",
              "          google.colab.kernel.accessAllowed ? 'block' : 'none';\n",
              "\n",
              "        async function convertToInteractive(key) {\n",
              "          const element = document.querySelector('#df-9495332d-3d3f-482b-8464-18921238e074');\n",
              "          const dataTable =\n",
              "            await google.colab.kernel.invokeFunction('convertToInteractive',\n",
              "                                                     [key], {});\n",
              "          if (!dataTable) return;\n",
              "\n",
              "          const docLinkHtml = 'Like what you see? Visit the ' +\n",
              "            '<a target=\"_blank\" href=https://colab.research.google.com/notebooks/data_table.ipynb>data table notebook</a>'\n",
              "            + ' to learn more about interactive tables.';\n",
              "          element.innerHTML = '';\n",
              "          dataTable['output_type'] = 'display_data';\n",
              "          await google.colab.output.renderOutput(dataTable, element);\n",
              "          const docLink = document.createElement('div');\n",
              "          docLink.innerHTML = docLinkHtml;\n",
              "          element.appendChild(docLink);\n",
              "        }\n",
              "      </script>\n",
              "    </div>\n",
              "  </div>\n",
              "  "
            ]
          },
          "metadata": {},
          "execution_count": 38
        }
      ]
    },
    {
      "cell_type": "code",
      "source": [
        "x = df[['Album','Genre']]\n",
        "x"
      ],
      "metadata": {
        "colab": {
          "base_uri": "https://localhost:8080/",
          "height": 300
        },
        "id": "_RYsCQ4PL7KI",
        "outputId": "8be9074d-18c1-4a39-b46a-b102c75da3e8"
      },
      "execution_count": null,
      "outputs": [
        {
          "output_type": "execute_result",
          "data": {
            "text/plain": [
              "                             Album                        Genre\n",
              "0                         Thriller               pop, rock, R&B\n",
              "1                    Back in Black                    hard rock\n",
              "2        The Dark Side of the Moon             progressive rock\n",
              "3                    The Bodyguard               R&B, soul, pop\n",
              "4                  Bat Out of Hell  hard rock, progressive rock\n",
              "5  Their Greatest Hits (1971-1975)   rock, soft rock, folk rock\n",
              "6             Saturday Night Fever                        disco\n",
              "7                          Rumours                    soft rock"
            ],
            "text/html": [
              "\n",
              "  <div id=\"df-7625b57e-1099-4d2b-a917-897546cec0fb\">\n",
              "    <div class=\"colab-df-container\">\n",
              "      <div>\n",
              "<style scoped>\n",
              "    .dataframe tbody tr th:only-of-type {\n",
              "        vertical-align: middle;\n",
              "    }\n",
              "\n",
              "    .dataframe tbody tr th {\n",
              "        vertical-align: top;\n",
              "    }\n",
              "\n",
              "    .dataframe thead th {\n",
              "        text-align: right;\n",
              "    }\n",
              "</style>\n",
              "<table border=\"1\" class=\"dataframe\">\n",
              "  <thead>\n",
              "    <tr style=\"text-align: right;\">\n",
              "      <th></th>\n",
              "      <th>Album</th>\n",
              "      <th>Genre</th>\n",
              "    </tr>\n",
              "  </thead>\n",
              "  <tbody>\n",
              "    <tr>\n",
              "      <th>0</th>\n",
              "      <td>Thriller</td>\n",
              "      <td>pop, rock, R&amp;B</td>\n",
              "    </tr>\n",
              "    <tr>\n",
              "      <th>1</th>\n",
              "      <td>Back in Black</td>\n",
              "      <td>hard rock</td>\n",
              "    </tr>\n",
              "    <tr>\n",
              "      <th>2</th>\n",
              "      <td>The Dark Side of the Moon</td>\n",
              "      <td>progressive rock</td>\n",
              "    </tr>\n",
              "    <tr>\n",
              "      <th>3</th>\n",
              "      <td>The Bodyguard</td>\n",
              "      <td>R&amp;B, soul, pop</td>\n",
              "    </tr>\n",
              "    <tr>\n",
              "      <th>4</th>\n",
              "      <td>Bat Out of Hell</td>\n",
              "      <td>hard rock, progressive rock</td>\n",
              "    </tr>\n",
              "    <tr>\n",
              "      <th>5</th>\n",
              "      <td>Their Greatest Hits (1971-1975)</td>\n",
              "      <td>rock, soft rock, folk rock</td>\n",
              "    </tr>\n",
              "    <tr>\n",
              "      <th>6</th>\n",
              "      <td>Saturday Night Fever</td>\n",
              "      <td>disco</td>\n",
              "    </tr>\n",
              "    <tr>\n",
              "      <th>7</th>\n",
              "      <td>Rumours</td>\n",
              "      <td>soft rock</td>\n",
              "    </tr>\n",
              "  </tbody>\n",
              "</table>\n",
              "</div>\n",
              "      <button class=\"colab-df-convert\" onclick=\"convertToInteractive('df-7625b57e-1099-4d2b-a917-897546cec0fb')\"\n",
              "              title=\"Convert this dataframe to an interactive table.\"\n",
              "              style=\"display:none;\">\n",
              "        \n",
              "  <svg xmlns=\"http://www.w3.org/2000/svg\" height=\"24px\"viewBox=\"0 0 24 24\"\n",
              "       width=\"24px\">\n",
              "    <path d=\"M0 0h24v24H0V0z\" fill=\"none\"/>\n",
              "    <path d=\"M18.56 5.44l.94 2.06.94-2.06 2.06-.94-2.06-.94-.94-2.06-.94 2.06-2.06.94zm-11 1L8.5 8.5l.94-2.06 2.06-.94-2.06-.94L8.5 2.5l-.94 2.06-2.06.94zm10 10l.94 2.06.94-2.06 2.06-.94-2.06-.94-.94-2.06-.94 2.06-2.06.94z\"/><path d=\"M17.41 7.96l-1.37-1.37c-.4-.4-.92-.59-1.43-.59-.52 0-1.04.2-1.43.59L10.3 9.45l-7.72 7.72c-.78.78-.78 2.05 0 2.83L4 21.41c.39.39.9.59 1.41.59.51 0 1.02-.2 1.41-.59l7.78-7.78 2.81-2.81c.8-.78.8-2.07 0-2.86zM5.41 20L4 18.59l7.72-7.72 1.47 1.35L5.41 20z\"/>\n",
              "  </svg>\n",
              "      </button>\n",
              "      \n",
              "  <style>\n",
              "    .colab-df-container {\n",
              "      display:flex;\n",
              "      flex-wrap:wrap;\n",
              "      gap: 12px;\n",
              "    }\n",
              "\n",
              "    .colab-df-convert {\n",
              "      background-color: #E8F0FE;\n",
              "      border: none;\n",
              "      border-radius: 50%;\n",
              "      cursor: pointer;\n",
              "      display: none;\n",
              "      fill: #1967D2;\n",
              "      height: 32px;\n",
              "      padding: 0 0 0 0;\n",
              "      width: 32px;\n",
              "    }\n",
              "\n",
              "    .colab-df-convert:hover {\n",
              "      background-color: #E2EBFA;\n",
              "      box-shadow: 0px 1px 2px rgba(60, 64, 67, 0.3), 0px 1px 3px 1px rgba(60, 64, 67, 0.15);\n",
              "      fill: #174EA6;\n",
              "    }\n",
              "\n",
              "    [theme=dark] .colab-df-convert {\n",
              "      background-color: #3B4455;\n",
              "      fill: #D2E3FC;\n",
              "    }\n",
              "\n",
              "    [theme=dark] .colab-df-convert:hover {\n",
              "      background-color: #434B5C;\n",
              "      box-shadow: 0px 1px 3px 1px rgba(0, 0, 0, 0.15);\n",
              "      filter: drop-shadow(0px 1px 2px rgba(0, 0, 0, 0.3));\n",
              "      fill: #FFFFFF;\n",
              "    }\n",
              "  </style>\n",
              "\n",
              "      <script>\n",
              "        const buttonEl =\n",
              "          document.querySelector('#df-7625b57e-1099-4d2b-a917-897546cec0fb button.colab-df-convert');\n",
              "        buttonEl.style.display =\n",
              "          google.colab.kernel.accessAllowed ? 'block' : 'none';\n",
              "\n",
              "        async function convertToInteractive(key) {\n",
              "          const element = document.querySelector('#df-7625b57e-1099-4d2b-a917-897546cec0fb');\n",
              "          const dataTable =\n",
              "            await google.colab.kernel.invokeFunction('convertToInteractive',\n",
              "                                                     [key], {});\n",
              "          if (!dataTable) return;\n",
              "\n",
              "          const docLinkHtml = 'Like what you see? Visit the ' +\n",
              "            '<a target=\"_blank\" href=https://colab.research.google.com/notebooks/data_table.ipynb>data table notebook</a>'\n",
              "            + ' to learn more about interactive tables.';\n",
              "          element.innerHTML = '';\n",
              "          dataTable['output_type'] = 'display_data';\n",
              "          await google.colab.output.renderOutput(dataTable, element);\n",
              "          const docLink = document.createElement('div');\n",
              "          docLink.innerHTML = docLinkHtml;\n",
              "          element.appendChild(docLink);\n",
              "        }\n",
              "      </script>\n",
              "    </div>\n",
              "  </div>\n",
              "  "
            ]
          },
          "metadata": {},
          "execution_count": 40
        }
      ]
    },
    {
      "cell_type": "code",
      "source": [
        "df.iloc[1,1]"
      ],
      "metadata": {
        "colab": {
          "base_uri": "https://localhost:8080/",
          "height": 35
        },
        "id": "mzWTkLYVMUmn",
        "outputId": "5a4062db-3e0d-47dd-af79-a972d1087ef7"
      },
      "execution_count": null,
      "outputs": [
        {
          "output_type": "execute_result",
          "data": {
            "text/plain": [
              "'Back in Black'"
            ],
            "application/vnd.google.colaboratory.intrinsic+json": {
              "type": "string"
            }
          },
          "metadata": {},
          "execution_count": 42
        }
      ]
    },
    {
      "cell_type": "code",
      "source": [
        "df.iloc[2,2] #ojo que df sige siendo la base de datos principal"
      ],
      "metadata": {
        "colab": {
          "base_uri": "https://localhost:8080/"
        },
        "id": "YArwEcG2MqBB",
        "outputId": "5b1fc6a2-c78d-4260-ac3d-3916694053d9"
      },
      "execution_count": null,
      "outputs": [
        {
          "output_type": "execute_result",
          "data": {
            "text/plain": [
              "1973"
            ]
          },
          "metadata": {},
          "execution_count": 43
        }
      ]
    },
    {
      "cell_type": "code",
      "source": [
        "df['Released'].unique()"
      ],
      "metadata": {
        "colab": {
          "base_uri": "https://localhost:8080/"
        },
        "id": "N3Dfj8GRM1dr",
        "outputId": "3c985190-900f-47e4-9ce3-389457aeac3e"
      },
      "execution_count": null,
      "outputs": [
        {
          "output_type": "execute_result",
          "data": {
            "text/plain": [
              "array([1982, 1980, 1973, 1992, 1977, 1976])"
            ]
          },
          "metadata": {},
          "execution_count": 45
        }
      ]
    },
    {
      "cell_type": "code",
      "source": [
        "df['Released']>= 1980"
      ],
      "metadata": {
        "id": "WFyuTIqoOW86",
        "outputId": "e1e41d52-ae6e-4067-9ce6-72ebd2d9315b",
        "colab": {
          "base_uri": "https://localhost:8080/"
        }
      },
      "execution_count": null,
      "outputs": [
        {
          "output_type": "execute_result",
          "data": {
            "text/plain": [
              "0     True\n",
              "1     True\n",
              "2    False\n",
              "3     True\n",
              "4    False\n",
              "5    False\n",
              "6    False\n",
              "7    False\n",
              "Name: Released, dtype: bool"
            ]
          },
          "metadata": {},
          "execution_count": 46
        }
      ]
    },
    {
      "cell_type": "markdown",
      "source": [
        "# MODULO 5"
      ],
      "metadata": {
        "id": "IxonCKC55nRJ"
      }
    },
    {
      "cell_type": "code",
      "source": [
        "import numpy as np # llamando a la librería\n",
        "a=[1,2,3,4,5,6,7] #creando una lista \n",
        "x = np.array(a) #generando una numpy array\n",
        "x"
      ],
      "metadata": {
        "colab": {
          "base_uri": "https://localhost:8080/"
        },
        "id": "CqpIypW05p3m",
        "outputId": "5ff64feb-f8fe-4ed7-9713-a03de144d5ba"
      },
      "execution_count": 3,
      "outputs": [
        {
          "output_type": "execute_result",
          "data": {
            "text/plain": [
              "array([1, 2, 3, 4, 5, 6, 7])"
            ]
          },
          "metadata": {},
          "execution_count": 3
        }
      ]
    },
    {
      "cell_type": "code",
      "source": [
        "type(x)\n",
        "#comprobamos el tipo de arreglo que tienen los datos"
      ],
      "metadata": {
        "colab": {
          "base_uri": "https://localhost:8080/"
        },
        "id": "sn6lO9A_8lWg",
        "outputId": "476f7adf-2e09-44b2-d239-9539f56c71a5"
      },
      "execution_count": 5,
      "outputs": [
        {
          "output_type": "execute_result",
          "data": {
            "text/plain": [
              "numpy.ndarray"
            ]
          },
          "metadata": {},
          "execution_count": 5
        }
      ]
    },
    {
      "cell_type": "code",
      "source": [
        "x.mean()"
      ],
      "metadata": {
        "colab": {
          "base_uri": "https://localhost:8080/"
        },
        "id": "4-WKT7ML8sEf",
        "outputId": "79984cce-6660-4964-b22e-6c7bfe17519f"
      },
      "execution_count": 6,
      "outputs": [
        {
          "output_type": "execute_result",
          "data": {
            "text/plain": [
              "4.0"
            ]
          },
          "metadata": {},
          "execution_count": 6
        }
      ]
    },
    {
      "cell_type": "code",
      "source": [
        "np.median(x)\n",
        "#En este estoy calculando el valor de la media y me da el mismo valor que la mediana."
      ],
      "metadata": {
        "colab": {
          "base_uri": "https://localhost:8080/"
        },
        "id": "0VK7us0V8xjx",
        "outputId": "1334e976-1749-4cc5-98d7-bfbe1beeec15"
      },
      "execution_count": 9,
      "outputs": [
        {
          "output_type": "execute_result",
          "data": {
            "text/plain": [
              "4.0"
            ]
          },
          "metadata": {},
          "execution_count": 9
        }
      ]
    },
    {
      "cell_type": "code",
      "source": [
        "# Crando un nuevo arreglo \n",
        "A=np.array([[11,12],[21,22],[31,32]])"
      ],
      "metadata": {
        "id": "UJp7aNCJ9LK1"
      },
      "execution_count": 10,
      "outputs": []
    },
    {
      "cell_type": "code",
      "source": [
        "#Podemos verificar el tipo de dato\n",
        "type(A)"
      ],
      "metadata": {
        "colab": {
          "base_uri": "https://localhost:8080/"
        },
        "id": "G41rojEP9x2w",
        "outputId": "fc3086de-7b67-4df0-ccf1-440c4070cf9e"
      },
      "execution_count": 12,
      "outputs": [
        {
          "output_type": "execute_result",
          "data": {
            "text/plain": [
              "numpy.ndarray"
            ]
          },
          "metadata": {},
          "execution_count": 12
        }
      ]
    },
    {
      "cell_type": "code",
      "source": [
        "A.shape # nos va a permitir ver la forma de la matriz A\n",
        "# como se puede observar es de tres filas y dos columnas "
      ],
      "metadata": {
        "colab": {
          "base_uri": "https://localhost:8080/"
        },
        "id": "Y4_qfAzL9_LW",
        "outputId": "d4586716-aa31-4283-8cd5-11fce23b89ad"
      },
      "execution_count": 13,
      "outputs": [
        {
          "output_type": "execute_result",
          "data": {
            "text/plain": [
              "(3, 2)"
            ]
          },
          "metadata": {},
          "execution_count": 13
        }
      ]
    },
    {
      "cell_type": "code",
      "source": [
        "A"
      ],
      "metadata": {
        "colab": {
          "base_uri": "https://localhost:8080/"
        },
        "id": "2Gg4AfJt-IVr",
        "outputId": "b13681c3-dff1-47e7-f25b-2eff38d913b4"
      },
      "execution_count": 14,
      "outputs": [
        {
          "output_type": "execute_result",
          "data": {
            "text/plain": [
              "array([[11, 12],\n",
              "       [21, 22],\n",
              "       [31, 32]])"
            ]
          },
          "metadata": {},
          "execution_count": 14
        }
      ]
    },
    {
      "cell_type": "code",
      "source": [
        "#Agregando un arreglo para poder hacer operaciones adicionales \n",
        "A=np.array([[11,12],[21,22]])\n",
        "B=np.array([[1, 0],[0,1]])"
      ],
      "metadata": {
        "id": "1I1A0mxN-LvB"
      },
      "execution_count": 15,
      "outputs": []
    },
    {
      "cell_type": "code",
      "source": [
        "A + B\n",
        "#haciendo una suma"
      ],
      "metadata": {
        "colab": {
          "base_uri": "https://localhost:8080/"
        },
        "id": "FFCgrd3--Vy3",
        "outputId": "cf4e1d0b-5857-486f-b1d6-edf906e8fdca"
      },
      "execution_count": 16,
      "outputs": [
        {
          "output_type": "execute_result",
          "data": {
            "text/plain": [
              "array([[12, 12],\n",
              "       [21, 23]])"
            ]
          },
          "metadata": {},
          "execution_count": 16
        }
      ]
    },
    {
      "cell_type": "code",
      "source": [
        "A-B\n",
        "#probando la resta de este punto. "
      ],
      "metadata": {
        "colab": {
          "base_uri": "https://localhost:8080/"
        },
        "id": "LKS7jIbD-Y1C",
        "outputId": "46b5c0ec-3181-432a-f6dd-33e4567b78cd"
      },
      "execution_count": 17,
      "outputs": [
        {
          "output_type": "execute_result",
          "data": {
            "text/plain": [
              "array([[10, 12],\n",
              "       [21, 21]])"
            ]
          },
          "metadata": {},
          "execution_count": 17
        }
      ]
    },
    {
      "cell_type": "code",
      "source": [
        "Z = np.dot(A,B) #generando una suma.producto\n",
        "Z"
      ],
      "metadata": {
        "colab": {
          "base_uri": "https://localhost:8080/"
        },
        "id": "Y67Bkme-A3ed",
        "outputId": "6d5a5747-2db9-48f6-fb22-38ab827b9ea8"
      },
      "execution_count": 21,
      "outputs": [
        {
          "output_type": "execute_result",
          "data": {
            "text/plain": [
              "array([[11, 12],\n",
              "       [21, 22]])"
            ]
          },
          "metadata": {},
          "execution_count": 21
        }
      ]
    },
    {
      "cell_type": "code",
      "source": [
        "#Instalando las librerias solicitadas en el ejemplo\n",
        "!pip install pycoingecko\n",
        "!pip install plotly\n",
        "!pip install mplfinance"
      ],
      "metadata": {
        "colab": {
          "base_uri": "https://localhost:8080/"
        },
        "id": "qM6TZcMFCz29",
        "outputId": "eeffdfa5-e93d-4e97-fd2b-ebaae89d8292"
      },
      "execution_count": 23,
      "outputs": [
        {
          "output_type": "stream",
          "name": "stdout",
          "text": [
            "Looking in indexes: https://pypi.org/simple, https://us-python.pkg.dev/colab-wheels/public/simple/\n",
            "Collecting pycoingecko\n",
            "  Downloading pycoingecko-3.0.0-py3-none-any.whl (8.6 kB)\n",
            "Requirement already satisfied: requests in /usr/local/lib/python3.7/dist-packages (from pycoingecko) (2.23.0)\n",
            "Requirement already satisfied: idna<3,>=2.5 in /usr/local/lib/python3.7/dist-packages (from requests->pycoingecko) (2.10)\n",
            "Requirement already satisfied: certifi>=2017.4.17 in /usr/local/lib/python3.7/dist-packages (from requests->pycoingecko) (2022.6.15)\n",
            "Requirement already satisfied: chardet<4,>=3.0.2 in /usr/local/lib/python3.7/dist-packages (from requests->pycoingecko) (3.0.4)\n",
            "Requirement already satisfied: urllib3!=1.25.0,!=1.25.1,<1.26,>=1.21.1 in /usr/local/lib/python3.7/dist-packages (from requests->pycoingecko) (1.24.3)\n",
            "Installing collected packages: pycoingecko\n",
            "Successfully installed pycoingecko-3.0.0\n",
            "Looking in indexes: https://pypi.org/simple, https://us-python.pkg.dev/colab-wheels/public/simple/\n",
            "Requirement already satisfied: plotly in /usr/local/lib/python3.7/dist-packages (5.5.0)\n",
            "Requirement already satisfied: tenacity>=6.2.0 in /usr/local/lib/python3.7/dist-packages (from plotly) (8.0.1)\n",
            "Requirement already satisfied: six in /usr/local/lib/python3.7/dist-packages (from plotly) (1.15.0)\n",
            "Looking in indexes: https://pypi.org/simple, https://us-python.pkg.dev/colab-wheels/public/simple/\n",
            "Collecting mplfinance\n",
            "  Downloading mplfinance-0.12.9b1-py3-none-any.whl (70 kB)\n",
            "\u001b[K     |████████████████████████████████| 70 kB 3.9 MB/s \n",
            "\u001b[?25hRequirement already satisfied: pandas in /usr/local/lib/python3.7/dist-packages (from mplfinance) (1.3.5)\n",
            "Requirement already satisfied: matplotlib in /usr/local/lib/python3.7/dist-packages (from mplfinance) (3.2.2)\n",
            "Requirement already satisfied: python-dateutil>=2.1 in /usr/local/lib/python3.7/dist-packages (from matplotlib->mplfinance) (2.8.2)\n",
            "Requirement already satisfied: cycler>=0.10 in /usr/local/lib/python3.7/dist-packages (from matplotlib->mplfinance) (0.11.0)\n",
            "Requirement already satisfied: kiwisolver>=1.0.1 in /usr/local/lib/python3.7/dist-packages (from matplotlib->mplfinance) (1.4.4)\n",
            "Requirement already satisfied: numpy>=1.11 in /usr/local/lib/python3.7/dist-packages (from matplotlib->mplfinance) (1.21.6)\n",
            "Requirement already satisfied: pyparsing!=2.0.4,!=2.1.2,!=2.1.6,>=2.0.1 in /usr/local/lib/python3.7/dist-packages (from matplotlib->mplfinance) (3.0.9)\n",
            "Requirement already satisfied: typing-extensions in /usr/local/lib/python3.7/dist-packages (from kiwisolver>=1.0.1->matplotlib->mplfinance) (4.1.1)\n",
            "Requirement already satisfied: six>=1.5 in /usr/local/lib/python3.7/dist-packages (from python-dateutil>=2.1->matplotlib->mplfinance) (1.15.0)\n",
            "Requirement already satisfied: pytz>=2017.3 in /usr/local/lib/python3.7/dist-packages (from pandas->mplfinance) (2022.2.1)\n",
            "Installing collected packages: mplfinance\n",
            "Successfully installed mplfinance-0.12.9b1\n"
          ]
        }
      ]
    },
    {
      "cell_type": "code",
      "source": [
        "#Una vez instalada las librerias, procedo a importar las mismas en el archivo de trabajo\n",
        "import pandas as pd\n",
        "import numpy as np\n",
        "import plotly.graph_objects as go\n",
        "from plotly.offline import plot\n",
        "import matplotlib.pyplot as plt\n",
        "import datetime\n",
        "from pycoingecko import CoinGeckoAPI\n",
        "from mplfinance.original_flavor import candlestick2_ohlc"
      ],
      "metadata": {
        "id": "yU6a4dh8CyAS"
      },
      "execution_count": 24,
      "outputs": []
    },
    {
      "cell_type": "code",
      "source": [
        "#creo un archivo en pandas data.frame\n",
        "dict_={'a':[11,21,31],'b':[12,22,32]}\n",
        "df=pd.DataFrame(dict_)\n",
        "type(df)"
      ],
      "metadata": {
        "colab": {
          "base_uri": "https://localhost:8080/"
        },
        "id": "TaOvE4LtDFNY",
        "outputId": "8048aa58-a175-4329-ec9a-8dff1aa89f64"
      },
      "execution_count": 25,
      "outputs": [
        {
          "output_type": "execute_result",
          "data": {
            "text/plain": [
              "pandas.core.frame.DataFrame"
            ]
          },
          "metadata": {},
          "execution_count": 25
        }
      ]
    },
    {
      "cell_type": "code",
      "source": [
        "df.head()\n",
        "#Aqui estamos llamando a un API"
      ],
      "metadata": {
        "colab": {
          "base_uri": "https://localhost:8080/",
          "height": 143
        },
        "id": "33MoveyQDhPQ",
        "outputId": "720cb95c-948d-4268-a0c4-d79f61674ffd"
      },
      "execution_count": 26,
      "outputs": [
        {
          "output_type": "execute_result",
          "data": {
            "text/plain": [
              "    a   b\n",
              "0  11  12\n",
              "1  21  22\n",
              "2  31  32"
            ],
            "text/html": [
              "\n",
              "  <div id=\"df-0e3188ab-8490-4212-a700-6c9a754c83ef\">\n",
              "    <div class=\"colab-df-container\">\n",
              "      <div>\n",
              "<style scoped>\n",
              "    .dataframe tbody tr th:only-of-type {\n",
              "        vertical-align: middle;\n",
              "    }\n",
              "\n",
              "    .dataframe tbody tr th {\n",
              "        vertical-align: top;\n",
              "    }\n",
              "\n",
              "    .dataframe thead th {\n",
              "        text-align: right;\n",
              "    }\n",
              "</style>\n",
              "<table border=\"1\" class=\"dataframe\">\n",
              "  <thead>\n",
              "    <tr style=\"text-align: right;\">\n",
              "      <th></th>\n",
              "      <th>a</th>\n",
              "      <th>b</th>\n",
              "    </tr>\n",
              "  </thead>\n",
              "  <tbody>\n",
              "    <tr>\n",
              "      <th>0</th>\n",
              "      <td>11</td>\n",
              "      <td>12</td>\n",
              "    </tr>\n",
              "    <tr>\n",
              "      <th>1</th>\n",
              "      <td>21</td>\n",
              "      <td>22</td>\n",
              "    </tr>\n",
              "    <tr>\n",
              "      <th>2</th>\n",
              "      <td>31</td>\n",
              "      <td>32</td>\n",
              "    </tr>\n",
              "  </tbody>\n",
              "</table>\n",
              "</div>\n",
              "      <button class=\"colab-df-convert\" onclick=\"convertToInteractive('df-0e3188ab-8490-4212-a700-6c9a754c83ef')\"\n",
              "              title=\"Convert this dataframe to an interactive table.\"\n",
              "              style=\"display:none;\">\n",
              "        \n",
              "  <svg xmlns=\"http://www.w3.org/2000/svg\" height=\"24px\"viewBox=\"0 0 24 24\"\n",
              "       width=\"24px\">\n",
              "    <path d=\"M0 0h24v24H0V0z\" fill=\"none\"/>\n",
              "    <path d=\"M18.56 5.44l.94 2.06.94-2.06 2.06-.94-2.06-.94-.94-2.06-.94 2.06-2.06.94zm-11 1L8.5 8.5l.94-2.06 2.06-.94-2.06-.94L8.5 2.5l-.94 2.06-2.06.94zm10 10l.94 2.06.94-2.06 2.06-.94-2.06-.94-.94-2.06-.94 2.06-2.06.94z\"/><path d=\"M17.41 7.96l-1.37-1.37c-.4-.4-.92-.59-1.43-.59-.52 0-1.04.2-1.43.59L10.3 9.45l-7.72 7.72c-.78.78-.78 2.05 0 2.83L4 21.41c.39.39.9.59 1.41.59.51 0 1.02-.2 1.41-.59l7.78-7.78 2.81-2.81c.8-.78.8-2.07 0-2.86zM5.41 20L4 18.59l7.72-7.72 1.47 1.35L5.41 20z\"/>\n",
              "  </svg>\n",
              "      </button>\n",
              "      \n",
              "  <style>\n",
              "    .colab-df-container {\n",
              "      display:flex;\n",
              "      flex-wrap:wrap;\n",
              "      gap: 12px;\n",
              "    }\n",
              "\n",
              "    .colab-df-convert {\n",
              "      background-color: #E8F0FE;\n",
              "      border: none;\n",
              "      border-radius: 50%;\n",
              "      cursor: pointer;\n",
              "      display: none;\n",
              "      fill: #1967D2;\n",
              "      height: 32px;\n",
              "      padding: 0 0 0 0;\n",
              "      width: 32px;\n",
              "    }\n",
              "\n",
              "    .colab-df-convert:hover {\n",
              "      background-color: #E2EBFA;\n",
              "      box-shadow: 0px 1px 2px rgba(60, 64, 67, 0.3), 0px 1px 3px 1px rgba(60, 64, 67, 0.15);\n",
              "      fill: #174EA6;\n",
              "    }\n",
              "\n",
              "    [theme=dark] .colab-df-convert {\n",
              "      background-color: #3B4455;\n",
              "      fill: #D2E3FC;\n",
              "    }\n",
              "\n",
              "    [theme=dark] .colab-df-convert:hover {\n",
              "      background-color: #434B5C;\n",
              "      box-shadow: 0px 1px 3px 1px rgba(0, 0, 0, 0.15);\n",
              "      filter: drop-shadow(0px 1px 2px rgba(0, 0, 0, 0.3));\n",
              "      fill: #FFFFFF;\n",
              "    }\n",
              "  </style>\n",
              "\n",
              "      <script>\n",
              "        const buttonEl =\n",
              "          document.querySelector('#df-0e3188ab-8490-4212-a700-6c9a754c83ef button.colab-df-convert');\n",
              "        buttonEl.style.display =\n",
              "          google.colab.kernel.accessAllowed ? 'block' : 'none';\n",
              "\n",
              "        async function convertToInteractive(key) {\n",
              "          const element = document.querySelector('#df-0e3188ab-8490-4212-a700-6c9a754c83ef');\n",
              "          const dataTable =\n",
              "            await google.colab.kernel.invokeFunction('convertToInteractive',\n",
              "                                                     [key], {});\n",
              "          if (!dataTable) return;\n",
              "\n",
              "          const docLinkHtml = 'Like what you see? Visit the ' +\n",
              "            '<a target=\"_blank\" href=https://colab.research.google.com/notebooks/data_table.ipynb>data table notebook</a>'\n",
              "            + ' to learn more about interactive tables.';\n",
              "          element.innerHTML = '';\n",
              "          dataTable['output_type'] = 'display_data';\n",
              "          await google.colab.output.renderOutput(dataTable, element);\n",
              "          const docLink = document.createElement('div');\n",
              "          docLink.innerHTML = docLinkHtml;\n",
              "          element.appendChild(docLink);\n",
              "        }\n",
              "      </script>\n",
              "    </div>\n",
              "  </div>\n",
              "  "
            ]
          },
          "metadata": {},
          "execution_count": 26
        }
      ]
    },
    {
      "cell_type": "code",
      "source": [
        "#Tambien puedo llamar un Api para calcular la media \n",
        "df.mean()"
      ],
      "metadata": {
        "colab": {
          "base_uri": "https://localhost:8080/"
        },
        "id": "Y-I9eqE5Dr_u",
        "outputId": "68c7a9cd-7ace-4114-8ba0-dba779f91a29"
      },
      "execution_count": 27,
      "outputs": [
        {
          "output_type": "execute_result",
          "data": {
            "text/plain": [
              "a    21.0\n",
              "b    22.0\n",
              "dtype: float64"
            ]
          },
          "metadata": {},
          "execution_count": 27
        }
      ]
    },
    {
      "cell_type": "code",
      "source": [
        "cg = CoinGeckoAPI()\n",
        "\n",
        "bitcoin_data = cg.get_coin_market_chart_by_id(id='bitcoin', vs_currency='usd', days=30)\n",
        "#Se carga una nueva data para aplicar en el trabajo"
      ],
      "metadata": {
        "id": "TRJlp4BDE4LX"
      },
      "execution_count": 36,
      "outputs": []
    },
    {
      "cell_type": "code",
      "source": [
        "type(bitcoin_data )\n",
        "#se comprueba el tipo de informacion que se tien "
      ],
      "metadata": {
        "colab": {
          "base_uri": "https://localhost:8080/"
        },
        "id": "V821xTqBJpPK",
        "outputId": "98789cfe-3b26-4e6f-aa2a-e9987be2b5c3"
      },
      "execution_count": 37,
      "outputs": [
        {
          "output_type": "execute_result",
          "data": {
            "text/plain": [
              "dict"
            ]
          },
          "metadata": {},
          "execution_count": 37
        }
      ]
    },
    {
      "cell_type": "code",
      "source": [
        "bitcoin_price_data = bitcoin_data['prices']\n",
        "\n",
        "bitcoin_price_data[0:5]"
      ],
      "metadata": {
        "colab": {
          "base_uri": "https://localhost:8080/"
        },
        "id": "RVoV55AnJyWj",
        "outputId": "ea992ac2-dcd8-4d0f-86f9-92e83430eb47"
      },
      "execution_count": 39,
      "outputs": [
        {
          "output_type": "execute_result",
          "data": {
            "text/plain": [
              "[[1662346941176, 19862.157764615546],\n",
              " [1662350511028, 19896.14394975393],\n",
              " [1662354087346, 19899.445698298885],\n",
              " [1662357679997, 19727.17937456354],\n",
              " [1662361297881, 19787.135398638195]]"
            ]
          },
          "metadata": {},
          "execution_count": 39
        }
      ]
    },
    {
      "cell_type": "code",
      "source": [
        "#se puede ver los datos capturados de la diccionario de los precios del BitCoin\n",
        "data = pd.DataFrame(bitcoin_price_data, columns=['TimeStamp', 'Price'])\n",
        "data"
      ],
      "metadata": {
        "colab": {
          "base_uri": "https://localhost:8080/",
          "height": 424
        },
        "id": "0kFNWS3RJ8DJ",
        "outputId": "3ffa449c-9f45-4800-a710-4d9917023d25"
      },
      "execution_count": 41,
      "outputs": [
        {
          "output_type": "execute_result",
          "data": {
            "text/plain": [
              "         TimeStamp         Price\n",
              "0    1662346941176  19862.157765\n",
              "1    1662350511028  19896.143950\n",
              "2    1662354087346  19899.445698\n",
              "3    1662357679997  19727.179375\n",
              "4    1662361297881  19787.135399\n",
              "..             ...           ...\n",
              "717  1664924476553  20281.613594\n",
              "718  1664928013649  20345.398520\n",
              "719  1664931617018  20190.037040\n",
              "720  1664935259054  20244.144201\n",
              "721  1664938980000  20199.285529\n",
              "\n",
              "[722 rows x 2 columns]"
            ],
            "text/html": [
              "\n",
              "  <div id=\"df-729cdb63-3510-4824-9f17-681523b8aafb\">\n",
              "    <div class=\"colab-df-container\">\n",
              "      <div>\n",
              "<style scoped>\n",
              "    .dataframe tbody tr th:only-of-type {\n",
              "        vertical-align: middle;\n",
              "    }\n",
              "\n",
              "    .dataframe tbody tr th {\n",
              "        vertical-align: top;\n",
              "    }\n",
              "\n",
              "    .dataframe thead th {\n",
              "        text-align: right;\n",
              "    }\n",
              "</style>\n",
              "<table border=\"1\" class=\"dataframe\">\n",
              "  <thead>\n",
              "    <tr style=\"text-align: right;\">\n",
              "      <th></th>\n",
              "      <th>TimeStamp</th>\n",
              "      <th>Price</th>\n",
              "    </tr>\n",
              "  </thead>\n",
              "  <tbody>\n",
              "    <tr>\n",
              "      <th>0</th>\n",
              "      <td>1662346941176</td>\n",
              "      <td>19862.157765</td>\n",
              "    </tr>\n",
              "    <tr>\n",
              "      <th>1</th>\n",
              "      <td>1662350511028</td>\n",
              "      <td>19896.143950</td>\n",
              "    </tr>\n",
              "    <tr>\n",
              "      <th>2</th>\n",
              "      <td>1662354087346</td>\n",
              "      <td>19899.445698</td>\n",
              "    </tr>\n",
              "    <tr>\n",
              "      <th>3</th>\n",
              "      <td>1662357679997</td>\n",
              "      <td>19727.179375</td>\n",
              "    </tr>\n",
              "    <tr>\n",
              "      <th>4</th>\n",
              "      <td>1662361297881</td>\n",
              "      <td>19787.135399</td>\n",
              "    </tr>\n",
              "    <tr>\n",
              "      <th>...</th>\n",
              "      <td>...</td>\n",
              "      <td>...</td>\n",
              "    </tr>\n",
              "    <tr>\n",
              "      <th>717</th>\n",
              "      <td>1664924476553</td>\n",
              "      <td>20281.613594</td>\n",
              "    </tr>\n",
              "    <tr>\n",
              "      <th>718</th>\n",
              "      <td>1664928013649</td>\n",
              "      <td>20345.398520</td>\n",
              "    </tr>\n",
              "    <tr>\n",
              "      <th>719</th>\n",
              "      <td>1664931617018</td>\n",
              "      <td>20190.037040</td>\n",
              "    </tr>\n",
              "    <tr>\n",
              "      <th>720</th>\n",
              "      <td>1664935259054</td>\n",
              "      <td>20244.144201</td>\n",
              "    </tr>\n",
              "    <tr>\n",
              "      <th>721</th>\n",
              "      <td>1664938980000</td>\n",
              "      <td>20199.285529</td>\n",
              "    </tr>\n",
              "  </tbody>\n",
              "</table>\n",
              "<p>722 rows × 2 columns</p>\n",
              "</div>\n",
              "      <button class=\"colab-df-convert\" onclick=\"convertToInteractive('df-729cdb63-3510-4824-9f17-681523b8aafb')\"\n",
              "              title=\"Convert this dataframe to an interactive table.\"\n",
              "              style=\"display:none;\">\n",
              "        \n",
              "  <svg xmlns=\"http://www.w3.org/2000/svg\" height=\"24px\"viewBox=\"0 0 24 24\"\n",
              "       width=\"24px\">\n",
              "    <path d=\"M0 0h24v24H0V0z\" fill=\"none\"/>\n",
              "    <path d=\"M18.56 5.44l.94 2.06.94-2.06 2.06-.94-2.06-.94-.94-2.06-.94 2.06-2.06.94zm-11 1L8.5 8.5l.94-2.06 2.06-.94-2.06-.94L8.5 2.5l-.94 2.06-2.06.94zm10 10l.94 2.06.94-2.06 2.06-.94-2.06-.94-.94-2.06-.94 2.06-2.06.94z\"/><path d=\"M17.41 7.96l-1.37-1.37c-.4-.4-.92-.59-1.43-.59-.52 0-1.04.2-1.43.59L10.3 9.45l-7.72 7.72c-.78.78-.78 2.05 0 2.83L4 21.41c.39.39.9.59 1.41.59.51 0 1.02-.2 1.41-.59l7.78-7.78 2.81-2.81c.8-.78.8-2.07 0-2.86zM5.41 20L4 18.59l7.72-7.72 1.47 1.35L5.41 20z\"/>\n",
              "  </svg>\n",
              "      </button>\n",
              "      \n",
              "  <style>\n",
              "    .colab-df-container {\n",
              "      display:flex;\n",
              "      flex-wrap:wrap;\n",
              "      gap: 12px;\n",
              "    }\n",
              "\n",
              "    .colab-df-convert {\n",
              "      background-color: #E8F0FE;\n",
              "      border: none;\n",
              "      border-radius: 50%;\n",
              "      cursor: pointer;\n",
              "      display: none;\n",
              "      fill: #1967D2;\n",
              "      height: 32px;\n",
              "      padding: 0 0 0 0;\n",
              "      width: 32px;\n",
              "    }\n",
              "\n",
              "    .colab-df-convert:hover {\n",
              "      background-color: #E2EBFA;\n",
              "      box-shadow: 0px 1px 2px rgba(60, 64, 67, 0.3), 0px 1px 3px 1px rgba(60, 64, 67, 0.15);\n",
              "      fill: #174EA6;\n",
              "    }\n",
              "\n",
              "    [theme=dark] .colab-df-convert {\n",
              "      background-color: #3B4455;\n",
              "      fill: #D2E3FC;\n",
              "    }\n",
              "\n",
              "    [theme=dark] .colab-df-convert:hover {\n",
              "      background-color: #434B5C;\n",
              "      box-shadow: 0px 1px 3px 1px rgba(0, 0, 0, 0.15);\n",
              "      filter: drop-shadow(0px 1px 2px rgba(0, 0, 0, 0.3));\n",
              "      fill: #FFFFFF;\n",
              "    }\n",
              "  </style>\n",
              "\n",
              "      <script>\n",
              "        const buttonEl =\n",
              "          document.querySelector('#df-729cdb63-3510-4824-9f17-681523b8aafb button.colab-df-convert');\n",
              "        buttonEl.style.display =\n",
              "          google.colab.kernel.accessAllowed ? 'block' : 'none';\n",
              "\n",
              "        async function convertToInteractive(key) {\n",
              "          const element = document.querySelector('#df-729cdb63-3510-4824-9f17-681523b8aafb');\n",
              "          const dataTable =\n",
              "            await google.colab.kernel.invokeFunction('convertToInteractive',\n",
              "                                                     [key], {});\n",
              "          if (!dataTable) return;\n",
              "\n",
              "          const docLinkHtml = 'Like what you see? Visit the ' +\n",
              "            '<a target=\"_blank\" href=https://colab.research.google.com/notebooks/data_table.ipynb>data table notebook</a>'\n",
              "            + ' to learn more about interactive tables.';\n",
              "          element.innerHTML = '';\n",
              "          dataTable['output_type'] = 'display_data';\n",
              "          await google.colab.output.renderOutput(dataTable, element);\n",
              "          const docLink = document.createElement('div');\n",
              "          docLink.innerHTML = docLinkHtml;\n",
              "          element.appendChild(docLink);\n",
              "        }\n",
              "      </script>\n",
              "    </div>\n",
              "  </div>\n",
              "  "
            ]
          },
          "metadata": {},
          "execution_count": 41
        }
      ]
    },
    {
      "cell_type": "markdown",
      "source": [
        "#Badge conseguido\n",
        "![python-for-data-science.png](data:image/png;base64,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)"
      ],
      "metadata": {
        "id": "LcHC4NcvKIoc"
      }
    }
  ]
}